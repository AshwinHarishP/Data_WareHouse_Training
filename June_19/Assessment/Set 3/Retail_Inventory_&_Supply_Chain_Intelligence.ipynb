{
  "nbformat": 4,
  "nbformat_minor": 0,
  "metadata": {
    "colab": {
      "provenance": []
    },
    "kernelspec": {
      "name": "python3",
      "display_name": "Python 3"
    },
    "language_info": {
      "name": "python"
    }
  },
  "cells": [
    {
      "cell_type": "markdown",
      "source": [
        "# Retail Inventory & Supply Chain Intelligence"
      ],
      "metadata": {
        "id": "yH_PE3jm5WQW"
      }
    },
    {
      "cell_type": "markdown",
      "source": [
        "Creating Spark Session"
      ],
      "metadata": {
        "id": "vJZQ873c5Y6y"
      }
    },
    {
      "cell_type": "code",
      "execution_count": 34,
      "metadata": {
        "colab": {
          "base_uri": "https://localhost:8080/",
          "height": 219
        },
        "id": "LtihRtfl5Qrd",
        "outputId": "b5fee8e0-737c-445e-f770-84403b1119a5"
      },
      "outputs": [
        {
          "output_type": "execute_result",
          "data": {
            "text/plain": [
              "<pyspark.sql.session.SparkSession at 0x78f75d1c0050>"
            ],
            "text/html": [
              "\n",
              "            <div>\n",
              "                <p><b>SparkSession - in-memory</b></p>\n",
              "                \n",
              "        <div>\n",
              "            <p><b>SparkContext</b></p>\n",
              "\n",
              "            <p><a href=\"http://a5f6cd9a2ab3:4040\">Spark UI</a></p>\n",
              "\n",
              "            <dl>\n",
              "              <dt>Version</dt>\n",
              "                <dd><code>v3.5.1</code></dd>\n",
              "              <dt>Master</dt>\n",
              "                <dd><code>local[*]</code></dd>\n",
              "              <dt>AppName</dt>\n",
              "                <dd><code>RetailInventory</code></dd>\n",
              "            </dl>\n",
              "        </div>\n",
              "        \n",
              "            </div>\n",
              "        "
            ]
          },
          "metadata": {},
          "execution_count": 34
        }
      ],
      "source": [
        "from pyspark.sql import SparkSession\n",
        "spark = SparkSession.builder.appName(\"RetailInventory\").getOrCreate()\n",
        "spark"
      ]
    },
    {
      "cell_type": "markdown",
      "source": [
        "#### Scenario 1: Inventory Alerting System"
      ],
      "metadata": {
        "id": "1eJ5sUP_5rX0"
      }
    },
    {
      "cell_type": "markdown",
      "source": [
        "1. Load the data using PySpark"
      ],
      "metadata": {
        "id": "6YcT3VnL5s40"
      }
    },
    {
      "cell_type": "code",
      "source": [
        "from google.colab import drive\n",
        "\n",
        "drive.mount('/content/drive')\n",
        "\n",
        "inventory_df = spark.read.format('csv') \\\n",
        "                       .option('header', True) \\\n",
        "                       .option('inferSchema', True) \\\n",
        "                       .load('/content/drive/MyDrive/Assessment/inventory_supply.csv')\n",
        "\n",
        "inventory_df.printSchema()"
      ],
      "metadata": {
        "colab": {
          "base_uri": "https://localhost:8080/"
        },
        "id": "1VGlb4Yz5toy",
        "outputId": "ecd99984-7c99-4373-c0f6-72b24c62bdad"
      },
      "execution_count": 35,
      "outputs": [
        {
          "output_type": "stream",
          "name": "stdout",
          "text": [
            "Drive already mounted at /content/drive; to attempt to forcibly remount, call drive.mount(\"/content/drive\", force_remount=True).\n",
            "root\n",
            " |-- ItemID: string (nullable = true)\n",
            " |-- ItemName: string (nullable = true)\n",
            " |-- Category: string (nullable = true)\n",
            " |-- Warehouse: string (nullable = true)\n",
            " |-- StockQty: integer (nullable = true)\n",
            " |-- ReorderLevel: integer (nullable = true)\n",
            " |-- LastRestocked: date (nullable = true)\n",
            " |-- UnitPrice: integer (nullable = true)\n",
            " |-- Supplie: string (nullable = true)\n",
            "\n"
          ]
        }
      ]
    },
    {
      "cell_type": "markdown",
      "source": [
        "Removing leading and tailing spaces in columns"
      ],
      "metadata": {
        "id": "Dv9KTUGU7OI2"
      }
    },
    {
      "cell_type": "code",
      "source": [
        "inventory_df = inventory_df.toDF(*[col_name.strip() for col_name in inventory_df.columns])"
      ],
      "metadata": {
        "id": "6xjUyPmB7RC0"
      },
      "execution_count": 36,
      "outputs": []
    },
    {
      "cell_type": "markdown",
      "source": [
        "Renaming column"
      ],
      "metadata": {
        "id": "F3_yApLS8nXB"
      }
    },
    {
      "cell_type": "code",
      "source": [
        "inventory_df = inventory_df.withColumnRenamed('Supplie', 'Supplier')"
      ],
      "metadata": {
        "id": "I2iqmy5L8o7C"
      },
      "execution_count": 37,
      "outputs": []
    },
    {
      "cell_type": "markdown",
      "source": [
        "2. Create a new column\n",
        "NeedsReorder = StockQty < ReorderLevel ."
      ],
      "metadata": {
        "id": "qRE7Eu4f55z-"
      }
    },
    {
      "cell_type": "code",
      "source": [
        "from pyspark.sql.functions import col, when\n",
        "\n",
        "inventory_df = inventory_df.withColumn('NeedsRecorder',\n",
        "                                        when(col('StockQty') < col('ReorderLevel'), col('ReorderLevel') - col('StockQty'))\n",
        "                                        .otherwise(0)\n",
        ")\n",
        "\n",
        "inventory_df.select(\n",
        "                      'ItemID',\n",
        "                      'ItemName',\n",
        "                      'Category',\n",
        "                      'Warehouse',\n",
        "                      'StockQty',\n",
        "                      'ReorderLevel',\n",
        "                      'NeedsRecorder'\n",
        ").show()"
      ],
      "metadata": {
        "colab": {
          "base_uri": "https://localhost:8080/"
        },
        "id": "2M56yFy459Jc",
        "outputId": "05a6111b-4bf9-437d-870e-f09374a6e1d7"
      },
      "execution_count": 38,
      "outputs": [
        {
          "output_type": "stream",
          "name": "stdout",
          "text": [
            "+------+------------+-----------+----------+--------+------------+-------------+\n",
            "|ItemID|    ItemName|   Category| Warehouse|StockQty|ReorderLevel|NeedsRecorder|\n",
            "+------+------------+-----------+----------+--------+------------+-------------+\n",
            "|  I001|      LED TV|Electronics|WarehouseA|      50|          20|            0|\n",
            "|  I002|      Laptop|Electronics|WarehouseB|      10|          15|            5|\n",
            "|  I003|Office Chair|  Furniture|WarehouseA|      40|          10|            0|\n",
            "|  I004|Refrigerator| Appliances|WarehouseC|       5|          10|            5|\n",
            "|  I005|     Printer|Electronics|WarehouseB|       3|           5|            2|\n",
            "+------+------------+-----------+----------+--------+------------+-------------+\n",
            "\n"
          ]
        }
      ]
    },
    {
      "cell_type": "markdown",
      "source": [
        "3. Create a view of all items that need restocking."
      ],
      "metadata": {
        "id": "11snAhvO6_bj"
      }
    },
    {
      "cell_type": "code",
      "source": [
        "restock_df = inventory_df.filter(col('NeedsRecorder') > 0)\n",
        "\n",
        "restock_df.createOrReplaceTempView(\"items_need_restocking\")\n",
        "\n",
        "spark.sql(\"SELECT * FROM items_need_restocking\").show()"
      ],
      "metadata": {
        "colab": {
          "base_uri": "https://localhost:8080/"
        },
        "id": "8u5aaRLf7Fam",
        "outputId": "68c1b078-65ef-4950-d78c-935818248555"
      },
      "execution_count": 40,
      "outputs": [
        {
          "output_type": "stream",
          "name": "stdout",
          "text": [
            "+------+------------+-----------+----------+--------+------------+-------------+---------+----------+-------------+\n",
            "|ItemID|    ItemName|   Category| Warehouse|StockQty|ReorderLevel|LastRestocked|UnitPrice|  Supplier|NeedsRecorder|\n",
            "+------+------------+-----------+----------+--------+------------+-------------+---------+----------+-------------+\n",
            "|  I002|      Laptop|Electronics|WarehouseB|      10|          15|   2024-04-01|    70000|TechWorld |            5|\n",
            "|  I004|Refrigerator| Appliances|WarehouseC|       5|          10|   2024-02-20|    25000| FreezeIt |            5|\n",
            "|  I005|     Printer|Electronics|WarehouseB|       3|           5|   2024-03-30|     8000| PrintFast|            2|\n",
            "+------+------------+-----------+----------+--------+------------+-------------+---------+----------+-------------+\n",
            "\n"
          ]
        }
      ]
    },
    {
      "cell_type": "markdown",
      "source": [
        "4. Highlight warehouses with more than 2 such items."
      ],
      "metadata": {
        "id": "Pm3E90Uz7Whc"
      }
    },
    {
      "cell_type": "code",
      "source": [
        "from pyspark.sql.functions import count\n",
        "\n",
        "warehouse_counts = restock_df.groupBy('Warehouse') \\\n",
        "                             .agg(count('*').alias('ItemsToRestock')) \\\n",
        "                             .filter(col('ItemsToRestock') >= 2)\n",
        "warehouse_counts.show()"
      ],
      "metadata": {
        "colab": {
          "base_uri": "https://localhost:8080/"
        },
        "id": "70Dlk5Gl7aA7",
        "outputId": "285a69f2-ad6b-4dcb-8d14-88b81765a958"
      },
      "execution_count": 41,
      "outputs": [
        {
          "output_type": "stream",
          "name": "stdout",
          "text": [
            "+----------+--------------+\n",
            "| Warehouse|ItemsToRestock|\n",
            "+----------+--------------+\n",
            "|WarehouseB|             2|\n",
            "+----------+--------------+\n",
            "\n"
          ]
        }
      ]
    },
    {
      "cell_type": "markdown",
      "source": [
        "#### Scenario 2: Supplier Price Optimization\n"
      ],
      "metadata": {
        "id": "pMLJO5u-8J6D"
      }
    },
    {
      "cell_type": "markdown",
      "source": [
        "1. Group items by Supplier and compute average price."
      ],
      "metadata": {
        "id": "jIkJe5hs8QnN"
      }
    },
    {
      "cell_type": "code",
      "source": [
        "from pyspark.sql.functions import avg\n",
        "average_price_df = inventory_df.groupBy('Supplier') \\\n",
        "                               .agg(avg('UnitPrice').alias('AveragePrice')) \\\n",
        "\n",
        "\n",
        "average_price_df.show()"
      ],
      "metadata": {
        "colab": {
          "base_uri": "https://localhost:8080/"
        },
        "id": "iaPKoQPV8RyP",
        "outputId": "f70fb948-c9f6-4d3d-b545-59d937c0fa17"
      },
      "execution_count": 42,
      "outputs": [
        {
          "output_type": "stream",
          "name": "stdout",
          "text": [
            "+----------+------------+\n",
            "|  Supplier|AveragePrice|\n",
            "+----------+------------+\n",
            "|  ChairCo |      6000.0|\n",
            "| PrintFast|      8000.0|\n",
            "|TechWorld |     70000.0|\n",
            "| FreezeIt |     25000.0|\n",
            "|   AVTech |     30000.0|\n",
            "+----------+------------+\n",
            "\n"
          ]
        }
      ]
    },
    {
      "cell_type": "markdown",
      "source": [
        "2. Find which suppliers offer items below average price in their category"
      ],
      "metadata": {
        "id": "1Hr_quD683et"
      }
    },
    {
      "cell_type": "code",
      "source": [
        "avg_category_df = inventory_df.groupBy('Category') \\\n",
        "                              .agg(avg('UnitPrice').alias('AvgCategoryPrice'))\n",
        "\n",
        "inventory_df = inventory_df.join(avg_category_df, on='Category', how='left')\n",
        "\n",
        "below_avg_df = inventory_df.filter(col('UnitPrice') < col('AvgCategoryPrice')) \\\n",
        "                        .select(\n",
        "                                  'Supplier',\n",
        "                                  'ItemName',\n",
        "                                  'Category',\n",
        "                                  'UnitPrice',\n",
        "                                  'AvgCategoryPrice'\n",
        "                                )\n",
        "below_avg_df.show()\n"
      ],
      "metadata": {
        "colab": {
          "base_uri": "https://localhost:8080/"
        },
        "id": "qek0CRe-86_s",
        "outputId": "8677c3de-112a-44d9-a458-bdaa2c329cee"
      },
      "execution_count": 43,
      "outputs": [
        {
          "output_type": "stream",
          "name": "stdout",
          "text": [
            "+---------+--------+-----------+---------+----------------+\n",
            "| Supplier|ItemName|   Category|UnitPrice|AvgCategoryPrice|\n",
            "+---------+--------+-----------+---------+----------------+\n",
            "|  AVTech |  LED TV|Electronics|    30000|         36000.0|\n",
            "|PrintFast| Printer|Electronics|     8000|         36000.0|\n",
            "+---------+--------+-----------+---------+----------------+\n",
            "\n"
          ]
        }
      ]
    },
    {
      "cell_type": "markdown",
      "source": [
        "3. Tag suppliers with\n",
        "Good Deal if >50% of their items are below market average"
      ],
      "metadata": {
        "id": "FffXeA1p9pH8"
      }
    },
    {
      "cell_type": "code",
      "source": [
        "from pyspark.sql.functions import col, when, count, sum\n",
        "\n",
        "suppliers_good_deal_df = inventory_df.withColumn('BelowAvgFlag',\n",
        "                                              when(col('UnitPrice') < col('AvgCategoryPrice'), 1).otherwise(0)) \\\n",
        "                                  .groupBy('Supplier').agg(\n",
        "                                                          count('*').alias('TotalItems'),\n",
        "                                                          sum('BelowAvgFlag').alias('ItemsBelowAvg')\n",
        "                                                         )\n",
        "\n",
        "suppliers_good_deal_df = suppliers_good_deal_df.withColumn('DealTag',\n",
        "                                                            when(col('ItemsBelowAvg') / col('TotalItems') > 0.5, 'Good Deal')\n",
        "                                                            .otherwise('Normal')\n",
        "                                                          )\n",
        "\n",
        "suppliers_good_deal_df.select(\n",
        "                                'Supplier',\n",
        "                                'TotalItems',\n",
        "                                'ItemsBelowAvg',\n",
        "                                'DealTag'\n",
        "                              ).show()\n"
      ],
      "metadata": {
        "colab": {
          "base_uri": "https://localhost:8080/"
        },
        "id": "QxLKVngO9p8k",
        "outputId": "cce39a4f-bf29-4e0e-9f0c-31bbd9d4de8d"
      },
      "execution_count": 44,
      "outputs": [
        {
          "output_type": "stream",
          "name": "stdout",
          "text": [
            "+----------+----------+-------------+---------+\n",
            "|  Supplier|TotalItems|ItemsBelowAvg|  DealTag|\n",
            "+----------+----------+-------------+---------+\n",
            "|  ChairCo |         1|            0|   Normal|\n",
            "| PrintFast|         1|            1|Good Deal|\n",
            "|TechWorld |         1|            0|   Normal|\n",
            "| FreezeIt |         1|            0|   Normal|\n",
            "|   AVTech |         1|            1|Good Deal|\n",
            "+----------+----------+-------------+---------+\n",
            "\n"
          ]
        }
      ]
    },
    {
      "cell_type": "markdown",
      "source": [
        "#### Scenario 3: Cost Forecasting\n"
      ],
      "metadata": {
        "id": "RzT2hJno-_wE"
      }
    },
    {
      "cell_type": "markdown",
      "source": [
        "1. Calculate\n",
        "TotalStockValue = StockQty * UnitPrice"
      ],
      "metadata": {
        "id": "pqB8zuJm_BGp"
      }
    },
    {
      "cell_type": "code",
      "source": [
        "inventory_df = inventory_df.withColumn('TotalStockValue', col('StockQty') * col('UnitPrice'))\n",
        "\n",
        "inventory_df.select(\n",
        "                      'ItemID',\n",
        "                      'ItemName',\n",
        "                      'Category',\n",
        "                      'Warehouse',\n",
        "                      'StockQty',\n",
        "                      'UnitPrice',\n",
        "                      'TotalStockValue'\n",
        ").show()"
      ],
      "metadata": {
        "colab": {
          "base_uri": "https://localhost:8080/"
        },
        "id": "kaIyF9_b_DHj",
        "outputId": "ec8e2771-9b42-4540-a556-6358730ed8ff"
      },
      "execution_count": 48,
      "outputs": [
        {
          "output_type": "stream",
          "name": "stdout",
          "text": [
            "+------+------------+-----------+----------+--------+---------+---------------+\n",
            "|ItemID|    ItemName|   Category| Warehouse|StockQty|UnitPrice|TotalStockValue|\n",
            "+------+------------+-----------+----------+--------+---------+---------------+\n",
            "|  I001|      LED TV|Electronics|WarehouseA|      50|    30000|        1500000|\n",
            "|  I002|      Laptop|Electronics|WarehouseB|      10|    70000|         700000|\n",
            "|  I003|Office Chair|  Furniture|WarehouseA|      40|     6000|         240000|\n",
            "|  I004|Refrigerator| Appliances|WarehouseC|       5|    25000|         125000|\n",
            "|  I005|     Printer|Electronics|WarehouseB|       3|     8000|          24000|\n",
            "+------+------------+-----------+----------+--------+---------+---------------+\n",
            "\n"
          ]
        }
      ]
    },
    {
      "cell_type": "markdown",
      "source": [
        "2. Identify top 3 highest-value items."
      ],
      "metadata": {
        "id": "MeIQGP9t_2x_"
      }
    },
    {
      "cell_type": "code",
      "source": [
        "top3_highest_value_df = inventory_df.orderBy('TotalStockValue', ascending=False) \\\n",
        "                                    .limit(3)\n",
        "\n",
        "top3_highest_value_df.select(\n",
        "                              'ItemID',\n",
        "                              'ItemName',\n",
        "                              'Category',\n",
        "                              'Warehouse',\n",
        "                              'StockQty',\n",
        "                              'UnitPrice',\n",
        "                              'TotalStockValue'\n",
        ").show()"
      ],
      "metadata": {
        "colab": {
          "base_uri": "https://localhost:8080/"
        },
        "id": "hWJvp8nC_4HI",
        "outputId": "12703f99-5507-446f-b444-93f34af8ffd9"
      },
      "execution_count": 50,
      "outputs": [
        {
          "output_type": "stream",
          "name": "stdout",
          "text": [
            "+------+------------+-----------+----------+--------+---------+---------------+\n",
            "|ItemID|    ItemName|   Category| Warehouse|StockQty|UnitPrice|TotalStockValue|\n",
            "+------+------------+-----------+----------+--------+---------+---------------+\n",
            "|  I001|      LED TV|Electronics|WarehouseA|      50|    30000|        1500000|\n",
            "|  I002|      Laptop|Electronics|WarehouseB|      10|    70000|         700000|\n",
            "|  I003|Office Chair|  Furniture|WarehouseA|      40|     6000|         240000|\n",
            "+------+------------+-----------+----------+--------+---------+---------------+\n",
            "\n"
          ]
        }
      ]
    },
    {
      "cell_type": "markdown",
      "source": [
        "3. Export the result as a Parquet file partitioned by\n",
        "Warehouse"
      ],
      "metadata": {
        "id": "Zmkh5xr4AX47"
      }
    },
    {
      "cell_type": "code",
      "source": [
        "inventory_df.write.mode('overwrite') \\\n",
        "                  .partitionBy('Warehouse') \\\n",
        "                  .format('parquet') \\\n",
        "                  .save('/content/drive/MyDrive/Assessment/inventory/transformed_inventory')\n",
        "\n"
      ],
      "metadata": {
        "id": "gwceYX0-AZmR"
      },
      "execution_count": 51,
      "outputs": []
    },
    {
      "cell_type": "code",
      "source": [
        "top3_highest_value_df.write.mode('overwrite') \\\n",
        "                  .partitionBy('Warehouse') \\\n",
        "                  .format('parquet') \\\n",
        "                  .save('/content/drive/MyDrive/Assessment/inventory/highest_value_items')"
      ],
      "metadata": {
        "id": "mufSUxrtA5Xk"
      },
      "execution_count": 52,
      "outputs": []
    },
    {
      "cell_type": "markdown",
      "source": [
        "#### Scenario 4: Warehouse Utilization"
      ],
      "metadata": {
        "id": "cBFa_OfbBAfV"
      }
    },
    {
      "cell_type": "markdown",
      "source": [
        "1. Count items stored per warehouse."
      ],
      "metadata": {
        "id": "F6LZR13vBCEi"
      }
    },
    {
      "cell_type": "code",
      "source": [
        "items_per_warehouse = inventory_df.groupBy('Warehouse') \\\n",
        "                                  .count() \\\n",
        "                                  .withColumnRenamed('count', 'TotalItems')\n",
        "\n",
        "items_per_warehouse.show()"
      ],
      "metadata": {
        "colab": {
          "base_uri": "https://localhost:8080/"
        },
        "id": "Eb3lv7-cBCue",
        "outputId": "f8d6b590-d04c-4382-b43a-67fa0f3a639d"
      },
      "execution_count": 54,
      "outputs": [
        {
          "output_type": "stream",
          "name": "stdout",
          "text": [
            "+----------+----------+\n",
            "| Warehouse|TotalItems|\n",
            "+----------+----------+\n",
            "|WarehouseA|         2|\n",
            "|WarehouseC|         1|\n",
            "|WarehouseB|         2|\n",
            "+----------+----------+\n",
            "\n"
          ]
        }
      ]
    },
    {
      "cell_type": "markdown",
      "source": [
        "2. Average stock per category in each warehouse."
      ],
      "metadata": {
        "id": "CdFcjFtpBRo4"
      }
    },
    {
      "cell_type": "code",
      "source": [
        "avg_stock_df = inventory_df.groupBy('Warehouse', 'Category') \\\n",
        "                           .agg(avg('StockQty').alias('AvgStockPerCategory'))\n",
        "\n",
        "avg_stock_df.show()"
      ],
      "metadata": {
        "colab": {
          "base_uri": "https://localhost:8080/"
        },
        "id": "ZAlKgYANBS7O",
        "outputId": "9cf5caa8-a10e-4bb7-8064-402a7c4d0b56"
      },
      "execution_count": 56,
      "outputs": [
        {
          "output_type": "stream",
          "name": "stdout",
          "text": [
            "+----------+-----------+-------------------+\n",
            "| Warehouse|   Category|AvgStockPerCategory|\n",
            "+----------+-----------+-------------------+\n",
            "|WarehouseB|Electronics|                6.5|\n",
            "|WarehouseA|  Furniture|               40.0|\n",
            "|WarehouseC| Appliances|                5.0|\n",
            "|WarehouseA|Electronics|               50.0|\n",
            "+----------+-----------+-------------------+\n",
            "\n"
          ]
        }
      ]
    },
    {
      "cell_type": "markdown",
      "source": [
        "3. Determine underutilized warehouses (\n",
        " total stock < 100 )."
      ],
      "metadata": {
        "id": "eAaxP8S9B5Qr"
      }
    },
    {
      "cell_type": "code",
      "source": [
        "under_utilized_warehouse_df = inventory_df.groupBy('Warehouse') \\\n",
        "                                          .agg(sum('StockQty').alias('TotalStock')) \\\n",
        "                                          .filter(col('TotalStock') < 100)\n",
        "\n",
        "under_utilized_warehouse_df.show()"
      ],
      "metadata": {
        "colab": {
          "base_uri": "https://localhost:8080/"
        },
        "id": "9ccDvFbqB6Cg",
        "outputId": "2a90ba2e-a079-4b52-bc6e-1983567ef207"
      },
      "execution_count": 58,
      "outputs": [
        {
          "output_type": "stream",
          "name": "stdout",
          "text": [
            "+----------+----------+\n",
            "| Warehouse|TotalStock|\n",
            "+----------+----------+\n",
            "|WarehouseA|        90|\n",
            "|WarehouseC|         5|\n",
            "|WarehouseB|        13|\n",
            "+----------+----------+\n",
            "\n"
          ]
        }
      ]
    },
    {
      "cell_type": "markdown",
      "source": [
        "####  Scenario 5: Delta Audit Trail"
      ],
      "metadata": {
        "id": "8zy0PXAPCi_-"
      }
    },
    {
      "cell_type": "markdown",
      "source": [
        "1. Save as Delta table retail_inventory"
      ],
      "metadata": {
        "id": "o0lvXMgaClQj"
      }
    },
    {
      "cell_type": "code",
      "source": [
        "inventory_df.write.mode('overwrite') \\\n",
        "               .format('delta') \\\n",
        "               .save('/content/drive/MyDrive/Assessment/inventory/retail_inventory')"
      ],
      "metadata": {
        "id": "DBG6rarHCzZo"
      },
      "execution_count": null,
      "outputs": []
    },
    {
      "cell_type": "markdown",
      "source": [
        "2. Update stock of 'Laptop' to 20."
      ],
      "metadata": {
        "id": "PBUZNJBYC1eP"
      }
    },
    {
      "cell_type": "code",
      "source": [
        "inventory_df = inventory_df.withColumn('StockQty',\n",
        "                                        when(col('ItemName') == 'Laptop', 20).otherwise(col('StockQty')))\n",
        "\n",
        "inventory_df.select(\n",
        "                      'ItemID',\n",
        "                      'ItemName',\n",
        "                      'Category',\n",
        "                      'Warehouse',\n",
        "                      'StockQty',\n",
        "                      'UnitPrice'\n",
        ").show()"
      ],
      "metadata": {
        "colab": {
          "base_uri": "https://localhost:8080/"
        },
        "id": "A_Wl1O3ZC1Ls",
        "outputId": "284887ae-b701-4b04-901e-175fa564667f"
      },
      "execution_count": 61,
      "outputs": [
        {
          "output_type": "stream",
          "name": "stdout",
          "text": [
            "+------+------------+-----------+----------+--------+---------+\n",
            "|ItemID|    ItemName|   Category| Warehouse|StockQty|UnitPrice|\n",
            "+------+------------+-----------+----------+--------+---------+\n",
            "|  I001|      LED TV|Electronics|WarehouseA|      50|    30000|\n",
            "|  I002|      Laptop|Electronics|WarehouseB|      20|    70000|\n",
            "|  I003|Office Chair|  Furniture|WarehouseA|      40|     6000|\n",
            "|  I004|Refrigerator| Appliances|WarehouseC|       5|    25000|\n",
            "|  I005|     Printer|Electronics|WarehouseB|       3|     8000|\n",
            "+------+------------+-----------+----------+--------+---------+\n",
            "\n"
          ]
        }
      ]
    },
    {
      "cell_type": "markdown",
      "source": [
        "3. Delete any item with\n",
        "StockQty = 0"
      ],
      "metadata": {
        "id": "9fT0ILahDPdN"
      }
    },
    {
      "cell_type": "code",
      "source": [
        "inventory_df = inventory_df.filter(col('StockQty') != 0)\n",
        "inventory_df.select(\n",
        "                      'ItemID',\n",
        "                      'ItemName',\n",
        "                      'Category',\n",
        "                      'Warehouse',\n",
        "                      'StockQty',\n",
        "                      'UnitPrice'\n",
        ").show()"
      ],
      "metadata": {
        "colab": {
          "base_uri": "https://localhost:8080/"
        },
        "id": "0Cc7Lqg2DQZs",
        "outputId": "afe783ff-48e6-4a5d-f6b8-edade7d683a7"
      },
      "execution_count": 62,
      "outputs": [
        {
          "output_type": "stream",
          "name": "stdout",
          "text": [
            "+------+------------+-----------+----------+--------+---------+\n",
            "|ItemID|    ItemName|   Category| Warehouse|StockQty|UnitPrice|\n",
            "+------+------------+-----------+----------+--------+---------+\n",
            "|  I001|      LED TV|Electronics|WarehouseA|      50|    30000|\n",
            "|  I002|      Laptop|Electronics|WarehouseB|      20|    70000|\n",
            "|  I003|Office Chair|  Furniture|WarehouseA|      40|     6000|\n",
            "|  I004|Refrigerator| Appliances|WarehouseC|       5|    25000|\n",
            "|  I005|     Printer|Electronics|WarehouseB|       3|     8000|\n",
            "+------+------------+-----------+----------+--------+---------+\n",
            "\n"
          ]
        }
      ]
    },
    {
      "cell_type": "markdown",
      "source": [
        "4. Run\n",
        "DESCRIBE HISTORY and query\n",
        "VERSION AS OF previous state."
      ],
      "metadata": {
        "id": "43AwvS2yDmC5"
      }
    },
    {
      "cell_type": "code",
      "source": [
        "history_df = spark.sql(\"\"\"\n",
        "                        DESCRIBE HISTORY delta.`/content/drive/MyDrive/Assessment/inventory/transformed_inventory`\n",
        "                       \"\"\")\n",
        "\n",
        "history_df.show()\n",
        "\n",
        "previous_state_df = spark.read.format(\"delta\") \\\n",
        "                              .option(\"versionAsOf\", 0) \\\n",
        "                              .load('/content/drive/MyDrive/Assessment/inventory/transformed_inventory')\n",
        "\n",
        "previous_state_df.show()\n",
        "\n",
        "previous_state_df.createOrReplaceTempView('inventory_previous_version')\n",
        "\n",
        "spark.sql(\"\"\"\n",
        "            SELECT *\n",
        "            FROM inventory_previous_version\n",
        "            WHERE StockQty < 10\n",
        "          \"\"\").show()"
      ],
      "metadata": {
        "id": "6sEElbJuDral"
      },
      "execution_count": null,
      "outputs": []
    },
    {
      "cell_type": "markdown",
      "source": [
        "####  Scenario 6: Alerts from Restock Logs"
      ],
      "metadata": {
        "id": "Xl5tpNu_Ekgu"
      }
    },
    {
      "cell_type": "markdown",
      "source": [
        "Creating Logs Dataframe"
      ],
      "metadata": {
        "id": "O7GuYe3MEozi"
      }
    },
    {
      "cell_type": "code",
      "source": [
        "from pyspark.sql.types import StructType, StructField, StringType, DateType, IntegerType\n",
        "from pyspark.sql.functions import to_date\n",
        "\n",
        "data = [\n",
        "    ('I002', '2024-04-20', 10),\n",
        "    ('I005', '2024-04-22', 5),\n",
        "    ('I001', '2024-04-25', 20)\n",
        "]\n",
        "\n",
        "schema = StructType([\n",
        "    StructField('ItemID', StringType(), True),\n",
        "    StructField('RestockDate', StringType(), True),\n",
        "    StructField('QuantityAdded', IntegerType(), True)\n",
        "])\n",
        "\n",
        "restock_logs_df = spark.createDataFrame(data, schema)\n",
        "restock_logs_df = restock_logs_df.withColumn('RestockDate', to_date('RestockDate', 'yyyy-MM-dd'))\n",
        "\n",
        "restock_logs_df.printSchema()\n"
      ],
      "metadata": {
        "colab": {
          "base_uri": "https://localhost:8080/"
        },
        "id": "0n5XuazlElTk",
        "outputId": "f31d7919-5a2f-4269-bc6a-b0ef819138d7"
      },
      "execution_count": 63,
      "outputs": [
        {
          "output_type": "stream",
          "name": "stdout",
          "text": [
            "root\n",
            " |-- ItemID: string (nullable = true)\n",
            " |-- RestockDate: date (nullable = true)\n",
            " |-- QuantityAdded: integer (nullable = true)\n",
            "\n"
          ]
        }
      ]
    },
    {
      "cell_type": "markdown",
      "source": [
        "1.  Join with inventory table to update StockQty"
      ],
      "metadata": {
        "id": "a14IjEzNE-Pa"
      }
    },
    {
      "cell_type": "code",
      "source": [
        "joined_df = inventory_df.join(restock_logs_df, on='ItemID', how='left')\n",
        "\n",
        "joined_df.show()"
      ],
      "metadata": {
        "colab": {
          "base_uri": "https://localhost:8080/"
        },
        "id": "TquCnXdPE_ZG",
        "outputId": "92bb54a3-1ca5-4ef6-ca40-e049b21700e9"
      },
      "execution_count": 66,
      "outputs": [
        {
          "output_type": "stream",
          "name": "stdout",
          "text": [
            "+------+-----------+------------+----------+--------+------------+-------------+---------+----------+-------------+----------------+---------------+-----------+-------------+\n",
            "|ItemID|   Category|    ItemName| Warehouse|StockQty|ReorderLevel|LastRestocked|UnitPrice|  Supplier|NeedsRecorder|AvgCategoryPrice|TotalStockValue|RestockDate|QuantityAdded|\n",
            "+------+-----------+------------+----------+--------+------------+-------------+---------+----------+-------------+----------------+---------------+-----------+-------------+\n",
            "|  I001|Electronics|      LED TV|WarehouseA|      50|          20|   2024-03-15|    30000|   AVTech |            0|         36000.0|        1500000|       NULL|         NULL|\n",
            "|  I002|Electronics|      Laptop|WarehouseB|      20|          15|   2024-04-01|    70000|TechWorld |            5|         36000.0|         700000| 2024-04-20|           10|\n",
            "|  I003|  Furniture|Office Chair|WarehouseA|      40|          10|   2024-03-25|     6000|  ChairCo |            0|          6000.0|         240000|       NULL|         NULL|\n",
            "|  I004| Appliances|Refrigerator|WarehouseC|       5|          10|   2024-02-20|    25000| FreezeIt |            5|         25000.0|         125000|       NULL|         NULL|\n",
            "|  I005|Electronics|     Printer|WarehouseB|       3|           5|   2024-03-30|     8000| PrintFast|            2|         36000.0|          24000| 2024-04-22|            5|\n",
            "+------+-----------+------------+----------+--------+------------+-------------+---------+----------+-------------+----------------+---------------+-----------+-------------+\n",
            "\n"
          ]
        }
      ]
    },
    {
      "cell_type": "code",
      "source": [
        "from pyspark.sql.functions import coalesce, lit\n",
        "\n",
        "joined_df = joined_df.withColumn('QuantityAdded',\n",
        "                                  coalesce(col('QuantityAdded'), lit(0)))\n",
        "\n",
        "joined_df.select(\n",
        "                  'ItemID',\n",
        "                  'ItemName',\n",
        "                  'Category',\n",
        "                  'Warehouse',\n",
        "                  'StockQty',\n",
        "                  'UnitPrice',\n",
        "                  'QuantityAdded'\n",
        ").show()"
      ],
      "metadata": {
        "colab": {
          "base_uri": "https://localhost:8080/"
        },
        "id": "L4XtdnZgFnDl",
        "outputId": "a76c461d-1106-4671-c9e5-e0dffc017162"
      },
      "execution_count": 67,
      "outputs": [
        {
          "output_type": "stream",
          "name": "stdout",
          "text": [
            "+------+------------+-----------+----------+--------+---------+-------------+\n",
            "|ItemID|    ItemName|   Category| Warehouse|StockQty|UnitPrice|QuantityAdded|\n",
            "+------+------------+-----------+----------+--------+---------+-------------+\n",
            "|  I001|      LED TV|Electronics|WarehouseA|      50|    30000|            0|\n",
            "|  I002|      Laptop|Electronics|WarehouseB|      20|    70000|           10|\n",
            "|  I003|Office Chair|  Furniture|WarehouseA|      40|     6000|            0|\n",
            "|  I005|     Printer|Electronics|WarehouseB|       3|     8000|            5|\n",
            "|  I004|Refrigerator| Appliances|WarehouseC|       5|    25000|            0|\n",
            "+------+------------+-----------+----------+--------+---------+-------------+\n",
            "\n"
          ]
        }
      ]
    },
    {
      "cell_type": "markdown",
      "source": [
        "2. Calculate new stock and flag\n",
        "RestockedRecently = true for updated items."
      ],
      "metadata": {
        "id": "hDSySvcvGPL3"
      }
    },
    {
      "cell_type": "code",
      "source": [
        "from pyspark.sql.functions import col, when, lit\n",
        "\n",
        "new_stock_df = joined_df.withColumn('NewStockQty', col('StockQty') + col('QuantityAdded')) \\\n",
        "                           .withColumn('RestockedRecently',\n",
        "                                        when(col('QuantityAdded') > 0, lit(True)).otherwise(lit(False)))\n",
        "\n",
        "new_stock_df.select(\n",
        "                      'ItemID',\n",
        "                      'ItemName',\n",
        "                      'Category',\n",
        "                      'Warehouse',\n",
        "                      'StockQty',\n",
        "                      'QuantityAdded',\n",
        "                      'NewStockQty',\n",
        "                      'RestockedRecently'\n",
        "                    ).show()"
      ],
      "metadata": {
        "colab": {
          "base_uri": "https://localhost:8080/"
        },
        "id": "ZLnqhRKyGRbO",
        "outputId": "57e08be0-9cca-4eac-fd63-d1659802a5a8"
      },
      "execution_count": 71,
      "outputs": [
        {
          "output_type": "stream",
          "name": "stdout",
          "text": [
            "+------+------------+-----------+----------+--------+-------------+-----------+-----------------+\n",
            "|ItemID|    ItemName|   Category| Warehouse|StockQty|QuantityAdded|NewStockQty|RestockedRecently|\n",
            "+------+------------+-----------+----------+--------+-------------+-----------+-----------------+\n",
            "|  I001|      LED TV|Electronics|WarehouseA|      50|            0|         50|            false|\n",
            "|  I002|      Laptop|Electronics|WarehouseB|      20|           10|         30|             true|\n",
            "|  I003|Office Chair|  Furniture|WarehouseA|      40|            0|         40|            false|\n",
            "|  I005|     Printer|Electronics|WarehouseB|       3|            5|          8|             true|\n",
            "|  I004|Refrigerator| Appliances|WarehouseC|       5|            0|          5|            false|\n",
            "+------+------------+-----------+----------+--------+-------------+-----------+-----------------+\n",
            "\n"
          ]
        }
      ]
    },
    {
      "cell_type": "markdown",
      "source": [
        "3. Use MERGE INTO to update in Delta."
      ],
      "metadata": {
        "id": "YVKNlNN8HLPl"
      }
    },
    {
      "cell_type": "code",
      "source": [
        "from delta.tables import DeltaTable\n",
        "from pyspark.sql.functions import expr\n",
        "\n",
        "\n",
        "delta_path = '/content/drive/MyDrive/Assessment/inventory/transformed_inventory'\n",
        "\n",
        "\n",
        "delta_table = DeltaTable.forPath(spark, delta_path)\n",
        "\n",
        "\n",
        "delta_table.alias('i').merge(restock_logs_df.alias('r'),'i.ItemID = r.ItemID') \\\n",
        "                      .whenMatchedUpdate(set={\n",
        "                                              'StockQty': expr('i.StockQty + r.QuantityAdded'),\n",
        "                                              'LastRestocked': 'r.RestockDate'\n",
        "                                              }\n",
        "                                         ).execute()\n"
      ],
      "metadata": {
        "id": "6oTdQqN_HVwO"
      },
      "execution_count": null,
      "outputs": []
    },
    {
      "cell_type": "markdown",
      "source": [
        "#### Scenario 7: Report Generation with SQL Views"
      ],
      "metadata": {
        "id": "9_kXXaYtH9-m"
      }
    },
    {
      "cell_type": "markdown",
      "source": [
        "1. Create SQL view inventory_summary"
      ],
      "metadata": {
        "id": "k7W9lOd9IApe"
      }
    },
    {
      "cell_type": "code",
      "source": [
        "inventory_df.createOrReplaceTempView(\"inventory\")\n",
        "\n",
        "spark.sql(\"\"\"\n",
        "            CREATE OR REPLACE TEMP VIEW inventory_summary AS\n",
        "            SELECT\n",
        "              ItemName,\n",
        "              Category,\n",
        "              StockQty,\n",
        "              NeedsRecorder,\n",
        "              StockQty * UnitPrice AS TotalStockValue\n",
        "            FROM inventory\n",
        "\"\"\")\n",
        "\n",
        "spark.sql(\"SELECT * FROM inventory_summary\").show()"
      ],
      "metadata": {
        "colab": {
          "base_uri": "https://localhost:8080/"
        },
        "id": "QL6haXtwIGta",
        "outputId": "3bb8133a-aee1-4160-e9fe-6013136f0e70"
      },
      "execution_count": 77,
      "outputs": [
        {
          "output_type": "stream",
          "name": "stdout",
          "text": [
            "+------------+-----------+--------+-------------+---------------+\n",
            "|    ItemName|   Category|StockQty|NeedsRecorder|TotalStockValue|\n",
            "+------------+-----------+--------+-------------+---------------+\n",
            "|      LED TV|Electronics|      50|            0|        1500000|\n",
            "|      Laptop|Electronics|      20|            5|        1400000|\n",
            "|Office Chair|  Furniture|      40|            0|         240000|\n",
            "|Refrigerator| Appliances|       5|            5|         125000|\n",
            "|     Printer|Electronics|       3|            2|          24000|\n",
            "+------------+-----------+--------+-------------+---------------+\n",
            "\n"
          ]
        }
      ]
    },
    {
      "cell_type": "markdown",
      "source": [
        "2. create view supplier_leaderboard sorted by average price"
      ],
      "metadata": {
        "id": "PHv8_y_XJJrd"
      }
    },
    {
      "cell_type": "code",
      "source": [
        "spark.sql(\"\"\"\n",
        "          CREATE OR REPLACE TEMP VIEW supplier_leaderboard AS\n",
        "          SELECT\n",
        "              Supplier,\n",
        "              AVG(UnitPrice) AS AvgPrice\n",
        "          FROM inventory\n",
        "          GROUP BY Supplier\n",
        "          ORDER BY AvgPrice DESC\n",
        "\"\"\")\n",
        "\n",
        "spark.sql(\"SELECT * FROM supplier_leaderboard\").show()"
      ],
      "metadata": {
        "colab": {
          "base_uri": "https://localhost:8080/"
        },
        "id": "INXdktwmJP4Y",
        "outputId": "07edab20-fb9b-49f3-daa7-5b136dd338b6"
      },
      "execution_count": 79,
      "outputs": [
        {
          "output_type": "stream",
          "name": "stdout",
          "text": [
            "+----------+--------+\n",
            "|  Supplier|AvgPrice|\n",
            "+----------+--------+\n",
            "|TechWorld | 70000.0|\n",
            "|   AVTech | 30000.0|\n",
            "| FreezeIt | 25000.0|\n",
            "| PrintFast|  8000.0|\n",
            "|  ChairCo |  6000.0|\n",
            "+----------+--------+\n",
            "\n"
          ]
        }
      ]
    },
    {
      "cell_type": "markdown",
      "source": [
        "#### Scenario 8: Advanced Filtering"
      ],
      "metadata": {
        "id": "Nx1fOuFqJX_4"
      }
    },
    {
      "cell_type": "markdown",
      "source": [
        "1. Use when /otherwise to categorize items: \\\n",
        " \"Overstocked\" (>2x ReorderLevel) \\\n",
        " \"LowStock\""
      ],
      "metadata": {
        "id": "skOJ-mh0Jatt"
      }
    },
    {
      "cell_type": "code",
      "source": [
        "inventory_df = inventory_df.withColumn('StockCategory',\n",
        "                                        when(col('StockQty') > 2 * col('ReorderLevel'), 'Overstocked')\n",
        "                                        .when(col('StockQty') < col('ReorderLevel'), 'LowStock')\n",
        "                                        .otherwise('Normal'))\n",
        "\n",
        "inventory_df.select(\n",
        "                      'ItemID',\n",
        "                      'ItemName',\n",
        "                      'StockQty',\n",
        "                      'ReorderLevel',\n",
        "                      'StockCategory'\n",
        "                    ).show()"
      ],
      "metadata": {
        "colab": {
          "base_uri": "https://localhost:8080/"
        },
        "id": "QP839MQ2Jj5w",
        "outputId": "00b14dc3-e94b-41ae-d808-bf0908c9687a"
      },
      "execution_count": 80,
      "outputs": [
        {
          "output_type": "stream",
          "name": "stdout",
          "text": [
            "+------+------------+--------+------------+-------------+\n",
            "|ItemID|    ItemName|StockQty|ReorderLevel|StockCategory|\n",
            "+------+------------+--------+------------+-------------+\n",
            "|  I001|      LED TV|      50|          20|  Overstocked|\n",
            "|  I002|      Laptop|      20|          15|       Normal|\n",
            "|  I003|Office Chair|      40|          10|  Overstocked|\n",
            "|  I004|Refrigerator|       5|          10|     LowStock|\n",
            "|  I005|     Printer|       3|           5|     LowStock|\n",
            "+------+------------+--------+------------+-------------+\n",
            "\n"
          ]
        }
      ]
    },
    {
      "cell_type": "markdown",
      "source": [
        "2. Use .filter() and .where() for the same and compare."
      ],
      "metadata": {
        "id": "3Y0oQItuJ3zt"
      }
    },
    {
      "cell_type": "code",
      "source": [
        "filtered_df = inventory_df.filter((col(\"StockQty\") > 2 * col(\"ReorderLevel\")) | (col(\"StockQty\") < col(\"ReorderLevel\")))\n",
        "\n",
        "filtered_df.select(\n",
        "                    'ItemID',\n",
        "                    'ItemName',\n",
        "                    'StockQty',\n",
        "                    'ReorderLevel',\n",
        "                    'StockCategory'\n",
        ").show()"
      ],
      "metadata": {
        "colab": {
          "base_uri": "https://localhost:8080/"
        },
        "id": "GLL6wjLkJ7D7",
        "outputId": "a30c5c5f-ab6f-4d82-e133-bbd9ecc885fc"
      },
      "execution_count": 82,
      "outputs": [
        {
          "output_type": "stream",
          "name": "stdout",
          "text": [
            "+------+------------+--------+------------+-------------+\n",
            "|ItemID|    ItemName|StockQty|ReorderLevel|StockCategory|\n",
            "+------+------------+--------+------------+-------------+\n",
            "|  I001|      LED TV|      50|          20|  Overstocked|\n",
            "|  I003|Office Chair|      40|          10|  Overstocked|\n",
            "|  I004|Refrigerator|       5|          10|     LowStock|\n",
            "|  I005|     Printer|       3|           5|     LowStock|\n",
            "+------+------------+--------+------------+-------------+\n",
            "\n"
          ]
        }
      ]
    },
    {
      "cell_type": "markdown",
      "source": [
        "#### Scenario 9: Feature Engineering\n"
      ],
      "metadata": {
        "id": "_y-59tkSKFzQ"
      }
    },
    {
      "cell_type": "markdown",
      "source": [
        "1. Extract\n",
        "RestockMonth from\n",
        "LastRestocked ."
      ],
      "metadata": {
        "id": "c3MiIILaRq1-"
      }
    },
    {
      "cell_type": "code",
      "source": [
        "from pyspark.sql.functions import month\n",
        "inventory_df = inventory_df.withColumn('RestockMonth', month(col('LastRestocked')))\n",
        "\n",
        "inventory_df.select(\n",
        "                      'ItemID',\n",
        "                      'ItemName',\n",
        "                      'Category',\n",
        "                      'Warehouse',\n",
        "                      'StockQty',\n",
        "                      'UnitPrice',\n",
        "                      'TotalStockValue',\n",
        "                      'LastRestocked',\n",
        "                      'RestockMonth'\n",
        ").show()"
      ],
      "metadata": {
        "colab": {
          "base_uri": "https://localhost:8080/"
        },
        "id": "A_TCKjJjRrdY",
        "outputId": "dc484f11-4328-4aa6-e47c-4deeb705c643"
      },
      "execution_count": 84,
      "outputs": [
        {
          "output_type": "stream",
          "name": "stdout",
          "text": [
            "+------+------------+-----------+----------+--------+---------+---------------+-------------+------------+\n",
            "|ItemID|    ItemName|   Category| Warehouse|StockQty|UnitPrice|TotalStockValue|LastRestocked|RestockMonth|\n",
            "+------+------------+-----------+----------+--------+---------+---------------+-------------+------------+\n",
            "|  I001|      LED TV|Electronics|WarehouseA|      50|    30000|        1500000|   2024-03-15|           3|\n",
            "|  I002|      Laptop|Electronics|WarehouseB|      20|    70000|         700000|   2024-04-01|           4|\n",
            "|  I003|Office Chair|  Furniture|WarehouseA|      40|     6000|         240000|   2024-03-25|           3|\n",
            "|  I004|Refrigerator| Appliances|WarehouseC|       5|    25000|         125000|   2024-02-20|           2|\n",
            "|  I005|     Printer|Electronics|WarehouseB|       3|     8000|          24000|   2024-03-30|           3|\n",
            "+------+------------+-----------+----------+--------+---------+---------------+-------------+------------+\n",
            "\n"
          ]
        }
      ]
    },
    {
      "cell_type": "markdown",
      "source": [
        "2. Create feature:\n",
        "StockAge = CURRENT_DATE - LastRestocked"
      ],
      "metadata": {
        "id": "QdRJi9aUSPZe"
      }
    },
    {
      "cell_type": "code",
      "source": [
        "from pyspark.sql.functions import current_date, datediff\n",
        "inventory_df = inventory_df.withColumn('StockAge',  datediff(current_date(), col('LastRestocked')))\n",
        "\n",
        "inventory_df.select(\n",
        "                      'ItemID',\n",
        "                      'ItemName',\n",
        "                      'Category',\n",
        "                      'Warehouse',\n",
        "                      'StockQty',\n",
        "                      'UnitPrice',\n",
        "                      'TotalStockValue',\n",
        "                      'LastRestocked',\n",
        "                      'StockAge'\n",
        ").show()"
      ],
      "metadata": {
        "colab": {
          "base_uri": "https://localhost:8080/"
        },
        "id": "5Z6rb9NxSVKc",
        "outputId": "5d16e165-eed2-4959-b558-4f8782adf8f0"
      },
      "execution_count": 87,
      "outputs": [
        {
          "output_type": "stream",
          "name": "stdout",
          "text": [
            "+------+------------+-----------+----------+--------+---------+---------------+-------------+--------+\n",
            "|ItemID|    ItemName|   Category| Warehouse|StockQty|UnitPrice|TotalStockValue|LastRestocked|StockAge|\n",
            "+------+------------+-----------+----------+--------+---------+---------------+-------------+--------+\n",
            "|  I001|      LED TV|Electronics|WarehouseA|      50|    30000|        1500000|   2024-03-15|     461|\n",
            "|  I002|      Laptop|Electronics|WarehouseB|      20|    70000|         700000|   2024-04-01|     444|\n",
            "|  I003|Office Chair|  Furniture|WarehouseA|      40|     6000|         240000|   2024-03-25|     451|\n",
            "|  I004|Refrigerator| Appliances|WarehouseC|       5|    25000|         125000|   2024-02-20|     485|\n",
            "|  I005|     Printer|Electronics|WarehouseB|       3|     8000|          24000|   2024-03-30|     446|\n",
            "+------+------------+-----------+----------+--------+---------+---------------+-------------+--------+\n",
            "\n"
          ]
        }
      ]
    },
    {
      "cell_type": "markdown",
      "source": [
        "3. Bucket StockAge into: New, Moderate, Stale\n"
      ],
      "metadata": {
        "id": "bnIoP8fZS8cL"
      }
    },
    {
      "cell_type": "code",
      "source": [
        "bucketed_df = inventory_df.withColumn('StockAgeBucket',\n",
        "                                      when(col('StockAge') <= 30, 'New')\n",
        "                                      .when(col('StockAge') <= 90, 'Moderate')\n",
        "                                      .otherwise('Stale'))\n",
        "\n",
        "bucketed_df.select(\n",
        "                    'ItemID',\n",
        "                    'ItemName',\n",
        "                    'LastRestocked',\n",
        "                    'StockAge',\n",
        "                    'StockAgeBucket'\n",
        "    ).show()"
      ],
      "metadata": {
        "colab": {
          "base_uri": "https://localhost:8080/"
        },
        "id": "pNvzB62PTAYu",
        "outputId": "a32708bb-9ea8-4a3b-e919-a32825e03f95"
      },
      "execution_count": 88,
      "outputs": [
        {
          "output_type": "stream",
          "name": "stdout",
          "text": [
            "+------+------------+-------------+--------+--------------+\n",
            "|ItemID|    ItemName|LastRestocked|StockAge|StockAgeBucket|\n",
            "+------+------------+-------------+--------+--------------+\n",
            "|  I001|      LED TV|   2024-03-15|     461|         Stale|\n",
            "|  I002|      Laptop|   2024-04-01|     444|         Stale|\n",
            "|  I003|Office Chair|   2024-03-25|     451|         Stale|\n",
            "|  I004|Refrigerator|   2024-02-20|     485|         Stale|\n",
            "|  I005|     Printer|   2024-03-30|     446|         Stale|\n",
            "+------+------------+-------------+--------+--------------+\n",
            "\n"
          ]
        }
      ]
    },
    {
      "cell_type": "markdown",
      "source": [
        "#### Scenario 10: Export Options"
      ],
      "metadata": {
        "id": "qIMeTMjATc6o"
      }
    },
    {
      "cell_type": "markdown",
      "source": [
        "Exporting to CSV"
      ],
      "metadata": {
        "id": "j-qz_yBzTfJD"
      }
    },
    {
      "cell_type": "code",
      "source": [
        "joined_df.write.format('csv') \\\n",
        "                .mode('overwrite') \\\n",
        "                .save('/content/drive/MyDrive/Assessment/inventory/inventory_transformed_csv.csv')\n",
        ""
      ],
      "metadata": {
        "id": "OUQdbR-gThL2"
      },
      "execution_count": 90,
      "outputs": []
    },
    {
      "cell_type": "markdown",
      "source": [
        "Exporting to JSON"
      ],
      "metadata": {
        "id": "cfStI5N0Tvbk"
      }
    },
    {
      "cell_type": "code",
      "source": [
        "joined_df.write.format('json') \\\n",
        "                .mode('overwrite') \\\n",
        "                .save('/content/drive/MyDrive/Assessment/inventory/inventory_transformed_json.json')"
      ],
      "metadata": {
        "id": "nvmeYeFQT-dy"
      },
      "execution_count": 91,
      "outputs": []
    },
    {
      "cell_type": "markdown",
      "source": [
        "Exporting as Delta"
      ],
      "metadata": {
        "id": "jEMGWiM7UD_8"
      }
    },
    {
      "cell_type": "code",
      "source": [
        "joined_df.write.format('delta') \\\n",
        "               .mode('overwrite') \\\n",
        "               .save('/content/drive/MyDrive/Assessment/inventory/inventory_transformed_delta')"
      ],
      "metadata": {
        "id": "tMvunhnqUFW0"
      },
      "execution_count": null,
      "outputs": []
    },
    {
      "cell_type": "markdown",
      "source": [
        " 2. Save file with  partitioned"
      ],
      "metadata": {
        "id": "tPw-WU5LUTI5"
      }
    },
    {
      "cell_type": "code",
      "source": [
        "joined_df.write.format('delta') \\\n",
        "               .mode('overwrite') \\\n",
        "               .partitionBy('Category') \\\n",
        "               .save('/content/drive/MyDrive/Assessment/inventory/inventory_transformed_by_category')"
      ],
      "metadata": {
        "id": "WtQSHqmEUXgU"
      },
      "execution_count": null,
      "outputs": []
    },
    {
      "cell_type": "code",
      "source": [
        "joined_df.write.format('delta') \\\n",
        "               .mode('overwrite') \\\n",
        "               .partitionBy('Warehouse') \\\n",
        "               .save('/content/drive/MyDrive/Assessment/inventory/inventory_transformed_by_Warehouse')"
      ],
      "metadata": {
        "id": "X_fT_ad6Ug2f"
      },
      "execution_count": null,
      "outputs": []
    },
    {
      "cell_type": "markdown",
      "source": [
        "Viewing Saved File"
      ],
      "metadata": {
        "id": "eYrrnN4iUqYt"
      }
    },
    {
      "cell_type": "code",
      "source": [
        "!ls -l /content/drive/MyDrive/Assessment/inventory/"
      ],
      "metadata": {
        "colab": {
          "base_uri": "https://localhost:8080/"
        },
        "id": "BysKyT62UoaR",
        "outputId": "49b6ab8f-abdb-4275-b31e-d8028b106406"
      },
      "execution_count": 92,
      "outputs": [
        {
          "output_type": "stream",
          "name": "stdout",
          "text": [
            "total 16\n",
            "drwx------ 4 root root 4096 Jun 19 07:07 highest_value_items\n",
            "drwx------ 2 root root 4096 Jun 19 08:30 inventory_transformed_csv.csv\n",
            "drwx------ 2 root root 4096 Jun 19 08:31 inventory_transformed_json.json\n",
            "drwx------ 5 root root 4096 Jun 19 07:07 transformed_inventory\n"
          ]
        }
      ]
    }
  ]
}