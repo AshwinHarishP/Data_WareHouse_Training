{
  "nbformat": 4,
  "nbformat_minor": 0,
  "metadata": {
    "colab": {
      "provenance": []
    },
    "kernelspec": {
      "name": "python3",
      "display_name": "Python 3"
    },
    "language_info": {
      "name": "python"
    }
  },
  "cells": [
    {
      "cell_type": "markdown",
      "source": [
        "# Online Course Learning Platform Analytics"
      ],
      "metadata": {
        "id": "bMegVgD4na2O"
      }
    },
    {
      "cell_type": "markdown",
      "source": [
        "Creating Pyspark Session"
      ],
      "metadata": {
        "id": "IYkS3MHInkxi"
      }
    },
    {
      "cell_type": "code",
      "source": [
        "from pyspark.sql import SparkSession\n",
        "spark = SparkSession.builder.appName(\"OnlineCourseLearning\").getOrCreate()\n",
        "spark"
      ],
      "metadata": {
        "colab": {
          "base_uri": "https://localhost:8080/",
          "height": 219
        },
        "id": "fjePo3dUnmVx",
        "outputId": "be234124-4bb9-4f3a-df17-c6f5470c5199"
      },
      "execution_count": 128,
      "outputs": [
        {
          "output_type": "execute_result",
          "data": {
            "text/plain": [
              "<pyspark.sql.session.SparkSession at 0x7e238bd227d0>"
            ],
            "text/html": [
              "\n",
              "            <div>\n",
              "                <p><b>SparkSession - in-memory</b></p>\n",
              "                \n",
              "        <div>\n",
              "            <p><b>SparkContext</b></p>\n",
              "\n",
              "            <p><a href=\"http://1585271ed20d:4040\">Spark UI</a></p>\n",
              "\n",
              "            <dl>\n",
              "              <dt>Version</dt>\n",
              "                <dd><code>v3.5.1</code></dd>\n",
              "              <dt>Master</dt>\n",
              "                <dd><code>local[*]</code></dd>\n",
              "              <dt>AppName</dt>\n",
              "                <dd><code>OnlineCourseLearning</code></dd>\n",
              "            </dl>\n",
              "        </div>\n",
              "        \n",
              "            </div>\n",
              "        "
            ]
          },
          "metadata": {},
          "execution_count": 128
        }
      ]
    },
    {
      "cell_type": "markdown",
      "source": [
        "#### 1. Ingestion & Time Fields"
      ],
      "metadata": {
        "id": "UJMWnlbBnaY5"
      }
    },
    {
      "cell_type": "markdown",
      "source": [
        "Load into PySpark with inferred schema\n"
      ],
      "metadata": {
        "id": "xrQcz2hZnieT"
      }
    },
    {
      "cell_type": "code",
      "execution_count": 129,
      "metadata": {
        "colab": {
          "base_uri": "https://localhost:8080/"
        },
        "id": "rtMJ23BZnZPJ",
        "outputId": "2e38dd4c-f13e-4adb-ab96-d5ef069aa64d"
      },
      "outputs": [
        {
          "output_type": "stream",
          "name": "stdout",
          "text": [
            "Drive already mounted at /content/drive; to attempt to forcibly remount, call drive.mount(\"/content/drive\", force_remount=True).\n",
            "root\n",
            " |-- EnrollID: string (nullable = true)\n",
            " |-- UserID: string (nullable = true)\n",
            " |-- CourseID: string (nullable = true)\n",
            " |-- CourseName: string (nullable = true)\n",
            " |-- Category: string (nullable = true)\n",
            " |-- EnrollDate: date (nullable = true)\n",
            " |-- CompletionDate: date (nullable = true)\n",
            " |-- ProgressPercent: integer (nullable = true)\n",
            " |-- Rating: integer (nullable = true)\n",
            "\n"
          ]
        }
      ],
      "source": [
        "from google.colab import drive\n",
        "\n",
        "drive.mount('/content/drive')\n",
        "\n",
        "course_df = spark.read.format('csv') \\\n",
        "                       .option('header', True) \\\n",
        "                       .option('inferSchema', True) \\\n",
        "                       .load('/content/drive/MyDrive/Assessment/course_enrollments.csv')\n",
        "\n",
        "course_df.printSchema()"
      ]
    },
    {
      "cell_type": "markdown",
      "source": [
        "Removing Leading and tailing spaces in the column"
      ],
      "metadata": {
        "id": "2cTLGGKGn-Ca"
      }
    },
    {
      "cell_type": "code",
      "source": [
        "course_df = course_df.toDF(*[col_name.strip() for col_name in course_df.columns])"
      ],
      "metadata": {
        "id": "rzFNCM3hn9CT"
      },
      "execution_count": 130,
      "outputs": []
    },
    {
      "cell_type": "markdown",
      "source": [
        "convert EnrollDate and completionDate to date type"
      ],
      "metadata": {
        "id": "h33dxU_2n3OJ"
      }
    },
    {
      "cell_type": "code",
      "source": [
        "from pyspark.sql.functions import to_date\n",
        "course_df = course_df.withColumn('EnrollDate', to_date('EnrollDate', 'yyyy-MM-dd')) \\\n",
        "                     .withColumn('CompletionDate', to_date('CompletionDate', 'yyyy-MM-dd'))\n",
        "\n",
        "course_df.show()"
      ],
      "metadata": {
        "colab": {
          "base_uri": "https://localhost:8080/"
        },
        "id": "vrYdigv_n3ve",
        "outputId": "27e618e0-39df-4ecb-85a9-e10802bd0fe1"
      },
      "execution_count": 131,
      "outputs": [
        {
          "output_type": "stream",
          "name": "stdout",
          "text": [
            "+--------+------+--------+-----------------+------------+----------+--------------+---------------+------+\n",
            "|EnrollID|UserID|CourseID|       CourseName|    Category|EnrollDate|CompletionDate|ProgressPercent|Rating|\n",
            "+--------+------+--------+-----------------+------------+----------+--------------+---------------+------+\n",
            "|    E001|  U001|    C001|    Python Basics| Programming|2024-04-01|    2024-04-10|            100|     4|\n",
            "|    E002|  U002|    C002|Excel for Finance|Productivity|2024-04-02|          NULL|             45|  NULL|\n",
            "|    E003|  U001|    C003|  ML with PySpark|Data Science|2024-04-03|          NULL|             30|  NULL|\n",
            "|    E004|  U003|    C001|    Python Basics| Programming|2024-04-04|    2024-04-20|            100|     5|\n",
            "|    E005|  U004|    C004|Digital Marketing|   Marketing|2024-04-05|    2024-04-16|            100|     4|\n",
            "+--------+------+--------+-----------------+------------+----------+--------------+---------------+------+\n",
            "\n"
          ]
        }
      ]
    },
    {
      "cell_type": "markdown",
      "source": [
        "Add DaysToComplete column if completed"
      ],
      "metadata": {
        "id": "94IfCL55pBIN"
      }
    },
    {
      "cell_type": "code",
      "source": [
        "from pyspark.sql.functions import when, datediff, col\n",
        "\n",
        "course_df = course_df.withColumn('DaysToComplete',\n",
        "                                 when(col('CompletionDate').isNotNull(), datediff(col('CompletionDate'), col('EnrollDate'))))\n",
        "\n",
        "course_df.select(\n",
        "                  'EnrollID',\n",
        "                  'UserID',\n",
        "                  'CourseName',\n",
        "                  'EnrollDate',\n",
        "                  'CompletionDate',\n",
        "                  'DaysToComplete'\n",
        "                  ).show()\n"
      ],
      "metadata": {
        "colab": {
          "base_uri": "https://localhost:8080/"
        },
        "id": "9IaYJzJopDSk",
        "outputId": "4b355204-78e5-491a-ee62-5a4907455dc1"
      },
      "execution_count": 132,
      "outputs": [
        {
          "output_type": "stream",
          "name": "stdout",
          "text": [
            "+--------+------+-----------------+----------+--------------+--------------+\n",
            "|EnrollID|UserID|       CourseName|EnrollDate|CompletionDate|DaysToComplete|\n",
            "+--------+------+-----------------+----------+--------------+--------------+\n",
            "|    E001|  U001|    Python Basics|2024-04-01|    2024-04-10|             9|\n",
            "|    E002|  U002|Excel for Finance|2024-04-02|          NULL|          NULL|\n",
            "|    E003|  U001|  ML with PySpark|2024-04-03|          NULL|          NULL|\n",
            "|    E004|  U003|    Python Basics|2024-04-04|    2024-04-20|            16|\n",
            "|    E005|  U004|Digital Marketing|2024-04-05|    2024-04-16|            11|\n",
            "+--------+------+-----------------+----------+--------------+--------------+\n",
            "\n"
          ]
        }
      ]
    },
    {
      "cell_type": "markdown",
      "source": [
        "#### 2. User Learning Path Progress"
      ],
      "metadata": {
        "id": "LiVM6KOZpnxy"
      }
    },
    {
      "cell_type": "markdown",
      "source": [
        "Group by UserID : count of courses enrolled"
      ],
      "metadata": {
        "id": "PoyIPoHNpqQt"
      }
    },
    {
      "cell_type": "code",
      "source": [
        "total_course_enrolled = course_df.groupBy('UserID') \\\n",
        "                                .count() \\\n",
        "                                .withColumnRenamed('count','TotalCourseEnrolled') \\\n",
        "                                .orderBy('TotalCourseEnrolled', ascending=False)\n",
        "\n",
        "total_course_enrolled.show()"
      ],
      "metadata": {
        "colab": {
          "base_uri": "https://localhost:8080/"
        },
        "id": "SPosO0JCptF9",
        "outputId": "6427f1f9-9e84-4794-80eb-8cee16c16829"
      },
      "execution_count": 133,
      "outputs": [
        {
          "output_type": "stream",
          "name": "stdout",
          "text": [
            "+------+-------------------+\n",
            "|UserID|TotalCourseEnrolled|\n",
            "+------+-------------------+\n",
            "|  U001|                  2|\n",
            "|  U004|                  1|\n",
            "|  U002|                  1|\n",
            "|  U003|                  1|\n",
            "+------+-------------------+\n",
            "\n"
          ]
        }
      ]
    },
    {
      "cell_type": "markdown",
      "source": [
        "Avg progress % across all enrollments"
      ],
      "metadata": {
        "id": "-dqeskcWqD-E"
      }
    },
    {
      "cell_type": "code",
      "source": [
        "from pyspark.sql.functions import avg\n",
        "\n",
        "avg_enrollments_df = course_df.select(avg(\"ProgressPercent\").alias(\"AvgProgressPercent\"))\n",
        "avg_enrollments_df.show()\n"
      ],
      "metadata": {
        "colab": {
          "base_uri": "https://localhost:8080/"
        },
        "id": "09WnQromqETY",
        "outputId": "42fcc992-d4cd-464f-f6ce-c751424d0564"
      },
      "execution_count": 134,
      "outputs": [
        {
          "output_type": "stream",
          "name": "stdout",
          "text": [
            "+------------------+\n",
            "|AvgProgressPercent|\n",
            "+------------------+\n",
            "|              75.0|\n",
            "+------------------+\n",
            "\n"
          ]
        }
      ]
    },
    {
      "cell_type": "markdown",
      "source": [
        "Flag\n",
        "IsCompleted = ProgressPercent = 100"
      ],
      "metadata": {
        "id": "rS6wjWtxqk4i"
      }
    },
    {
      "cell_type": "code",
      "source": [
        "course_df = course_df.withColumn('IsCompleted', col('ProgressPercent') == 100)\n",
        "\n",
        "course_df.select(\n",
        "                  'EnrollID',\n",
        "                  'UserID',\n",
        "                  'CourseID',\n",
        "                  'CourseName',\n",
        "                  'Category',\n",
        "                  'ProgressPercent',\n",
        "                  'IsCompleted'\n",
        "                  ).show()\n"
      ],
      "metadata": {
        "colab": {
          "base_uri": "https://localhost:8080/"
        },
        "id": "SE7bv5TeqlWn",
        "outputId": "654eccde-2548-49f4-c20a-729ae7e63fc8"
      },
      "execution_count": 135,
      "outputs": [
        {
          "output_type": "stream",
          "name": "stdout",
          "text": [
            "+--------+------+--------+-----------------+------------+---------------+-----------+\n",
            "|EnrollID|UserID|CourseID|       CourseName|    Category|ProgressPercent|IsCompleted|\n",
            "+--------+------+--------+-----------------+------------+---------------+-----------+\n",
            "|    E001|  U001|    C001|    Python Basics| Programming|            100|       true|\n",
            "|    E002|  U002|    C002|Excel for Finance|Productivity|             45|      false|\n",
            "|    E003|  U001|    C003|  ML with PySpark|Data Science|             30|      false|\n",
            "|    E004|  U003|    C001|    Python Basics| Programming|            100|       true|\n",
            "|    E005|  U004|    C004|Digital Marketing|   Marketing|            100|       true|\n",
            "+--------+------+--------+-----------------+------------+---------------+-----------+\n",
            "\n"
          ]
        }
      ]
    },
    {
      "cell_type": "markdown",
      "source": [
        "####  3 Engagement Scoring\n"
      ],
      "metadata": {
        "id": "GMD5tOTzrRz9"
      }
    },
    {
      "cell_type": "markdown",
      "source": [
        "Replace null\n",
        "Rating with 0 before computing"
      ],
      "metadata": {
        "id": "TkwAA7V3sE7Y"
      }
    },
    {
      "cell_type": "code",
      "source": [
        "from pyspark.sql.functions import coalesce, lit\n",
        "course_df = course_df.withColumn('Rating', coalesce(col('Rating'), lit(0)))\n",
        "\n",
        "course_df.select(\n",
        "                  'EnrollID',\n",
        "                  'UserID',\n",
        "                  'CourseID',\n",
        "                  'CourseName',\n",
        "                  'Category',\n",
        "                  'Rating',\n",
        "                  'IsCompleted'\n",
        ").show()"
      ],
      "metadata": {
        "colab": {
          "base_uri": "https://localhost:8080/"
        },
        "id": "ywKFN-xxsFXI",
        "outputId": "4a938bdf-345b-47b0-c33c-7a2b3d0cd6ae"
      },
      "execution_count": 136,
      "outputs": [
        {
          "output_type": "stream",
          "name": "stdout",
          "text": [
            "+--------+------+--------+-----------------+------------+------+-----------+\n",
            "|EnrollID|UserID|CourseID|       CourseName|    Category|Rating|IsCompleted|\n",
            "+--------+------+--------+-----------------+------------+------+-----------+\n",
            "|    E001|  U001|    C001|    Python Basics| Programming|     4|       true|\n",
            "|    E002|  U002|    C002|Excel for Finance|Productivity|     0|      false|\n",
            "|    E003|  U001|    C003|  ML with PySpark|Data Science|     0|      false|\n",
            "|    E004|  U003|    C001|    Python Basics| Programming|     5|       true|\n",
            "|    E005|  U004|    C004|Digital Marketing|   Marketing|     4|       true|\n",
            "+--------+------+--------+-----------------+------------+------+-----------+\n",
            "\n"
          ]
        }
      ]
    },
    {
      "cell_type": "markdown",
      "source": [
        "Create a score:  ProgressPercent * Rating (if not null)"
      ],
      "metadata": {
        "id": "76pe77AYrVEi"
      }
    },
    {
      "cell_type": "code",
      "source": [
        "course_df = course_df.withColumn('ProgressPercent',\n",
        "                                  when(col('Rating') != 0 , col('ProgressPercent') * col('Rating'))\n",
        "                                  .otherwise(col('ProgressPercent'))\n",
        ")\n",
        "\n",
        "course_df.select(\n",
        "                  'EnrollID',\n",
        "                  'UserID',\n",
        "                  'CourseID',\n",
        "                  'CourseName',\n",
        "                  'Rating',\n",
        "                  'ProgressPercent',\n",
        "                  'IsCompleted'\n",
        ").show()"
      ],
      "metadata": {
        "colab": {
          "base_uri": "https://localhost:8080/"
        },
        "id": "kxD6LPEnrXnk",
        "outputId": "6c36d484-579e-4d12-c50e-dfba7dee350e"
      },
      "execution_count": 137,
      "outputs": [
        {
          "output_type": "stream",
          "name": "stdout",
          "text": [
            "+--------+------+--------+-----------------+------+---------------+-----------+\n",
            "|EnrollID|UserID|CourseID|       CourseName|Rating|ProgressPercent|IsCompleted|\n",
            "+--------+------+--------+-----------------+------+---------------+-----------+\n",
            "|    E001|  U001|    C001|    Python Basics|     4|            400|       true|\n",
            "|    E002|  U002|    C002|Excel for Finance|     0|             45|      false|\n",
            "|    E003|  U001|    C003|  ML with PySpark|     0|             30|      false|\n",
            "|    E004|  U003|    C001|    Python Basics|     5|            500|       true|\n",
            "|    E005|  U004|    C004|Digital Marketing|     4|            400|       true|\n",
            "+--------+------+--------+-----------------+------+---------------+-----------+\n",
            "\n"
          ]
        }
      ]
    },
    {
      "cell_type": "markdown",
      "source": [
        "#### 4. Identify Drop-offs\n"
      ],
      "metadata": {
        "id": "2yRQ6k2QtZzk"
      }
    },
    {
      "cell_type": "markdown",
      "source": [
        "Filter all records with progressPercent < 50 and CompletionDate is null"
      ],
      "metadata": {
        "id": "WkRjrCh-tfEt"
      }
    },
    {
      "cell_type": "code",
      "source": [
        "progress_filtered_df = course_df.filter((col('ProgressPercent') < 50) & (col('CompletionDate').isNull())) \\\n",
        "                                .select(\n",
        "                                          'EnrollID',\n",
        "                                          'UserID',\n",
        "                                          'CourseID',\n",
        "                                          'CourseName',\n",
        "                                          'Category',\n",
        "                                          'EnrollDate',\n",
        "                                          'ProgressPercent'\n",
        "                                       )\n",
        "\n",
        "progress_filtered_df.show()"
      ],
      "metadata": {
        "colab": {
          "base_uri": "https://localhost:8080/"
        },
        "id": "7nOVbV__tf0p",
        "outputId": "1a788085-7e66-41d9-afa5-79b8c981461a"
      },
      "execution_count": 138,
      "outputs": [
        {
          "output_type": "stream",
          "name": "stdout",
          "text": [
            "+--------+------+--------+-----------------+------------+----------+---------------+\n",
            "|EnrollID|UserID|CourseID|       CourseName|    Category|EnrollDate|ProgressPercent|\n",
            "+--------+------+--------+-----------------+------------+----------+---------------+\n",
            "|    E002|  U002|    C002|Excel for Finance|Productivity|2024-04-02|             45|\n",
            "|    E003|  U001|    C003|  ML with PySpark|Data Science|2024-04-03|             30|\n",
            "+--------+------+--------+-----------------+------------+----------+---------------+\n",
            "\n"
          ]
        }
      ]
    },
    {
      "cell_type": "markdown",
      "source": [
        "Create a view called\n",
        "Dropouts"
      ],
      "metadata": {
        "id": "rFuNWwf3t0ug"
      }
    },
    {
      "cell_type": "code",
      "source": [
        "progress_filtered_df.createOrReplaceTempView(\"Dropouts\")\n",
        "\n",
        "spark.sql(\"SELECT * FROM Dropouts\").show()\n"
      ],
      "metadata": {
        "colab": {
          "base_uri": "https://localhost:8080/"
        },
        "id": "uZq4OHb9t1fE",
        "outputId": "c7246fd0-cf1e-4ff1-a453-3601c9471a55"
      },
      "execution_count": 139,
      "outputs": [
        {
          "output_type": "stream",
          "name": "stdout",
          "text": [
            "+--------+------+--------+-----------------+------------+----------+---------------+\n",
            "|EnrollID|UserID|CourseID|       CourseName|    Category|EnrollDate|ProgressPercent|\n",
            "+--------+------+--------+-----------------+------------+----------+---------------+\n",
            "|    E002|  U002|    C002|Excel for Finance|Productivity|2024-04-02|             45|\n",
            "|    E003|  U001|    C003|  ML with PySpark|Data Science|2024-04-03|             30|\n",
            "+--------+------+--------+-----------------+------------+----------+---------------+\n",
            "\n"
          ]
        }
      ]
    },
    {
      "cell_type": "markdown",
      "source": [
        "#### 5. Joins with Metadata"
      ],
      "metadata": {
        "id": "ffOCKgt0uO7D"
      }
    },
    {
      "cell_type": "markdown",
      "source": [
        "Create\n",
        "course_catalog.csv"
      ],
      "metadata": {
        "id": "H0u6M43WuQyz"
      }
    },
    {
      "cell_type": "code",
      "source": [
        "from pyspark.sql.types import StructType, StructField, StringType, IntegerType\n",
        "\n",
        "course_data = [\n",
        "    (\"C001\", \"Abdullah Khan\", 8, \"Beginner\"),\n",
        "    (\"C002\", \"Sana Gupta\", 5, \"Beginner\"),\n",
        "    (\"C003\", \"Ibrahim Khan\", 10, \"Intermediate\"),\n",
        "    (\"C004\", \"Zoya Sheikh\", 6, \"Beginner\")\n",
        "]\n",
        "\n",
        "\n",
        "course_schema = StructType([\n",
        "    StructField(\"CourseID\", StringType(), True),\n",
        "    StructField(\"Instructor\", StringType(), True),\n",
        "    StructField(\"DurationHours\", IntegerType(), True),\n",
        "    StructField(\"Level\", StringType(), True)\n",
        "])\n",
        "\n",
        "catalog_df = spark.createDataFrame(course_data, course_schema)\n",
        "catalog_df.printSchema()"
      ],
      "metadata": {
        "colab": {
          "base_uri": "https://localhost:8080/"
        },
        "id": "a6tZiC4IuRJj",
        "outputId": "67dcfc9c-b52e-4971-fdfa-f038bcbfa697"
      },
      "execution_count": 140,
      "outputs": [
        {
          "output_type": "stream",
          "name": "stdout",
          "text": [
            "root\n",
            " |-- CourseID: string (nullable = true)\n",
            " |-- Instructor: string (nullable = true)\n",
            " |-- DurationHours: integer (nullable = true)\n",
            " |-- Level: string (nullable = true)\n",
            "\n"
          ]
        }
      ]
    },
    {
      "cell_type": "markdown",
      "source": [
        "Join to find\n",
        "average progress per instructor"
      ],
      "metadata": {
        "id": "0qZInKMKuzgU"
      }
    },
    {
      "cell_type": "code",
      "source": [
        "from pyspark.sql.functions import avg\n",
        "\n",
        "joined_df = course_df.join(catalog_df, on='CourseID', how='left')\n",
        "\n",
        "average_progress = joined_df.groupBy('Instructor') \\\n",
        "                            .agg(avg('ProgressPercent').alias('AvgProgressPercent'))\n",
        "\n",
        "\n",
        "average_progress.show()"
      ],
      "metadata": {
        "colab": {
          "base_uri": "https://localhost:8080/"
        },
        "id": "AdmBMM-Su059",
        "outputId": "8816abc4-245b-46cd-a979-495890e8657f"
      },
      "execution_count": 141,
      "outputs": [
        {
          "output_type": "stream",
          "name": "stdout",
          "text": [
            "+-------------+------------------+\n",
            "|   Instructor|AvgProgressPercent|\n",
            "+-------------+------------------+\n",
            "|  Zoya Sheikh|             400.0|\n",
            "|   Sana Gupta|              45.0|\n",
            "| Ibrahim Khan|              30.0|\n",
            "|Abdullah Khan|             450.0|\n",
            "+-------------+------------------+\n",
            "\n"
          ]
        }
      ]
    },
    {
      "cell_type": "markdown",
      "source": [
        "Show who teaches the most enrolled course"
      ],
      "metadata": {
        "id": "RCfAeTrZvgzn"
      }
    },
    {
      "cell_type": "code",
      "source": [
        "from pyspark.sql.functions import first, count, desc\n",
        "\n",
        "most_enrolled_course = joined_df.groupBy(\"CourseID\") \\\n",
        "                                .agg(\n",
        "                                    count(\"EnrollID\").alias(\"EnrollmentCount\"),\n",
        "                                    first(\"CourseName\").alias(\"CourseName\"),\n",
        "                                    first(\"Instructor\").alias(\"Instructor\")) \\\n",
        "                                .orderBy(desc(\"EnrollmentCount\")) \\\n",
        "                                .limit(1)\n",
        "\n",
        "most_enrolled_course.show()"
      ],
      "metadata": {
        "colab": {
          "base_uri": "https://localhost:8080/"
        },
        "id": "mAi-ug9svhT4",
        "outputId": "dd6b7a9d-9a00-4270-cb9a-186c37e2f2e0"
      },
      "execution_count": 142,
      "outputs": [
        {
          "output_type": "stream",
          "name": "stdout",
          "text": [
            "+--------+---------------+-------------+-------------+\n",
            "|CourseID|EnrollmentCount|   CourseName|   Instructor|\n",
            "+--------+---------------+-------------+-------------+\n",
            "|    C001|              2|Python Basics|Abdullah Khan|\n",
            "+--------+---------------+-------------+-------------+\n",
            "\n"
          ]
        }
      ]
    },
    {
      "cell_type": "markdown",
      "source": [
        "#### 6. Delta Lake Practice"
      ],
      "metadata": {
        "id": "yYYKIEhxwmxp"
      }
    },
    {
      "cell_type": "markdown",
      "source": [
        "Save as Delta Table\n",
        "enrollments_delta\n"
      ],
      "metadata": {
        "id": "jz5UsLm0wqnP"
      }
    },
    {
      "cell_type": "code",
      "source": [
        "joined_df.write.mode('overwrite') \\\n",
        "               .format('delta') \\\n",
        "               .save('/content/drive/MyDrive/Assessment/course/enrollments_delta')"
      ],
      "metadata": {
        "id": "nWVkW-nMxmQp"
      },
      "execution_count": null,
      "outputs": []
    },
    {
      "cell_type": "markdown",
      "source": [
        "Update: Set all ratings to 5 where Course = 'Python Basics"
      ],
      "metadata": {
        "id": "5KMyPQC9w4vg"
      }
    },
    {
      "cell_type": "code",
      "source": [
        "joined_df = joined_df.withColumn('Rating',\n",
        "                                 when(col('CourseName') == 'Python Basics', lit(5))\n",
        "                                 .otherwise(col('Rating')))\n",
        "\n",
        "joined_df.select(\n",
        "                  'EnrollID',\n",
        "                  'UserID',\n",
        "                  'CourseID',\n",
        "                  'CourseName',\n",
        "                  'Rating',\n",
        ").show()"
      ],
      "metadata": {
        "colab": {
          "base_uri": "https://localhost:8080/"
        },
        "id": "sK8Viuf9w5OJ",
        "outputId": "58760c57-bef6-428d-ecde-2338aaf53bc5"
      },
      "execution_count": 145,
      "outputs": [
        {
          "output_type": "stream",
          "name": "stdout",
          "text": [
            "+--------+------+--------+-----------------+------+\n",
            "|EnrollID|UserID|CourseID|       CourseName|Rating|\n",
            "+--------+------+--------+-----------------+------+\n",
            "|    E003|  U001|    C003|  ML with PySpark|     0|\n",
            "|    E005|  U004|    C004|Digital Marketing|     4|\n",
            "|    E001|  U001|    C001|    Python Basics|     5|\n",
            "|    E004|  U003|    C001|    Python Basics|     5|\n",
            "|    E002|  U002|    C002|Excel for Finance|     0|\n",
            "+--------+------+--------+-----------------+------+\n",
            "\n"
          ]
        }
      ]
    },
    {
      "cell_type": "markdown",
      "source": [
        "Delete: All rows where ProgressPercent = 0"
      ],
      "metadata": {
        "id": "boaJaWk-xrMU"
      }
    },
    {
      "cell_type": "code",
      "source": [
        "joined_df = joined_df.filter(col('ProgressPercent') != 0)\n",
        "\n",
        "joined_df.select(\n",
        "                  'EnrollID',\n",
        "                  'UserID',\n",
        "                  'CourseID',\n",
        "                  'CourseName',\n",
        "                  'ProgressPercent'\n",
        "                 ).show()"
      ],
      "metadata": {
        "colab": {
          "base_uri": "https://localhost:8080/"
        },
        "id": "xDVet9g0xr0L",
        "outputId": "18272374-4611-4e1d-8477-87202d101547"
      },
      "execution_count": 148,
      "outputs": [
        {
          "output_type": "stream",
          "name": "stdout",
          "text": [
            "+--------+------+--------+-----------------+---------------+\n",
            "|EnrollID|UserID|CourseID|       CourseName|ProgressPercent|\n",
            "+--------+------+--------+-----------------+---------------+\n",
            "|    E003|  U001|    C003|  ML with PySpark|             30|\n",
            "|    E005|  U004|    C004|Digital Marketing|            400|\n",
            "|    E001|  U001|    C001|    Python Basics|            400|\n",
            "|    E004|  U003|    C001|    Python Basics|            500|\n",
            "|    E002|  U002|    C002|Excel for Finance|             45|\n",
            "+--------+------+--------+-----------------+---------------+\n",
            "\n"
          ]
        }
      ]
    },
    {
      "cell_type": "markdown",
      "source": [
        " Show\n",
        "DESCRIBE HISTORY"
      ],
      "metadata": {
        "id": "-0tY4BDCx5XU"
      }
    },
    {
      "cell_type": "code",
      "source": [
        "spark.sql(\"DESCRIBE HISTORY delta.`/content/drive/MyDrive/Assessment/enrollments_delta`\").show()\n"
      ],
      "metadata": {
        "id": "nhrdJQqox533"
      },
      "execution_count": null,
      "outputs": []
    },
    {
      "cell_type": "markdown",
      "source": [
        "#### 7. Window Functions"
      ],
      "metadata": {
        "id": "agSM_r1-yF_3"
      }
    },
    {
      "cell_type": "markdown",
      "source": [
        "use dense_rank() to rank courses by number of enrollments\n"
      ],
      "metadata": {
        "id": "SwaJYpTgya7f"
      }
    },
    {
      "cell_type": "code",
      "source": [
        "from pyspark.sql.functions import dense_rank, count\n",
        "from pyspark.sql.window import Window\n",
        "\n",
        "\n",
        "course_rank_df = joined_df.groupBy('CourseID') \\\n",
        "                          .agg(count('EnrollID').alias('EnrollmentCount'))\n",
        "\n",
        "window_rank = Window.orderBy(course_rank_df['EnrollmentCount'].desc())\n",
        "course_rank_df = course_rank_df.withColumn('CourseRank', dense_rank().over(window_rank))\n",
        "\n",
        "course_rank_df.show()"
      ],
      "metadata": {
        "colab": {
          "base_uri": "https://localhost:8080/"
        },
        "id": "4unw6y0XyXjg",
        "outputId": "b975b81d-0564-4e95-a832-6c295ce20687"
      },
      "execution_count": 150,
      "outputs": [
        {
          "output_type": "stream",
          "name": "stdout",
          "text": [
            "+--------+---------------+----------+\n",
            "|CourseID|EnrollmentCount|CourseRank|\n",
            "+--------+---------------+----------+\n",
            "|    C001|              2|         1|\n",
            "|    C002|              1|         2|\n",
            "|    C003|              1|         2|\n",
            "|    C004|              1|         2|\n",
            "+--------+---------------+----------+\n",
            "\n"
          ]
        }
      ]
    },
    {
      "cell_type": "markdown",
      "source": [
        "lead() to find next course by each user (sorted by EnrollDate)"
      ],
      "metadata": {
        "id": "8m3m7EERzAw7"
      }
    },
    {
      "cell_type": "code",
      "source": [
        "from pyspark.sql.functions import lead\n",
        "\n",
        "user_window = Window.partitionBy('UserID').orderBy('EnrollDate')\n",
        "\n",
        "next_course_df = joined_df.withColumn('NextCourse', lead('CourseName').over(user_window)) \\\n",
        "                          .withColumn('NextCourseCategory', lead('Category').over(user_window))\n",
        "\n",
        "next_course_df.select(\n",
        "                        'CourseID',\n",
        "                        'UserID',\n",
        "                         col('CourseName').alias('CurrentCourse'),\n",
        "                        'Category',\n",
        "                        'NextCourse',\n",
        "                        'NextCourseCategory'\n",
        ").show()"
      ],
      "metadata": {
        "colab": {
          "base_uri": "https://localhost:8080/"
        },
        "id": "9_cds0jjzETT",
        "outputId": "95990a0c-3b95-42aa-e18a-e3fd93dc416b"
      },
      "execution_count": 160,
      "outputs": [
        {
          "output_type": "stream",
          "name": "stdout",
          "text": [
            "+--------+------+-----------------+------------+---------------+------------------+\n",
            "|CourseID|UserID|    CurrentCourse|    Category|     NextCourse|NextCourseCategory|\n",
            "+--------+------+-----------------+------------+---------------+------------------+\n",
            "|    C001|  U001|    Python Basics| Programming|ML with PySpark|      Data Science|\n",
            "|    C003|  U001|  ML with PySpark|Data Science|           NULL|              NULL|\n",
            "|    C002|  U002|Excel for Finance|Productivity|           NULL|              NULL|\n",
            "|    C001|  U003|    Python Basics| Programming|           NULL|              NULL|\n",
            "|    C004|  U004|Digital Marketing|   Marketing|           NULL|              NULL|\n",
            "+--------+------+-----------------+------------+---------------+------------------+\n",
            "\n"
          ]
        }
      ]
    },
    {
      "cell_type": "markdown",
      "source": [
        "#### 8. SQL Logic for Dashboard Views"
      ],
      "metadata": {
        "id": "Sa_ncvXP0phX"
      }
    },
    {
      "cell_type": "markdown",
      "source": [
        "View for Daily Enrollments"
      ],
      "metadata": {
        "id": "TYANNXls0wZd"
      }
    },
    {
      "cell_type": "code",
      "source": [
        "daily_enrollments = joined_df.withColumn('EnrollDateOnly', to_date('EnrollDate')) \\\n",
        "                             .groupBy('EnrollDateOnly') \\\n",
        "                             .agg(count('*').alias('TotalEnrollments'))\n",
        "\n",
        "daily_enrollments.createOrReplaceTempView('daily_enrollments')\n",
        "\n",
        "spark.sql(\"SELECT * FROM daily_enrollments\").show()"
      ],
      "metadata": {
        "colab": {
          "base_uri": "https://localhost:8080/"
        },
        "id": "GLqFBDpC0tUb",
        "outputId": "66755efc-c062-4821-a12a-396dec6eecbe"
      },
      "execution_count": 165,
      "outputs": [
        {
          "output_type": "stream",
          "name": "stdout",
          "text": [
            "+--------------+----------------+\n",
            "|EnrollDateOnly|TotalEnrollments|\n",
            "+--------------+----------------+\n",
            "|    2024-04-02|               1|\n",
            "|    2024-04-01|               1|\n",
            "|    2024-04-04|               1|\n",
            "|    2024-04-05|               1|\n",
            "|    2024-04-03|               1|\n",
            "+--------------+----------------+\n",
            "\n"
          ]
        }
      ]
    },
    {
      "cell_type": "markdown",
      "source": [
        "View for Category Performance"
      ],
      "metadata": {
        "id": "T0iYB34x037T"
      }
    },
    {
      "cell_type": "code",
      "source": [
        "category_performance = joined_df.groupBy('Category') \\\n",
        "                                .agg(avg('Rating').alias('AverageRating'))\n",
        "\n",
        "category_performance.createOrReplaceTempView('category_performance')\n",
        "\n",
        "spark.sql(\"SELECT * FROM category_performance\").show()"
      ],
      "metadata": {
        "colab": {
          "base_uri": "https://localhost:8080/"
        },
        "id": "Hgpge7VO06nX",
        "outputId": "d4777578-db66-402b-891d-16661043192d"
      },
      "execution_count": 164,
      "outputs": [
        {
          "output_type": "stream",
          "name": "stdout",
          "text": [
            "+------------+-------------+\n",
            "|    Category|AverageRating|\n",
            "+------------+-------------+\n",
            "| Programming|          5.0|\n",
            "|Productivity|          0.0|\n",
            "|   Marketing|          4.0|\n",
            "|Data Science|          0.0|\n",
            "+------------+-------------+\n",
            "\n"
          ]
        }
      ]
    },
    {
      "cell_type": "markdown",
      "source": [
        "View for Top 3 Course"
      ],
      "metadata": {
        "id": "dEn0uQuG1FJ8"
      }
    },
    {
      "cell_type": "code",
      "source": [
        "course_count_df = joined_df.groupBy('CourseID', 'CourseName') \\\n",
        "                           .agg(count('*').alias('EnrollCount'))\n",
        "\n",
        "window_rank = Window.orderBy(course_count_df['EnrollCount'].desc())\n",
        "\n",
        "top_3_courses = course_count_df.withColumn('Rank', dense_rank().over(window_rank)) \\\n",
        "                               .filter('Rank <= 3')\n",
        "\n",
        "top_3_courses.createOrReplaceTempView('top_3_courses')\n",
        "\n",
        "spark.sql(\"SELECT * FROM top_3_courses\").show()"
      ],
      "metadata": {
        "colab": {
          "base_uri": "https://localhost:8080/"
        },
        "id": "mdfp-EuA1Gul",
        "outputId": "00378b9f-fac2-46d0-d985-b3cd5a6ab7a1"
      },
      "execution_count": 163,
      "outputs": [
        {
          "output_type": "stream",
          "name": "stdout",
          "text": [
            "+--------+-----------------+-----------+----+\n",
            "|CourseID|       CourseName|EnrollCount|Rank|\n",
            "+--------+-----------------+-----------+----+\n",
            "|    C001|    Python Basics|          2|   1|\n",
            "|    C003|  ML with PySpark|          1|   2|\n",
            "|    C004|Digital Marketing|          1|   2|\n",
            "|    C002|Excel for Finance|          1|   2|\n",
            "+--------+-----------------+-----------+----+\n",
            "\n"
          ]
        }
      ]
    },
    {
      "cell_type": "markdown",
      "source": [
        "#### 9. Time Travel"
      ],
      "metadata": {
        "id": "CiYls9Jn1XLC"
      }
    },
    {
      "cell_type": "markdown",
      "source": [
        "View previous version before update/delete"
      ],
      "metadata": {
        "id": "J_6Vt4B91Z5U"
      }
    },
    {
      "cell_type": "code",
      "source": [
        "df_before_update = spark.read.format('delta') \\\n",
        "                             .option('versionAsOf', 0) \\\n",
        "                             .load('/content/drive/MyDrive/Assessment/course/enrollments_delta')\n",
        "\n",
        "df_before_update.show()"
      ],
      "metadata": {
        "id": "W5waVgu81YGe"
      },
      "execution_count": null,
      "outputs": []
    },
    {
      "cell_type": "markdown",
      "source": [
        "VERSION AS OF"
      ],
      "metadata": {
        "id": "cbVX2TcI1arf"
      }
    },
    {
      "cell_type": "code",
      "source": [
        "df_version = spark.read.format('delta') \\\n",
        "                        .option('versionAsOf', 0) \\\n",
        "                        .load('/content/drive/MyDrive/Assessment/course/enrollments_delta')\n",
        "\n",
        "df_version.show()"
      ],
      "metadata": {
        "id": "IKhE4P3b2M99"
      },
      "execution_count": null,
      "outputs": []
    },
    {
      "cell_type": "markdown",
      "source": [
        "TIMESTAMP AS OF"
      ],
      "metadata": {
        "id": "V1DLvoAv2LCo"
      }
    },
    {
      "cell_type": "code",
      "source": [
        "df_time_stamp = spark.read.format('delta') \\\n",
        "                          .option('timestampAsOf', '2024-06-18T10:00:00') \\\n",
        "                          .load('/content/drive/MyDrive/Assessment/course/enrollments_delta')\n",
        "\n",
        "df_time_stamp.show()"
      ],
      "metadata": {
        "id": "pyUJ6-LE1cxO"
      },
      "execution_count": null,
      "outputs": []
    },
    {
      "cell_type": "markdown",
      "source": [
        "#### 10. Export Reportin"
      ],
      "metadata": {
        "id": "giNGZMhq2gRp"
      }
    },
    {
      "cell_type": "markdown",
      "source": [
        "write to JSON, partitioned by Category"
      ],
      "metadata": {
        "id": "PXZvFGDF2lGX"
      }
    },
    {
      "cell_type": "code",
      "source": [
        "joined_df.write.mode('overwrite') \\\n",
        "               .partitionBy('Category') \\\n",
        "               .format('json') \\\n",
        "               .save('/content/drive/MyDrive/Assessment/course/report_json')"
      ],
      "metadata": {
        "id": "kN8MZwRP2lrP"
      },
      "execution_count": 171,
      "outputs": []
    },
    {
      "cell_type": "markdown",
      "source": [
        "Create summary DataFrame"
      ],
      "metadata": {
        "id": "8b5yWTgD2zbJ"
      }
    },
    {
      "cell_type": "code",
      "source": [
        "summary_df = course_df.groupBy('CourseName') \\\n",
        "                     .agg(\n",
        "                        count('EnrollID').alias('TotalEnrollments'),\n",
        "                        avg('Rating').alias('AvgRating'),\n",
        "                        avg('ProgressPercent').alias('AvgProgress')\n",
        "                      )\n",
        "\n",
        "summary_df.createTempView('course_summary')\n",
        "\n",
        "spark.sql(\"SELECT * FROM course_summary\").show()"
      ],
      "metadata": {
        "colab": {
          "base_uri": "https://localhost:8080/"
        },
        "id": "Xlhlgq9n2z5o",
        "outputId": "be03239e-b925-46ae-e975-87263616f6db"
      },
      "execution_count": 168,
      "outputs": [
        {
          "output_type": "stream",
          "name": "stdout",
          "text": [
            "+-----------------+----------------+---------+-----------+\n",
            "|       CourseName|TotalEnrollments|AvgRating|AvgProgress|\n",
            "+-----------------+----------------+---------+-----------+\n",
            "|Digital Marketing|               1|      4.0|      400.0|\n",
            "|    Python Basics|               2|      4.5|      450.0|\n",
            "|Excel for Finance|               1|      0.0|       45.0|\n",
            "|  ML with PySpark|               1|      0.0|       30.0|\n",
            "+-----------------+----------------+---------+-----------+\n",
            "\n"
          ]
        }
      ]
    },
    {
      "cell_type": "markdown",
      "source": [
        " Save as Parquet"
      ],
      "metadata": {
        "id": "_KGgZDNU3XwS"
      }
    },
    {
      "cell_type": "code",
      "source": [
        "joined_df.write.mode('overwrite') \\\n",
        "               .format('parquet') \\\n",
        "               .save('/content/drive/MyDrive/Assessment/course/course_details_parquet')\n",
        "\n",
        "summary_df.write.mode('overwrite') \\\n",
        "               .format('parquet') \\\n",
        "               .save('/content/drive/MyDrive/Assessment/course/summary_parquet')"
      ],
      "metadata": {
        "id": "25TuCJ-k3Ydf"
      },
      "execution_count": 172,
      "outputs": []
    },
    {
      "cell_type": "markdown",
      "source": [
        "Viewing saved file"
      ],
      "metadata": {
        "id": "j9LgXN-S4AMX"
      }
    },
    {
      "cell_type": "code",
      "source": [
        "!ls -l /content/drive/MyDrive/Assessment/course"
      ],
      "metadata": {
        "colab": {
          "base_uri": "https://localhost:8080/"
        },
        "id": "Ak0vRlk1396T",
        "outputId": "5bd988bb-42e3-404a-e9d8-0aa8f269bc64"
      },
      "execution_count": 173,
      "outputs": [
        {
          "output_type": "stream",
          "name": "stdout",
          "text": [
            "total 12\n",
            "drwx------ 2 root root 4096 Jun 19 06:31 course_details_parquet\n",
            "drwx------ 6 root root 4096 Jun 19 06:31 report_json\n",
            "drwx------ 2 root root 4096 Jun 19 06:31 summary_parquet\n"
          ]
        }
      ]
    }
  ]
}