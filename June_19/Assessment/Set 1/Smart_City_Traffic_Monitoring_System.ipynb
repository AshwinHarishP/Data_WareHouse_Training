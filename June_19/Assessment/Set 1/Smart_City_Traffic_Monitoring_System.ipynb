{
  "nbformat": 4,
  "nbformat_minor": 0,
  "metadata": {
    "colab": {
      "provenance": []
    },
    "kernelspec": {
      "name": "python3",
      "display_name": "Python 3"
    },
    "language_info": {
      "name": "python"
    }
  },
  "cells": [
    {
      "cell_type": "markdown",
      "source": [
        "# Smart City Traffic Monitoring System"
      ],
      "metadata": {
        "id": "edxLG_F0nNgm"
      }
    },
    {
      "cell_type": "markdown",
      "source": [
        "Creating Pyspark session"
      ],
      "metadata": {
        "id": "7SF4GX3VUaiC"
      }
    },
    {
      "cell_type": "code",
      "source": [
        "from pyspark.sql import SparkSession\n",
        "spark = SparkSession.builder.appName(\"TrafficMonitoring\").getOrCreate()\n",
        "spark"
      ],
      "metadata": {
        "colab": {
          "base_uri": "https://localhost:8080/",
          "height": 219
        },
        "id": "f8sFUV63UcRd",
        "outputId": "6b2129d9-b0ec-4437-d566-ae9674d0e1e7"
      },
      "execution_count": 1,
      "outputs": [
        {
          "output_type": "execute_result",
          "data": {
            "text/plain": [
              "<pyspark.sql.session.SparkSession at 0x7bb2f9dba590>"
            ],
            "text/html": [
              "\n",
              "            <div>\n",
              "                <p><b>SparkSession - in-memory</b></p>\n",
              "                \n",
              "        <div>\n",
              "            <p><b>SparkContext</b></p>\n",
              "\n",
              "            <p><a href=\"http://2ac382ccc083:4040\">Spark UI</a></p>\n",
              "\n",
              "            <dl>\n",
              "              <dt>Version</dt>\n",
              "                <dd><code>v3.5.1</code></dd>\n",
              "              <dt>Master</dt>\n",
              "                <dd><code>local[*]</code></dd>\n",
              "              <dt>AppName</dt>\n",
              "                <dd><code>TrafficMonitoring</code></dd>\n",
              "            </dl>\n",
              "        </div>\n",
              "        \n",
              "            </div>\n",
              "        "
            ]
          },
          "metadata": {},
          "execution_count": 1
        }
      ]
    },
    {
      "cell_type": "markdown",
      "source": [
        "#### 1. Data Ingestion & Schema Analysis"
      ],
      "metadata": {
        "id": "H1Jj3raYUkbY"
      }
    },
    {
      "cell_type": "markdown",
      "source": [
        "Load CSV using PySpark with schema inference"
      ],
      "metadata": {
        "id": "xibb1GoUUlyT"
      }
    },
    {
      "cell_type": "code",
      "source": [
        "from google.colab import drive\n",
        "\n",
        "drive.mount('/content/drive')\n",
        "\n",
        "traffic_df = spark.read.format('csv') \\\n",
        "                       .option('header', True) \\\n",
        "                       .option('inferSchema', True) \\\n",
        "                       .load('/content/drive/MyDrive/Assessment/traffic_logs.csv')\n",
        "\n",
        "traffic_df.printSchema()"
      ],
      "metadata": {
        "colab": {
          "base_uri": "https://localhost:8080/"
        },
        "id": "Y3gc50n7UoLC",
        "outputId": "088ebff9-db89-45a5-c72f-ecf0db720a95"
      },
      "execution_count": 2,
      "outputs": [
        {
          "output_type": "stream",
          "name": "stdout",
          "text": [
            "Mounted at /content/drive\n",
            "root\n",
            " |-- LogID: string (nullable = true)\n",
            " |-- VehicleID: string (nullable = true)\n",
            " |-- EntryPoint: string (nullable = true)\n",
            " |-- ExitPoint: string (nullable = true)\n",
            " |-- EntryTime: timestamp (nullable = true)\n",
            " |-- ExitTime: timestamp (nullable = true)\n",
            " |-- VehicleType: string (nullable = true)\n",
            " |-- SpeedKMH: integer (nullable = true)\n",
            " |-- TollPaid : double (nullable = true)\n",
            "\n"
          ]
        }
      ]
    },
    {
      "cell_type": "markdown",
      "source": [
        " Manually define schema and compare"
      ],
      "metadata": {
        "id": "yyZiZnRWVSqT"
      }
    },
    {
      "cell_type": "code",
      "source": [
        "from pyspark.sql.types import StructType, StructField, IntegerType, StringType, TimestampType, DoubleType\n",
        "\n",
        "traffic_schema = StructType([\n",
        "    StructField('LogID', StringType(), True),\n",
        "    StructField('VehicleID', StringType(), True),\n",
        "    StructField('EntryPoint', StringType(), True),\n",
        "    StructField('ExitPoint', StringType(), True),\n",
        "    StructField('EntryTime', TimestampType(), True),\n",
        "    StructField('ExitTime', TimestampType(), True),\n",
        "    StructField('VehicleType', StringType(), True),\n",
        "    StructField('SpeedKMH', IntegerType(), True),\n",
        "    StructField('TollPaid', DoubleType(), True)\n",
        "])\n",
        "\n",
        "traffic_df_manual = spark.read.format('csv') \\\n",
        "                              .option('header', True) \\\n",
        "                              .schema(traffic_schema) \\\n",
        "                              .load('/content/drive/MyDrive/Assessment/traffic_logs.csv')\n",
        "\n",
        "traffic_df_manual.printSchema()"
      ],
      "metadata": {
        "colab": {
          "base_uri": "https://localhost:8080/"
        },
        "id": "eQFVrMVjVTGN",
        "outputId": "5c0852a0-a249-44dd-abbd-f6a278488aad"
      },
      "execution_count": 3,
      "outputs": [
        {
          "output_type": "stream",
          "name": "stdout",
          "text": [
            "root\n",
            " |-- LogID: string (nullable = true)\n",
            " |-- VehicleID: string (nullable = true)\n",
            " |-- EntryPoint: string (nullable = true)\n",
            " |-- ExitPoint: string (nullable = true)\n",
            " |-- EntryTime: timestamp (nullable = true)\n",
            " |-- ExitTime: timestamp (nullable = true)\n",
            " |-- VehicleType: string (nullable = true)\n",
            " |-- SpeedKMH: integer (nullable = true)\n",
            " |-- TollPaid: double (nullable = true)\n",
            "\n"
          ]
        }
      ]
    },
    {
      "cell_type": "markdown",
      "source": [
        "Comparing both schemas"
      ],
      "metadata": {
        "id": "sfU1l2DGWTGk"
      }
    },
    {
      "cell_type": "code",
      "source": [
        "print(\"\\n inferSchema\")\n",
        "traffic_df.printSchema()\n",
        "\n",
        "print(\"\\n manualSchema\")\n",
        "traffic_df_manual.printSchema()"
      ],
      "metadata": {
        "colab": {
          "base_uri": "https://localhost:8080/"
        },
        "id": "T9vitXY9WUq4",
        "outputId": "28e1645e-47e7-4daf-e99f-5736acf1a409"
      },
      "execution_count": 6,
      "outputs": [
        {
          "output_type": "stream",
          "name": "stdout",
          "text": [
            "\n",
            " inferSchema\n",
            "root\n",
            " |-- LogID: string (nullable = true)\n",
            " |-- VehicleID: string (nullable = true)\n",
            " |-- EntryPoint: string (nullable = true)\n",
            " |-- ExitPoint: string (nullable = true)\n",
            " |-- EntryTime: timestamp (nullable = true)\n",
            " |-- ExitTime: timestamp (nullable = true)\n",
            " |-- VehicleType: string (nullable = true)\n",
            " |-- SpeedKMH: integer (nullable = true)\n",
            " |-- TollPaid : double (nullable = true)\n",
            "\n",
            "\n",
            " manualSchema\n",
            "root\n",
            " |-- LogID: string (nullable = true)\n",
            " |-- VehicleID: string (nullable = true)\n",
            " |-- EntryPoint: string (nullable = true)\n",
            " |-- ExitPoint: string (nullable = true)\n",
            " |-- EntryTime: timestamp (nullable = true)\n",
            " |-- ExitTime: timestamp (nullable = true)\n",
            " |-- VehicleType: string (nullable = true)\n",
            " |-- SpeedKMH: integer (nullable = true)\n",
            " |-- TollPaid: double (nullable = true)\n",
            "\n"
          ]
        }
      ]
    },
    {
      "cell_type": "markdown",
      "source": [
        "Remving leading and tailing spaces in column names"
      ],
      "metadata": {
        "id": "_FlorhuUY3D0"
      }
    },
    {
      "cell_type": "code",
      "source": [
        "traffic_df = traffic_df.toDF(*[col_name.strip() for col_name in traffic_df.columns])"
      ],
      "metadata": {
        "id": "DSwBVzdpY7i9"
      },
      "execution_count": 21,
      "outputs": []
    },
    {
      "cell_type": "markdown",
      "source": [
        "#### 2. Derived Column Creation\n"
      ],
      "metadata": {
        "id": "u6T7FqFRWkap"
      }
    },
    {
      "cell_type": "markdown",
      "source": [
        "Calculate\n",
        "TripDurationMinutes = ExitTime - EntryTime"
      ],
      "metadata": {
        "id": "RFqNV57rWqmI"
      }
    },
    {
      "cell_type": "code",
      "source": [
        "from pyspark.sql.functions import unix_timestamp, col\n",
        "\n",
        "traffic_df = traffic_df.withColumn('TripDurationMinutes',\n",
        "                                            (unix_timestamp(col('ExitTime')) - unix_timestamp(col('EntryTime'))) / 60)\n",
        "\n",
        "traffic_df.select(\n",
        "                    'LogID',\n",
        "                    'VehicleID',\n",
        "                    'EntryTime',\n",
        "                    'ExitTime',\n",
        "                    'TripDurationMinutes'\n",
        "                 ).show()\n"
      ],
      "metadata": {
        "colab": {
          "base_uri": "https://localhost:8080/"
        },
        "id": "Z7d4U5h-WWEG",
        "outputId": "b8036534-ce66-42a6-edb7-58dcba70570c"
      },
      "execution_count": 22,
      "outputs": [
        {
          "output_type": "stream",
          "name": "stdout",
          "text": [
            "+-----+---------+-------------------+-------------------+-------------------+\n",
            "|LogID|VehicleID|          EntryTime|           ExitTime|TripDurationMinutes|\n",
            "+-----+---------+-------------------+-------------------+-------------------+\n",
            "| L001|     V001|2024-05-01 08:01:00|2024-05-01 08:20:00|               19.0|\n",
            "| L002|     V002|2024-05-01 08:10:00|2024-05-01 08:45:00|               35.0|\n",
            "| L003|     V003|2024-05-01 09:00:00|2024-05-01 09:18:00|               18.0|\n",
            "| L004|     V004|2024-05-01 09:15:00|2024-05-01 09:35:00|               20.0|\n",
            "| L005|     V005|2024-05-01 10:05:00|2024-05-01 10:40:00|               35.0|\n",
            "+-----+---------+-------------------+-------------------+-------------------+\n",
            "\n"
          ]
        }
      ]
    },
    {
      "cell_type": "markdown",
      "source": [
        "Add\n",
        "IsOverspeed = SpeedKMH > 60"
      ],
      "metadata": {
        "id": "wOe-feA4Xeh9"
      }
    },
    {
      "cell_type": "code",
      "source": [
        "traffic_df = traffic_df.withColumn('IsOverspeed', col('SpeedKMH') > 60)\n",
        "\n",
        "traffic_df.select(\n",
        "                    'LogID',\n",
        "                    'VehicleID',\n",
        "                    'SpeedKMH',\n",
        "                    'VehicleType',\n",
        "                    'IsOverspeed'\n",
        "                 ).show()"
      ],
      "metadata": {
        "colab": {
          "base_uri": "https://localhost:8080/"
        },
        "id": "3UdgJVtyXfJd",
        "outputId": "453e8a77-019b-4adc-a67f-41c9ba23b39d"
      },
      "execution_count": 23,
      "outputs": [
        {
          "output_type": "stream",
          "name": "stdout",
          "text": [
            "+-----+---------+--------+-----------+-----------+\n",
            "|LogID|VehicleID|SpeedKMH|VehicleType|IsOverspeed|\n",
            "+-----+---------+--------+-----------+-----------+\n",
            "| L001|     V001|      60|        Car|      false|\n",
            "| L002|     V002|      45|      Truck|      false|\n",
            "| L003|     V003|      55|       Bike|      false|\n",
            "| L004|     V004|      80|        Car|       true|\n",
            "| L005|     V005|      40|        Bus|      false|\n",
            "+-----+---------+--------+-----------+-----------+\n",
            "\n"
          ]
        }
      ]
    },
    {
      "cell_type": "markdown",
      "source": [
        "3. Vehicle Behavior Aggregations\n"
      ],
      "metadata": {
        "id": "DVRm2qnIX589"
      }
    },
    {
      "cell_type": "markdown",
      "source": [
        "Average speed per\n",
        "VehicleType"
      ],
      "metadata": {
        "id": "Bl4M3F0RX8vd"
      }
    },
    {
      "cell_type": "code",
      "source": [
        "from pyspark.sql.functions import avg\n",
        "avg_speed_df = traffic_df.groupBy('VehicleType') \\\n",
        "                      .agg(avg('SpeedKMH').alias('AverageSpeed'))\n",
        "avg_speed_df.show()\n",
        ""
      ],
      "metadata": {
        "colab": {
          "base_uri": "https://localhost:8080/"
        },
        "id": "DcKmBSznX9MI",
        "outputId": "5ff4c92c-7b1f-4661-e49f-e7169d4ecb3b"
      },
      "execution_count": 24,
      "outputs": [
        {
          "output_type": "stream",
          "name": "stdout",
          "text": [
            "+-----------+------------+\n",
            "|VehicleType|AverageSpeed|\n",
            "+-----------+------------+\n",
            "|       Bike|        55.0|\n",
            "|        Car|        70.0|\n",
            "|      Truck|        45.0|\n",
            "|        Bus|        40.0|\n",
            "+-----------+------------+\n",
            "\n"
          ]
        }
      ]
    },
    {
      "cell_type": "markdown",
      "source": [
        " Total toll collected per gate (EntryPoint)"
      ],
      "metadata": {
        "id": "lhU7-hHYYUDY"
      }
    },
    {
      "cell_type": "code",
      "source": [
        "from pyspark.sql.functions import sum\n",
        "total_toll_collected_df = traffic_df.groupBy('EntryPoint') \\\n",
        "                                    .agg(sum('TollPaid').alias('TotalTollCollected')) \\\n",
        "                                    .orderBy('TotalTollCollected', ascending=False)\n",
        "\n",
        "total_toll_collected_df.show()"
      ],
      "metadata": {
        "colab": {
          "base_uri": "https://localhost:8080/"
        },
        "id": "CH4xLZS-YU5G",
        "outputId": "94922d14-1dee-4380-99dd-a3c2c4947379"
      },
      "execution_count": 26,
      "outputs": [
        {
          "output_type": "stream",
          "name": "stdout",
          "text": [
            "+----------+------------------+\n",
            "|EntryPoint|TotalTollCollected|\n",
            "+----------+------------------+\n",
            "|     GateB|             170.0|\n",
            "|     GateA|              80.0|\n",
            "|     GateC|              50.0|\n",
            "+----------+------------------+\n",
            "\n"
          ]
        }
      ]
    },
    {
      "cell_type": "markdown",
      "source": [
        " Most used ExitPoint"
      ],
      "metadata": {
        "id": "4M2KEN4vZJ_-"
      }
    },
    {
      "cell_type": "code",
      "source": [
        "most_used_exit_point_df = traffic_df.groupBy('ExitPoint') \\\n",
        "                                    .count() \\\n",
        "                                    .withColumnRenamed('count', 'ExitPointCount') \\\n",
        "                                    .orderBy('ExitPointCount', ascending=False)\n",
        "\n",
        "most_used_exit_point_df.show()"
      ],
      "metadata": {
        "colab": {
          "base_uri": "https://localhost:8080/"
        },
        "id": "j8rkM-YnZNKo",
        "outputId": "5944bcec-0e2e-4c72-9fcc-ef35f9852a9b"
      },
      "execution_count": 28,
      "outputs": [
        {
          "output_type": "stream",
          "name": "stdout",
          "text": [
            "+---------+--------------+\n",
            "|ExitPoint|ExitPointCount|\n",
            "+---------+--------------+\n",
            "|    GateD|             2|\n",
            "|    GateC|             2|\n",
            "|    GateA|             1|\n",
            "+---------+--------------+\n",
            "\n"
          ]
        }
      ]
    },
    {
      "cell_type": "markdown",
      "source": [
        "#### 4  Window Functions\n"
      ],
      "metadata": {
        "id": "4NOrRrNjZTgM"
      }
    },
    {
      "cell_type": "markdown",
      "source": [
        "Rank vehicles by speed within\n",
        "VehicleType"
      ],
      "metadata": {
        "id": "xCyErwQBZeW0"
      }
    },
    {
      "cell_type": "code",
      "source": [
        "from pyspark.sql.functions import row_number, desc\n",
        "from pyspark.sql import Window\n",
        "\n",
        "window_df = Window.partitionBy('VehicleType').orderBy(desc('SpeedKMH'))\n",
        "vehicles_by_speed = traffic_df.withColumn('SpeedRank', row_number().over(window_df))\n",
        "\n",
        "vehicles_by_speed.select(\n",
        "                          'VehicleID',\n",
        "                          'VehicleType',\n",
        "                          'SpeedKMH',\n",
        "                          'SpeedRank'\n",
        "                        ).show()"
      ],
      "metadata": {
        "colab": {
          "base_uri": "https://localhost:8080/"
        },
        "id": "pdCLWmVzZewD",
        "outputId": "fbedeb5f-6e98-4dcd-8afa-347b838538a7"
      },
      "execution_count": 31,
      "outputs": [
        {
          "output_type": "stream",
          "name": "stdout",
          "text": [
            "+---------+-----------+--------+---------+\n",
            "|VehicleID|VehicleType|SpeedKMH|SpeedRank|\n",
            "+---------+-----------+--------+---------+\n",
            "|     V003|       Bike|      55|        1|\n",
            "|     V005|        Bus|      40|        1|\n",
            "|     V004|        Car|      80|        1|\n",
            "|     V001|        Car|      60|        2|\n",
            "|     V002|      Truck|      45|        1|\n",
            "+---------+-----------+--------+---------+\n",
            "\n"
          ]
        }
      ]
    },
    {
      "cell_type": "markdown",
      "source": [
        "Find last exit time for each vehicle using\n",
        "lag()"
      ],
      "metadata": {
        "id": "_rP4yOtxaglu"
      }
    },
    {
      "cell_type": "code",
      "source": [
        "from pyspark.sql.functions import lag, coalesce\n",
        "\n",
        "window_df = Window.orderBy('EntryTime')\n",
        "last_exit_time_df = traffic_df.withColumn('LastExitTime', lag('ExitTime').over(window_df))\n",
        "\n",
        "last_exit_time_df = last_exit_time_df.withColumn('LastExitTime',\n",
        "                                                  coalesce('LastExitTime', 'ExitTime')\n",
        "                                                 )\n",
        "\n",
        "last_exit_time_df.select(\n",
        "                          'LogID',\n",
        "                          'VehicleID',\n",
        "                          'VehicleType',\n",
        "                          'EntryPoint',\n",
        "                          'EntryTime',\n",
        "                          'ExitPoint',\n",
        "                          'ExitTime',\n",
        "                          'LastExitTime'\n",
        "                        ).show()"
      ],
      "metadata": {
        "colab": {
          "base_uri": "https://localhost:8080/"
        },
        "id": "8dz5GvJKahkn",
        "outputId": "ba372e2a-a82d-4f04-c4b9-2231a7349619"
      },
      "execution_count": 35,
      "outputs": [
        {
          "output_type": "stream",
          "name": "stdout",
          "text": [
            "+-----+---------+-----------+----------+-------------------+---------+-------------------+-------------------+\n",
            "|LogID|VehicleID|VehicleType|EntryPoint|          EntryTime|ExitPoint|           ExitTime|       LastExitTime|\n",
            "+-----+---------+-----------+----------+-------------------+---------+-------------------+-------------------+\n",
            "| L001|     V001|        Car|     GateA|2024-05-01 08:01:00|    GateC|2024-05-01 08:20:00|2024-05-01 08:20:00|\n",
            "| L002|     V002|      Truck|     GateB|2024-05-01 08:10:00|    GateC|2024-05-01 08:45:00|2024-05-01 08:20:00|\n",
            "| L003|     V003|       Bike|     GateA|2024-05-01 09:00:00|    GateD|2024-05-01 09:18:00|2024-05-01 08:45:00|\n",
            "| L004|     V004|        Car|     GateC|2024-05-01 09:15:00|    GateD|2024-05-01 09:35:00|2024-05-01 09:18:00|\n",
            "| L005|     V005|        Bus|     GateB|2024-05-01 10:05:00|    GateA|2024-05-01 10:40:00|2024-05-01 09:35:00|\n",
            "+-----+---------+-----------+----------+-------------------+---------+-------------------+-------------------+\n",
            "\n"
          ]
        }
      ]
    },
    {
      "cell_type": "markdown",
      "source": [
        "#### Session Segmentation"
      ],
      "metadata": {
        "id": "SUVZN5VYcUIZ"
      }
    },
    {
      "cell_type": "markdown",
      "source": [
        "Group by VehicleID to simulate route sessions"
      ],
      "metadata": {
        "id": "7Sz4lH2vcV7J"
      }
    },
    {
      "cell_type": "code",
      "source": [
        "from pyspark.sql.functions import count, sum, min, max\n",
        "\n",
        "sessions_df = traffic_df.groupBy('VehicleID') \\\n",
        "                        .agg(\n",
        "                              count('*').alias('TripCount'),\n",
        "                              sum('TollPaid').alias('TotalTollPaid'),\n",
        "                              min('EntryTime').alias('FirstEntryTime'),\n",
        "                              max('ExitTime').alias('LastExitTime'),\n",
        "                              max('SpeedKMH').alias('MaxSpeedKMH')\n",
        "                        )\n",
        "\n",
        "sessions_df.show()"
      ],
      "metadata": {
        "colab": {
          "base_uri": "https://localhost:8080/"
        },
        "id": "2fh31rLIcWaq",
        "outputId": "a254ad40-b7d9-49a6-c04a-b6fb133de486"
      },
      "execution_count": 41,
      "outputs": [
        {
          "output_type": "stream",
          "name": "stdout",
          "text": [
            "+---------+---------+-------------+-------------------+-------------------+-----------+\n",
            "|VehicleID|TripCount|TotalTollPaid|     FirstEntryTime|       LastExitTime|MaxSpeedKMH|\n",
            "+---------+---------+-------------+-------------------+-------------------+-----------+\n",
            "|     V004|        1|         50.0|2024-05-01 09:15:00|2024-05-01 09:35:00|         80|\n",
            "|     V005|        1|         70.0|2024-05-01 10:05:00|2024-05-01 10:40:00|         40|\n",
            "|     V001|        1|         50.0|2024-05-01 08:01:00|2024-05-01 08:20:00|         60|\n",
            "|     V003|        1|         30.0|2024-05-01 09:00:00|2024-05-01 09:18:00|         55|\n",
            "|     V002|        1|        100.0|2024-05-01 08:10:00|2024-05-01 08:45:00|         45|\n",
            "+---------+---------+-------------+-------------------+-------------------+-----------+\n",
            "\n"
          ]
        }
      ]
    },
    {
      "cell_type": "markdown",
      "source": [
        "Find duration between subsequent trips (idle time)"
      ],
      "metadata": {
        "id": "T3Mm1FRBdcVT"
      }
    },
    {
      "cell_type": "code",
      "source": [
        "from pyspark.sql.functions import when\n",
        "\n",
        "window_spec = Window.orderBy('EntryTime')\n",
        "\n",
        "# Calculating previous trip ExitTime\n",
        "idl_time_df = traffic_df.withColumn('PrevExitTime', lag('ExitTime').over(window_spec))\n",
        "\n",
        "# Calculating idle time of EntryTime and previous ExitTime\n",
        "idl_time_df = idl_time_df.withColumn('IdleTimeMinutes',\n",
        "                                    (col('EntryTime').cast('long') - col('PrevExitTime').cast('long')) / 60)\n",
        "\n",
        "# Replacing negative idle times with 0\n",
        "idl_time_df = idl_time_df.withColumn('IdleTimeMinutes',\n",
        "                                     when(col('IdleTimeMinutes') < 0, 0).otherwise(col('IdleTimeMinutes')))\n",
        "\n",
        "\n",
        "idl_time_df.select(\n",
        "                    'VehicleID',\n",
        "                    'EntryTime',\n",
        "                    'ExitTime',\n",
        "                    'PrevExitTime',\n",
        "                    'IdleTimeMinutes'\n",
        "                   ).show()\n"
      ],
      "metadata": {
        "colab": {
          "base_uri": "https://localhost:8080/"
        },
        "id": "mnyBA9Yudcr0",
        "outputId": "130d70cf-2b29-4b52-9697-c0a9bc31bae0"
      },
      "execution_count": 45,
      "outputs": [
        {
          "output_type": "stream",
          "name": "stdout",
          "text": [
            "+---------+-------------------+-------------------+-------------------+---------------+\n",
            "|VehicleID|          EntryTime|           ExitTime|       PrevExitTime|IdleTimeMinutes|\n",
            "+---------+-------------------+-------------------+-------------------+---------------+\n",
            "|     V001|2024-05-01 08:01:00|2024-05-01 08:20:00|               NULL|           NULL|\n",
            "|     V002|2024-05-01 08:10:00|2024-05-01 08:45:00|2024-05-01 08:20:00|            0.0|\n",
            "|     V003|2024-05-01 09:00:00|2024-05-01 09:18:00|2024-05-01 08:45:00|           15.0|\n",
            "|     V004|2024-05-01 09:15:00|2024-05-01 09:35:00|2024-05-01 09:18:00|            0.0|\n",
            "|     V005|2024-05-01 10:05:00|2024-05-01 10:40:00|2024-05-01 09:35:00|           30.0|\n",
            "+---------+-------------------+-------------------+-------------------+---------------+\n",
            "\n"
          ]
        }
      ]
    },
    {
      "cell_type": "markdown",
      "source": [
        "#### 6. Anomaly Detection"
      ],
      "metadata": {
        "id": "btIZQ9Wje2pZ"
      }
    },
    {
      "cell_type": "markdown",
      "source": [
        "Identify vehicles with speed > 70 and TripDuration < 10 minutes"
      ],
      "metadata": {
        "id": "moGL-gnve4bo"
      }
    },
    {
      "cell_type": "code",
      "source": [
        "speed_trip_anomaly_df = traffic_df.filter((col('SpeedKMH') > 70) & (col('TripDurationMinutes') < 10)) \\\n",
        "                                  .select(\n",
        "                                            'LogID',\n",
        "                                            'VehicleID',\n",
        "                                            'EntryPoint',\n",
        "                                            'EntryTime',\n",
        "                                            'ExitPoint',\n",
        "                                            'ExitTime',\n",
        "                                            'VehicleType',\n",
        "                                            'SpeedKMH',\n",
        "                                            'TripDurationMinutes'\n",
        "                                         )\n",
        "\n",
        "speed_trip_anomaly_df.show()"
      ],
      "metadata": {
        "colab": {
          "base_uri": "https://localhost:8080/"
        },
        "id": "OyEyAdiae4zC",
        "outputId": "f2067d7e-cdcb-43c6-a928-2ae266559dee"
      },
      "execution_count": 53,
      "outputs": [
        {
          "output_type": "stream",
          "name": "stdout",
          "text": [
            "+-----+---------+----------+---------+---------+--------+-----------+--------+-------------------+\n",
            "|LogID|VehicleID|EntryPoint|EntryTime|ExitPoint|ExitTime|VehicleType|SpeedKMH|TripDurationMinutes|\n",
            "+-----+---------+----------+---------+---------+--------+-----------+--------+-------------------+\n",
            "+-----+---------+----------+---------+---------+--------+-----------+--------+-------------------+\n",
            "\n"
          ]
        }
      ]
    },
    {
      "cell_type": "markdown",
      "source": [
        "Vehicles that paid less toll for longer trips"
      ],
      "metadata": {
        "id": "YZaMVO6vfxsY"
      }
    },
    {
      "cell_type": "code",
      "source": [
        "from pyspark.sql.functions import col\n",
        "\n",
        "\n",
        "less_toll_anomaly = traffic_df.withColumn('TollPerMinute',\n",
        "                                          col('TollPaid') / col('TripDurationMinutes'))\n",
        "\n",
        "\n",
        "less_toll_anomaly = less_toll_anomaly.filter((col('TripDurationMinutes') > 30) &(col('TollPerMinute') < 2))\n",
        "\n",
        "less_toll_anomaly.select(\n",
        "                          'VehicleID',\n",
        "                          'TripDurationMinutes',\n",
        "                          'TollPaid',\n",
        "                          'TollPerMinute'\n",
        "                        ).show()\n"
      ],
      "metadata": {
        "colab": {
          "base_uri": "https://localhost:8080/"
        },
        "id": "o6nCZeZofyD-",
        "outputId": "318be239-2d11-42bc-de86-8aefc16f1be7"
      },
      "execution_count": 54,
      "outputs": [
        {
          "output_type": "stream",
          "name": "stdout",
          "text": [
            "+---------+-------------------+--------+-------------+\n",
            "|VehicleID|TripDurationMinutes|TollPaid|TollPerMinute|\n",
            "+---------+-------------------+--------+-------------+\n",
            "+---------+-------------------+--------+-------------+\n",
            "\n"
          ]
        }
      ]
    },
    {
      "cell_type": "markdown",
      "source": [
        "Suspicious backtracking (ExitPoint earlier than EntryPoint)"
      ],
      "metadata": {
        "id": "vvWcoFI4gdmT"
      }
    },
    {
      "cell_type": "code",
      "source": [
        "suspicious_backtracking_df = traffic_df.filter(col('ExitPoint') < col('EntryPoint'))\n",
        "suspicious_backtracking_df.select(\n",
        "                                   'LogID',\n",
        "                                   'VehicleID',\n",
        "                                   'VehicleType',\n",
        "                                   'EntryPoint',\n",
        "                                   'EntryTime',\n",
        "                                   'ExitPoint',\n",
        "                                   'ExitTime'\n",
        "                                  ).show()"
      ],
      "metadata": {
        "colab": {
          "base_uri": "https://localhost:8080/"
        },
        "id": "GvxNb4KbgfAY",
        "outputId": "f54cbf4e-b891-4722-9872-ceda9171758f"
      },
      "execution_count": 58,
      "outputs": [
        {
          "output_type": "stream",
          "name": "stdout",
          "text": [
            "+-----+---------+-----------+----------+-------------------+---------+-------------------+\n",
            "|LogID|VehicleID|VehicleType|EntryPoint|          EntryTime|ExitPoint|           ExitTime|\n",
            "+-----+---------+-----------+----------+-------------------+---------+-------------------+\n",
            "| L005|     V005|        Bus|     GateB|2024-05-01 10:05:00|    GateA|2024-05-01 10:40:00|\n",
            "+-----+---------+-----------+----------+-------------------+---------+-------------------+\n",
            "\n"
          ]
        }
      ]
    },
    {
      "cell_type": "markdown",
      "source": [
        "#### 7. Join with Metadata"
      ],
      "metadata": {
        "id": "kv0gedpFg2qI"
      }
    },
    {
      "cell_type": "markdown",
      "source": [
        " Prepare this small\n",
        "vehicle_registry.csv"
      ],
      "metadata": {
        "id": "6hcRbxw7g4Wj"
      }
    },
    {
      "cell_type": "code",
      "source": [
        "vehicle_registry_schema = StructType(\n",
        "    [\n",
        "    StructField(\"VehicleID\", StringType(), True),\n",
        "    StructField(\"OwnerName\", StringType(), True),\n",
        "    StructField(\"Model\", StringType(), True),\n",
        "    StructField(\"RegisteredCity\", StringType(), True)\n",
        "    ]\n",
        "  )\n",
        "\n",
        "data = [\n",
        "    (\"V001\", \"Anil\", \"Hyundai i20\", \"Delhi\"),\n",
        "    (\"V002\", \"Rakesh\", \"Tata Truck\", \"Chennai\"),\n",
        "    (\"V003\", \"Sana\", \"Yamaha R15\", \"Mumbai\"),\n",
        "    (\"V004\", \"Neha\", \"Honda City\", \"Bangalore\"),\n",
        "    (\"V005\",\"Zoya\",\"Volvo Bus\",\"Pune\")\n",
        "]\n",
        "\n",
        "vehicle_registry_df = spark.createDataFrame(data, vehicle_registry_schema)\n",
        "\n",
        "vehicle_registry_df.printSchema()\n"
      ],
      "metadata": {
        "colab": {
          "base_uri": "https://localhost:8080/"
        },
        "id": "HjDQpIuxg_h6",
        "outputId": "cdb5035e-c36b-47ab-85d7-a16093f78c81"
      },
      "execution_count": 59,
      "outputs": [
        {
          "output_type": "stream",
          "name": "stdout",
          "text": [
            "root\n",
            " |-- VehicleID: string (nullable = true)\n",
            " |-- OwnerName: string (nullable = true)\n",
            " |-- Model: string (nullable = true)\n",
            " |-- RegisteredCity: string (nullable = true)\n",
            "\n"
          ]
        }
      ]
    },
    {
      "cell_type": "markdown",
      "source": [
        " Join and group trips by\n",
        "RegisteredCity"
      ],
      "metadata": {
        "id": "cl6tqZwmhdne"
      }
    },
    {
      "cell_type": "code",
      "source": [
        "joined_df = traffic_df.join(vehicle_registry_df, on='VehicleID', how='left')\n",
        "\n",
        "grouped_trips_df = joined_df.groupBy('RegisteredCity') \\\n",
        "                            .agg(\n",
        "                                  count('*').alias('TotalTrips'),\n",
        "                                  sum('TollPaid').alias('TotalTollCollected')\n",
        "                                ) \\\n",
        "                            .orderBy('TotalTrips', ascending=False)\n",
        "\n",
        "grouped_trips_df.show()"
      ],
      "metadata": {
        "colab": {
          "base_uri": "https://localhost:8080/"
        },
        "id": "5BHlibeHheVy",
        "outputId": "bbb2d67c-8410-44c6-ef2d-f47b14792393"
      },
      "execution_count": 63,
      "outputs": [
        {
          "output_type": "stream",
          "name": "stdout",
          "text": [
            "+--------------+----------+------------------+\n",
            "|RegisteredCity|TotalTrips|TotalTollCollected|\n",
            "+--------------+----------+------------------+\n",
            "|     Bangalore|         1|              50.0|\n",
            "|       Chennai|         1|             100.0|\n",
            "|        Mumbai|         1|              30.0|\n",
            "|          Pune|         1|              70.0|\n",
            "|         Delhi|         1|              50.0|\n",
            "+--------------+----------+------------------+\n",
            "\n"
          ]
        }
      ]
    },
    {
      "cell_type": "markdown",
      "source": [
        "#### 8. Delta Lake Features"
      ],
      "metadata": {
        "id": "7O64pANDiE5h"
      }
    },
    {
      "cell_type": "markdown",
      "source": [
        "Save traffic_logs as Delta Table"
      ],
      "metadata": {
        "id": "nxJQhJodiFx_"
      }
    },
    {
      "cell_type": "code",
      "source": [
        "traffic_df.write.format('delta') \\\n",
        "                .mode('overwrite') \\\n",
        "                .save('/content/drive/MyDrive/Assessment/transformed_traffic_logs')"
      ],
      "metadata": {
        "id": "WibEphCSitfv"
      },
      "execution_count": null,
      "outputs": []
    },
    {
      "cell_type": "markdown",
      "source": [
        " Apply\n",
        "MERGE INTO to update toll rates for all Bikes"
      ],
      "metadata": {
        "id": "1mEvXMGKiuQ9"
      }
    },
    {
      "cell_type": "code",
      "source": [
        "spark.sql(\"\"\"\n",
        "          MERGE INTO delta.`/content/drive/MyDrive/Assessment/transformed_traffic_logs` AS target\n",
        "          USING (\n",
        "                  SELECT\n",
        "                    * FROM delta.`/content/drive/MyDrive/Assessment/transformed_traffic_logs`\n",
        "                  WHERE VehicleType = 'Bike'\n",
        "          ) AS source\n",
        "          ON target.LogID = source.LogID\n",
        "          WHEN MATCHED THEN\n",
        "            UPDATE SET target.TollPaid = target.TollPaid + 10\n",
        "\"\"\")\n",
        "\n",
        "spark.sql(\"\"\"\n",
        "          SELECT\n",
        "            VehicleID,\n",
        "            VehicleType,\n",
        "            TollPaid\n",
        "          FROM delta.`/content/drive/MyDrive/Assessment/transformed_traffic_logs`\n",
        "          WHERE VehicleType = 'Bike'\n",
        "\"\"\").show()\n"
      ],
      "metadata": {
        "id": "Usjj9EO5jWES"
      },
      "execution_count": null,
      "outputs": []
    },
    {
      "cell_type": "markdown",
      "source": [
        "Use\n",
        "DESCRIBE HISTORY and\n",
        "VERSION AS OF"
      ],
      "metadata": {
        "id": "H17lJWC7jfi_"
      }
    },
    {
      "cell_type": "code",
      "source": [
        "# DESCRIBE HISTORY\n",
        "spark.sql(\"\"\"\n",
        "          DESCRIBE HISTORY delta.`/content/drive/MyDrive/Assessment/transformed_traffic_logs`\n",
        "          \"\"\").show()\n",
        "\n",
        "\n",
        "# VERSION AS OF\n",
        "df_version = spark.read.format('delta') \\\n",
        "                       .option('versionAsOf', 0) \\\n",
        "                       .load('/content/drive/MyDrive/Assessment/transformed_traffic_logs')\n",
        "\n",
        "df_version.show()\n"
      ],
      "metadata": {
        "id": "M_8EBWJEjf94"
      },
      "execution_count": null,
      "outputs": []
    },
    {
      "cell_type": "markdown",
      "source": [
        "#### 9. Advanced Conditions"
      ],
      "metadata": {
        "id": "JDWdhxW3j62v"
      }
    },
    {
      "cell_type": "markdown",
      "source": [
        "when/otherwise : Tag trip type as: \\\n",
        " \"Short\" <15min \\\n",
        " \"Medium\" 15-30min \\\n",
        " \"Long\" >30min"
      ],
      "metadata": {
        "id": "1DEQJF1zj8fE"
      }
    },
    {
      "cell_type": "code",
      "source": [
        "traffic_df = traffic_df.withColumn('TripType',\n",
        "                                    when(col('TripDurationMinutes') < 15, 'Short')\n",
        "                                    .when((col('TripDurationMinutes') >= 15) & (col('TripDurationMinutes') <= 30), 'Medium')\n",
        "                                    .otherwise('Long')\n",
        "                                   )\n",
        "\n",
        "traffic_df.select(\n",
        "                  'VehicleID',\n",
        "                  'TripDurationMinutes',\n",
        "                  'TripType').show()\n"
      ],
      "metadata": {
        "colab": {
          "base_uri": "https://localhost:8080/"
        },
        "id": "z_I02dpgj_gD",
        "outputId": "6185ef51-a729-4959-f6ff-1af47fbec709"
      },
      "execution_count": 66,
      "outputs": [
        {
          "output_type": "stream",
          "name": "stdout",
          "text": [
            "+---------+-------------------+--------+\n",
            "|VehicleID|TripDurationMinutes|TripType|\n",
            "+---------+-------------------+--------+\n",
            "|     V001|               19.0|  Medium|\n",
            "|     V002|               35.0|    Long|\n",
            "|     V003|               18.0|  Medium|\n",
            "|     V004|               20.0|  Medium|\n",
            "|     V005|               35.0|    Long|\n",
            "+---------+-------------------+--------+\n",
            "\n"
          ]
        }
      ]
    },
    {
      "cell_type": "markdown",
      "source": [
        " Flag vehicles with more than 3 trips in a day"
      ],
      "metadata": {
        "id": "NEPaBOOXkhQU"
      }
    },
    {
      "cell_type": "code",
      "source": [
        "from pyspark.sql.functions import to_date\n",
        "\n",
        "traffic_df = traffic_df.withColumn('TripDate', to_date(col('EntryTime')))\n",
        "\n",
        "trip_window = Window.partitionBy('VehicleID', 'TripDate')\n",
        "\n",
        "traffic_df = traffic_df.withColumn('TripCount', count('*').over(trip_window))\n",
        "\n",
        "traffic_df = traffic_df.withColumn('Flag',\n",
        "                                   when(col('TripCount') > 3, True) \\\n",
        "                                  .otherwise(False))\n",
        "\n",
        "traffic_df.select(\n",
        "                  'VehicleID',\n",
        "                  'EntryTime',\n",
        "                  'TripDate',\n",
        "                  'TripCount',\n",
        "                  'Flag').show()\n"
      ],
      "metadata": {
        "colab": {
          "base_uri": "https://localhost:8080/"
        },
        "id": "-WR2KuB7kh3e",
        "outputId": "8c168f72-1489-48d2-b5c2-a537b85637cb"
      },
      "execution_count": 67,
      "outputs": [
        {
          "output_type": "stream",
          "name": "stdout",
          "text": [
            "+---------+-------------------+----------+---------+-----+\n",
            "|VehicleID|          EntryTime|  TripDate|TripCount| Flag|\n",
            "+---------+-------------------+----------+---------+-----+\n",
            "|     V001|2024-05-01 08:01:00|2024-05-01|        1|false|\n",
            "|     V002|2024-05-01 08:10:00|2024-05-01|        1|false|\n",
            "|     V003|2024-05-01 09:00:00|2024-05-01|        1|false|\n",
            "|     V004|2024-05-01 09:15:00|2024-05-01|        1|false|\n",
            "|     V005|2024-05-01 10:05:00|2024-05-01|        1|false|\n",
            "+---------+-------------------+----------+---------+-----+\n",
            "\n"
          ]
        }
      ]
    },
    {
      "cell_type": "markdown",
      "source": [
        "#### 10. Export & Reporting"
      ],
      "metadata": {
        "id": "eWUAWyhFlWqu"
      }
    },
    {
      "cell_type": "markdown",
      "source": [
        "Write final enriched DataFrame to:\n",
        " Parquet partitioned by VehicleType"
      ],
      "metadata": {
        "id": "Em_9swbslbJY"
      }
    },
    {
      "cell_type": "code",
      "source": [
        "traffic_df.write.format('parquet') \\\n",
        "                .mode('overwrite') \\\n",
        "                .partitionBy('VehicleType') \\\n",
        "                .save('/content/drive/MyDrive/Assessment/enriched_traffic_logs')"
      ],
      "metadata": {
        "id": "eIe2ILQNlb_u"
      },
      "execution_count": 68,
      "outputs": []
    },
    {
      "cell_type": "markdown",
      "source": [
        "Write final enriched DataFrame to: CSV for Dashboards"
      ],
      "metadata": {
        "id": "IAGA5IWNlwce"
      }
    },
    {
      "cell_type": "code",
      "source": [
        "traffic_df.write.format('csv') \\\n",
        "                .mode('overwrite') \\\n",
        "                .option('header', True) \\\n",
        "                .save('/content/drive/MyDrive/Assessment/enriched_traffic_logs_csv')"
      ],
      "metadata": {
        "id": "Pau-7xYTlzad"
      },
      "execution_count": 69,
      "outputs": []
    },
    {
      "cell_type": "markdown",
      "source": [
        " Create summary SQL View: total toll by VehicleType + ExitPoint"
      ],
      "metadata": {
        "id": "MLA8Z35Wl_ya"
      }
    },
    {
      "cell_type": "code",
      "source": [
        "traffic_df.createOrReplaceTempView('traffic_logs')\n",
        "\n",
        "spark.sql(\"\"\"\n",
        "          CREATE OR REPLACE TEMP VIEW toll_summary AS\n",
        "          SELECT\n",
        "            VehicleType,\n",
        "            ExitPoint,\n",
        "            SUM(TollPaid) AS TotalTollCollected\n",
        "        FROM traffic_logs\n",
        "        GROUP BY VehicleType, ExitPoint\n",
        "        ORDER BY TotalTollCollected DESC\n",
        "\"\"\")\n",
        "\n",
        "spark.sql(\"SELECT * FROM toll_summary\").show()"
      ],
      "metadata": {
        "colab": {
          "base_uri": "https://localhost:8080/"
        },
        "id": "84bhRVHqmB7t",
        "outputId": "db06fb2f-eb22-4117-9923-f56dc4b7f77d"
      },
      "execution_count": 72,
      "outputs": [
        {
          "output_type": "stream",
          "name": "stdout",
          "text": [
            "+-----------+---------+------------------+\n",
            "|VehicleType|ExitPoint|TotalTollCollected|\n",
            "+-----------+---------+------------------+\n",
            "|      Truck|    GateC|             100.0|\n",
            "|        Bus|    GateA|              70.0|\n",
            "|        Car|    GateD|              50.0|\n",
            "|        Car|    GateC|              50.0|\n",
            "|       Bike|    GateD|              30.0|\n",
            "+-----------+---------+------------------+\n",
            "\n"
          ]
        }
      ]
    }
  ]
}