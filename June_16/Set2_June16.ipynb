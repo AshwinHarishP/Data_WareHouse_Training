{
 "cells": [
  {
   "cell_type": "markdown",
   "metadata": {
    "application/vnd.databricks.v1+cell": {
     "cellMetadata": {
      "byteLimit": 2048000,
      "rowLimit": 10000
     },
     "inputWidgets": {},
     "nuid": "ddb165c5-f31a-4498-a2fe-d073176edd47",
     "showTitle": false,
     "tableResultSettingsMap": {},
     "title": ""
    }
   },
   "source": [
    "# Real-World Simulation: Subscription-Based SaaS Platform"
   ]
  },
  {
   "cell_type": "markdown",
   "metadata": {
    "application/vnd.databricks.v1+cell": {
     "cellMetadata": {
      "byteLimit": 2048000,
      "rowLimit": 10000
     },
     "inputWidgets": {},
     "nuid": "b3c7d69a-c44c-47b1-975c-a91ecf5e177e",
     "showTitle": false,
     "tableResultSettingsMap": {},
     "title": ""
    }
   },
   "source": [
    "Loading the dataset"
   ]
  },
  {
   "cell_type": "code",
   "execution_count": 0,
   "metadata": {
    "application/vnd.databricks.v1+cell": {
     "cellMetadata": {
      "byteLimit": 2048000,
      "rowLimit": 10000
     },
     "inputWidgets": {},
     "nuid": "e8b5a4e5-b5df-46b5-86e8-5205b9c51a10",
     "showTitle": false,
     "tableResultSettingsMap": {},
     "title": ""
    }
   },
   "outputs": [
    {
     "output_type": "stream",
     "name": "stdout",
     "output_type": "stream",
     "text": [
      "+--------------+------+--------+----------+----------+--------+--------+----------+\n|SubscriptionID|UserID|PlanType| StartDate|   EndDate|PriceUSD|IsActive|AutoRenew |\n+--------------+------+--------+----------+----------+--------+--------+----------+\n|        SUB001|  U001|   Basic|2024-01-01|2024-04-01|    30.0|    true|     true |\n|        SUB002|  U002|     Pro|2024-02-15|2024-05-15|    90.0|    true|    false |\n|        SUB003|  U003|     Pro|2024-03-10|2024-06-10|    90.0|   false|    false |\n|        SUB004|  U001| Premium|2024-04-05|2024-07-05|   120.0|    true|     true |\n|        SUB005|  U004|   Basic|2024-01-20|2024-04-20|    30.0|   false|     false|\n+--------------+------+--------+----------+----------+--------+--------+----------+\n\n"
     ]
    }
   ],
   "source": [
    "subscription_df = spark.read.format(\"csv\") \\\n",
    "                            .option(\"header\", \"true\") \\\n",
    "                            .option(\"inferSchema\", \"true\") \\\n",
    "                            .load(\"/Volumes/workspace/default/saas_exercise/subscriptions.csv\")\n",
    "\n",
    "subscription_df.show()"
   ]
  },
  {
   "cell_type": "code",
   "execution_count": 0,
   "metadata": {
    "application/vnd.databricks.v1+cell": {
     "cellMetadata": {
      "byteLimit": 2048000,
      "rowLimit": 10000
     },
     "inputWidgets": {},
     "nuid": "eff07003-7f9b-4fce-9818-5f639e7293d6",
     "showTitle": false,
     "tableResultSettingsMap": {},
     "title": ""
    }
   },
   "outputs": [
    {
     "output_type": "stream",
     "name": "stdout",
     "output_type": "stream",
     "text": [
      "+------+-------------------+---------+------------+\n|UserID|          EventTime|EventType|FeatureUsed |\n+------+-------------------+---------+------------+\n|  U001|2024-04-07 10:22:00|    login|  Dashboard |\n|  U002|2024-04-08 11:10:00|   upload|    Reports |\n|  U003|2024-04-09 09:45:00| download|  Analytics |\n|  U001|2024-04-10 16:00:00|   logout|  Dashboard |\n|  U004|2024-04-11 12:00:00|    login|   Dashboard|\n+------+-------------------+---------+------------+\n\n"
     ]
    }
   ],
   "source": [
    "user_activity_df = spark.read.format(\"csv\") \\\n",
    "                            .option(\"header\", \"true\") \\\n",
    "                            .option(\"inferSchema\", \"true\") \\\n",
    "                            .load(\"/Volumes/workspace/default/saas_exercise/user_activity.csv\")\n",
    "user_activity_df.show()"
   ]
  },
  {
   "cell_type": "markdown",
   "metadata": {
    "application/vnd.databricks.v1+cell": {
     "cellMetadata": {
      "byteLimit": 2048000,
      "rowLimit": 10000
     },
     "inputWidgets": {},
     "nuid": "8d367b62-8bda-4b28-ad46-e1e170f369fe",
     "showTitle": false,
     "tableResultSettingsMap": {},
     "title": ""
    }
   },
   "source": [
    "#### A. Subscription Engagement Score (Real Metric Modeling)"
   ]
  },
  {
   "cell_type": "markdown",
   "metadata": {
    "application/vnd.databricks.v1+cell": {
     "cellMetadata": {
      "byteLimit": 2048000,
      "rowLimit": 10000
     },
     "inputWidgets": {},
     "nuid": "4fbe6fb0-444a-4646-8abd-3721a3e0132d",
     "showTitle": false,
     "tableResultSettingsMap": {},
     "title": ""
    }
   },
   "source": [
    "Combine both datasets."
   ]
  },
  {
   "cell_type": "code",
   "execution_count": 0,
   "metadata": {
    "application/vnd.databricks.v1+cell": {
     "cellMetadata": {
      "byteLimit": 2048000,
      "rowLimit": 10000
     },
     "inputWidgets": {},
     "nuid": "ccdf045c-19a3-4f1d-8d3c-c5a19bf27621",
     "showTitle": false,
     "tableResultSettingsMap": {},
     "title": ""
    }
   },
   "outputs": [
    {
     "output_type": "stream",
     "name": "stdout",
     "output_type": "stream",
     "text": [
      "+------+-------------------+---------+------------+--------------+--------+----------+----------+--------+--------+----------+\n|UserID|          EventTime|EventType|FeatureUsed |SubscriptionID|PlanType| StartDate|   EndDate|PriceUSD|IsActive|AutoRenew |\n+------+-------------------+---------+------------+--------------+--------+----------+----------+--------+--------+----------+\n|  U001|2024-04-10 16:00:00|   logout|  Dashboard |        SUB001|   Basic|2024-01-01|2024-04-01|    30.0|    true|     true |\n|  U002|2024-04-08 11:10:00|   upload|    Reports |        SUB002|     Pro|2024-02-15|2024-05-15|    90.0|    true|    false |\n|  U003|2024-04-09 09:45:00| download|  Analytics |        SUB003|     Pro|2024-03-10|2024-06-10|    90.0|   false|    false |\n|  U001|2024-04-10 16:00:00|   logout|  Dashboard |        SUB004| Premium|2024-04-05|2024-07-05|   120.0|    true|     true |\n|  U004|2024-04-11 12:00:00|    login|   Dashboard|        SUB005|   Basic|2024-01-20|2024-04-20|    30.0|   false|     false|\n|  U001|2024-04-07 10:22:00|    login|  Dashboard |        SUB001|   Basic|2024-01-01|2024-04-01|    30.0|    true|     true |\n|  U001|2024-04-07 10:22:00|    login|  Dashboard |        SUB004| Premium|2024-04-05|2024-07-05|   120.0|    true|     true |\n+------+-------------------+---------+------------+--------------+--------+----------+----------+--------+--------+----------+\n\n"
     ]
    }
   ],
   "source": [
    "joined_df = user_activity_df.join(subscription_df, on=user_activity_df.UserID == subscription_df.UserID, how='inner') \\\n",
    "                            .drop(subscription_df.UserID)\n",
    "\n",
    "joined_df.show()"
   ]
  },
  {
   "cell_type": "markdown",
   "metadata": {
    "application/vnd.databricks.v1+cell": {
     "cellMetadata": {
      "byteLimit": 2048000,
      "rowLimit": 10000
     },
     "inputWidgets": {},
     "nuid": "95e3bb93-1cc2-47ab-8411-79b7a82dec0d",
     "showTitle": false,
     "tableResultSettingsMap": {},
     "title": ""
    }
   },
   "source": [
    "Trimming spaces in the column"
   ]
  },
  {
   "cell_type": "code",
   "execution_count": 0,
   "metadata": {
    "application/vnd.databricks.v1+cell": {
     "cellMetadata": {
      "byteLimit": 2048000,
      "rowLimit": 10000
     },
     "inputWidgets": {},
     "nuid": "2117e963-ae42-4af9-8099-e479b6117752",
     "showTitle": false,
     "tableResultSettingsMap": {},
     "title": ""
    }
   },
   "outputs": [],
   "source": [
    "for col_name in joined_df.columns:\n",
    "    joined_df = joined_df.withColumnRenamed(col_name, col_name.strip())"
   ]
  },
  {
   "cell_type": "markdown",
   "metadata": {
    "application/vnd.databricks.v1+cell": {
     "cellMetadata": {
      "byteLimit": 2048000,
      "rowLimit": 10000
     },
     "inputWidgets": {},
     "nuid": "fc7c4ca8-94b9-4473-a452-bc2aaa9413a8",
     "showTitle": false,
     "tableResultSettingsMap": {},
     "title": ""
    }
   },
   "source": [
    " Calculate: \\\n",
    " active_days = EndDate - StartDate \\\n",
    " events_per_user = count(EventType) grouped by UserID"
   ]
  },
  {
   "cell_type": "code",
   "execution_count": 0,
   "metadata": {
    "application/vnd.databricks.v1+cell": {
     "cellMetadata": {
      "byteLimit": 2048000,
      "rowLimit": 10000
     },
     "inputWidgets": {},
     "nuid": "44510310-a49c-498f-a961-c6fd1484a72a",
     "showTitle": false,
     "tableResultSettingsMap": {},
     "title": ""
    }
   },
   "outputs": [
    {
     "output_type": "stream",
     "name": "stdout",
     "output_type": "stream",
     "text": [
      "+------+--------------+--------+----------+----------+----------+--------+--------+\n|UserID|SubscriptionID|PlanType| StartDate|   EndDate|activeDays|PriceUSD|IsActive|\n+------+--------------+--------+----------+----------+----------+--------+--------+\n|  U001|        SUB001|   Basic|2024-01-01|2024-04-01|        91|    30.0|    true|\n|  U002|        SUB002|     Pro|2024-02-15|2024-05-15|        90|    90.0|    true|\n|  U003|        SUB003|     Pro|2024-03-10|2024-06-10|        92|    90.0|   false|\n|  U001|        SUB004| Premium|2024-04-05|2024-07-05|        91|   120.0|    true|\n|  U004|        SUB005|   Basic|2024-01-20|2024-04-20|        91|    30.0|   false|\n|  U001|        SUB001|   Basic|2024-01-01|2024-04-01|        91|    30.0|    true|\n|  U001|        SUB004| Premium|2024-04-05|2024-07-05|        91|   120.0|    true|\n+------+--------------+--------+----------+----------+----------+--------+--------+\n\n"
     ]
    }
   ],
   "source": [
    "\n",
    "# Calculation for active_days\n",
    "\n",
    "from pyspark.sql.functions import datediff\n",
    "joined_df = joined_df.withColumn('activeDays', datediff('EndDate', 'StartDate'))\n",
    "\n",
    "joined_df.select(\n",
    "                    'UserID',\n",
    "                    'SubscriptionID',\n",
    "                    'PlanType',\n",
    "                    'StartDate',\n",
    "                    'EndDate',  \n",
    "                    'activeDays',\n",
    "                    'PriceUSD',\n",
    "                    'IsActive'\n",
    "                    \n",
    ").show()\n"
   ]
  },
  {
   "cell_type": "code",
   "execution_count": 0,
   "metadata": {
    "application/vnd.databricks.v1+cell": {
     "cellMetadata": {
      "byteLimit": 2048000,
      "rowLimit": 10000
     },
     "inputWidgets": {},
     "nuid": "69aac1ce-a766-4d6b-ae7a-9de84c0834a6",
     "showTitle": false,
     "tableResultSettingsMap": {},
     "title": ""
    }
   },
   "outputs": [
    {
     "output_type": "stream",
     "name": "stdout",
     "output_type": "stream",
     "text": [
      "+------+-------------+\n|UserID|eventsPerUser|\n+------+-------------+\n|  U002|            1|\n|  U001|            4|\n|  U004|            1|\n|  U003|            1|\n+------+-------------+\n\n"
     ]
    }
   ],
   "source": [
    "from pyspark.sql.functions import count\n",
    "#  Calculating events_per_user = count(EventType) grouped by UserID\n",
    "\n",
    "eventsPerUser = joined_df.groupby('UserID') \\\n",
    "         .agg(count('EventType').alias('eventsPerUser'))\n",
    "         \n",
    "eventsPerUser.show()"
   ]
  },
  {
   "cell_type": "markdown",
   "metadata": {
    "application/vnd.databricks.v1+cell": {
     "cellMetadata": {
      "byteLimit": 2048000,
      "rowLimit": 10000
     },
     "inputWidgets": {},
     "nuid": "a5bf9cb9-4dc5-4fc8-999a-5c3621478631",
     "showTitle": false,
     "tableResultSettingsMap": {},
     "title": ""
    }
   },
   "source": [
    "Create a score: \\\n",
    "engagement_score = (events_per_user / active_days) * PriceUS"
   ]
  },
  {
   "cell_type": "code",
   "execution_count": 0,
   "metadata": {
    "application/vnd.databricks.v1+cell": {
     "cellMetadata": {
      "byteLimit": 2048000,
      "rowLimit": 10000
     },
     "inputWidgets": {},
     "nuid": "437d8502-1b80-4592-ae0a-3bff274fcfd7",
     "showTitle": false,
     "tableResultSettingsMap": {},
     "title": ""
    }
   },
   "outputs": [
    {
     "output_type": "stream",
     "name": "stdout",
     "output_type": "stream",
     "text": [
      "+-----------+--------+---------------+\n|FeatureUsed|PlanType|engagementScore|\n+-----------+--------+---------------+\n|   Reports |     Pro|            1.0|\n| Dashboard | Premium|           5.27|\n|  Dashboard|   Basic|           0.33|\n| Analytics |     Pro|           0.98|\n| Dashboard | Premium|           1.32|\n| Dashboard | Premium|           5.27|\n| Dashboard | Premium|           1.32|\n| Dashboard |   Basic|           5.27|\n| Dashboard |   Basic|           1.32|\n| Dashboard |   Basic|           5.27|\n| Dashboard |   Basic|           1.32|\n| Dashboard | Premium|           5.27|\n| Dashboard | Premium|           1.32|\n| Dashboard | Premium|           5.27|\n| Dashboard | Premium|           1.32|\n| Dashboard |   Basic|           5.27|\n| Dashboard |   Basic|           1.32|\n| Dashboard |   Basic|           5.27|\n| Dashboard |   Basic|           1.32|\n+-----------+--------+---------------+\n\n"
     ]
    }
   ],
   "source": [
    "from pyspark.sql.functions import round\n",
    "engagement_score_df = joined_df.join(eventsPerUser, on=\"UserID\", how=\"inner\") \\\n",
    "                               .select(\n",
    "                                        'UserID', \n",
    "                                        'eventsPerUser', \n",
    "                                        'activeDays', \n",
    "                                        'PriceUSD'\n",
    "                                      )\n",
    "                               \n",
    "\n",
    "engagement_score = engagement_score_df.withColumn('engagementScore',\n",
    "                                                    round(((engagement_score_df.eventsPerUser / engagement_score_df.activeDays) * engagement_score_df.PriceUSD), 2)) \\\n",
    "                                       .select(\n",
    "                                                'UserID', \n",
    "                                                'engagementScore'\n",
    "                                               )\n",
    "                                       \n",
    "\n",
    "\n",
    "joined_df = joined_df.join(engagement_score, on=\"UserID\", how=\"inner\")\n",
    "joined_df.select(\n",
    "                    'FeatureUsed',\n",
    "                    'PlanType',\n",
    "                    'engagementScore'    \n",
    ").show()"
   ]
  },
  {
   "cell_type": "markdown",
   "metadata": {
    "application/vnd.databricks.v1+cell": {
     "cellMetadata": {
      "byteLimit": 2048000,
      "rowLimit": 10000
     },
     "inputWidgets": {},
     "nuid": "a2448a68-11f2-4a37-aadb-0c5da1b76c11",
     "showTitle": false,
     "tableResultSettingsMap": {},
     "title": ""
    }
   },
   "source": [
    "#### Anomaly Detection via SQL"
   ]
  },
  {
   "cell_type": "markdown",
   "metadata": {
    "application/vnd.databricks.v1+cell": {
     "cellMetadata": {
      "byteLimit": 2048000,
      "rowLimit": 10000
     },
     "inputWidgets": {},
     "nuid": "d5383984-ddb6-4be0-b8d7-29908ee7f3d9",
     "showTitle": false,
     "tableResultSettingsMap": {},
     "title": ""
    }
   },
   "source": [
    " Identify users with: \\\n",
    " Subscription inactive but recent activity"
   ]
  },
  {
   "cell_type": "code",
   "execution_count": 0,
   "metadata": {
    "application/vnd.databricks.v1+cell": {
     "cellMetadata": {
      "byteLimit": 2048000,
      "rowLimit": 10000
     },
     "inputWidgets": {},
     "nuid": "7892a5e2-ee4a-4481-bdb4-43b735991c71",
     "showTitle": false,
     "tableResultSettingsMap": {},
     "title": ""
    }
   },
   "outputs": [],
   "source": [
    "joined_df.createOrReplaceTempView(\"joinedDF\")"
   ]
  },
  {
   "cell_type": "code",
   "execution_count": 0,
   "metadata": {
    "application/vnd.databricks.v1+cell": {
     "cellMetadata": {
      "byteLimit": 2048000,
      "rowLimit": 10000
     },
     "inputWidgets": {},
     "nuid": "509a62ee-502f-4811-9f88-3fdefb7aeedb",
     "showTitle": false,
     "tableResultSettingsMap": {},
     "title": ""
    }
   },
   "outputs": [
    {
     "output_type": "stream",
     "name": "stdout",
     "output_type": "stream",
     "text": [
      "+------+--------------+-------------+--------+\n|UserID|SubscriptionID|LastEventTime|IsActive|\n+------+--------------+-------------+--------+\n+------+--------------+-------------+--------+\n\n"
     ]
    }
   ],
   "source": [
    "spark.sql(\"\"\"\n",
    "            CREATE OR REPLACE TEMP VIEW inactive_subscription AS\n",
    "            SELECT \n",
    "                UserID,\n",
    "                SubscriptionID,\n",
    "                MAX(EventTime) AS LastEventTime,\n",
    "                IsActive\n",
    "            FROM joinedDF\n",
    "            WHERE IsActive = false\n",
    "            GROUP BY UserID, SubscriptionID, IsActive\n",
    "            HAVING MAX(EventTime) >= date_sub(current_date(), 30)\n",
    "\"\"\")\n",
    "\n",
    "spark.sql(\"SELECT * FROM inactive_subscription\").show()"
   ]
  },
  {
   "cell_type": "markdown",
   "metadata": {
    "application/vnd.databricks.v1+cell": {
     "cellMetadata": {
      "byteLimit": 2048000,
      "rowLimit": 10000
     },
     "inputWidgets": {},
     "nuid": "f426edf0-0335-4290-9d67-6f6fddf310ce",
     "showTitle": false,
     "tableResultSettingsMap": {},
     "title": ""
    }
   },
   "source": [
    "Identify users with: \\\n",
    "AutoRenew is true but no events in 30 days\n"
   ]
  },
  {
   "cell_type": "code",
   "execution_count": 0,
   "metadata": {
    "application/vnd.databricks.v1+cell": {
     "cellMetadata": {
      "byteLimit": 2048000,
      "rowLimit": 10000
     },
     "inputWidgets": {},
     "nuid": "4290f531-2618-412a-bf5a-765a61710882",
     "showTitle": false,
     "tableResultSettingsMap": {},
     "title": ""
    }
   },
   "outputs": [
    {
     "output_type": "stream",
     "name": "stdout",
     "output_type": "stream",
     "text": [
      "+------+--------------+---------+-------------------+------------------+\n|UserID|SubscriptionID|AutoRenew|      LastEventTime|DaysSinceLastEvent|\n+------+--------------+---------+-------------------+------------------+\n|  U001|        SUB004|    true |2024-04-10 16:00:00|               432|\n|  U001|        SUB001|    true |2024-04-10 16:00:00|               432|\n+------+--------------+---------+-------------------+------------------+\n\n"
     ]
    }
   ],
   "source": [
    "spark.sql(\"\"\"\n",
    "            CREATE OR REPLACE TEMP VIEW no_recent_events AS\n",
    "            WITH last_events AS (\n",
    "            SELECT\n",
    "                UserID,\n",
    "                SubscriptionID,\n",
    "                AutoRenew,\n",
    "                EventTime,\n",
    "                MAX(EventTime) OVER (PARTITION BY UserID) AS LastEventTime\n",
    "            FROM joinedDf\n",
    "            )\n",
    "\n",
    "            SELECT DISTINCT\n",
    "                UserID,\n",
    "                SubscriptionID,\n",
    "                AutoRenew,\n",
    "                LastEventTime,\n",
    "                DATEDIFF(current_date(), LastEventTime) AS DaysSinceLastEvent\n",
    "            FROM last_events\n",
    "            WHERE AutoRenew = true\n",
    "            AND (LastEventTime IS NULL OR LastEventTime < date_sub(current_date(), 30))\n",
    "\"\"\")\n",
    "spark.sql(\"SELECT * FROM no_recent_events\").show()\n"
   ]
  },
  {
   "cell_type": "markdown",
   "metadata": {
    "application/vnd.databricks.v1+cell": {
     "cellMetadata": {
      "byteLimit": 2048000,
      "rowLimit": 10000
     },
     "inputWidgets": {},
     "nuid": "1409d014-90ee-407e-ad05-ef433e8e27be",
     "showTitle": false,
     "tableResultSettingsMap": {},
     "title": ""
    }
   },
   "source": [
    "#### Delta Lake + Merge Simulation"
   ]
  },
  {
   "cell_type": "markdown",
   "metadata": {
    "application/vnd.databricks.v1+cell": {
     "cellMetadata": {
      "byteLimit": 2048000,
      "rowLimit": 10000
     },
     "inputWidgets": {},
     "nuid": "cfc9bf9f-e90e-4925-8a08-e2e8d193266d",
     "showTitle": false,
     "tableResultSettingsMap": {},
     "title": ""
    }
   },
   "source": [
    "Imagine a billing fix needs to be applied: \\\n",
    "For all Pro plans in March, increase price by $5 retroactively."
   ]
  },
  {
   "cell_type": "code",
   "execution_count": 0,
   "metadata": {
    "application/vnd.databricks.v1+cell": {
     "cellMetadata": {
      "byteLimit": 2048000,
      "rowLimit": 10000
     },
     "inputWidgets": {},
     "nuid": "e8dcd626-3a9d-45a8-b7fc-136ac1232011",
     "showTitle": false,
     "tableResultSettingsMap": {},
     "title": ""
    }
   },
   "outputs": [],
   "source": [
    "joined_df.write.format(\"delta\") \\\n",
    "    .mode(\"overwrite\") \\\n",
    "    .save('/Volumes/workspace/default/saas_exercise/subscriptions') \n"
   ]
  },
  {
   "cell_type": "code",
   "execution_count": 0,
   "metadata": {
    "application/vnd.databricks.v1+cell": {
     "cellMetadata": {
      "byteLimit": 2048000,
      "rowLimit": 10000
     },
     "inputWidgets": {},
     "nuid": "06b5c309-08bc-4c8d-aee6-1bd192511f26",
     "showTitle": false,
     "tableResultSettingsMap": {},
     "title": ""
    }
   },
   "outputs": [
    {
     "output_type": "stream",
     "name": "stdout",
     "output_type": "stream",
     "text": [
      "+-----------------+----------------+----------------+-----------------+\n|num_affected_rows|num_updated_rows|num_deleted_rows|num_inserted_rows|\n+-----------------+----------------+----------------+-----------------+\n|                1|               1|               0|                0|\n+-----------------+----------------+----------------+-----------------+\n\n"
     ]
    }
   ],
   "source": [
    "spark.sql(\"\"\"\n",
    "            MERGE INTO DELTA.`/Volumes/workspace/default/saas_exercise/subscriptions` AS TARGET\n",
    "            USING (\n",
    "                  SELECT \n",
    "                    SubscriptionID\n",
    "                  FROM delta.`/Volumes/workspace/default/saas_exercise/subscriptions`\n",
    "                  WHERE PlanType = 'Pro' AND (month(StartDate) = 3 OR month(EndDate) = 3)\n",
    "            ) AS src\n",
    "            ON target.SubscriptionID = src.SubscriptionID\n",
    "            WHEN MATCHED THEN\n",
    "            UPDATE SET PriceUSD = PriceUSD + 5\n",
    "\"\"\").show()\n"
   ]
  },
  {
   "cell_type": "markdown",
   "metadata": {
    "application/vnd.databricks.v1+cell": {
     "cellMetadata": {
      "byteLimit": 2048000,
      "rowLimit": 10000
     },
     "inputWidgets": {},
     "nuid": "35ffb8e4-dbbb-4eed-890f-cccab6da7b83",
     "showTitle": false,
     "tableResultSettingsMap": {},
     "title": ""
    }
   },
   "source": [
    "####  Time Travel Debugging"
   ]
  },
  {
   "cell_type": "markdown",
   "metadata": {
    "application/vnd.databricks.v1+cell": {
     "cellMetadata": {
      "byteLimit": 2048000,
      "rowLimit": 10000
     },
     "inputWidgets": {},
     "nuid": "faad2354-713a-4256-91b2-fee31811d243",
     "showTitle": false,
     "tableResultSettingsMap": {},
     "title": ""
    }
   },
   "source": [
    "Show describe history of the table before and after the billing fix."
   ]
  },
  {
   "cell_type": "code",
   "execution_count": 0,
   "metadata": {
    "application/vnd.databricks.v1+cell": {
     "cellMetadata": {
      "byteLimit": 2048000,
      "rowLimit": 10000
     },
     "inputWidgets": {},
     "nuid": "35bc6670-6834-4855-a203-209c25395d3a",
     "showTitle": false,
     "tableResultSettingsMap": {},
     "title": ""
    }
   },
   "outputs": [
    {
     "output_type": "display_data",
     "data": {
      "text/html": [
       "<style scoped>\n",
       "  .table-result-container {\n",
       "    max-height: 300px;\n",
       "    overflow: auto;\n",
       "  }\n",
       "  table, th, td {\n",
       "    border: 1px solid black;\n",
       "    border-collapse: collapse;\n",
       "  }\n",
       "  th, td {\n",
       "    padding: 5px;\n",
       "  }\n",
       "  th {\n",
       "    text-align: left;\n",
       "  }\n",
       "</style><div class='table-result-container'><table class='table-result'><thead style='background-color: white'><tr><th>version</th><th>timestamp</th><th>userId</th><th>userName</th><th>operation</th><th>operationParameters</th><th>job</th><th>notebook</th><th>clusterId</th><th>readVersion</th><th>isolationLevel</th><th>isBlindAppend</th><th>operationMetrics</th><th>userMetadata</th><th>engineInfo</th></tr></thead><tbody><tr><td>5</td><td>2025-06-16T11:29:04.000Z</td><td>5039529456276268</td><td>ashwinharishp@gmail.com</td><td>MERGE</td><td>Map(predicate -> [\"(SubscriptionID#38761 = SubscriptionID#38787)\"], clusterBy -> [], matchedPredicates -> [{\"actionType\":\"update\"}], statsOnLoad -> false, notMatchedBySourcePredicates -> [], notMatchedPredicates -> [])</td><td>null</td><td>null</td><td>0616-095236-6zs8oj7f-v2n</td><td>4</td><td>WriteSerializable</td><td>false</td><td>Map(numTargetRowsCopied -> 0, numTargetRowsDeleted -> 0, numTargetFilesAdded -> 1, numTargetBytesAdded -> 3096, numTargetBytesRemoved -> 0, numTargetDeletionVectorsAdded -> 1, numTargetRowsMatchedUpdated -> 1, executionTimeMs -> 1395, materializeSourceTimeMs -> 6, numTargetRowsInserted -> 0, numTargetRowsMatchedDeleted -> 0, numTargetDeletionVectorsUpdated -> 0, scanTimeMs -> 519, numTargetRowsUpdated -> 1, numOutputRows -> 1, numTargetDeletionVectorsRemoved -> 0, numTargetRowsNotMatchedBySourceUpdated -> 0, numTargetChangeFilesAdded -> 0, numSourceRows -> 1, numTargetFilesRemoved -> 0, numTargetRowsNotMatchedBySourceDeleted -> 0, rewriteTimeMs -> 805)</td><td>null</td><td>Databricks-Runtime/16.4.x-photon-scala2.12</td></tr><tr><td>4</td><td>2025-06-16T11:29:02.000Z</td><td>5039529456276268</td><td>ashwinharishp@gmail.com</td><td>WRITE</td><td>Map(mode -> Overwrite, statsOnLoad -> false, partitionBy -> [])</td><td>null</td><td>null</td><td>0616-095236-6zs8oj7f-v2n</td><td>3</td><td>WriteSerializable</td><td>false</td><td>Map(numFiles -> 1, numRemovedFiles -> 1, numRemovedBytes -> 3845, numOutputRows -> 19, numOutputBytes -> 3845)</td><td>null</td><td>Databricks-Runtime/16.4.x-photon-scala2.12</td></tr><tr><td>3</td><td>2025-06-16T11:14:48.000Z</td><td>5039529456276268</td><td>ashwinharishp@gmail.com</td><td>WRITE</td><td>Map(mode -> Overwrite, statsOnLoad -> false, partitionBy -> [])</td><td>null</td><td>null</td><td>0616-095236-6zs8oj7f-v2n</td><td>2</td><td>WriteSerializable</td><td>false</td><td>Map(numFiles -> 1, numRemovedFiles -> 2, numRemovedBytes -> 6941, numOutputRows -> 19, numOutputBytes -> 3845)</td><td>null</td><td>Databricks-Runtime/16.4.x-photon-scala2.12</td></tr><tr><td>2</td><td>2025-06-16T11:13:16.000Z</td><td>5039529456276268</td><td>ashwinharishp@gmail.com</td><td>MERGE</td><td>Map(predicate -> [\"(SubscriptionID#34902 = SubscriptionID#34928)\"], clusterBy -> [], matchedPredicates -> [{\"actionType\":\"update\"}], statsOnLoad -> false, notMatchedBySourcePredicates -> [], notMatchedPredicates -> [])</td><td>null</td><td>null</td><td>0616-095236-6zs8oj7f-v2n</td><td>1</td><td>WriteSerializable</td><td>false</td><td>Map(numTargetRowsCopied -> 0, numTargetRowsDeleted -> 0, numTargetFilesAdded -> 1, numTargetBytesAdded -> 3096, numTargetBytesRemoved -> 3096, numTargetDeletionVectorsAdded -> 0, numTargetRowsMatchedUpdated -> 1, executionTimeMs -> 1236, materializeSourceTimeMs -> 7, numTargetRowsInserted -> 0, numTargetRowsMatchedDeleted -> 0, numTargetDeletionVectorsUpdated -> 0, scanTimeMs -> 531, numTargetRowsUpdated -> 1, numOutputRows -> 1, numTargetDeletionVectorsRemoved -> 0, numTargetRowsNotMatchedBySourceUpdated -> 0, numTargetChangeFilesAdded -> 0, numSourceRows -> 1, numTargetFilesRemoved -> 1, numTargetRowsNotMatchedBySourceDeleted -> 0, rewriteTimeMs -> 637)</td><td>null</td><td>Databricks-Runtime/16.4.x-photon-scala2.12</td></tr><tr><td>1</td><td>2025-06-16T11:10:12.000Z</td><td>5039529456276268</td><td>ashwinharishp@gmail.com</td><td>MERGE</td><td>Map(predicate -> [\"(SubscriptionID#34052 = SubscriptionID#34065)\"], clusterBy -> [], matchedPredicates -> [{\"actionType\":\"update\"}], statsOnLoad -> false, notMatchedBySourcePredicates -> [], notMatchedPredicates -> [])</td><td>null</td><td>null</td><td>0616-095236-6zs8oj7f-v2n</td><td>0</td><td>WriteSerializable</td><td>false</td><td>Map(numTargetRowsCopied -> 0, numTargetRowsDeleted -> 0, numTargetFilesAdded -> 1, numTargetBytesAdded -> 3096, numTargetBytesRemoved -> 0, numTargetDeletionVectorsAdded -> 1, numTargetRowsMatchedUpdated -> 1, executionTimeMs -> 1419, materializeSourceTimeMs -> 6, numTargetRowsInserted -> 0, numTargetRowsMatchedDeleted -> 0, numTargetDeletionVectorsUpdated -> 0, scanTimeMs -> 509, numTargetRowsUpdated -> 1, numOutputRows -> 1, numTargetDeletionVectorsRemoved -> 0, numTargetRowsNotMatchedBySourceUpdated -> 0, numTargetChangeFilesAdded -> 0, numSourceRows -> 1, numTargetFilesRemoved -> 0, numTargetRowsNotMatchedBySourceDeleted -> 0, rewriteTimeMs -> 840)</td><td>null</td><td>Databricks-Runtime/16.4.x-photon-scala2.12</td></tr><tr><td>0</td><td>2025-06-16T11:10:07.000Z</td><td>5039529456276268</td><td>ashwinharishp@gmail.com</td><td>WRITE</td><td>Map(mode -> Overwrite, statsOnLoad -> false, partitionBy -> [])</td><td>null</td><td>null</td><td>0616-095236-6zs8oj7f-v2n</td><td>null</td><td>WriteSerializable</td><td>false</td><td>Map(numFiles -> 1, numRemovedFiles -> 0, numRemovedBytes -> 0, numOutputRows -> 19, numOutputBytes -> 3845)</td><td>null</td><td>Databricks-Runtime/16.4.x-photon-scala2.12</td></tr></tbody></table></div>"
      ]
     },
     "metadata": {
      "application/vnd.databricks.v1+output": {
       "addedWidgets": {},
       "aggData": [],
       "aggError": "",
       "aggOverflow": false,
       "aggSchema": [],
       "aggSeriesLimitReached": false,
       "aggType": "",
       "arguments": {},
       "columnCustomDisplayInfos": {},
       "data": [
        [
         5,
         "2025-06-16T11:29:04.000Z",
         "5039529456276268",
         "ashwinharishp@gmail.com",
         "MERGE",
         {
          "clusterBy": "[]",
          "matchedPredicates": "[{\"actionType\":\"update\"}]",
          "notMatchedBySourcePredicates": "[]",
          "notMatchedPredicates": "[]",
          "predicate": "[\"(SubscriptionID#38761 = SubscriptionID#38787)\"]",
          "statsOnLoad": "false"
         },
         null,
         null,
         "0616-095236-6zs8oj7f-v2n",
         4,
         "WriteSerializable",
         false,
         {
          "executionTimeMs": "1395",
          "materializeSourceTimeMs": "6",
          "numOutputRows": "1",
          "numSourceRows": "1",
          "numTargetBytesAdded": "3096",
          "numTargetBytesRemoved": "0",
          "numTargetChangeFilesAdded": "0",
          "numTargetDeletionVectorsAdded": "1",
          "numTargetDeletionVectorsRemoved": "0",
          "numTargetDeletionVectorsUpdated": "0",
          "numTargetFilesAdded": "1",
          "numTargetFilesRemoved": "0",
          "numTargetRowsCopied": "0",
          "numTargetRowsDeleted": "0",
          "numTargetRowsInserted": "0",
          "numTargetRowsMatchedDeleted": "0",
          "numTargetRowsMatchedUpdated": "1",
          "numTargetRowsNotMatchedBySourceDeleted": "0",
          "numTargetRowsNotMatchedBySourceUpdated": "0",
          "numTargetRowsUpdated": "1",
          "rewriteTimeMs": "805",
          "scanTimeMs": "519"
         },
         null,
         "Databricks-Runtime/16.4.x-photon-scala2.12"
        ],
        [
         4,
         "2025-06-16T11:29:02.000Z",
         "5039529456276268",
         "ashwinharishp@gmail.com",
         "WRITE",
         {
          "mode": "Overwrite",
          "partitionBy": "[]",
          "statsOnLoad": "false"
         },
         null,
         null,
         "0616-095236-6zs8oj7f-v2n",
         3,
         "WriteSerializable",
         false,
         {
          "numFiles": "1",
          "numOutputBytes": "3845",
          "numOutputRows": "19",
          "numRemovedBytes": "3845",
          "numRemovedFiles": "1"
         },
         null,
         "Databricks-Runtime/16.4.x-photon-scala2.12"
        ],
        [
         3,
         "2025-06-16T11:14:48.000Z",
         "5039529456276268",
         "ashwinharishp@gmail.com",
         "WRITE",
         {
          "mode": "Overwrite",
          "partitionBy": "[]",
          "statsOnLoad": "false"
         },
         null,
         null,
         "0616-095236-6zs8oj7f-v2n",
         2,
         "WriteSerializable",
         false,
         {
          "numFiles": "1",
          "numOutputBytes": "3845",
          "numOutputRows": "19",
          "numRemovedBytes": "6941",
          "numRemovedFiles": "2"
         },
         null,
         "Databricks-Runtime/16.4.x-photon-scala2.12"
        ],
        [
         2,
         "2025-06-16T11:13:16.000Z",
         "5039529456276268",
         "ashwinharishp@gmail.com",
         "MERGE",
         {
          "clusterBy": "[]",
          "matchedPredicates": "[{\"actionType\":\"update\"}]",
          "notMatchedBySourcePredicates": "[]",
          "notMatchedPredicates": "[]",
          "predicate": "[\"(SubscriptionID#34902 = SubscriptionID#34928)\"]",
          "statsOnLoad": "false"
         },
         null,
         null,
         "0616-095236-6zs8oj7f-v2n",
         1,
         "WriteSerializable",
         false,
         {
          "executionTimeMs": "1236",
          "materializeSourceTimeMs": "7",
          "numOutputRows": "1",
          "numSourceRows": "1",
          "numTargetBytesAdded": "3096",
          "numTargetBytesRemoved": "3096",
          "numTargetChangeFilesAdded": "0",
          "numTargetDeletionVectorsAdded": "0",
          "numTargetDeletionVectorsRemoved": "0",
          "numTargetDeletionVectorsUpdated": "0",
          "numTargetFilesAdded": "1",
          "numTargetFilesRemoved": "1",
          "numTargetRowsCopied": "0",
          "numTargetRowsDeleted": "0",
          "numTargetRowsInserted": "0",
          "numTargetRowsMatchedDeleted": "0",
          "numTargetRowsMatchedUpdated": "1",
          "numTargetRowsNotMatchedBySourceDeleted": "0",
          "numTargetRowsNotMatchedBySourceUpdated": "0",
          "numTargetRowsUpdated": "1",
          "rewriteTimeMs": "637",
          "scanTimeMs": "531"
         },
         null,
         "Databricks-Runtime/16.4.x-photon-scala2.12"
        ],
        [
         1,
         "2025-06-16T11:10:12.000Z",
         "5039529456276268",
         "ashwinharishp@gmail.com",
         "MERGE",
         {
          "clusterBy": "[]",
          "matchedPredicates": "[{\"actionType\":\"update\"}]",
          "notMatchedBySourcePredicates": "[]",
          "notMatchedPredicates": "[]",
          "predicate": "[\"(SubscriptionID#34052 = SubscriptionID#34065)\"]",
          "statsOnLoad": "false"
         },
         null,
         null,
         "0616-095236-6zs8oj7f-v2n",
         0,
         "WriteSerializable",
         false,
         {
          "executionTimeMs": "1419",
          "materializeSourceTimeMs": "6",
          "numOutputRows": "1",
          "numSourceRows": "1",
          "numTargetBytesAdded": "3096",
          "numTargetBytesRemoved": "0",
          "numTargetChangeFilesAdded": "0",
          "numTargetDeletionVectorsAdded": "1",
          "numTargetDeletionVectorsRemoved": "0",
          "numTargetDeletionVectorsUpdated": "0",
          "numTargetFilesAdded": "1",
          "numTargetFilesRemoved": "0",
          "numTargetRowsCopied": "0",
          "numTargetRowsDeleted": "0",
          "numTargetRowsInserted": "0",
          "numTargetRowsMatchedDeleted": "0",
          "numTargetRowsMatchedUpdated": "1",
          "numTargetRowsNotMatchedBySourceDeleted": "0",
          "numTargetRowsNotMatchedBySourceUpdated": "0",
          "numTargetRowsUpdated": "1",
          "rewriteTimeMs": "840",
          "scanTimeMs": "509"
         },
         null,
         "Databricks-Runtime/16.4.x-photon-scala2.12"
        ],
        [
         0,
         "2025-06-16T11:10:07.000Z",
         "5039529456276268",
         "ashwinharishp@gmail.com",
         "WRITE",
         {
          "mode": "Overwrite",
          "partitionBy": "[]",
          "statsOnLoad": "false"
         },
         null,
         null,
         "0616-095236-6zs8oj7f-v2n",
         null,
         "WriteSerializable",
         false,
         {
          "numFiles": "1",
          "numOutputBytes": "3845",
          "numOutputRows": "19",
          "numRemovedBytes": "0",
          "numRemovedFiles": "0"
         },
         null,
         "Databricks-Runtime/16.4.x-photon-scala2.12"
        ]
       ],
       "datasetInfos": [],
       "dbfsResultPath": null,
       "isJsonSchema": true,
       "metadata": {},
       "overflow": false,
       "plotOptions": {
        "customPlotOptions": {},
        "displayType": "table",
        "pivotAggregation": null,
        "pivotColumns": null,
        "xColumns": null,
        "yColumns": null
       },
       "removedWidgets": [],
       "schema": [
        {
         "metadata": "{}",
         "name": "version",
         "type": "\"long\""
        },
        {
         "metadata": "{}",
         "name": "timestamp",
         "type": "\"timestamp\""
        },
        {
         "metadata": "{}",
         "name": "userId",
         "type": "\"string\""
        },
        {
         "metadata": "{}",
         "name": "userName",
         "type": "\"string\""
        },
        {
         "metadata": "{}",
         "name": "operation",
         "type": "\"string\""
        },
        {
         "metadata": "{}",
         "name": "operationParameters",
         "type": "{\"keyType\":\"string\",\"type\":\"map\",\"valueContainsNull\":true,\"valueType\":\"string\"}"
        },
        {
         "metadata": "{}",
         "name": "job",
         "type": "{\"fields\":[{\"metadata\":{},\"name\":\"jobId\",\"nullable\":true,\"type\":\"string\"},{\"metadata\":{},\"name\":\"jobName\",\"nullable\":true,\"type\":\"string\"},{\"metadata\":{},\"name\":\"jobRunId\",\"nullable\":true,\"type\":\"string\"},{\"metadata\":{},\"name\":\"runId\",\"nullable\":true,\"type\":\"string\"},{\"metadata\":{},\"name\":\"jobOwnerId\",\"nullable\":true,\"type\":\"string\"},{\"metadata\":{},\"name\":\"triggerType\",\"nullable\":true,\"type\":\"string\"}],\"type\":\"struct\"}"
        },
        {
         "metadata": "{}",
         "name": "notebook",
         "type": "{\"fields\":[{\"metadata\":{},\"name\":\"notebookId\",\"nullable\":true,\"type\":\"string\"}],\"type\":\"struct\"}"
        },
        {
         "metadata": "{}",
         "name": "clusterId",
         "type": "\"string\""
        },
        {
         "metadata": "{}",
         "name": "readVersion",
         "type": "\"long\""
        },
        {
         "metadata": "{}",
         "name": "isolationLevel",
         "type": "\"string\""
        },
        {
         "metadata": "{}",
         "name": "isBlindAppend",
         "type": "\"boolean\""
        },
        {
         "metadata": "{}",
         "name": "operationMetrics",
         "type": "{\"keyType\":\"string\",\"type\":\"map\",\"valueContainsNull\":true,\"valueType\":\"string\"}"
        },
        {
         "metadata": "{}",
         "name": "userMetadata",
         "type": "\"string\""
        },
        {
         "metadata": "{}",
         "name": "engineInfo",
         "type": "\"string\""
        }
       ],
       "type": "table"
      }
     },
     "output_type": "display_data"
    }
   ],
   "source": [
    "\n",
    "spark.sql(\"\"\"\n",
    "            DESCRIBE HISTORY DELTA. `/Volumes/workspace/default/saas_exercise/subscriptions`\n",
    "        \"\"\").display()\n"
   ]
  },
  {
   "cell_type": "markdown",
   "metadata": {
    "application/vnd.databricks.v1+cell": {
     "cellMetadata": {
      "byteLimit": 2048000,
      "rowLimit": 10000
     },
     "inputWidgets": {},
     "nuid": "d79fb3c5-2dee-4f79-ae91-50f65d4b3997",
     "showTitle": false,
     "tableResultSettingsMap": {},
     "title": ""
    }
   },
   "source": [
    "Query using VERSION AS OF to prove the issue existed."
   ]
  },
  {
   "cell_type": "code",
   "execution_count": 0,
   "metadata": {
    "application/vnd.databricks.v1+cell": {
     "cellMetadata": {
      "byteLimit": 2048000,
      "rowLimit": 10000
     },
     "inputWidgets": {},
     "nuid": "216ebe5c-2c91-4d34-a086-b2160a6fb7c1",
     "showTitle": false,
     "tableResultSettingsMap": {},
     "title": ""
    }
   },
   "outputs": [
    {
     "output_type": "display_data",
     "data": {
      "text/html": [
       "<style scoped>\n",
       "  .table-result-container {\n",
       "    max-height: 300px;\n",
       "    overflow: auto;\n",
       "  }\n",
       "  table, th, td {\n",
       "    border: 1px solid black;\n",
       "    border-collapse: collapse;\n",
       "  }\n",
       "  th, td {\n",
       "    padding: 5px;\n",
       "  }\n",
       "  th {\n",
       "    text-align: left;\n",
       "  }\n",
       "</style><div class='table-result-container'><table class='table-result'><thead style='background-color: white'><tr><th>UserID</th><th>EventTime</th><th>EventType</th><th>FeatureUsed</th><th>SubscriptionID</th><th>PlanType</th><th>StartDate</th><th>EndDate</th><th>PriceUSD</th><th>IsActive</th><th>AutoRenew</th><th>activeDays</th><th>engagementScore</th></tr></thead><tbody><tr><td>U002</td><td>2024-04-08T11:10:00.000Z</td><td>upload</td><td>Reports </td><td>SUB002</td><td>Pro</td><td>2024-02-15</td><td>2024-05-15</td><td>90.0</td><td>true</td><td>false </td><td>90</td><td>1.0</td></tr><tr><td>U003</td><td>2024-04-09T09:45:00.000Z</td><td>download</td><td>Analytics </td><td>SUB003</td><td>Pro</td><td>2024-03-10</td><td>2024-06-10</td><td>90.0</td><td>false</td><td>false </td><td>92</td><td>0.98</td></tr></tbody></table></div>"
      ]
     },
     "metadata": {
      "application/vnd.databricks.v1+output": {
       "addedWidgets": {},
       "aggData": [],
       "aggError": "",
       "aggOverflow": false,
       "aggSchema": [],
       "aggSeriesLimitReached": false,
       "aggType": "",
       "arguments": {},
       "columnCustomDisplayInfos": {},
       "data": [
        [
         "U002",
         "2024-04-08T11:10:00.000Z",
         "upload",
         "Reports ",
         "SUB002",
         "Pro",
         "2024-02-15",
         "2024-05-15",
         90.0,
         true,
         "false ",
         90,
         1.0
        ],
        [
         "U003",
         "2024-04-09T09:45:00.000Z",
         "download",
         "Analytics ",
         "SUB003",
         "Pro",
         "2024-03-10",
         "2024-06-10",
         90.0,
         false,
         "false ",
         92,
         0.98
        ]
       ],
       "datasetInfos": [],
       "dbfsResultPath": null,
       "isJsonSchema": true,
       "metadata": {},
       "overflow": false,
       "plotOptions": {
        "customPlotOptions": {},
        "displayType": "table",
        "pivotAggregation": null,
        "pivotColumns": null,
        "xColumns": null,
        "yColumns": null
       },
       "removedWidgets": [],
       "schema": [
        {
         "metadata": "{}",
         "name": "UserID",
         "type": "\"string\""
        },
        {
         "metadata": "{}",
         "name": "EventTime",
         "type": "\"timestamp\""
        },
        {
         "metadata": "{}",
         "name": "EventType",
         "type": "\"string\""
        },
        {
         "metadata": "{}",
         "name": "FeatureUsed",
         "type": "\"string\""
        },
        {
         "metadata": "{}",
         "name": "SubscriptionID",
         "type": "\"string\""
        },
        {
         "metadata": "{}",
         "name": "PlanType",
         "type": "\"string\""
        },
        {
         "metadata": "{\"__detected_date_formats\": \"yyyy-M-d\"}",
         "name": "StartDate",
         "type": "\"date\""
        },
        {
         "metadata": "{\"__detected_date_formats\": \"yyyy-M-d\"}",
         "name": "EndDate",
         "type": "\"date\""
        },
        {
         "metadata": "{}",
         "name": "PriceUSD",
         "type": "\"double\""
        },
        {
         "metadata": "{}",
         "name": "IsActive",
         "type": "\"boolean\""
        },
        {
         "metadata": "{}",
         "name": "AutoRenew",
         "type": "\"string\""
        },
        {
         "metadata": "{}",
         "name": "activeDays",
         "type": "\"integer\""
        },
        {
         "metadata": "{}",
         "name": "engagementScore",
         "type": "\"double\""
        }
       ],
       "type": "table"
      }
     },
     "output_type": "display_data"
    }
   ],
   "source": [
    "\n",
    "prev_version = spark.read.format(\"delta\") \\\n",
    "                         .option(\"versionAsOf\", 0).load(\"/Volumes/workspace/default/saas_exercise/subscriptions\")\n",
    "\n",
    "prev_version.filter(col(\"PlanType\") == \"Pro\").display()"
   ]
  },
  {
   "cell_type": "markdown",
   "metadata": {
    "application/vnd.databricks.v1+cell": {
     "cellMetadata": {
      "byteLimit": 2048000,
      "rowLimit": 10000
     },
     "inputWidgets": {},
     "nuid": "d1a79105-e896-4276-8737-df048ddb154c",
     "showTitle": false,
     "tableResultSettingsMap": {},
     "title": ""
    }
   },
   "source": [
    "#### Build Tier Migration Table"
   ]
  },
  {
   "cell_type": "code",
   "execution_count": 0,
   "metadata": {
    "application/vnd.databricks.v1+cell": {
     "cellMetadata": {
      "byteLimit": 2048000,
      "rowLimit": 10000
     },
     "inputWidgets": {},
     "nuid": "d809adcf-4c94-44f2-83dc-172cd7ac052e",
     "showTitle": false,
     "tableResultSettingsMap": {},
     "title": ""
    }
   },
   "outputs": [
    {
     "output_type": "stream",
     "name": "stdout",
     "output_type": "stream",
     "text": [
      "+------+--------+---------+---------+--------------+\n|UserID|PlanType|StartDate|prev_plan|prev_prev_plan|\n+------+--------+---------+---------+--------------+\n+------+--------+---------+---------+--------------+\n\n"
     ]
    }
   ],
   "source": [
    "from pyspark.sql.window import Window\n",
    "from pyspark.sql.functions import col, lag\n",
    "\n",
    "user_window = Window.partitionBy(\"UserID\").orderBy(\"StartDate\")\n",
    "\n",
    "\n",
    "user_with_lags = joined_df.withColumn(\"prev_plan\", lag(\"PlanType\", 1).over(user_window)) \\\n",
    "                          .withColumn(\"prev_prev_plan\", lag(\"PlanType\", 2).over(user_window))\n",
    "\n",
    "user_with_lags.filter((col(\"PlanType\") == \"Premium\") &\n",
    "                      (col(\"prev_plan\") == \"Pro\") &\n",
    "                      (col(\"prev_prev_plan\") == \"Basic\")) \\\n",
    "                    .select(\n",
    "                            \"UserID\", \n",
    "                            \"PlanType\", \n",
    "                            \"StartDate\", \n",
    "                            \"prev_plan\", \n",
    "                            \"prev_prev_plan\"\n",
    "                            ).show()\n",
    "\n"
   ]
  },
  {
   "cell_type": "markdown",
   "metadata": {
    "application/vnd.databricks.v1+cell": {
     "cellMetadata": {
      "byteLimit": 2048000,
      "rowLimit": 10000
     },
     "inputWidgets": {},
     "nuid": "d3f2fd07-7bb7-4e85-9b91-c03ac09cb30e",
     "showTitle": false,
     "tableResultSettingsMap": {},
     "title": ""
    }
   },
   "source": [
    "#### Power Users Detection\n"
   ]
  },
  {
   "cell_type": "markdown",
   "metadata": {
    "application/vnd.databricks.v1+cell": {
     "cellMetadata": {
      "byteLimit": 2048000,
      "rowLimit": 10000
     },
     "inputWidgets": {},
     "nuid": "4c99f395-d974-4888-8859-4698eeeb5c58",
     "showTitle": false,
     "tableResultSettingsMap": {},
     "title": ""
    }
   },
   "source": [
    "Used ≥ 2 features"
   ]
  },
  {
   "cell_type": "code",
   "execution_count": 0,
   "metadata": {
    "application/vnd.databricks.v1+cell": {
     "cellMetadata": {
      "byteLimit": 2048000,
      "rowLimit": 10000
     },
     "inputWidgets": {},
     "nuid": "edf658fa-d8dc-4eeb-a353-d9372d66b050",
     "showTitle": false,
     "tableResultSettingsMap": {},
     "title": ""
    }
   },
   "outputs": [
    {
     "output_type": "stream",
     "name": "stdout",
     "output_type": "stream",
     "text": [
      "+------+------------+\n|UserID|FeatureCount|\n+------+------------+\n|  U002|           1|\n|  U001|          16|\n|  U004|           1|\n|  U003|           1|\n+------+------------+\n\n"
     ]
    }
   ],
   "source": [
    "feature_count = joined_df.groupBy(\"UserID\") \\\n",
    "        .agg(count(\"FeatureUsed\").alias(\"FeatureCount\"))\n",
    "\n",
    "feature_count.show()"
   ]
  },
  {
   "cell_type": "markdown",
   "metadata": {
    "application/vnd.databricks.v1+cell": {
     "cellMetadata": {
      "byteLimit": 2048000,
      "rowLimit": 10000
     },
     "inputWidgets": {},
     "nuid": "72fdf15f-c10b-4c0e-b144-26bde4069dc1",
     "showTitle": false,
     "tableResultSettingsMap": {},
     "title": ""
    }
   },
   "source": [
    "Logged in ≥ 3 times"
   ]
  },
  {
   "cell_type": "code",
   "execution_count": 0,
   "metadata": {
    "application/vnd.databricks.v1+cell": {
     "cellMetadata": {
      "byteLimit": 2048000,
      "rowLimit": 10000
     },
     "inputWidgets": {},
     "nuid": "80b97edd-5e4b-426c-ace6-852c2c25523b",
     "showTitle": false,
     "tableResultSettingsMap": {},
     "title": ""
    }
   },
   "outputs": [
    {
     "output_type": "stream",
     "name": "stdout",
     "output_type": "stream",
     "text": [
      "+------+----------+\n|UserID|loginCount|\n+------+----------+\n|  U001|         8|\n|  U004|         1|\n+------+----------+\n\n"
     ]
    }
   ],
   "source": [
    "login_count = joined_df.filter(col(\"EventType\") == \"login\") \\\n",
    "                     .groupBy(\"UserID\") \\\n",
    "                     .count().withColumnRenamed(\"count\", \"loginCount\")\n",
    "login_count.select(\n",
    "                    'UserID',\n",
    "                    'loginCount'\n",
    ").show()"
   ]
  },
  {
   "cell_type": "markdown",
   "metadata": {
    "application/vnd.databricks.v1+cell": {
     "cellMetadata": {},
     "inputWidgets": {},
     "nuid": "8d8a2a04-0d4e-4d19-b7cd-ca489895cef4",
     "showTitle": false,
     "tableResultSettingsMap": {},
     "title": ""
    }
   },
   "source": [
    "Create a separate Delta table \n",
    "power_users"
   ]
  },
  {
   "cell_type": "code",
   "execution_count": 0,
   "metadata": {
    "application/vnd.databricks.v1+cell": {
     "cellMetadata": {
      "byteLimit": 2048000,
      "rowLimit": 10000
     },
     "inputWidgets": {},
     "nuid": "aa3ca164-c62f-49cb-8dac-a0ac9f76a0db",
     "showTitle": false,
     "tableResultSettingsMap": {},
     "title": ""
    }
   },
   "outputs": [],
   "source": [
    "power_users = feature_count.join(login_count, on=\"UserID\", how=\"inner\") \\\n",
    "                           .filter((col(\"FeatureCount\") >= 2) & (col(\"LoginCount\") >= 3))\n",
    "\n",
    "power_users.write.format(\"delta\") \\\n",
    "    .mode(\"overwrite\") \\\n",
    "    .save(\"/Volumes/workspace/default/saas_exercise/power_users\") "
   ]
  },
  {
   "cell_type": "markdown",
   "metadata": {
    "application/vnd.databricks.v1+cell": {
     "cellMetadata": {},
     "inputWidgets": {},
     "nuid": "87416d49-205e-4e28-83fc-4c680fd5c4e0",
     "showTitle": false,
     "tableResultSettingsMap": {},
     "title": ""
    }
   },
   "source": [
    "#### Session Replay View"
   ]
  },
  {
   "cell_type": "markdown",
   "metadata": {
    "application/vnd.databricks.v1+cell": {
     "cellMetadata": {},
     "inputWidgets": {},
     "nuid": "0d78f0d2-c39a-4387-baed-91513e028761",
     "showTitle": false,
     "tableResultSettingsMap": {},
     "title": ""
    }
   },
   "source": [
    "Build a user session trace table using: \\\n",
    " Window.partitionBy(\"UserID\").orderBy(\"EventTime\") \\\n",
    " Show how long each user spent between login and logout events\n"
   ]
  },
  {
   "cell_type": "code",
   "execution_count": 0,
   "metadata": {
    "application/vnd.databricks.v1+cell": {
     "cellMetadata": {
      "byteLimit": 2048000,
      "rowLimit": 10000
     },
     "inputWidgets": {},
     "nuid": "0f2906ec-6dbf-42d2-8676-b4c6196156fc",
     "showTitle": false,
     "tableResultSettingsMap": {},
     "title": ""
    }
   },
   "outputs": [
    {
     "output_type": "stream",
     "name": "stdout",
     "output_type": "stream",
     "text": [
      "+------+-------------------+-------------------+---------------+\n|UserID|           PrevTime|          EventTime|SessionDuration|\n+------+-------------------+-------------------+---------------+\n|  U001|2024-04-07 10:22:00|2024-04-10 16:00:00|         279480|\n+------+-------------------+-------------------+---------------+\n\n"
     ]
    }
   ],
   "source": [
    "from pyspark.sql.window import Window\n",
    "from pyspark.sql.functions import col, lag, unix_timestamp, when\n",
    "\n",
    "login_logout_df = joined_df.filter(col(\"EventType\").isin(\"login\", \"logout\"))\n",
    "\n",
    "window_df = Window.partitionBy(\"UserID\").orderBy(\"EventTime\")\n",
    "\n",
    "sessions_df = login_logout_df.withColumn(\"PrevEvent\", lag(\"EventType\").over(window_df)) \\\n",
    "                             .withColumn(\"PrevTime\", lag(\"EventTime\").over(window_df)) \\\n",
    "                             .withColumn(\"SessionDuration\",\n",
    "                                        when(\n",
    "                                            (col(\"PrevEvent\") == \"login\") & (col(\"EventType\") == \"logout\"),\n",
    "                                            unix_timestamp(\"EventTime\") - unix_timestamp(\"PrevTime\")))\n",
    "\n",
    "sessions_df = sessions_df.filter(col(\"SessionDuration\").isNotNull()) \\\n",
    "    .select(\n",
    "                \"UserID\", \n",
    "                \"PrevTime\", \n",
    "                \"EventTime\",\n",
    "                \"SessionDuration\"\n",
    "            )\n",
    "\n",
    "sessions_df.show()\n"
   ]
  },
  {
   "cell_type": "markdown",
   "metadata": {
    "application/vnd.databricks.v1+cell": {
     "cellMetadata": {},
     "inputWidgets": {},
     "nuid": "5b357aa1-5feb-4c04-bab7-83c347552bf9",
     "showTitle": false,
     "tableResultSettingsMap": {},
     "title": ""
    }
   },
   "source": []
  }
 ],
 "metadata": {
  "application/vnd.databricks.v1+notebook": {
   "computePreferences": null,
   "dashboards": [],
   "environmentMetadata": {
    "base_environment": "",
    "environment_version": "2"
   },
   "inputWidgetPreferences": null,
   "language": "python",
   "notebookMetadata": {
    "pythonIndentUnit": 4
   },
   "notebookName": "Set2_June16",
   "widgets": {}
  },
  "language_info": {
   "name": "python"
  }
 },
 "nbformat": 4,
 "nbformat_minor": 0
}