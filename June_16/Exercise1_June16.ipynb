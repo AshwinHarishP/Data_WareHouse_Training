{
 "cells": [
  {
   "cell_type": "markdown",
   "metadata": {
    "application/vnd.databricks.v1+cell": {
     "cellMetadata": {},
     "inputWidgets": {},
     "nuid": "1b685719-4793-4e01-877c-1b8f3deb4045",
     "showTitle": false,
     "tableResultSettingsMap": {},
     "title": ""
    }
   },
   "source": [
    "#### Data Loading"
   ]
  },
  {
   "cell_type": "markdown",
   "metadata": {
    "application/vnd.databricks.v1+cell": {
     "cellMetadata": {},
     "inputWidgets": {},
     "nuid": "5a760abb-b19d-4c0e-9dda-347834040aff",
     "showTitle": false,
     "tableResultSettingsMap": {},
     "title": ""
    }
   },
   "source": [
    "1. Load the data with schema inference enabled."
   ]
  },
  {
   "cell_type": "code",
   "execution_count": 0,
   "metadata": {
    "application/vnd.databricks.v1+cell": {
     "cellMetadata": {
      "byteLimit": 2048000,
      "rowLimit": 10000
     },
     "inputWidgets": {},
     "nuid": "52c14638-61f1-430b-8304-47bd81c3f432",
     "showTitle": false,
     "tableResultSettingsMap": {},
     "title": ""
    }
   },
   "outputs": [
    {
     "output_type": "stream",
     "name": "stdout",
     "output_type": "stream",
     "text": [
      "+------------+-----------+--------------------+-----------+----------+---------------+------+----------+\n|EnrollmentID|StudentName|          CourseName|   Category|EnrollDate|ProgressPercent|Rating|   Status |\n+------------+-----------+--------------------+-----------+----------+---------------+------+----------+\n|      ENR001|     Aditya|Python for Beginners|Programming|2024-05-10|             80|   4.5|   Active |\n|      ENR002|     Simran|Data Analysis wit...|  Analytics|2024-05-12|            100|   4.7|Completed |\n|      ENR003|     Aakash| Power BI Essentials|  Analytics|2024-05-13|             30|   3.8|   Active |\n|      ENR004|       Neha|         Java Basics|Programming|2024-05-15|              0|  NULL| Inactive |\n|      ENR005|       Zara|Machine Learning 101|         AI|2024-05-17|             60|   4.2|   Active |\n|      ENR006|    Ibrahim|Python for Beginners|Programming|2024-05-18|             90|   4.6| Completed|\n+------------+-----------+--------------------+-----------+----------+---------------+------+----------+\n\n"
     ]
    }
   ],
   "source": [
    "course_df = spark.read.option(\"header\", True) \\\n",
    "                      .option(\"inferSchema\", True) \\\n",
    "                      .format(\"csv\") \\\n",
    "                      .load('/Volumes/shared/default/courseenrollments/course_enrollments.csv')\n",
    "course_df.show()"
   ]
  },
  {
   "cell_type": "markdown",
   "metadata": {
    "application/vnd.databricks.v1+cell": {
     "cellMetadata": {},
     "inputWidgets": {},
     "nuid": "2795816d-c328-4a4b-89bd-451d1300c943",
     "showTitle": false,
     "tableResultSettingsMap": {},
     "title": ""
    }
   },
   "source": [
    "2. Manually define schema and compare both approaches"
   ]
  },
  {
   "cell_type": "code",
   "execution_count": 0,
   "metadata": {
    "application/vnd.databricks.v1+cell": {
     "cellMetadata": {
      "byteLimit": 2048000,
      "rowLimit": 10000
     },
     "inputWidgets": {},
     "nuid": "0c446637-89df-46ab-9397-88df936a2ec2",
     "showTitle": false,
     "tableResultSettingsMap": {},
     "title": ""
    }
   },
   "outputs": [
    {
     "output_type": "stream",
     "name": "stdout",
     "output_type": "stream",
     "text": [
      "+------------+-----------+--------------------+-----------+----------+---------------+------+----------+\n|EnrollmentID|StudentName|          CourseName|   Category|EnrollDate|ProgressPercent|Rating|    Status|\n+------------+-----------+--------------------+-----------+----------+---------------+------+----------+\n|      ENR001|     Aditya|Python for Beginners|Programming|2024-05-10|             80|   4.5|   Active |\n|      ENR002|     Simran|Data Analysis wit...|  Analytics|2024-05-12|            100|   4.7|Completed |\n|      ENR003|     Aakash| Power BI Essentials|  Analytics|2024-05-13|             30|   3.8|   Active |\n|      ENR004|       Neha|         Java Basics|Programming|2024-05-15|              0|  NULL| Inactive |\n|      ENR005|       Zara|Machine Learning 101|         AI|2024-05-17|             60|   4.2|   Active |\n|      ENR006|    Ibrahim|Python for Beginners|Programming|2024-05-18|             90|   4.6| Completed|\n+------------+-----------+--------------------+-----------+----------+---------------+------+----------+\n\n"
     ]
    }
   ],
   "source": [
    "from pyspark.sql.types import StructType, StructField, IntegerType, StringType, FloatType\n",
    "manual_schema = StructType([\n",
    "    StructField('EnrollmentID', StringType(), True),\n",
    "    StructField('StudentName', StringType(), True),\n",
    "    StructField('CourseName', StringType(), True),\n",
    "    StructField('Category', StringType(), True),\n",
    "    StructField('EnrollDate', StringType(), True),\n",
    "    StructField('ProgressPercent', IntegerType(), True),\n",
    "    StructField('Rating', FloatType(), True),\n",
    "    StructField('Status', StringType(), True)\n",
    "])\n",
    "\n",
    "course_manual_df = spark.read.option(\"header\", True) \\\n",
    "                             .schema(manual_schema) \\\n",
    "                             .format(\"csv\") \\\n",
    "                             .load('/Volumes/shared/default/courseenrollments/course_enrollments.csv')\n",
    "\n",
    "course_manual_df.show()"
   ]
  },
  {
   "cell_type": "markdown",
   "metadata": {
    "application/vnd.databricks.v1+cell": {
     "cellMetadata": {},
     "inputWidgets": {},
     "nuid": "df6db7e7-9d93-4383-a6f0-1a16de4a348f",
     "showTitle": false,
     "tableResultSettingsMap": {},
     "title": ""
    }
   },
   "source": [
    "Comparing Both Approaches"
   ]
  },
  {
   "cell_type": "code",
   "execution_count": 0,
   "metadata": {
    "application/vnd.databricks.v1+cell": {
     "cellMetadata": {
      "byteLimit": 2048000,
      "rowLimit": 10000
     },
     "inputWidgets": {},
     "nuid": "cfb8512b-8cf7-4986-9973-981b382de943",
     "showTitle": false,
     "tableResultSettingsMap": {},
     "title": ""
    }
   },
   "outputs": [
    {
     "output_type": "stream",
     "name": "stdout",
     "output_type": "stream",
     "text": [
      "schema inference enabled\nroot\n |-- EnrollmentID: string (nullable = true)\n |-- StudentName: string (nullable = true)\n |-- CourseName: string (nullable = true)\n |-- Category: string (nullable = true)\n |-- EnrollDate: date (nullable = true)\n |-- ProgressPercent: integer (nullable = true)\n |-- Rating: double (nullable = true)\n |-- Status : string (nullable = true)\n\nManually define schema\nroot\n |-- EnrollmentID: string (nullable = true)\n |-- StudentName: string (nullable = true)\n |-- CourseName: string (nullable = true)\n |-- Category: string (nullable = true)\n |-- EnrollDate: string (nullable = true)\n |-- ProgressPercent: integer (nullable = true)\n |-- Rating: float (nullable = true)\n |-- Status: string (nullable = true)\n\n"
     ]
    }
   ],
   "source": [
    "print(\"schema inference enabled\")\n",
    "course_df.printSchema()\n",
    "\n",
    "print(\"Manually define schema\")\n",
    "course_manual_df.printSchema()"
   ]
  },
  {
   "cell_type": "markdown",
   "metadata": {
    "application/vnd.databricks.v1+cell": {
     "cellMetadata": {},
     "inputWidgets": {},
     "nuid": "96f32a93-88e8-414c-9c67-797ab7d2e4d4",
     "showTitle": false,
     "tableResultSettingsMap": {},
     "title": ""
    }
   },
   "source": [
    "#### Filtering and Transformation"
   ]
  },
  {
   "cell_type": "markdown",
   "metadata": {
    "application/vnd.databricks.v1+cell": {
     "cellMetadata": {},
     "inputWidgets": {},
     "nuid": "8e533039-b436-4620-bf56-794638e91808",
     "showTitle": false,
     "tableResultSettingsMap": {},
     "title": ""
    }
   },
   "source": [
    "3. Filter records where ProgressPercent < 50 ."
   ]
  },
  {
   "cell_type": "code",
   "execution_count": 0,
   "metadata": {
    "application/vnd.databricks.v1+cell": {
     "cellMetadata": {
      "byteLimit": 2048000,
      "rowLimit": 10000
     },
     "inputWidgets": {},
     "nuid": "e91d4962-1afb-484f-957f-cf66ec9b5bff",
     "showTitle": false,
     "tableResultSettingsMap": {},
     "title": ""
    }
   },
   "outputs": [
    {
     "output_type": "stream",
     "name": "stdout",
     "output_type": "stream",
     "text": [
      "+------------+-----------+-------------------+---------------+\n|EnrollmentID|StudentName|         CourseName|ProgressPercent|\n+------------+-----------+-------------------+---------------+\n|      ENR003|     Aakash|Power BI Essentials|             30|\n|      ENR004|       Neha|        Java Basics|              0|\n+------------+-----------+-------------------+---------------+\n\n"
     ]
    }
   ],
   "source": [
    "from pyspark.sql.functions import col\n",
    "course_df.filter(col('ProgressPercent') < 50) \\\n",
    "         .select(\n",
    "                    'EnrollmentID',\n",
    "                    'StudentName',\n",
    "                    'CourseName',\n",
    "                    'ProgressPercent'\n",
    "                 ).show()"
   ]
  },
  {
   "cell_type": "markdown",
   "metadata": {
    "application/vnd.databricks.v1+cell": {
     "cellMetadata": {},
     "inputWidgets": {},
     "nuid": "76cd1bdc-e922-4253-8aec-eb8b5a08400d",
     "showTitle": false,
     "tableResultSettingsMap": {},
     "title": ""
    }
   },
   "source": [
    "4. Replace null ratings with average rating."
   ]
  },
  {
   "cell_type": "code",
   "execution_count": 0,
   "metadata": {
    "application/vnd.databricks.v1+cell": {
     "cellMetadata": {
      "byteLimit": 2048000,
      "rowLimit": 10000
     },
     "inputWidgets": {},
     "nuid": "6fa749f0-a9f7-418b-8f5e-a584b2e9e681",
     "showTitle": false,
     "tableResultSettingsMap": {},
     "title": ""
    }
   },
   "outputs": [
    {
     "output_type": "stream",
     "name": "stdout",
     "output_type": "stream",
     "text": [
      "+------------+-----------+-----------+--------------------+------+\n|EnrollmentID|StudentName|   Category|          CourseName|Rating|\n+------------+-----------+-----------+--------------------+------+\n|      ENR001|     Aditya|Programming|Python for Beginners|   4.5|\n|      ENR002|     Simran|  Analytics|Data Analysis wit...|   4.7|\n|      ENR003|     Aakash|  Analytics| Power BI Essentials|   3.8|\n|      ENR004|       Neha|Programming|         Java Basics|  4.55|\n|      ENR005|       Zara|         AI|Machine Learning 101|   4.2|\n|      ENR006|    Ibrahim|Programming|Python for Beginners|   4.6|\n+------------+-----------+-----------+--------------------+------+\n\n"
     ]
    }
   ],
   "source": [
    "from pyspark.sql.functions import avg, when\n",
    "average_rating_df = course_df.groupBy(col('Category')) \\\n",
    "                             .agg(avg(col('Rating')).alias('AverageRating'))\n",
    "\n",
    "course_df = course_df.join(average_rating_df, on='Category', how='left')\n",
    "\n",
    "course_df = course_df.withColumn(\"Rating\",\n",
    "                                  when(col(\"Rating\").isNull(), col(\"AverageRating\")).otherwise(col(\"Rating\"))\n",
    "                                )\n",
    "\n",
    "course_df = course_df.drop('AverageRating')\n",
    "course_df.select(\n",
    "                  'EnrollmentID',\n",
    "                  'StudentName',\n",
    "                  'Category',\n",
    "                  'CourseName',\n",
    "                  'Rating'\n",
    ").show()"
   ]
  },
  {
   "cell_type": "markdown",
   "metadata": {
    "application/vnd.databricks.v1+cell": {
     "cellMetadata": {},
     "inputWidgets": {},
     "nuid": "4b86fbbb-3731-4f63-ac93-8762c1710143",
     "showTitle": false,
     "tableResultSettingsMap": {},
     "title": ""
    }
   },
   "source": [
    "5.  Add column IsActive → 1 if Status is Active, else 0"
   ]
  },
  {
   "cell_type": "code",
   "execution_count": 0,
   "metadata": {
    "application/vnd.databricks.v1+cell": {
     "cellMetadata": {
      "byteLimit": 2048000,
      "rowLimit": 10000
     },
     "inputWidgets": {},
     "nuid": "53b12896-2f5c-4fe1-84a7-5153b2a8665a",
     "showTitle": false,
     "tableResultSettingsMap": {},
     "title": ""
    }
   },
   "outputs": [
    {
     "output_type": "stream",
     "name": "stdout",
     "output_type": "stream",
     "text": [
      "+------------+-----------+--------------------+----------+---------------+---------+--------+\n|EnrollmentID|StudentName|          CourseName|EnrollDate|ProgressPercent|   Status|IsActive|\n+------------+-----------+--------------------+----------+---------------+---------+--------+\n|      ENR001|     Aditya|Python for Beginners|2024-05-10|             80|   Active|       1|\n|      ENR002|     Simran|Data Analysis wit...|2024-05-12|            100|Completed|       0|\n|      ENR003|     Aakash| Power BI Essentials|2024-05-13|             30|   Active|       1|\n|      ENR004|       Neha|         Java Basics|2024-05-15|              0| Inactive|       0|\n|      ENR005|       Zara|Machine Learning 101|2024-05-17|             60|   Active|       1|\n|      ENR006|    Ibrahim|Python for Beginners|2024-05-18|             90|Completed|       0|\n+------------+-----------+--------------------+----------+---------------+---------+--------+\n\n"
     ]
    }
   ],
   "source": [
    "from pyspark.sql.functions import trim\n",
    "\n",
    "\n",
    "course_df = course_df.withColumn('Status', trim(col('Status ')))\n",
    "\n",
    "course_df = course_df.withColumn('IsActive',\n",
    "                                 when(col('Status') == 'Active', 1).otherwise(0)\n",
    "                                )\n",
    "\n",
    "course_df.select(\n",
    "                'EnrollmentID',\n",
    "                'StudentName',\n",
    "                'CourseName',\n",
    "                'EnrollDate',\n",
    "                'ProgressPercent',\n",
    "                'Status',\n",
    "                'IsActive'\n",
    ").show()\n"
   ]
  },
  {
   "cell_type": "markdown",
   "metadata": {
    "application/vnd.databricks.v1+cell": {
     "cellMetadata": {},
     "inputWidgets": {},
     "nuid": "13cf13b8-f101-4d3f-a9b2-fa4ef423b4e2",
     "showTitle": false,
     "tableResultSettingsMap": {},
     "title": ""
    }
   },
   "source": [
    "####  Aggregations & Metrics"
   ]
  },
  {
   "cell_type": "markdown",
   "metadata": {
    "application/vnd.databricks.v1+cell": {
     "cellMetadata": {},
     "inputWidgets": {},
     "nuid": "42f4cfb0-826f-4ba1-8904-426c58619ba8",
     "showTitle": false,
     "tableResultSettingsMap": {},
     "title": ""
    }
   },
   "source": [
    "6. Find average progress by course"
   ]
  },
  {
   "cell_type": "code",
   "execution_count": 0,
   "metadata": {
    "application/vnd.databricks.v1+cell": {
     "cellMetadata": {
      "byteLimit": 2048000,
      "rowLimit": 10000
     },
     "inputWidgets": {},
     "nuid": "0e340e0f-c4d7-4af1-8c85-2d34e238b4a6",
     "showTitle": false,
     "tableResultSettingsMap": {},
     "title": ""
    }
   },
   "outputs": [
    {
     "output_type": "stream",
     "name": "stdout",
     "output_type": "stream",
     "text": [
      "+--------------------+---------------+\n|          courseName|AverageProgress|\n+--------------------+---------------+\n| Power BI Essentials|           30.0|\n|Machine Learning 101|           60.0|\n|Python for Beginners|           85.0|\n|Data Analysis wit...|          100.0|\n|         Java Basics|            0.0|\n+--------------------+---------------+\n\n"
     ]
    }
   ],
   "source": [
    "course_df.groupBy(col('courseName')) \\\n",
    "         .agg(avg(col('ProgressPercent')).alias('AverageProgress')) \\\n",
    "         .show()"
   ]
  },
  {
   "cell_type": "markdown",
   "metadata": {
    "application/vnd.databricks.v1+cell": {
     "cellMetadata": {},
     "inputWidgets": {},
     "nuid": "550e1bc5-b955-4276-afc7-94944e1a52f6",
     "showTitle": false,
     "tableResultSettingsMap": {},
     "title": ""
    }
   },
   "source": [
    "7.  Get count of students in each course category."
   ]
  },
  {
   "cell_type": "code",
   "execution_count": 0,
   "metadata": {
    "application/vnd.databricks.v1+cell": {
     "cellMetadata": {
      "byteLimit": 2048000,
      "rowLimit": 10000
     },
     "inputWidgets": {},
     "nuid": "3cc52320-2a77-4430-b41f-bd6923b17053",
     "showTitle": false,
     "tableResultSettingsMap": {},
     "title": ""
    }
   },
   "outputs": [
    {
     "output_type": "stream",
     "name": "stdout",
     "output_type": "stream",
     "text": [
      "+-----------+-----------------+\n|   Category|TotalStudentCount|\n+-----------+-----------------+\n|Programming|                3|\n|  Analytics|                2|\n|         AI|                1|\n+-----------+-----------------+\n\n"
     ]
    }
   ],
   "source": [
    "course_df.groupBy(col('Category')) \\\n",
    "         .count() \\\n",
    "         .withColumnRenamed('count', 'TotalStudentCount') \\\n",
    "         .show()"
   ]
  },
  {
   "cell_type": "markdown",
   "metadata": {
    "application/vnd.databricks.v1+cell": {
     "cellMetadata": {},
     "inputWidgets": {},
     "nuid": "cedc80e4-5d34-4ad5-a897-f68b4fbbfa9c",
     "showTitle": false,
     "tableResultSettingsMap": {},
     "title": ""
    }
   },
   "source": [
    "8. Identify the most enrolled course."
   ]
  },
  {
   "cell_type": "code",
   "execution_count": 0,
   "metadata": {
    "application/vnd.databricks.v1+cell": {
     "cellMetadata": {
      "byteLimit": 2048000,
      "rowLimit": 10000
     },
     "inputWidgets": {},
     "nuid": "670f2b42-9984-45a7-87a4-81cdde55a078",
     "showTitle": false,
     "tableResultSettingsMap": {},
     "title": ""
    }
   },
   "outputs": [
    {
     "output_type": "stream",
     "name": "stdout",
     "output_type": "stream",
     "text": [
      "+--------------------+-----------------+\n|          courseName|TotalStudentCount|\n+--------------------+-----------------+\n|Python for Beginners|                2|\n+--------------------+-----------------+\n\n"
     ]
    }
   ],
   "source": [
    "from pyspark.sql.functions import max\n",
    "course_count_df = course_df.groupBy(col('courseName')) \\\n",
    "         .count() \\\n",
    "         .withColumnRenamed('count', 'TotalStudentCount') \n",
    "\n",
    "max_count = course_count_df.agg(max('TotalStudentCount')).collect()[0][0]\n",
    "\n",
    "course_count_df.filter(col('TotalStudentCount') == max_count).show()"
   ]
  },
  {
   "cell_type": "markdown",
   "metadata": {
    "application/vnd.databricks.v1+cell": {
     "cellMetadata": {},
     "inputWidgets": {},
     "nuid": "c9a1b91d-1b96-43ed-8ac5-58b5f39d58b6",
     "showTitle": false,
     "tableResultSettingsMap": {},
     "title": ""
    }
   },
   "source": [
    "#### Joins"
   ]
  },
  {
   "cell_type": "markdown",
   "metadata": {
    "application/vnd.databricks.v1+cell": {
     "cellMetadata": {},
     "inputWidgets": {},
     "nuid": "b679bd43-93f8-4985-a20e-fe3b3223ddd3",
     "showTitle": false,
     "tableResultSettingsMap": {},
     "title": ""
    }
   },
   "source": [
    "9. Creating second csv: \n",
    "course_details.csv"
   ]
  },
  {
   "cell_type": "code",
   "execution_count": 0,
   "metadata": {
    "application/vnd.databricks.v1+cell": {
     "cellMetadata": {
      "byteLimit": 2048000,
      "rowLimit": 10000
     },
     "inputWidgets": {},
     "nuid": "550704ec-5b87-401c-84cf-fb98afb9bebc",
     "showTitle": false,
     "tableResultSettingsMap": {},
     "title": ""
    }
   },
   "outputs": [
    {
     "output_type": "stream",
     "name": "stdout",
     "output_type": "stream",
     "text": [
      "+--------------------+-------------+----------+\n|          CourseName|DurationWeeks|Instructor|\n+--------------------+-------------+----------+\n|Python for Beginners|            4|    Rakesh|\n|Data Analysis wit...|            3|    Anjali|\n| Power BI Essentials|            5|     Rekha|\n|         Java Basics|            6|     Manoj|\n|Machine Learning 101|            8|     Samir|\n+--------------------+-------------+----------+\n\n"
     ]
    }
   ],
   "source": [
    "course_detail_schema = StructType([\n",
    "    StructField('CourseName', StringType(), True),\n",
    "    StructField('DurationWeeks', IntegerType(), True),\n",
    "    StructField('Instructor', StringType(), True)\n",
    "])\n",
    "\n",
    "course_details_data = [\n",
    "    (\"Python for Beginners\", 4, \"Rakesh\"),\n",
    "    (\"Data Analysis with Excel\", 3, \"Anjali\"),\n",
    "    (\"Power BI Essentials\", 5, \"Rekha\"),\n",
    "    (\"Java Basics\", 6, \"Manoj\"),\n",
    "    (\"Machine Learning 101\", 8, \"Samir\")\n",
    "]\n",
    "\n",
    "course_detail_df = spark.createDataFrame(course_details_data, course_detail_schema)\n",
    "\n",
    "course_detail_df.show()"
   ]
  },
  {
   "cell_type": "markdown",
   "metadata": {
    "application/vnd.databricks.v1+cell": {
     "cellMetadata": {},
     "inputWidgets": {},
     "nuid": "9ff190c1-2aa3-4cd1-b07b-422ae62c15b7",
     "showTitle": false,
     "tableResultSettingsMap": {},
     "title": ""
    }
   },
   "source": [
    "10.  Join course_enrollments with instructor."
   ]
  },
  {
   "cell_type": "code",
   "execution_count": 0,
   "metadata": {
    "application/vnd.databricks.v1+cell": {
     "cellMetadata": {
      "byteLimit": 2048000,
      "rowLimit": 10000
     },
     "inputWidgets": {},
     "nuid": "bb3463c4-106a-4655-9326-e32546c07e15",
     "showTitle": false,
     "tableResultSettingsMap": {},
     "title": ""
    }
   },
   "outputs": [
    {
     "output_type": "stream",
     "name": "stdout",
     "output_type": "stream",
     "text": [
      "+--------------------+------------+-----------+-----------+----------+---------------+------+----------+---------+--------+-------------+----------+\n|          CourseName|EnrollmentID|StudentName|   Category|EnrollDate|ProgressPercent|Rating|   Status |   Status|IsActive|DurationWeeks|Instructor|\n+--------------------+------------+-----------+-----------+----------+---------------+------+----------+---------+--------+-------------+----------+\n|Python for Beginners|      ENR001|     Aditya|Programming|2024-05-10|             80|   4.5|   Active |   Active|       1|            4|    Rakesh|\n|Data Analysis wit...|      ENR002|     Simran|  Analytics|2024-05-12|            100|   4.7|Completed |Completed|       0|            3|    Anjali|\n| Power BI Essentials|      ENR003|     Aakash|  Analytics|2024-05-13|             30|   3.8|   Active |   Active|       1|            5|     Rekha|\n|         Java Basics|      ENR004|       Neha|Programming|2024-05-15|              0|  NULL| Inactive | Inactive|       0|            6|     Manoj|\n|Machine Learning 101|      ENR005|       Zara|         AI|2024-05-17|             60|   4.2|   Active |   Active|       1|            8|     Samir|\n|Python for Beginners|      ENR006|    Ibrahim|Programming|2024-05-18|             90|   4.6| Completed|Completed|       0|            4|    Rakesh|\n+--------------------+------------+-----------+-----------+----------+---------------+------+----------+---------+--------+-------------+----------+\n\n"
     ]
    }
   ],
   "source": [
    "course_df = course_df.join(course_detail_df, on='CourseName', how='left')\n",
    "course_df.show()"
   ]
  },
  {
   "cell_type": "markdown",
   "metadata": {
    "application/vnd.databricks.v1+cell": {
     "cellMetadata": {},
     "inputWidgets": {},
     "nuid": "88d18955-5fa3-40e9-b707-2c271bf2ea66",
     "showTitle": false,
     "tableResultSettingsMap": {},
     "title": ""
    }
   },
   "source": [
    "####  Window Functions\n"
   ]
  },
  {
   "cell_type": "markdown",
   "metadata": {
    "application/vnd.databricks.v1+cell": {
     "cellMetadata": {},
     "inputWidgets": {},
     "nuid": "02a2c6d1-b6c0-44f6-a208-01ba30b79393",
     "showTitle": false,
     "tableResultSettingsMap": {},
     "title": ""
    }
   },
   "source": [
    "11. Rank students in each course based on ProgressPercent"
   ]
  },
  {
   "cell_type": "code",
   "execution_count": 0,
   "metadata": {
    "application/vnd.databricks.v1+cell": {
     "cellMetadata": {
      "byteLimit": 2048000,
      "rowLimit": 10000
     },
     "inputWidgets": {},
     "nuid": "cce085cf-cc5a-4052-9663-3e1d818d8cdb",
     "showTitle": false,
     "tableResultSettingsMap": {},
     "title": ""
    }
   },
   "outputs": [
    {
     "output_type": "stream",
     "name": "stdout",
     "output_type": "stream",
     "text": [
      "+-----------+-----------+--------------------+---------------+-----------+\n|StudentName|   Category|          CourseName|ProgressPercent|StudentRank|\n+-----------+-----------+--------------------+---------------+-----------+\n|     Simran|  Analytics|Data Analysis wit...|            100|          1|\n|       Neha|Programming|         Java Basics|              0|          1|\n|       Zara|         AI|Machine Learning 101|             60|          1|\n|     Aakash|  Analytics| Power BI Essentials|             30|          1|\n|    Ibrahim|Programming|Python for Beginners|             90|          1|\n|     Aditya|Programming|Python for Beginners|             80|          2|\n+-----------+-----------+--------------------+---------------+-----------+\n\n"
     ]
    }
   ],
   "source": [
    "from pyspark.sql.functions import rank\n",
    "from pyspark.sql.window import Window\n",
    "\n",
    "rank_window = Window.partitionBy(col('CourseName')) \\\n",
    "                    .orderBy(col('ProgressPercent').desc())\n",
    "\n",
    "rank_df = course_df.withColumn('StudentRank', rank().over(rank_window))\n",
    "rank_df.select(\n",
    "                'StudentName',\n",
    "                'Category',\n",
    "                'CourseName',\n",
    "                'ProgressPercent',\n",
    "                'StudentRank'\n",
    ").show()"
   ]
  },
  {
   "cell_type": "markdown",
   "metadata": {
    "application/vnd.databricks.v1+cell": {
     "cellMetadata": {},
     "inputWidgets": {},
     "nuid": "57458fa1-3f42-4023-8154-dee105d78568",
     "showTitle": false,
     "tableResultSettingsMap": {},
     "title": ""
    }
   },
   "source": [
    "12. Get lead and lag Of EnrollDate by category."
   ]
  },
  {
   "cell_type": "code",
   "execution_count": 0,
   "metadata": {
    "application/vnd.databricks.v1+cell": {
     "cellMetadata": {
      "byteLimit": 2048000,
      "rowLimit": 10000
     },
     "inputWidgets": {},
     "nuid": "192d57f1-c0ed-42f7-84f8-a446cd638437",
     "showTitle": false,
     "tableResultSettingsMap": {},
     "title": ""
    }
   },
   "outputs": [
    {
     "output_type": "stream",
     "name": "stdout",
     "output_type": "stream",
     "text": [
      "+-----------+----------+------------+----------+\n|   Category|EnrollDate|PreviousDate|  NextDate|\n+-----------+----------+------------+----------+\n|         AI|2024-05-17|        NULL|      NULL|\n|  Analytics|2024-05-12|        NULL|2024-05-13|\n|  Analytics|2024-05-13|  2024-05-12|      NULL|\n|Programming|2024-05-10|        NULL|2024-05-15|\n|Programming|2024-05-15|  2024-05-10|2024-05-18|\n|Programming|2024-05-18|  2024-05-15|      NULL|\n+-----------+----------+------------+----------+\n\n"
     ]
    }
   ],
   "source": [
    "from pyspark.sql.functions import lead, lag\n",
    "\n",
    "enrollment_window = Window.partitionBy(\"Category\").orderBy(\"EnrollDate\")\n",
    "\n",
    "lead_lag_df = course_df.withColumn(\"PreviousDate\", lag(\"EnrollDate\").over(enrollment_window)) \\\n",
    "                       .withColumn(\"NextDate\", lead(\"EnrollDate\").over(enrollment_window)) \\\n",
    "\n",
    "lead_lag_df.select( \n",
    "                    'Category',\n",
    "                    'EnrollDate',\n",
    "                    'PreviousDate',\n",
    "                    'NextDate'\n",
    ").show()\n",
    "\n"
   ]
  },
  {
   "cell_type": "markdown",
   "metadata": {
    "application/vnd.databricks.v1+cell": {
     "cellMetadata": {},
     "inputWidgets": {},
     "nuid": "a1515070-6a86-4205-a567-d1135c06f290",
     "showTitle": false,
     "tableResultSettingsMap": {},
     "title": ""
    }
   },
   "source": [
    "####  Pivoting & Formatting"
   ]
  },
  {
   "cell_type": "markdown",
   "metadata": {
    "application/vnd.databricks.v1+cell": {
     "cellMetadata": {},
     "inputWidgets": {},
     "nuid": "ea7c2222-8885-4d42-9d21-f7e12ce71e1e",
     "showTitle": false,
     "tableResultSettingsMap": {},
     "title": ""
    }
   },
   "source": [
    "13. Pivot data to show total enrollments by Category and Status"
   ]
  },
  {
   "cell_type": "code",
   "execution_count": 0,
   "metadata": {
    "application/vnd.databricks.v1+cell": {
     "cellMetadata": {
      "byteLimit": 2048000,
      "rowLimit": 10000
     },
     "inputWidgets": {},
     "nuid": "5e14e017-4c19-401d-aabd-40e1762d9fe8",
     "showTitle": false,
     "tableResultSettingsMap": {},
     "title": ""
    }
   },
   "outputs": [
    {
     "output_type": "stream",
     "name": "stdout",
     "output_type": "stream",
     "text": [
      "+-----------+------+---------+--------+\n|   Category|Active|Completed|Inactive|\n+-----------+------+---------+--------+\n|Programming|     1|        1|       1|\n|  Analytics|     1|        1|    NULL|\n|         AI|     1|     NULL|    NULL|\n+-----------+------+---------+--------+\n\n"
     ]
    }
   ],
   "source": [
    "course_df.groupBy(\"Category\") \\\n",
    "         .pivot(\"Status\") \\\n",
    "         .count() \\\n",
    "         .show()\n",
    "\n"
   ]
  },
  {
   "cell_type": "markdown",
   "metadata": {
    "application/vnd.databricks.v1+cell": {
     "cellMetadata": {},
     "inputWidgets": {},
     "nuid": "425765c1-1aa2-4283-bc60-3eff16ab0437",
     "showTitle": false,
     "tableResultSettingsMap": {},
     "title": ""
    }
   },
   "source": [
    "14. Extract year and month from EnrollDate "
   ]
  },
  {
   "cell_type": "code",
   "execution_count": 0,
   "metadata": {
    "application/vnd.databricks.v1+cell": {
     "cellMetadata": {
      "byteLimit": 2048000,
      "rowLimit": 10000
     },
     "inputWidgets": {},
     "nuid": "6c84e8ab-f0ae-4c3e-9c1d-e576109f8809",
     "showTitle": false,
     "tableResultSettingsMap": {},
     "title": ""
    }
   },
   "outputs": [
    {
     "output_type": "stream",
     "name": "stdout",
     "output_type": "stream",
     "text": [
      "+------------+-----------+-----------+--------------------+----+-----+---------+----------+\n|EnrollmentID|StudentName|   Category|          CourseName|Year|Month|MonthName|EnrollDate|\n+------------+-----------+-----------+--------------------+----+-----+---------+----------+\n|      ENR001|     Aditya|Programming|Python for Beginners|2024|    5|      May|2024-05-10|\n|      ENR002|     Simran|  Analytics|Data Analysis wit...|2024|    5|      May|2024-05-12|\n|      ENR003|     Aakash|  Analytics| Power BI Essentials|2024|    5|      May|2024-05-13|\n|      ENR004|       Neha|Programming|         Java Basics|2024|    5|      May|2024-05-15|\n|      ENR005|       Zara|         AI|Machine Learning 101|2024|    5|      May|2024-05-17|\n|      ENR006|    Ibrahim|Programming|Python for Beginners|2024|    5|      May|2024-05-18|\n+------------+-----------+-----------+--------------------+----+-----+---------+----------+\n\n"
     ]
    }
   ],
   "source": [
    "from pyspark.sql.functions import year, month, monthname\n",
    "course_df = course_df.withColumn('Year', year('EnrollDate')) \\\n",
    "                     .withColumn('Month', month('EnrollDate')) \\\n",
    "                     .withColumn('MonthName', monthname('EnrollDate'))\n",
    "\n",
    "course_df.select(\n",
    "                    'EnrollmentID',\n",
    "                    'StudentName',\n",
    "                    'Category',\n",
    "                    'CourseName',\n",
    "                    'Year',\n",
    "                    'Month',\n",
    "                    'MonthName',\n",
    "                    'EnrollDate'\n",
    ").show()"
   ]
  },
  {
   "cell_type": "markdown",
   "metadata": {
    "application/vnd.databricks.v1+cell": {
     "cellMetadata": {},
     "inputWidgets": {},
     "nuid": "4b12a840-4186-4d59-8a1a-6837d64fdb43",
     "showTitle": false,
     "tableResultSettingsMap": {},
     "title": ""
    }
   },
   "source": [
    "#### Cleaning and Deduplication"
   ]
  },
  {
   "cell_type": "markdown",
   "metadata": {
    "application/vnd.databricks.v1+cell": {
     "cellMetadata": {},
     "inputWidgets": {},
     "nuid": "7509e701-ab5b-42c7-9414-c83e0b2ba28d",
     "showTitle": false,
     "tableResultSettingsMap": {},
     "title": ""
    }
   },
   "source": [
    "15.  Drop rows where Status is null or empty."
   ]
  },
  {
   "cell_type": "code",
   "execution_count": 0,
   "metadata": {
    "application/vnd.databricks.v1+cell": {
     "cellMetadata": {
      "byteLimit": 2048000,
      "rowLimit": 10000
     },
     "inputWidgets": {},
     "nuid": "79ed91bd-4e66-42fa-ae67-bfb4a249e2e2",
     "showTitle": false,
     "tableResultSettingsMap": {},
     "title": ""
    }
   },
   "outputs": [
    {
     "output_type": "stream",
     "name": "stdout",
     "output_type": "stream",
     "text": [
      "+------------+-----------+--------------------+-----------+---------+\n|EnrollmentID|StudentName|          CourseName|   Category|   Status|\n+------------+-----------+--------------------+-----------+---------+\n|      ENR002|     Simran|Data Analysis wit...|  Analytics|Completed|\n|      ENR004|       Neha|         Java Basics|Programming| Inactive|\n|      ENR005|       Zara|Machine Learning 101|         AI|   Active|\n|      ENR001|     Aditya|Python for Beginners|Programming|   Active|\n|      ENR003|     Aakash| Power BI Essentials|  Analytics|   Active|\n|      ENR006|    Ibrahim|Python for Beginners|Programming|Completed|\n+------------+-----------+--------------------+-----------+---------+\n\n"
     ]
    }
   ],
   "source": [
    "course_df = course_df.filter((col('Status').isNotNull()) & (trim(col('Status')) != ''))\n",
    "\n",
    "course_df.select(\n",
    "                    'EnrollmentID',\n",
    "                    'StudentName',\n",
    "                    'CourseName',\n",
    "                    'Category',\n",
    "                    'Status'\n",
    ").show()"
   ]
  },
  {
   "cell_type": "markdown",
   "metadata": {
    "application/vnd.databricks.v1+cell": {
     "cellMetadata": {},
     "inputWidgets": {},
     "nuid": "b5fa6ba1-769f-47af-a76d-2deb7a73ab66",
     "showTitle": false,
     "tableResultSettingsMap": {},
     "title": ""
    }
   },
   "source": [
    "16. Remove duplicate enrollments using \n",
    "dropDuplicates() ."
   ]
  },
  {
   "cell_type": "code",
   "execution_count": 0,
   "metadata": {
    "application/vnd.databricks.v1+cell": {
     "cellMetadata": {
      "byteLimit": 2048000,
      "rowLimit": 10000
     },
     "inputWidgets": {},
     "nuid": "2dd59290-7fd9-4978-b625-e0709fd88d65",
     "showTitle": false,
     "tableResultSettingsMap": {},
     "title": ""
    }
   },
   "outputs": [
    {
     "output_type": "stream",
     "name": "stdout",
     "output_type": "stream",
     "text": [
      "+------------+-----------+--------------------+-----------+\n|EnrollmentID|StudentName|          CourseName|   Category|\n+------------+-----------+--------------------+-----------+\n|      ENR002|     Simran|Data Analysis wit...|  Analytics|\n|      ENR004|       Neha|         Java Basics|Programming|\n|      ENR005|       Zara|Machine Learning 101|         AI|\n|      ENR001|     Aditya|Python for Beginners|Programming|\n|      ENR003|     Aakash| Power BI Essentials|  Analytics|\n|      ENR006|    Ibrahim|Python for Beginners|Programming|\n+------------+-----------+--------------------+-----------+\n\n"
     ]
    }
   ],
   "source": [
    "course_df = course_df.dropDuplicates(['EnrollmentID'])\n",
    "course_df.select(\n",
    "                    'EnrollmentID',\n",
    "                    'StudentName',\n",
    "                    'CourseName',\n",
    "                    'Category'\n",
    ").show()"
   ]
  },
  {
   "cell_type": "markdown",
   "metadata": {
    "application/vnd.databricks.v1+cell": {
     "cellMetadata": {},
     "inputWidgets": {},
     "nuid": "20399631-b5d3-4313-b97d-94cf101255e0",
     "showTitle": false,
     "tableResultSettingsMap": {},
     "title": ""
    }
   },
   "source": [
    "####  Export\n"
   ]
  },
  {
   "cell_type": "markdown",
   "metadata": {
    "application/vnd.databricks.v1+cell": {
     "cellMetadata": {},
     "inputWidgets": {},
     "nuid": "1b81fa58-8d4f-44cf-8bc1-66358463ea40",
     "showTitle": false,
     "tableResultSettingsMap": {},
     "title": ""
    }
   },
   "source": [
    "17. Write the final cleaned DataFrame to: \\\n",
    " CSV (overwrite mode) \\\n",
    " JSON (overwrite mode) \\\n",
    " Parquet (snappy compression)"
   ]
  },
  {
   "cell_type": "markdown",
   "metadata": {
    "application/vnd.databricks.v1+cell": {
     "cellMetadata": {},
     "inputWidgets": {},
     "nuid": "0ba2f6b8-c7ec-4cc4-bd40-244a57150f50",
     "showTitle": false,
     "tableResultSettingsMap": {},
     "title": ""
    }
   },
   "source": [
    "Writting in CSV Format"
   ]
  },
  {
   "cell_type": "code",
   "execution_count": 0,
   "metadata": {
    "application/vnd.databricks.v1+cell": {
     "cellMetadata": {
      "byteLimit": 2048000,
      "rowLimit": 10000
     },
     "inputWidgets": {},
     "nuid": "f7f528f9-ec17-442d-95a7-9599652021a7",
     "showTitle": false,
     "tableResultSettingsMap": {},
     "title": ""
    }
   },
   "outputs": [],
   "source": [
    "course_df.write.mode('overwrite') \\\n",
    "               .format('csv') \\\n",
    "               .option('header', 'true') \\\n",
    "               .save('/Volumes/shared/default/courseenrollments/cleaned_course.csv')"
   ]
  },
  {
   "cell_type": "markdown",
   "metadata": {
    "application/vnd.databricks.v1+cell": {
     "cellMetadata": {},
     "inputWidgets": {},
     "nuid": "351d0661-e00f-4ef7-9302-d74e0f0a4158",
     "showTitle": false,
     "tableResultSettingsMap": {},
     "title": ""
    }
   },
   "source": [
    "Writting as a Json format"
   ]
  },
  {
   "cell_type": "code",
   "execution_count": 0,
   "metadata": {
    "application/vnd.databricks.v1+cell": {
     "cellMetadata": {
      "byteLimit": 2048000,
      "rowLimit": 10000
     },
     "inputWidgets": {},
     "nuid": "05942866-7813-4702-ac71-761a462a9cb8",
     "showTitle": false,
     "tableResultSettingsMap": {},
     "title": ""
    }
   },
   "outputs": [],
   "source": [
    "course_df.write.mode('overwrite') \\\n",
    "               .format('json') \\\n",
    "               .save('/Volumes/shared/default/courseenrollments/cleaned_course.json')"
   ]
  },
  {
   "cell_type": "markdown",
   "metadata": {
    "application/vnd.databricks.v1+cell": {
     "cellMetadata": {},
     "inputWidgets": {},
     "nuid": "f36a5cf7-0d91-4be2-9ca6-f4e0f68d738b",
     "showTitle": false,
     "tableResultSettingsMap": {},
     "title": ""
    }
   },
   "source": [
    "Writting as a Parquet format"
   ]
  },
  {
   "cell_type": "code",
   "execution_count": 0,
   "metadata": {
    "application/vnd.databricks.v1+cell": {
     "cellMetadata": {
      "byteLimit": 2048000,
      "rowLimit": 10000
     },
     "inputWidgets": {},
     "nuid": "bc77cd77-d53d-4dd6-8b40-332a1dcc7e05",
     "showTitle": false,
     "tableResultSettingsMap": {},
     "title": ""
    }
   },
   "outputs": [],
   "source": [
    "course_df.write.mode('overwrite') \\\n",
    "               .format('parquet') \\\n",
    "               .save('/Volumes/shared/default/courseenrollments/cleaned_course_parquet')"
   ]
  },
  {
   "cell_type": "markdown",
   "metadata": {
    "application/vnd.databricks.v1+cell": {
     "cellMetadata": {},
     "inputWidgets": {},
     "nuid": "4d6866a6-8ff6-4dda-a89e-d03ea978b556",
     "showTitle": false,
     "tableResultSettingsMap": {},
     "title": ""
    }
   },
   "source": [
    "Displaying all the files"
   ]
  },
  {
   "cell_type": "code",
   "execution_count": 0,
   "metadata": {
    "application/vnd.databricks.v1+cell": {
     "cellMetadata": {
      "byteLimit": 2048000,
      "rowLimit": 10000
     },
     "inputWidgets": {},
     "nuid": "81e58d75-b9a1-4732-b2f0-277bfa139560",
     "showTitle": false,
     "tableResultSettingsMap": {},
     "title": ""
    }
   },
   "outputs": [
    {
     "output_type": "stream",
     "name": "stdout",
     "output_type": "stream",
     "text": [
      "dbfs:/Volumes/shared/default/courseenrollments/cleaned_course.csv/\ndbfs:/Volumes/shared/default/courseenrollments/cleaned_course.json/\ndbfs:/Volumes/shared/default/courseenrollments/cleaned_course_parquet/\ndbfs:/Volumes/shared/default/courseenrollments/course_enrollments.csv\n"
     ]
    }
   ],
   "source": [
    "files = dbutils.fs.ls('/Volumes/shared/default/courseenrollments/')\n",
    "for row in files:\n",
    "    print(row.path)"
   ]
  }
 ],
 "metadata": {
  "application/vnd.databricks.v1+notebook": {
   "computePreferences": null,
   "dashboards": [],
   "environmentMetadata": {
    "base_environment": "",
    "environment_version": "2"
   },
   "inputWidgetPreferences": null,
   "language": "python",
   "notebookMetadata": {
    "pythonIndentUnit": 4
   },
   "notebookName": "Exercise1_June16",
   "widgets": {}
  },
  "language_info": {
   "name": "python"
  }
 },
 "nbformat": 4,
 "nbformat_minor": 0
}