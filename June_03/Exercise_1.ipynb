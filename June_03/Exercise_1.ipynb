{
  "nbformat": 4,
  "nbformat_minor": 0,
  "metadata": {
    "colab": {
      "provenance": []
    },
    "kernelspec": {
      "name": "python3",
      "display_name": "Python 3"
    },
    "language_info": {
      "name": "python"
    }
  },
  "cells": [
    {
      "cell_type": "code",
      "execution_count": 62,
      "metadata": {
        "colab": {
          "base_uri": "https://localhost:8080/",
          "height": 219
        },
        "id": "nun48vfDGnWm",
        "outputId": "f1a61e95-a804-4d0e-f691-e67663799d8c"
      },
      "outputs": [
        {
          "output_type": "execute_result",
          "data": {
            "text/plain": [
              "<pyspark.sql.session.SparkSession at 0x7e81582fedd0>"
            ],
            "text/html": [
              "\n",
              "            <div>\n",
              "                <p><b>SparkSession - in-memory</b></p>\n",
              "                \n",
              "        <div>\n",
              "            <p><b>SparkContext</b></p>\n",
              "\n",
              "            <p><a href=\"http://946bc84e8696:4040\">Spark UI</a></p>\n",
              "\n",
              "            <dl>\n",
              "              <dt>Version</dt>\n",
              "                <dd><code>v3.5.1</code></dd>\n",
              "              <dt>Master</dt>\n",
              "                <dd><code>local[*]</code></dd>\n",
              "              <dt>AppName</dt>\n",
              "                <dd><code>Colab PySpark Setup Employee data set</code></dd>\n",
              "            </dl>\n",
              "        </div>\n",
              "        \n",
              "            </div>\n",
              "        "
            ]
          },
          "metadata": {},
          "execution_count": 62
        }
      ],
      "source": [
        "from pyspark.sql import SparkSession\n",
        "from pyspark.sql.functions import avg, round, max\n",
        "from google.colab import drive # Mount Google Drive\n",
        "\n",
        "# Creating new session\n",
        "spark = SparkSession.builder \\\n",
        "                    .appName(\"Colab PySpark Setup Employee data set\") \\\n",
        "                    .getOrCreate()\n",
        "spark"
      ]
    },
    {
      "cell_type": "code",
      "source": [
        "drive.mount('/content/drive')\n",
        "\n",
        "# Reading CSV file from drive\n",
        "employee_df = spark.read.csv('/content/drive/MyDrive/SalesData/large_employee_dataset.csv', header=True, inferSchema=True)"
      ],
      "metadata": {
        "colab": {
          "base_uri": "https://localhost:8080/"
        },
        "id": "OGfeCxaPHsRa",
        "outputId": "d261ca31-16c8-428d-a63b-a87d77dc6540"
      },
      "execution_count": 4,
      "outputs": [
        {
          "output_type": "stream",
          "name": "stdout",
          "text": [
            "Mounted at /content/drive\n",
            "+----------+--------------------+---+----------+------+-----------+--------+-------------------+\n",
            "|EmployeeID|                Name|Age|Department|Salary|JoiningDate|  Status|               City|\n",
            "+----------+--------------------+---+----------+------+-----------+--------+-------------------+\n",
            "|      4128|     Charles Johnson| 52|        HR| 64039| 2018-07-07|Resigned|          Allentown|\n",
            "|      6094|       Dylan Camacho| 57| Marketing| 34686| 2015-08-25|  Active|        Anthonyfort|\n",
            "|      5883| Mr. Ryan Bowman Jr.| 29|   Finance| 64541| 2025-03-11|On Leave|          Gilesstad|\n",
            "|      9146|          Brian Ball| 24|     Sales| 87831| 2015-10-01|Resigned|       Jenniferfurt|\n",
            "|      1918|       Angela Hooper| 26|   Finance|108773| 2019-08-14|On Leave|       Lake Amystad|\n",
            "|      4600|Alexander Johnson...| 45|     Sales| 75671| 2016-04-21|On Leave|         Russohaven|\n",
            "|      6253|         Steven Lane| 47|   Finance| 64982| 2021-07-25|  Active|        East Robert|\n",
            "|      8278|       Riley Johnson| 49|        HR| 43449| 2015-08-03|Resigned|         New Thomas|\n",
            "|      8520|    Emily Washington| 43|   Finance| 33851| 2021-11-30|Resigned|        West Ashley|\n",
            "|      1298|     Valerie Fleming| 42| Marketing| 70137| 2019-12-08|Resigned|        Caseborough|\n",
            "|      5157|     Tracy Hughes MD| 28|   Finance| 34381| 2020-06-01|  Active|       West Phillip|\n",
            "|      7403|    Johnathan Harmon| 50|        HR| 97666| 2021-03-09|On Leave|           Jillport|\n",
            "|      3326|       Michael Brown| 28|        HR| 85122| 2023-10-21|Resigned|          Port Mark|\n",
            "|      8989|       Scott Burnett| 48|     Sales| 93690| 2016-04-25|Resigned|     North Brittany|\n",
            "|      4676|  Christopher Fuller| 30|        HR| 63042| 2021-04-30|Resigned|   South Donnaville|\n",
            "|      6598|         Mary Henson| 58|        IT| 63951| 2021-08-25|  Active|        Port Tricia|\n",
            "|      4136|       Jerome Torres| 30|   Finance| 68213| 2024-11-30|  Active|North Justinborough|\n",
            "|      6640|     Isaiah Martinez| 51| Marketing| 72596| 2021-07-26|On Leave|       Mcgeechester|\n",
            "|      6406|       Patrick Chung| 27|        HR|116423| 2024-07-05|  Active|         Tonyamouth|\n",
            "|      1515|        Micheal Wade| 26|        HR| 41771| 2024-03-29|  Active|     Jimenezborough|\n",
            "+----------+--------------------+---+----------+------+-----------+--------+-------------------+\n",
            "only showing top 20 rows\n",
            "\n"
          ]
        }
      ]
    },
    {
      "cell_type": "markdown",
      "source": [
        "# Exercises\n",
        " Basic Exploration"
      ],
      "metadata": {
        "id": "DDRuD04vIk4f"
      }
    },
    {
      "cell_type": "code",
      "source": [
        "# 1. Show the top 10 rows of the dataset.\n",
        "print(\"\\n Displaying Top 10 records\")\n",
        "employee_df.show(10)\n",
        "\n",
        "# 2. Count the total number of employees.\n",
        "print(\"\\n Displaying Total Number of Employees\")\n",
        "print(employee_df.count())\n",
        "\n",
        "# 3. Display unique departments.\n",
        "print(\"\\n Displaying Unique Departments\")\n",
        "employee_df.select(\"Department\").distinct().show()"
      ],
      "metadata": {
        "colab": {
          "base_uri": "https://localhost:8080/"
        },
        "id": "hiLJOmIvIioO",
        "outputId": "ae432a3b-161b-4318-e362-8ab018845597"
      },
      "execution_count": 63,
      "outputs": [
        {
          "output_type": "stream",
          "name": "stdout",
          "text": [
            "\n",
            " Displaying Top 10 records\n",
            "+----------+--------------------+---+----------+------+-----------+--------+------------+-----------------+\n",
            "|EmployeeID|                Name|Age|Department|Salary|JoiningDate|  Status|        City|YearsOfExperience|\n",
            "+----------+--------------------+---+----------+------+-----------+--------+------------+-----------------+\n",
            "|      4128|     Charles Johnson| 52|        HR| 64039| 2018-07-07|Resigned|   Allentown|                6|\n",
            "|      6094|       Dylan Camacho| 57| Marketing| 34686| 2015-08-25|  Active| Anthonyfort|                9|\n",
            "|      5883| Mr. Ryan Bowman Jr.| 29|   Finance| 64541| 2025-03-11|On Leave|   Gilesstad|                0|\n",
            "|      9146|          Brian Ball| 24|     Sales| 87831| 2015-10-01|Resigned|Jenniferfurt|                9|\n",
            "|      1918|       Angela Hooper| 26|   Finance|108773| 2019-08-14|On Leave|Lake Amystad|                5|\n",
            "|      4600|Alexander Johnson...| 45|     Sales| 75671| 2016-04-21|On Leave|  Russohaven|                9|\n",
            "|      6253|         Steven Lane| 47|   Finance| 64982| 2021-07-25|  Active| East Robert|                3|\n",
            "|      8278|       Riley Johnson| 49|        HR| 43449| 2015-08-03|Resigned|  New Thomas|                9|\n",
            "|      8520|    Emily Washington| 43|   Finance| 33851| 2021-11-30|Resigned| West Ashley|                3|\n",
            "|      1298|     Valerie Fleming| 42| Marketing| 70137| 2019-12-08|Resigned| Caseborough|                5|\n",
            "+----------+--------------------+---+----------+------+-----------+--------+------------+-----------------+\n",
            "only showing top 10 rows\n",
            "\n",
            "\n",
            " Displaying Total Number of Employees\n",
            "500\n",
            "\n",
            " Displaying Unique Departments\n",
            "+----------+\n",
            "|Department|\n",
            "+----------+\n",
            "|     Sales|\n",
            "|        HR|\n",
            "|   Finance|\n",
            "| Marketing|\n",
            "|        IT|\n",
            "+----------+\n",
            "\n"
          ]
        }
      ]
    },
    {
      "cell_type": "markdown",
      "source": [
        "Filtering & Sorting"
      ],
      "metadata": {
        "id": "YXLx0t2_JbiW"
      }
    },
    {
      "cell_type": "code",
      "source": [
        "# 4.Filter all employees in the \"IT\" department.\n",
        "print(\"\\n Displaying Employees of IT department\")\n",
        "employee_df.filter(employee_df[\"Department\"] == \"IT\") \\\n",
        "           .select(\"EmployeeID\", \"Name\", \"JoiningDate\", \"Status\") \\\n",
        "           .show()\n",
        "\n",
        "# 5. Show employees aged between 30 and 40.\n",
        "print(\"\\n Displaying Employees aged between 30 and 40\")\n",
        "employee_df.filter((employee_df[\"Age\"] >= 30) &( employee_df[\"Age\"] <= 40)) \\\n",
        "          .select(\"EmployeeID\", \"Name\", \"Age\", \"JoiningDate\", \"Status\") \\\n",
        "          .show()\n",
        "\n",
        "# 6. Sort employees by Salary in descending order.\n",
        "print(\"\\n Displaying Employees sorted by Salary in descending order\")\n",
        "employee_df.orderBy(employee_df[\"Salary\"].desc()) \\\n",
        "           .select(\"EmployeeID\", \"Name\", \"Salary\", \"JoiningDate\", \"Status\") \\\n",
        "           .show()\n",
        "\n",
        "\n"
      ],
      "metadata": {
        "colab": {
          "base_uri": "https://localhost:8080/"
        },
        "id": "caOahNdCJdmK",
        "outputId": "39230730-e9dc-4db9-f1e0-820eb6a49ed3"
      },
      "execution_count": 28,
      "outputs": [
        {
          "output_type": "stream",
          "name": "stdout",
          "text": [
            "\n",
            " Displaying Employees of IT department\n",
            "+----------+-------------------+-----------+--------+\n",
            "|EmployeeID|               Name|JoiningDate|  Status|\n",
            "+----------+-------------------+-----------+--------+\n",
            "|      6598|        Mary Henson| 2021-08-25|  Active|\n",
            "|      8518|   Elizabeth Abbott| 2022-11-05|  Active|\n",
            "|      9506|        Thomas Dunn| 2020-07-12|On Leave|\n",
            "|      9663|        Glenn Mason| 2020-03-27|On Leave|\n",
            "|      2106|     Richard Bailey| 2021-06-29|Resigned|\n",
            "|      8212|      Jacob Jackson| 2020-09-18|On Leave|\n",
            "|      6354|     Nicole Gilmore| 2018-05-04|  Active|\n",
            "|      5716|         David Wang| 2016-03-12|Resigned|\n",
            "|      1181|       Joseph Clark| 2016-05-31|On Leave|\n",
            "|      8302|      Debra Swanson| 2023-10-25|Resigned|\n",
            "|      9542|      Jeffrey Frank| 2024-01-28|On Leave|\n",
            "|      4100|Christopher Jimenez| 2017-03-13|  Active|\n",
            "|      5780|     Kevin Harrison| 2024-03-28|  Active|\n",
            "|      5572|    Andrew Harrison| 2021-12-08|  Active|\n",
            "|      6388|        Melissa Lee| 2016-05-10|  Active|\n",
            "|      7984|         Paige Hall| 2017-01-29|On Leave|\n",
            "|      6043|        Casey Olson| 2022-01-27|  Active|\n",
            "|      2817|      Tony Mcdonald| 2018-06-21|On Leave|\n",
            "|      1982|     Jackie Herring| 2023-11-13|On Leave|\n",
            "|      9259|       Shelly James| 2018-04-13|On Leave|\n",
            "+----------+-------------------+-----------+--------+\n",
            "only showing top 20 rows\n",
            "\n",
            "\n",
            " Displaying Employees aged between 30 and 40\n",
            "+----------+------------------+---+-----------+--------+\n",
            "|EmployeeID|              Name|Age|JoiningDate|  Status|\n",
            "+----------+------------------+---+-----------+--------+\n",
            "|      4676|Christopher Fuller| 30| 2021-04-30|Resigned|\n",
            "|      4136|     Jerome Torres| 30| 2024-11-30|  Active|\n",
            "|      1588|       Edwin Burns| 34| 2015-09-14|Resigned|\n",
            "|      8074|       Fred Brewer| 30| 2021-06-06|On Leave|\n",
            "|      3841|       April Allen| 36| 2020-05-20|  Active|\n",
            "|      8212|     Jacob Jackson| 35| 2020-09-18|On Leave|\n",
            "|      3325|       Brian Huynh| 40| 2017-01-02|On Leave|\n",
            "|      6180|     Robert Cortez| 35| 2023-12-31|Resigned|\n",
            "|      6354|    Nicole Gilmore| 35| 2018-05-04|  Active|\n",
            "|      6364|       James Hogan| 33| 2023-12-05|  Active|\n",
            "|      6913|   Dustin Williams| 34| 2023-10-16|On Leave|\n",
            "|      3115|   Benjamin Turner| 38| 2018-03-20|Resigned|\n",
            "|      7527|      Bobby Henson| 34| 2022-11-24|On Leave|\n",
            "|      5620|  Christina Reeves| 34| 2024-01-16|On Leave|\n",
            "|      9939|      Karen Hansen| 37| 2021-07-30|Resigned|\n",
            "|      6509|     Joann Frazier| 38| 2024-01-11|Resigned|\n",
            "|      6340|     Kenneth Smith| 38| 2018-12-29|Resigned|\n",
            "|      1181|      Joseph Clark| 33| 2016-05-31|On Leave|\n",
            "|      7098|     Hayley Reeves| 38| 2022-03-26|  Active|\n",
            "|      9542|     Jeffrey Frank| 34| 2024-01-28|On Leave|\n",
            "+----------+------------------+---+-----------+--------+\n",
            "only showing top 20 rows\n",
            "\n",
            "\n",
            " Displaying Employees sorted by Salary in descending order\n",
            "+----------+--------------------+------+-----------+--------+\n",
            "|EmployeeID|                Name|Salary|JoiningDate|  Status|\n",
            "+----------+--------------------+------+-----------+--------+\n",
            "|      8860|       Cody Williams|119978| 2019-03-16|Resigned|\n",
            "|      4585|      Sandra Webster|119940| 2022-10-21|On Leave|\n",
            "|      4667|         Ronald Hunt|119677| 2019-08-29|Resigned|\n",
            "|      1602|    Deborah Williams|119397| 2023-09-26|On Leave|\n",
            "|      3374|        Amanda Green|119316| 2021-04-08|Resigned|\n",
            "|      6329|       Heidi Shaffer|119165| 2020-01-14|Resigned|\n",
            "|      2428|        Mary Stevens|119137| 2022-03-06|On Leave|\n",
            "|      1545|Brittany Christensen|119038| 2020-10-25|Resigned|\n",
            "|      2581|    Alexandria Jones|119009| 2017-01-22|On Leave|\n",
            "|      5572|     Andrew Harrison|118992| 2021-12-08|  Active|\n",
            "|      7459|    Abigail Robinson|118959| 2021-09-23|  Active|\n",
            "|      7431|    Richard Mccarthy|118682| 2025-02-12|On Leave|\n",
            "|      5998|       Bruce Serrano|118641| 2019-02-02|  Active|\n",
            "|      9714|          Kevin Reid|118584| 2015-10-03|  Active|\n",
            "|      1143|     Stacey Schwartz|118504| 2022-01-24|  Active|\n",
            "|      3580|         Jamie Baker|118225| 2017-07-20|  Active|\n",
            "|      9485|        Dennis Rivas|118187| 2019-05-26|On Leave|\n",
            "|      1943|          Roy Willis|118172| 2016-03-05|  Active|\n",
            "|      5755|        Erika Ortega|117517| 2023-04-16|On Leave|\n",
            "|      7350|         Jenna Patel|117237| 2016-04-11|On Leave|\n",
            "+----------+--------------------+------+-----------+--------+\n",
            "only showing top 20 rows\n",
            "\n"
          ]
        }
      ]
    },
    {
      "cell_type": "markdown",
      "source": [
        "Aggregation Tasks"
      ],
      "metadata": {
        "id": "O_Ce9-GXMeWW"
      }
    },
    {
      "cell_type": "code",
      "source": [
        "# 7. Get the average salary by department\n",
        "print(\"\\n Displaying Average Salary by Department\")\n",
        "employee_df.groupBy(\"Department\") \\\n",
        "           .agg(round(avg(\"Salary\"), 2) \\\n",
        "           .alias(\"AverageSalary\")) \\\n",
        "           .select(\"Department\", \"AverageSalary\") \\\n",
        "           .show()\n",
        "\n",
        "# 8. Count of employees by Status.\n",
        "print(\"\\n Displaying Count of Employees by Status\")\n",
        "employee_df.groupBy([\"Status\"]).count().show()\n",
        "\n",
        "# 9. Highest salary in each city.\n",
        "print(\"\\n Displaying Highest salary in each city. \")\n",
        "employee_df.groupBy([\"City\"]).agg(max(\"Salary\") \\\n",
        "                             .alias(\"Maximum Salary\")).show()\n",
        "\n"
      ],
      "metadata": {
        "colab": {
          "base_uri": "https://localhost:8080/"
        },
        "id": "SqpePBhUMgwL",
        "outputId": "550c09c5-0bfc-4bdc-e09a-65b440adf710"
      },
      "execution_count": 38,
      "outputs": [
        {
          "output_type": "stream",
          "name": "stdout",
          "text": [
            "\n",
            " Displaying Average Salary by Department\n",
            "+----------+-------------+\n",
            "|Department|AverageSalary|\n",
            "+----------+-------------+\n",
            "|     Sales|     77488.55|\n",
            "|        HR|     76091.27|\n",
            "|   Finance|     72834.76|\n",
            "| Marketing|     71958.19|\n",
            "|        IT|     73116.26|\n",
            "+----------+-------------+\n",
            "\n",
            "\n",
            " Displaying Count of Employees by Status\n",
            "+--------+-----+\n",
            "|  Status|count|\n",
            "+--------+-----+\n",
            "|Resigned|  159|\n",
            "|  Active|  172|\n",
            "|On Leave|  169|\n",
            "+--------+-----+\n",
            "\n",
            "\n",
            " Displaying Highest salary in each city. \n",
            "+----------------+--------------+\n",
            "|            City|Maximum Salary|\n",
            "+----------------+--------------+\n",
            "|   Wilsonchester|         67025|\n",
            "|     Bradshawton|        111116|\n",
            "|       Steventon|         32009|\n",
            "|     Lake Alyssa|         84903|\n",
            "|      North Lisa|         57898|\n",
            "|    North Marvin|         66252|\n",
            "|     Jenniferton|         39907|\n",
            "|     Buckleyview|         50109|\n",
            "|     Burtonville|         98492|\n",
            "|    Johnsonmouth|         48799|\n",
            "|    South Joseph|         52456|\n",
            "|  Lindseychester|         90340|\n",
            "|   North Stephen|         91947|\n",
            "|Port Nicoleshire|         57537|\n",
            "|    Jerrychester|         53374|\n",
            "|  North Jennifer|         82486|\n",
            "|      Laurenstad|         44608|\n",
            "|West Brendanbury|         90698|\n",
            "|       Juliaberg|         50170|\n",
            "|       New James|         54378|\n",
            "+----------------+--------------+\n",
            "only showing top 20 rows\n",
            "\n"
          ]
        }
      ]
    },
    {
      "cell_type": "markdown",
      "source": [
        "GroupBy and Analysis"
      ],
      "metadata": {
        "id": "q0S-2G6dPRYF"
      }
    },
    {
      "cell_type": "code",
      "source": [
        "from pyspark.sql.functions import year\n",
        "\n",
        "# 10. Total number of employees who joined each year.\n",
        "print(\"\\n Displaying Total number of employees who joined each year.\")\n",
        "employee_df.withColumn(\"JoiningYear\", year(\"JoiningDate\")) \\\n",
        "           .groupBy(\"JoiningYear\") \\\n",
        "           .count() \\\n",
        "           .withColumnRenamed(\"count\", \"TotalEmployees\") \\\n",
        "           .show()\n",
        "\n",
        "# 11. Department-wise count of employees who are currently \"Active\".\n",
        "print(\"\\n Displaying Department-wise count of employees who are currently Active\")\n",
        "employee_df.filter(employee_df[\"Status\"] == \"Active\") \\\n",
        "          .groupBy(\"Department\") \\\n",
        "          .count() \\\n",
        "          .withColumnRenamed(\"count\", \"ActiveEmployees\") \\\n",
        "          .show()\n",
        "\n",
        "# 12. Average age of employees per department.\n",
        "print(\"\\n Displaying Average age of employees per department\")\n",
        "employee_df.groupBy(\"Department\") \\\n",
        "           .agg(round(avg(\"Age\"), 2) \\\n",
        "           .alias(\"Average Age\")) \\\n",
        "           .show()\n",
        "\n"
      ],
      "metadata": {
        "colab": {
          "base_uri": "https://localhost:8080/"
        },
        "id": "Wkw1QrfjPS17",
        "outputId": "2995f6df-54bf-4b1c-cdc2-8afe9eb49afa"
      },
      "execution_count": 51,
      "outputs": [
        {
          "output_type": "stream",
          "name": "stdout",
          "text": [
            "\n",
            " Displaying Total number of employees who joined each year.\n",
            "+-----------+--------------+\n",
            "|JoiningYear|TotalEmployees|\n",
            "+-----------+--------------+\n",
            "|       2025|            27|\n",
            "|       2018|            52|\n",
            "|       2015|            37|\n",
            "|       2023|            47|\n",
            "|       2022|            49|\n",
            "|       2019|            52|\n",
            "|       2020|            56|\n",
            "|       2016|            49|\n",
            "|       2024|            38|\n",
            "|       2017|            44|\n",
            "|       2021|            49|\n",
            "+-----------+--------------+\n",
            "\n",
            "\n",
            " Displaying Department-wise count of employees who are currently Active\n",
            "+----------+---------------+\n",
            "|Department|ActiveEmployees|\n",
            "+----------+---------------+\n",
            "|     Sales|             32|\n",
            "|        HR|             37|\n",
            "|   Finance|             45|\n",
            "| Marketing|             32|\n",
            "|        IT|             26|\n",
            "+----------+---------------+\n",
            "\n",
            "\n",
            " Displaying Average age of employees per department\n",
            "+----------+-----------+\n",
            "|Department|Average Age|\n",
            "+----------+-----------+\n",
            "|     Sales|      40.54|\n",
            "|        HR|      41.46|\n",
            "|   Finance|      39.21|\n",
            "| Marketing|      41.82|\n",
            "|        IT|      38.69|\n",
            "+----------+-----------+\n",
            "\n"
          ]
        }
      ]
    },
    {
      "cell_type": "markdown",
      "source": [
        "Joining (Use another DataFrame for mapping)"
      ],
      "metadata": {
        "id": "gxkS0-wxR2sG"
      }
    },
    {
      "cell_type": "code",
      "source": [
        "# 13. Create another dataset with City and Region, and join it.\n",
        "region_df = spark.read.csv('/content/drive/MyDrive/SalesData/Regions.csv', header=True, inferSchema=True)\n",
        "print(\"\\n Displaying Region dataset\")\n",
        "region_df.show()\n",
        "\n",
        "#Joining region_df with employee_df\n",
        "joined_df = employee_df.join(region_df, on=\"City\", how=\"left\")\n",
        "\n",
        "print(\"\\nDisplaying the dataset after join:\")\n",
        "joined_df.select(employee_df[\"*\"], region_df[\"Region\"]).show()\n",
        "\n",
        "# 14. Group salaries by Region after the join.\n",
        "print(\"\\nDisplaying Salaries grouped by Region:\")\n",
        "joined_df.groupBy(\"Region\") \\\n",
        "         .agg(round(avg(\"Salary\"), 2).alias(\"AverageSalary\")) \\\n",
        "         .orderBy(\"Region\") \\\n",
        "         .show()\n",
        "\n",
        "\n",
        "\n"
      ],
      "metadata": {
        "colab": {
          "base_uri": "https://localhost:8080/"
        },
        "id": "WjFomRP_R40s",
        "outputId": "0c3f7bbd-e55e-4657-9ecd-d0e65e106e32"
      },
      "execution_count": 56,
      "outputs": [
        {
          "output_type": "stream",
          "name": "stdout",
          "text": [
            "\n",
            " Displaying Region dataset\n",
            "+-------------------+------+\n",
            "|               City|Region|\n",
            "+-------------------+------+\n",
            "|          Allentown|  East|\n",
            "|        Anthonyfort|  West|\n",
            "|          Gilesstad| North|\n",
            "|       Jenniferfurt| South|\n",
            "|       Lake Amystad|  West|\n",
            "|         Russohaven| North|\n",
            "|        East Robert|  East|\n",
            "|         New Thomas| South|\n",
            "|        West Ashley|  West|\n",
            "|        Caseborough| North|\n",
            "|       West Phillip|  West|\n",
            "|           Jillport|  East|\n",
            "|          Port Mark| South|\n",
            "|     North Brittany| North|\n",
            "|   South Donnaville| South|\n",
            "|        Port Tricia|  West|\n",
            "|North Justinborough| North|\n",
            "|       Mcgeechester|  East|\n",
            "|         Tonyamouth|  West|\n",
            "|     Jimenezborough| South|\n",
            "+-------------------+------+\n",
            "only showing top 20 rows\n",
            "\n",
            "\n",
            "Displaying the dataset after join:\n",
            "+----------+--------------------+---+----------+------+-----------+--------+-------------------+------+\n",
            "|EmployeeID|                Name|Age|Department|Salary|JoiningDate|  Status|               City|Region|\n",
            "+----------+--------------------+---+----------+------+-----------+--------+-------------------+------+\n",
            "|      4128|     Charles Johnson| 52|        HR| 64039| 2018-07-07|Resigned|          Allentown|  East|\n",
            "|      6094|       Dylan Camacho| 57| Marketing| 34686| 2015-08-25|  Active|        Anthonyfort|  West|\n",
            "|      5883| Mr. Ryan Bowman Jr.| 29|   Finance| 64541| 2025-03-11|On Leave|          Gilesstad| North|\n",
            "|      9146|          Brian Ball| 24|     Sales| 87831| 2015-10-01|Resigned|       Jenniferfurt| South|\n",
            "|      1918|       Angela Hooper| 26|   Finance|108773| 2019-08-14|On Leave|       Lake Amystad|  West|\n",
            "|      4600|Alexander Johnson...| 45|     Sales| 75671| 2016-04-21|On Leave|         Russohaven| North|\n",
            "|      6253|         Steven Lane| 47|   Finance| 64982| 2021-07-25|  Active|        East Robert|  East|\n",
            "|      8278|       Riley Johnson| 49|        HR| 43449| 2015-08-03|Resigned|         New Thomas| South|\n",
            "|      8520|    Emily Washington| 43|   Finance| 33851| 2021-11-30|Resigned|        West Ashley|  West|\n",
            "|      1298|     Valerie Fleming| 42| Marketing| 70137| 2019-12-08|Resigned|        Caseborough| North|\n",
            "|      5157|     Tracy Hughes MD| 28|   Finance| 34381| 2020-06-01|  Active|       West Phillip|  West|\n",
            "|      7403|    Johnathan Harmon| 50|        HR| 97666| 2021-03-09|On Leave|           Jillport|  East|\n",
            "|      3326|       Michael Brown| 28|        HR| 85122| 2023-10-21|Resigned|          Port Mark| South|\n",
            "|      8989|       Scott Burnett| 48|     Sales| 93690| 2016-04-25|Resigned|     North Brittany| North|\n",
            "|      4676|  Christopher Fuller| 30|        HR| 63042| 2021-04-30|Resigned|   South Donnaville| South|\n",
            "|      6598|         Mary Henson| 58|        IT| 63951| 2021-08-25|  Active|        Port Tricia|  West|\n",
            "|      4136|       Jerome Torres| 30|   Finance| 68213| 2024-11-30|  Active|North Justinborough| North|\n",
            "|      6640|     Isaiah Martinez| 51| Marketing| 72596| 2021-07-26|On Leave|       Mcgeechester|  East|\n",
            "|      6406|       Patrick Chung| 27|        HR|116423| 2024-07-05|  Active|         Tonyamouth|  West|\n",
            "|      1515|        Micheal Wade| 26|        HR| 41771| 2024-03-29|  Active|     Jimenezborough| South|\n",
            "+----------+--------------------+---+----------+------+-----------+--------+-------------------+------+\n",
            "only showing top 20 rows\n",
            "\n",
            "\n",
            "Displaying Salaries grouped by Region:\n",
            "+------+-------------+\n",
            "|Region|AverageSalary|\n",
            "+------+-------------+\n",
            "|  NULL|     74498.73|\n",
            "|  East|      77924.6|\n",
            "| North|     73892.83|\n",
            "| South|     65942.13|\n",
            "|  West|     69113.86|\n",
            "+------+-------------+\n",
            "\n"
          ]
        }
      ]
    },
    {
      "cell_type": "markdown",
      "source": [
        "Date Operation"
      ],
      "metadata": {
        "id": "wx5ZUb2xUQQM"
      }
    },
    {
      "cell_type": "code",
      "source": [
        "from pyspark.sql.functions import current_date, months_between, col, floor\n",
        "\n",
        "# 15. Calculate years of experience for each employee (current date - JoiningDate)\n",
        "\n",
        "employee_df = employee_df.withColumn(\n",
        "    \"YearsOfExperience\",\n",
        "    floor(months_between(current_date(), col(\"JoiningDate\")) / 12)\n",
        ")\n",
        "\n",
        "print(\"\\n Displaying years of experience for each employee\")\n",
        "employee_df.select(\"EmployeeID\", \"Name\", \"JoiningDate\", \"YearsOfExperience\").show()\n",
        "\n",
        "# 16. List all employees with more than 5 years of experience\n",
        "print(\"\\n Displaying employees with more than 5 years of experience\")\n",
        "employee_df.filter(employee_df[\"YearsOfExperience\"] > 5) \\\n",
        "           .select(\"EmployeeID\", \"Name\", \"YearsOfExperience\") \\\n",
        "           .show()"
      ],
      "metadata": {
        "colab": {
          "base_uri": "https://localhost:8080/"
        },
        "id": "s7EaIrg_US37",
        "outputId": "ef910b9f-2181-4a95-e384-da168a899c9b"
      },
      "execution_count": 61,
      "outputs": [
        {
          "output_type": "stream",
          "name": "stdout",
          "text": [
            "\n",
            " Displaying years of experience for each employee\n",
            "+----------+--------------------+-----------+-----------------+\n",
            "|EmployeeID|                Name|JoiningDate|YearsOfExperience|\n",
            "+----------+--------------------+-----------+-----------------+\n",
            "|      4128|     Charles Johnson| 2018-07-07|                6|\n",
            "|      6094|       Dylan Camacho| 2015-08-25|                9|\n",
            "|      5883| Mr. Ryan Bowman Jr.| 2025-03-11|                0|\n",
            "|      9146|          Brian Ball| 2015-10-01|                9|\n",
            "|      1918|       Angela Hooper| 2019-08-14|                5|\n",
            "|      4600|Alexander Johnson...| 2016-04-21|                9|\n",
            "|      6253|         Steven Lane| 2021-07-25|                3|\n",
            "|      8278|       Riley Johnson| 2015-08-03|                9|\n",
            "|      8520|    Emily Washington| 2021-11-30|                3|\n",
            "|      1298|     Valerie Fleming| 2019-12-08|                5|\n",
            "|      5157|     Tracy Hughes MD| 2020-06-01|                5|\n",
            "|      7403|    Johnathan Harmon| 2021-03-09|                4|\n",
            "|      3326|       Michael Brown| 2023-10-21|                1|\n",
            "|      8989|       Scott Burnett| 2016-04-25|                9|\n",
            "|      4676|  Christopher Fuller| 2021-04-30|                4|\n",
            "|      6598|         Mary Henson| 2021-08-25|                3|\n",
            "|      4136|       Jerome Torres| 2024-11-30|                0|\n",
            "|      6640|     Isaiah Martinez| 2021-07-26|                3|\n",
            "|      6406|       Patrick Chung| 2024-07-05|                0|\n",
            "|      1515|        Micheal Wade| 2024-03-29|                1|\n",
            "+----------+--------------------+-----------+-----------------+\n",
            "only showing top 20 rows\n",
            "\n",
            "\n",
            " Displaying employees with more than 5 years of experience\n",
            "+----------+--------------------+-----------------+\n",
            "|EmployeeID|                Name|YearsOfExperience|\n",
            "+----------+--------------------+-----------------+\n",
            "|      4128|     Charles Johnson|                6|\n",
            "|      6094|       Dylan Camacho|                9|\n",
            "|      9146|          Brian Ball|                9|\n",
            "|      4600|Alexander Johnson...|                9|\n",
            "|      8278|       Riley Johnson|                9|\n",
            "|      8989|       Scott Burnett|                9|\n",
            "|      2758|       Brittany Kerr|                6|\n",
            "|      1588|         Edwin Burns|                9|\n",
            "|      8729|       Mary Reynolds|                6|\n",
            "|      2039|           Erin Berg|                7|\n",
            "|      8923|         Jason Hines|                9|\n",
            "|      8423|Christopher Mcdaniel|               10|\n",
            "|      6257|      Victoria Kelly|                7|\n",
            "|      6580|      Heather Nelson|               10|\n",
            "|      4834|         Paul Porter|                7|\n",
            "|      3325|         Brian Huynh|                8|\n",
            "|      7916|          James West|                8|\n",
            "|      2858|     Cameron Shelton|                9|\n",
            "|      6354|      Nicole Gilmore|                7|\n",
            "|      5716|          David Wang|                9|\n",
            "+----------+--------------------+-----------------+\n",
            "only showing top 20 rows\n",
            "\n"
          ]
        }
      ]
    },
    {
      "cell_type": "code",
      "source": [],
      "metadata": {
        "id": "19pJi_3rUXav"
      },
      "execution_count": null,
      "outputs": []
    }
  ]
}