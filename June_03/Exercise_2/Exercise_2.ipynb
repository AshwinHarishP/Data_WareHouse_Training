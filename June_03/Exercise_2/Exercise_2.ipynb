{
  "nbformat": 4,
  "nbformat_minor": 0,
  "metadata": {
    "colab": {
      "provenance": []
    },
    "kernelspec": {
      "name": "python3",
      "display_name": "Python 3"
    },
    "language_info": {
      "name": "python"
    }
  },
  "cells": [
    {
      "cell_type": "markdown",
      "source": [
        "Import Statments"
      ],
      "metadata": {
        "id": "vm1SNlaSKQL_"
      }
    },
    {
      "cell_type": "code",
      "source": [
        "from pyspark.sql import SparkSession\n",
        "from pyspark.sql.functions import avg, round, max, sum, rand, month, year,  current_date, datediff, col, when, min, udf\n",
        "from pyspark.sql.functions import to_json, struct, from_json, get_json_object\n",
        "from pyspark.sql.types import StructType, StructField, StringType, DoubleType\n",
        "from google.colab import drive\n"
      ],
      "metadata": {
        "id": "BlTha7AkKPN6"
      },
      "execution_count": 176,
      "outputs": []
    },
    {
      "cell_type": "markdown",
      "source": [
        "Creating Spark session"
      ],
      "metadata": {
        "id": "5H80Kxoj_r1X"
      }
    },
    {
      "cell_type": "code",
      "execution_count": 151,
      "metadata": {
        "colab": {
          "base_uri": "https://localhost:8080/",
          "height": 219
        },
        "id": "xUGP7ccm-2xR",
        "outputId": "fd830763-93cf-432b-f8dd-d647575224cf"
      },
      "outputs": [
        {
          "output_type": "execute_result",
          "data": {
            "text/plain": [
              "<pyspark.sql.session.SparkSession at 0x7cd6d1635e50>"
            ],
            "text/html": [
              "\n",
              "            <div>\n",
              "                <p><b>SparkSession - in-memory</b></p>\n",
              "                \n",
              "        <div>\n",
              "            <p><b>SparkContext</b></p>\n",
              "\n",
              "            <p><a href=\"http://a1e3d2779b40:4040\">Spark UI</a></p>\n",
              "\n",
              "            <dl>\n",
              "              <dt>Version</dt>\n",
              "                <dd><code>v3.5.1</code></dd>\n",
              "              <dt>Master</dt>\n",
              "                <dd><code>local[*]</code></dd>\n",
              "              <dt>AppName</dt>\n",
              "                <dd><code>Sales data set</code></dd>\n",
              "            </dl>\n",
              "        </div>\n",
              "        \n",
              "            </div>\n",
              "        "
            ]
          },
          "metadata": {},
          "execution_count": 151
        }
      ],
      "source": [
        "spark = SparkSession.builder \\\n",
        "                    .appName(\"Sales data set\") \\\n",
        "                    .getOrCreate()\n",
        "spark"
      ]
    },
    {
      "cell_type": "markdown",
      "source": [
        "#Hands-On Exercises\n",
        "## 1. DataFrame Creation and Inspection"
      ],
      "metadata": {
        "id": "uEUeLWKlAR7s"
      }
    },
    {
      "cell_type": "code",
      "source": [
        "drive.mount('/content/drive')\n",
        "\n",
        "# Loading Data\n",
        "sales_df = spark.read.csv('/content/drive/MyDrive/SalesData/SalesDataset.csv', header=True, inferSchema=True)\n",
        "\n",
        "# Displaying first 5 and last 5 records\n",
        "print(\"\\n First 5 records\")\n",
        "sales_df.show(5)\n",
        "\n",
        "print(\"\\n Last 5 records\")\n",
        "sales_df.orderBy(\"OrderID\", ascending=False).show(5)\n",
        "\n",
        "# Print schema and check data types.\n",
        "print(\"\\n Displaying data schema\")\n",
        "sales_df.printSchema()\n"
      ],
      "metadata": {
        "colab": {
          "base_uri": "https://localhost:8080/"
        },
        "id": "4xtJSvmqAPGA",
        "outputId": "08db9161-3e86-4438-d356-eaf742448d60"
      },
      "execution_count": 152,
      "outputs": [
        {
          "output_type": "stream",
          "name": "stdout",
          "text": [
            "Drive already mounted at /content/drive; to attempt to forcibly remount, call drive.mount(\"/content/drive\", force_remount=True).\n",
            "\n",
            " First 5 records\n",
            "+-------+--------------+---------------+------+----------+--------------+--------+----------------+-----------+-------------+\n",
            "|OrderID|  CustomerName|ProductCategory|Amount| OrderDate|DeliveryStatus|Discount|            City|PaymentMode|CustomerSince|\n",
            "+-------+--------------+---------------+------+----------+--------------+--------+----------------+-----------+-------------+\n",
            "|   2824| Donald Walker|          Books|783.04|2024-12-26|      Returned|    0.15|    Lake Joyside|Credit Card|   2020-10-15|\n",
            "|   7912|  Brandon Hall|      Groceries| 905.0|2024-09-12|     Cancelled|    0.03|   New Jamesside|     Wallet|   2022-03-15|\n",
            "|   4611|  Donald Booth|        Fashion|657.96|2025-01-12|      Returned|    0.01|    Lake Roberto|     Wallet|   2021-08-07|\n",
            "|   3547|Phillip Garcia|        Fashion|606.89|2024-03-24|      Returned|    0.15|West Melanieview|     Wallet|   2020-08-08|\n",
            "|   8527|  Valerie Gray|           Toys| 77.87|2024-08-04|     Delivered|    0.17|       Mariastad|       Cash|   2022-11-15|\n",
            "+-------+--------------+---------------+------+----------+--------------+--------+----------------+-----------+-------------+\n",
            "only showing top 5 rows\n",
            "\n",
            "\n",
            " Last 5 records\n",
            "+-------+-----------------+---------------+------+----------+--------------+--------+-----------+-----------+-------------+\n",
            "|OrderID|     CustomerName|ProductCategory|Amount| OrderDate|DeliveryStatus|Discount|       City|PaymentMode|CustomerSince|\n",
            "+-------+-----------------+---------------+------+----------+--------------+--------+-----------+-----------+-------------+\n",
            "|   9996|    Brandon Munoz|           Toys|839.38|2024-09-25|     Delivered|    0.08| Pamelaside|Credit Card|   2021-04-19|\n",
            "|   9992|   Joshua Roberts|          Books|960.97|2023-07-25|       Pending|     0.2| Coreyshire|     Wallet|   2022-06-28|\n",
            "|   9970|Elizabeth Goodman|           Toys|821.02|2025-05-04|     Cancelled|    0.29| Jasonhaven|       Cash|   2021-01-09|\n",
            "|   9962|   Vanessa Morgan|           Toys|701.01|2024-09-21|       Pending|    0.06|Bushchester|       Cash|   2023-03-14|\n",
            "|   9920|       James Hall|           Toys| 280.8|2024-05-25|     Cancelled|    0.28|Ericborough|     Wallet|   2020-11-24|\n",
            "+-------+-----------------+---------------+------+----------+--------------+--------+-----------+-----------+-------------+\n",
            "only showing top 5 rows\n",
            "\n",
            "\n",
            " Displaying data schema\n",
            "root\n",
            " |-- OrderID: integer (nullable = true)\n",
            " |-- CustomerName: string (nullable = true)\n",
            " |-- ProductCategory: string (nullable = true)\n",
            " |-- Amount: double (nullable = true)\n",
            " |-- OrderDate: date (nullable = true)\n",
            " |-- DeliveryStatus: string (nullable = true)\n",
            " |-- Discount: double (nullable = true)\n",
            " |-- City: string (nullable = true)\n",
            " |-- PaymentMode: string (nullable = true)\n",
            " |-- CustomerSince: date (nullable = true)\n",
            "\n"
          ]
        }
      ]
    },
    {
      "cell_type": "markdown",
      "source": [
        "## 2. Selection, Renaming, and Filtering"
      ],
      "metadata": {
        "id": "6VMJCUlICdls"
      }
    },
    {
      "cell_type": "markdown",
      "source": [
        "Select only OrderID, CustomerName, and Amount"
      ],
      "metadata": {
        "id": "PF7NbonQCmEl"
      }
    },
    {
      "cell_type": "code",
      "source": [
        "sales_df.select(\"OrderID\", \"CustomerName\", \"Amount\").show()"
      ],
      "metadata": {
        "colab": {
          "base_uri": "https://localhost:8080/"
        },
        "id": "tmffvZp-Cfef",
        "outputId": "fbbc24e1-bf7c-4f9e-f545-c38f29492c6c"
      },
      "execution_count": 153,
      "outputs": [
        {
          "output_type": "stream",
          "name": "stdout",
          "text": [
            "+-------+------------------+------+\n",
            "|OrderID|      CustomerName|Amount|\n",
            "+-------+------------------+------+\n",
            "|   2824|     Donald Walker|783.04|\n",
            "|   7912|      Brandon Hall| 905.0|\n",
            "|   4611|      Donald Booth|657.96|\n",
            "|   3547|    Phillip Garcia|606.89|\n",
            "|   8527|      Valerie Gray| 77.87|\n",
            "|   4150|       Amber Perez|352.37|\n",
            "|   5554|        Roy Martin|148.33|\n",
            "|   2169|    Carolyn Daniel| 14.09|\n",
            "|   6313|       Patty Perez| 79.83|\n",
            "|   6155|Jonathan Wilkerson|882.68|\n",
            "|   9830|       Kevin Hurst|870.55|\n",
            "|   9085| Anthony Rodriguez|921.73|\n",
            "|   2040|     Kyle Mcdonald|327.52|\n",
            "|   6573|    Jeffrey Chavez|676.02|\n",
            "|   2743|  Elizabeth Fowler| 47.06|\n",
            "|   9837|     Tammy Sellers| 46.15|\n",
            "|   6038|     David Bradley|348.51|\n",
            "|   3060|       John Pierce|362.09|\n",
            "|   4295|   Jennifer Powers|684.26|\n",
            "|   5061|    George Chapman|251.89|\n",
            "+-------+------------------+------+\n",
            "only showing top 20 rows\n",
            "\n"
          ]
        }
      ]
    },
    {
      "cell_type": "markdown",
      "source": [
        "Rename Amount to OrderAmount"
      ],
      "metadata": {
        "id": "rI4CM2fJCw5u"
      }
    },
    {
      "cell_type": "code",
      "source": [
        "sales_df = sales_df.withColumnRenamed(\"Amount\", \"OrderAmount\")\n",
        "sales_df.show()"
      ],
      "metadata": {
        "colab": {
          "base_uri": "https://localhost:8080/"
        },
        "id": "u4ME1S9ZCzBH",
        "outputId": "5ab0205e-be58-4c82-f540-3ec4950e9fb5"
      },
      "execution_count": 154,
      "outputs": [
        {
          "output_type": "stream",
          "name": "stdout",
          "text": [
            "+-------+------------------+---------------+-----------+----------+--------------+--------+-----------------+-----------+-------------+\n",
            "|OrderID|      CustomerName|ProductCategory|OrderAmount| OrderDate|DeliveryStatus|Discount|             City|PaymentMode|CustomerSince|\n",
            "+-------+------------------+---------------+-----------+----------+--------------+--------+-----------------+-----------+-------------+\n",
            "|   2824|     Donald Walker|          Books|     783.04|2024-12-26|      Returned|    0.15|     Lake Joyside|Credit Card|   2020-10-15|\n",
            "|   7912|      Brandon Hall|      Groceries|      905.0|2024-09-12|     Cancelled|    0.03|    New Jamesside|     Wallet|   2022-03-15|\n",
            "|   4611|      Donald Booth|        Fashion|     657.96|2025-01-12|      Returned|    0.01|     Lake Roberto|     Wallet|   2021-08-07|\n",
            "|   3547|    Phillip Garcia|        Fashion|     606.89|2024-03-24|      Returned|    0.15| West Melanieview|     Wallet|   2020-08-08|\n",
            "|   8527|      Valerie Gray|           Toys|      77.87|2024-08-04|     Delivered|    0.17|        Mariastad|       Cash|   2022-11-15|\n",
            "|   4150|       Amber Perez|          Books|     352.37|2024-01-13|     Cancelled|    0.24|  Port Jesseville|       Cash|   2022-01-13|\n",
            "|   5554|        Roy Martin|           Toys|     148.33|2024-03-04|     Cancelled|    0.27|      Lake Joseph|       Cash|   2023-04-29|\n",
            "|   2169|    Carolyn Daniel|    Electronics|      14.09|2023-10-07|     Delivered|    0.25|         Grayside|Credit Card|   2021-05-09|\n",
            "|   6313|       Patty Perez|      Groceries|      79.83|2023-06-27|     Cancelled|    0.12|      Richardland|Credit Card|   2021-04-25|\n",
            "|   6155|Jonathan Wilkerson|        Fashion|     882.68|2024-10-14|     Cancelled|    0.27|       Thomasberg|       Cash|   2021-06-20|\n",
            "|   9830|       Kevin Hurst|          Books|     870.55|2024-04-08|     Delivered|    0.22|      Jeffreyberg|     Wallet|   2022-08-02|\n",
            "|   9085| Anthony Rodriguez|      Groceries|     921.73|2024-10-02|     Cancelled|    0.03|        Port Erin|        UPI|   2022-12-15|\n",
            "|   2040|     Kyle Mcdonald|           Toys|     327.52|2023-12-15|      Returned|    0.06|Lake Jenniferside|     Wallet|   2021-07-21|\n",
            "|   6573|    Jeffrey Chavez|          Books|     676.02|2024-12-14|     Cancelled|    0.19|      Teresaburgh|     Wallet|   2022-07-30|\n",
            "|   2743|  Elizabeth Fowler|    Electronics|      47.06|2024-09-18|     Delivered|    0.13|   East Nathaniel|       Cash|   2021-02-07|\n",
            "|   9837|     Tammy Sellers|          Books|      46.15|2024-09-10|     Cancelled|    0.05|       Tracyville|        UPI|   2021-12-17|\n",
            "|   6038|     David Bradley|        Fashion|     348.51|2023-08-03|      Returned|    0.23|    Lake Toddland|        UPI|   2022-09-07|\n",
            "|   3060|       John Pierce|           Toys|     362.09|2023-12-25|      Returned|    0.03|       Brandtside|       Cash|   2023-05-09|\n",
            "|   4295|   Jennifer Powers|    Electronics|     684.26|2024-03-19|     Cancelled|    0.21|         Lammouth|        UPI|   2020-12-06|\n",
            "|   5061|    George Chapman|    Electronics|     251.89|2023-11-28|       Pending|    0.27|       North Chad|       Cash|   2023-02-07|\n",
            "+-------+------------------+---------------+-----------+----------+--------------+--------+-----------------+-----------+-------------+\n",
            "only showing top 20 rows\n",
            "\n"
          ]
        }
      ]
    },
    {
      "cell_type": "markdown",
      "source": [
        " Filter orders where Amount > 500."
      ],
      "metadata": {
        "id": "oxNWbi2GC6Kf"
      }
    },
    {
      "cell_type": "code",
      "source": [
        "sales_df.filter(sales_df.OrderAmount > 500).show()"
      ],
      "metadata": {
        "colab": {
          "base_uri": "https://localhost:8080/"
        },
        "id": "VAPEl093C8mf",
        "outputId": "be1fbb26-d1fc-4483-bda8-4412dc3d79f9"
      },
      "execution_count": 155,
      "outputs": [
        {
          "output_type": "stream",
          "name": "stdout",
          "text": [
            "+-------+------------------+---------------+-----------+----------+--------------+--------+-----------------+-----------+-------------+\n",
            "|OrderID|      CustomerName|ProductCategory|OrderAmount| OrderDate|DeliveryStatus|Discount|             City|PaymentMode|CustomerSince|\n",
            "+-------+------------------+---------------+-----------+----------+--------------+--------+-----------------+-----------+-------------+\n",
            "|   2824|     Donald Walker|          Books|     783.04|2024-12-26|      Returned|    0.15|     Lake Joyside|Credit Card|   2020-10-15|\n",
            "|   7912|      Brandon Hall|      Groceries|      905.0|2024-09-12|     Cancelled|    0.03|    New Jamesside|     Wallet|   2022-03-15|\n",
            "|   4611|      Donald Booth|        Fashion|     657.96|2025-01-12|      Returned|    0.01|     Lake Roberto|     Wallet|   2021-08-07|\n",
            "|   3547|    Phillip Garcia|        Fashion|     606.89|2024-03-24|      Returned|    0.15| West Melanieview|     Wallet|   2020-08-08|\n",
            "|   6155|Jonathan Wilkerson|        Fashion|     882.68|2024-10-14|     Cancelled|    0.27|       Thomasberg|       Cash|   2021-06-20|\n",
            "|   9830|       Kevin Hurst|          Books|     870.55|2024-04-08|     Delivered|    0.22|      Jeffreyberg|     Wallet|   2022-08-02|\n",
            "|   9085| Anthony Rodriguez|      Groceries|     921.73|2024-10-02|     Cancelled|    0.03|        Port Erin|        UPI|   2022-12-15|\n",
            "|   6573|    Jeffrey Chavez|          Books|     676.02|2024-12-14|     Cancelled|    0.19|      Teresaburgh|     Wallet|   2022-07-30|\n",
            "|   4295|   Jennifer Powers|    Electronics|     684.26|2024-03-19|     Cancelled|    0.21|         Lammouth|        UPI|   2020-12-06|\n",
            "|   1964|      Taylor Heath|           Toys|      578.5|2023-07-28|     Cancelled|    0.01|   West Elizabeth|       Cash|   2021-04-30|\n",
            "|   9834|    Timothy Duncan|    Electronics|     944.55|2024-06-04|     Cancelled|    0.07|      Port Thomas|     Wallet|   2022-02-24|\n",
            "|   3296|     Donald Wright|        Fashion|     579.99|2025-05-20|     Cancelled|    0.25|South Lindseyside|     Wallet|   2020-11-01|\n",
            "|   4502|  Stephanie Martin|    Electronics|     656.32|2023-06-04|       Pending|     0.2|       Bakermouth|Credit Card|   2021-08-19|\n",
            "|   1931|      Angela Lopez|    Electronics|     686.21|2024-09-07|     Cancelled|    0.17|Lake Michellefurt|        UPI|   2020-12-05|\n",
            "|   5033|     Amanda Miller|           Toys|     552.76|2024-10-25|       Pending|    0.21|     Sarahborough|     Wallet|   2023-04-08|\n",
            "|   6147|      James Powers|           Toys|     561.91|2024-01-22|     Cancelled|    0.05|      Stewartland|Credit Card|   2020-06-16|\n",
            "|   2127|      Jaclyn Moore|      Groceries|     933.32|2025-03-11|      Returned|    0.01|      Cherylhaven|       Cash|   2020-06-14|\n",
            "|   5905|   Ashley Humphrey|          Books|     844.87|2023-12-25|       Pending|    0.28|  North Juliaberg|       Cash|   2021-07-30|\n",
            "|   2512|   Sandra Williams|           Toys|     630.21|2024-02-17|       Pending|    0.08|        Lake Tina|        UPI|   2021-02-08|\n",
            "|   8239|     Jessica Smith|          Books|     610.08|2023-07-31|     Delivered|    0.09|        New Barry|        UPI|   2021-12-27|\n",
            "+-------+------------------+---------------+-----------+----------+--------------+--------+-----------------+-----------+-------------+\n",
            "only showing top 20 rows\n",
            "\n"
          ]
        }
      ]
    },
    {
      "cell_type": "markdown",
      "source": [
        "Filter orders from a specific city using .query() or .filter()"
      ],
      "metadata": {
        "id": "3Xids2qREfnw"
      }
    },
    {
      "cell_type": "code",
      "source": [
        "sales_df.filter(sales_df.City == \"Lake Roberto\").show()\n",
        "sales_df.where(sales_df.City == \"Lake Roberto\").show()"
      ],
      "metadata": {
        "colab": {
          "base_uri": "https://localhost:8080/"
        },
        "id": "dnyfcXV4EhKG",
        "outputId": "70315e9a-02d0-4a55-f06e-ad1fff6fc80b"
      },
      "execution_count": 156,
      "outputs": [
        {
          "output_type": "stream",
          "name": "stdout",
          "text": [
            "+-------+------------+---------------+-----------+----------+--------------+--------+------------+-----------+-------------+\n",
            "|OrderID|CustomerName|ProductCategory|OrderAmount| OrderDate|DeliveryStatus|Discount|        City|PaymentMode|CustomerSince|\n",
            "+-------+------------+---------------+-----------+----------+--------------+--------+------------+-----------+-------------+\n",
            "|   4611|Donald Booth|        Fashion|     657.96|2025-01-12|      Returned|    0.01|Lake Roberto|     Wallet|   2021-08-07|\n",
            "+-------+------------+---------------+-----------+----------+--------------+--------+------------+-----------+-------------+\n",
            "\n",
            "+-------+------------+---------------+-----------+----------+--------------+--------+------------+-----------+-------------+\n",
            "|OrderID|CustomerName|ProductCategory|OrderAmount| OrderDate|DeliveryStatus|Discount|        City|PaymentMode|CustomerSince|\n",
            "+-------+------------+---------------+-----------+----------+--------------+--------+------------+-----------+-------------+\n",
            "|   4611|Donald Booth|        Fashion|     657.96|2025-01-12|      Returned|    0.01|Lake Roberto|     Wallet|   2021-08-07|\n",
            "+-------+------------+---------------+-----------+----------+--------------+--------+------------+-----------+-------------+\n",
            "\n"
          ]
        }
      ]
    },
    {
      "cell_type": "markdown",
      "source": [
        "## 3. Data Manipulation"
      ],
      "metadata": {
        "id": "7Fcvtf9UFkAF"
      }
    },
    {
      "cell_type": "markdown",
      "source": [
        " Drop CustomerSince column"
      ],
      "metadata": {
        "id": "P5fKqTI7F0wA"
      }
    },
    {
      "cell_type": "code",
      "source": [
        "sales_df = sales_df.drop(\"CustomerSince\")\n",
        "sales_df.show()"
      ],
      "metadata": {
        "colab": {
          "base_uri": "https://localhost:8080/"
        },
        "id": "ZEZ1cOnyFlAu",
        "outputId": "1b24786c-fd6b-4a21-a8a1-8c679bffd9a8"
      },
      "execution_count": 157,
      "outputs": [
        {
          "output_type": "stream",
          "name": "stdout",
          "text": [
            "+-------+------------------+---------------+-----------+----------+--------------+--------+-----------------+-----------+\n",
            "|OrderID|      CustomerName|ProductCategory|OrderAmount| OrderDate|DeliveryStatus|Discount|             City|PaymentMode|\n",
            "+-------+------------------+---------------+-----------+----------+--------------+--------+-----------------+-----------+\n",
            "|   2824|     Donald Walker|          Books|     783.04|2024-12-26|      Returned|    0.15|     Lake Joyside|Credit Card|\n",
            "|   7912|      Brandon Hall|      Groceries|      905.0|2024-09-12|     Cancelled|    0.03|    New Jamesside|     Wallet|\n",
            "|   4611|      Donald Booth|        Fashion|     657.96|2025-01-12|      Returned|    0.01|     Lake Roberto|     Wallet|\n",
            "|   3547|    Phillip Garcia|        Fashion|     606.89|2024-03-24|      Returned|    0.15| West Melanieview|     Wallet|\n",
            "|   8527|      Valerie Gray|           Toys|      77.87|2024-08-04|     Delivered|    0.17|        Mariastad|       Cash|\n",
            "|   4150|       Amber Perez|          Books|     352.37|2024-01-13|     Cancelled|    0.24|  Port Jesseville|       Cash|\n",
            "|   5554|        Roy Martin|           Toys|     148.33|2024-03-04|     Cancelled|    0.27|      Lake Joseph|       Cash|\n",
            "|   2169|    Carolyn Daniel|    Electronics|      14.09|2023-10-07|     Delivered|    0.25|         Grayside|Credit Card|\n",
            "|   6313|       Patty Perez|      Groceries|      79.83|2023-06-27|     Cancelled|    0.12|      Richardland|Credit Card|\n",
            "|   6155|Jonathan Wilkerson|        Fashion|     882.68|2024-10-14|     Cancelled|    0.27|       Thomasberg|       Cash|\n",
            "|   9830|       Kevin Hurst|          Books|     870.55|2024-04-08|     Delivered|    0.22|      Jeffreyberg|     Wallet|\n",
            "|   9085| Anthony Rodriguez|      Groceries|     921.73|2024-10-02|     Cancelled|    0.03|        Port Erin|        UPI|\n",
            "|   2040|     Kyle Mcdonald|           Toys|     327.52|2023-12-15|      Returned|    0.06|Lake Jenniferside|     Wallet|\n",
            "|   6573|    Jeffrey Chavez|          Books|     676.02|2024-12-14|     Cancelled|    0.19|      Teresaburgh|     Wallet|\n",
            "|   2743|  Elizabeth Fowler|    Electronics|      47.06|2024-09-18|     Delivered|    0.13|   East Nathaniel|       Cash|\n",
            "|   9837|     Tammy Sellers|          Books|      46.15|2024-09-10|     Cancelled|    0.05|       Tracyville|        UPI|\n",
            "|   6038|     David Bradley|        Fashion|     348.51|2023-08-03|      Returned|    0.23|    Lake Toddland|        UPI|\n",
            "|   3060|       John Pierce|           Toys|     362.09|2023-12-25|      Returned|    0.03|       Brandtside|       Cash|\n",
            "|   4295|   Jennifer Powers|    Electronics|     684.26|2024-03-19|     Cancelled|    0.21|         Lammouth|        UPI|\n",
            "|   5061|    George Chapman|    Electronics|     251.89|2023-11-28|       Pending|    0.27|       North Chad|       Cash|\n",
            "+-------+------------------+---------------+-----------+----------+--------------+--------+-----------------+-----------+\n",
            "only showing top 20 rows\n",
            "\n"
          ]
        }
      ]
    },
    {
      "cell_type": "markdown",
      "source": [
        "Add a new column FinalAmount = Amount - (Amount * Discount)"
      ],
      "metadata": {
        "id": "xMAc6NWPGCyk"
      }
    },
    {
      "cell_type": "code",
      "source": [
        "sales_df = sales_df.withColumn(\"FinalAmount\", round(sales_df.OrderAmount - (sales_df.OrderAmount * sales_df.Discount), 2))\n",
        "sales_df.show()"
      ],
      "metadata": {
        "colab": {
          "base_uri": "https://localhost:8080/"
        },
        "id": "Hm3ttkYBGDN4",
        "outputId": "b3fa6d97-05f3-4abd-f349-8e1cab94a007"
      },
      "execution_count": 158,
      "outputs": [
        {
          "output_type": "stream",
          "name": "stdout",
          "text": [
            "+-------+------------------+---------------+-----------+----------+--------------+--------+-----------------+-----------+-----------+\n",
            "|OrderID|      CustomerName|ProductCategory|OrderAmount| OrderDate|DeliveryStatus|Discount|             City|PaymentMode|FinalAmount|\n",
            "+-------+------------------+---------------+-----------+----------+--------------+--------+-----------------+-----------+-----------+\n",
            "|   2824|     Donald Walker|          Books|     783.04|2024-12-26|      Returned|    0.15|     Lake Joyside|Credit Card|     665.58|\n",
            "|   7912|      Brandon Hall|      Groceries|      905.0|2024-09-12|     Cancelled|    0.03|    New Jamesside|     Wallet|     877.85|\n",
            "|   4611|      Donald Booth|        Fashion|     657.96|2025-01-12|      Returned|    0.01|     Lake Roberto|     Wallet|     651.38|\n",
            "|   3547|    Phillip Garcia|        Fashion|     606.89|2024-03-24|      Returned|    0.15| West Melanieview|     Wallet|     515.86|\n",
            "|   8527|      Valerie Gray|           Toys|      77.87|2024-08-04|     Delivered|    0.17|        Mariastad|       Cash|      64.63|\n",
            "|   4150|       Amber Perez|          Books|     352.37|2024-01-13|     Cancelled|    0.24|  Port Jesseville|       Cash|      267.8|\n",
            "|   5554|        Roy Martin|           Toys|     148.33|2024-03-04|     Cancelled|    0.27|      Lake Joseph|       Cash|     108.28|\n",
            "|   2169|    Carolyn Daniel|    Electronics|      14.09|2023-10-07|     Delivered|    0.25|         Grayside|Credit Card|      10.57|\n",
            "|   6313|       Patty Perez|      Groceries|      79.83|2023-06-27|     Cancelled|    0.12|      Richardland|Credit Card|      70.25|\n",
            "|   6155|Jonathan Wilkerson|        Fashion|     882.68|2024-10-14|     Cancelled|    0.27|       Thomasberg|       Cash|     644.36|\n",
            "|   9830|       Kevin Hurst|          Books|     870.55|2024-04-08|     Delivered|    0.22|      Jeffreyberg|     Wallet|     679.03|\n",
            "|   9085| Anthony Rodriguez|      Groceries|     921.73|2024-10-02|     Cancelled|    0.03|        Port Erin|        UPI|     894.08|\n",
            "|   2040|     Kyle Mcdonald|           Toys|     327.52|2023-12-15|      Returned|    0.06|Lake Jenniferside|     Wallet|     307.87|\n",
            "|   6573|    Jeffrey Chavez|          Books|     676.02|2024-12-14|     Cancelled|    0.19|      Teresaburgh|     Wallet|     547.58|\n",
            "|   2743|  Elizabeth Fowler|    Electronics|      47.06|2024-09-18|     Delivered|    0.13|   East Nathaniel|       Cash|      40.94|\n",
            "|   9837|     Tammy Sellers|          Books|      46.15|2024-09-10|     Cancelled|    0.05|       Tracyville|        UPI|      43.84|\n",
            "|   6038|     David Bradley|        Fashion|     348.51|2023-08-03|      Returned|    0.23|    Lake Toddland|        UPI|     268.35|\n",
            "|   3060|       John Pierce|           Toys|     362.09|2023-12-25|      Returned|    0.03|       Brandtside|       Cash|     351.23|\n",
            "|   4295|   Jennifer Powers|    Electronics|     684.26|2024-03-19|     Cancelled|    0.21|         Lammouth|        UPI|     540.57|\n",
            "|   5061|    George Chapman|    Electronics|     251.89|2023-11-28|       Pending|    0.27|       North Chad|       Cash|     183.88|\n",
            "+-------+------------------+---------------+-----------+----------+--------------+--------+-----------------+-----------+-----------+\n",
            "only showing top 20 rows\n",
            "\n"
          ]
        }
      ]
    },
    {
      "cell_type": "markdown",
      "source": [
        " Sort by FinalAmount descending."
      ],
      "metadata": {
        "id": "WeiGjB4cGf87"
      }
    },
    {
      "cell_type": "code",
      "source": [
        "sales_df.orderBy(\"FinalAmount\", ascending=False) \\\n",
        "        .select(\"OrderID\", \"CustomerName\", \"ProductCategory\", \"OrderAmount\", \"FinalAmount\") \\\n",
        "        .show()"
      ],
      "metadata": {
        "colab": {
          "base_uri": "https://localhost:8080/"
        },
        "id": "97kEw_ryGgvm",
        "outputId": "c5973488-0b50-42dd-efd1-acb80325afac"
      },
      "execution_count": 159,
      "outputs": [
        {
          "output_type": "stream",
          "name": "stdout",
          "text": [
            "+-------+-----------------+---------------+-----------+-----------+\n",
            "|OrderID|     CustomerName|ProductCategory|OrderAmount|FinalAmount|\n",
            "+-------+-----------------+---------------+-----------+-----------+\n",
            "|   5573|   Jordan Frazier|          Books|     981.05|     961.43|\n",
            "|   8474|      Heidi Brown|    Electronics|     968.91|     949.53|\n",
            "|   8889|      Karen Garza|          Books|      998.3|      938.4|\n",
            "|   2127|     Jaclyn Moore|      Groceries|     933.32|     923.99|\n",
            "|   9806|    Samantha Gill|      Groceries|     993.17|     923.65|\n",
            "|   5593|   Kristy Johnson|        Fashion|     961.35|     913.28|\n",
            "|   2120| Alejandra Santos|    Electronics|     948.84|     910.89|\n",
            "|   5949|Dr. Michael Evans|           Toys|     918.14|     908.96|\n",
            "|   1422|    Hunter Kramer|          Books|      973.2|     905.08|\n",
            "|   2904|   Michelle Burns|        Fashion|     922.29|     903.84|\n",
            "|   7566|    Jesus Houston|        Fashion|     899.31|     899.31|\n",
            "|   7511|      Regina Diaz|           Toys|     932.21|     894.92|\n",
            "|   9085|Anthony Rodriguez|      Groceries|     921.73|     894.08|\n",
            "|   1436|     James Brooks|      Groceries|     978.96|     890.85|\n",
            "|   6008|  Brittany Knight|          Books|     903.71|     885.64|\n",
            "|   9834|   Timothy Duncan|    Electronics|     944.55|     878.43|\n",
            "|   8253|  Kevin Patterson|          Books|     998.21|     878.42|\n",
            "|   7912|     Brandon Hall|      Groceries|      905.0|     877.85|\n",
            "|   1654|   Frank Williams|          Books|     903.78|     876.67|\n",
            "|   9239|    Tracy Montoya|    Electronics|     897.41|     861.51|\n",
            "+-------+-----------------+---------------+-----------+-----------+\n",
            "only showing top 20 rows\n",
            "\n"
          ]
        }
      ]
    },
    {
      "cell_type": "markdown",
      "source": [
        "Replace all “Cancelled” status with “Order Cancelled”."
      ],
      "metadata": {
        "id": "Cz4H1bpLHW-5"
      }
    },
    {
      "cell_type": "code",
      "source": [
        "sales_df = sales_df.withColumn(\n",
        "    \"DeliveryStatus\",\n",
        "    when(col(\"DeliveryStatus\") == \"Cancelled\", \"Order Cancelled\").otherwise(col(\"DeliveryStatus\"))\n",
        ")\n",
        "sales_df.show()"
      ],
      "metadata": {
        "colab": {
          "base_uri": "https://localhost:8080/"
        },
        "id": "UFvtNE80HXmM",
        "outputId": "82d70769-6b98-4dbe-f19b-0f0551218792"
      },
      "execution_count": 160,
      "outputs": [
        {
          "output_type": "stream",
          "name": "stdout",
          "text": [
            "+-------+------------------+---------------+-----------+----------+---------------+--------+-----------------+-----------+-----------+\n",
            "|OrderID|      CustomerName|ProductCategory|OrderAmount| OrderDate| DeliveryStatus|Discount|             City|PaymentMode|FinalAmount|\n",
            "+-------+------------------+---------------+-----------+----------+---------------+--------+-----------------+-----------+-----------+\n",
            "|   2824|     Donald Walker|          Books|     783.04|2024-12-26|       Returned|    0.15|     Lake Joyside|Credit Card|     665.58|\n",
            "|   7912|      Brandon Hall|      Groceries|      905.0|2024-09-12|Order Cancelled|    0.03|    New Jamesside|     Wallet|     877.85|\n",
            "|   4611|      Donald Booth|        Fashion|     657.96|2025-01-12|       Returned|    0.01|     Lake Roberto|     Wallet|     651.38|\n",
            "|   3547|    Phillip Garcia|        Fashion|     606.89|2024-03-24|       Returned|    0.15| West Melanieview|     Wallet|     515.86|\n",
            "|   8527|      Valerie Gray|           Toys|      77.87|2024-08-04|      Delivered|    0.17|        Mariastad|       Cash|      64.63|\n",
            "|   4150|       Amber Perez|          Books|     352.37|2024-01-13|Order Cancelled|    0.24|  Port Jesseville|       Cash|      267.8|\n",
            "|   5554|        Roy Martin|           Toys|     148.33|2024-03-04|Order Cancelled|    0.27|      Lake Joseph|       Cash|     108.28|\n",
            "|   2169|    Carolyn Daniel|    Electronics|      14.09|2023-10-07|      Delivered|    0.25|         Grayside|Credit Card|      10.57|\n",
            "|   6313|       Patty Perez|      Groceries|      79.83|2023-06-27|Order Cancelled|    0.12|      Richardland|Credit Card|      70.25|\n",
            "|   6155|Jonathan Wilkerson|        Fashion|     882.68|2024-10-14|Order Cancelled|    0.27|       Thomasberg|       Cash|     644.36|\n",
            "|   9830|       Kevin Hurst|          Books|     870.55|2024-04-08|      Delivered|    0.22|      Jeffreyberg|     Wallet|     679.03|\n",
            "|   9085| Anthony Rodriguez|      Groceries|     921.73|2024-10-02|Order Cancelled|    0.03|        Port Erin|        UPI|     894.08|\n",
            "|   2040|     Kyle Mcdonald|           Toys|     327.52|2023-12-15|       Returned|    0.06|Lake Jenniferside|     Wallet|     307.87|\n",
            "|   6573|    Jeffrey Chavez|          Books|     676.02|2024-12-14|Order Cancelled|    0.19|      Teresaburgh|     Wallet|     547.58|\n",
            "|   2743|  Elizabeth Fowler|    Electronics|      47.06|2024-09-18|      Delivered|    0.13|   East Nathaniel|       Cash|      40.94|\n",
            "|   9837|     Tammy Sellers|          Books|      46.15|2024-09-10|Order Cancelled|    0.05|       Tracyville|        UPI|      43.84|\n",
            "|   6038|     David Bradley|        Fashion|     348.51|2023-08-03|       Returned|    0.23|    Lake Toddland|        UPI|     268.35|\n",
            "|   3060|       John Pierce|           Toys|     362.09|2023-12-25|       Returned|    0.03|       Brandtside|       Cash|     351.23|\n",
            "|   4295|   Jennifer Powers|    Electronics|     684.26|2024-03-19|Order Cancelled|    0.21|         Lammouth|        UPI|     540.57|\n",
            "|   5061|    George Chapman|    Electronics|     251.89|2023-11-28|        Pending|    0.27|       North Chad|       Cash|     183.88|\n",
            "+-------+------------------+---------------+-----------+----------+---------------+--------+-----------------+-----------+-----------+\n",
            "only showing top 20 rows\n",
            "\n"
          ]
        }
      ]
    },
    {
      "cell_type": "markdown",
      "source": [
        "## 4.  Aggregations and GroupBy"
      ],
      "metadata": {
        "id": "LCiJHGeYISAV"
      }
    },
    {
      "cell_type": "markdown",
      "source": [
        " Count of orders by DeliveryStatus."
      ],
      "metadata": {
        "id": "Ta5OWT-CIWJ4"
      }
    },
    {
      "cell_type": "code",
      "source": [
        "sales_df.groupBy(sales_df[\"DeliveryStatus\"]) \\\n",
        "        .count().withColumnRenamed(\"count\", \"OrderCount\") \\\n",
        "        .show()"
      ],
      "metadata": {
        "colab": {
          "base_uri": "https://localhost:8080/"
        },
        "id": "XBH3IAAWITwI",
        "outputId": "cfa57cea-779b-48ab-9823-f4fc414ef061"
      },
      "execution_count": 161,
      "outputs": [
        {
          "output_type": "stream",
          "name": "stdout",
          "text": [
            "+---------------+----------+\n",
            "| DeliveryStatus|OrderCount|\n",
            "+---------------+----------+\n",
            "|       Returned|       117|\n",
            "|      Delivered|       119|\n",
            "|Order Cancelled|       149|\n",
            "|        Pending|       115|\n",
            "+---------------+----------+\n",
            "\n"
          ]
        }
      ]
    },
    {
      "cell_type": "markdown",
      "source": [
        "Average Amount by ProductCategory"
      ],
      "metadata": {
        "id": "gpU3bnRsIoIU"
      }
    },
    {
      "cell_type": "code",
      "source": [
        "sales_df.groupBy([\"ProductCategory\"]) \\\n",
        "        .agg(round(avg(\"FinalAmount\"), 2).alias(\"AvgFinalAmount\")) \\\n",
        "        .show()"
      ],
      "metadata": {
        "colab": {
          "base_uri": "https://localhost:8080/"
        },
        "id": "Toz64MAkIpy9",
        "outputId": "23fbc1ec-503c-45cb-8732-984febf8f7a5"
      },
      "execution_count": 162,
      "outputs": [
        {
          "output_type": "stream",
          "name": "stdout",
          "text": [
            "+---------------+--------------+\n",
            "|ProductCategory|AvgFinalAmount|\n",
            "+---------------+--------------+\n",
            "|        Fashion|        422.53|\n",
            "|      Groceries|        392.48|\n",
            "|    Electronics|         472.5|\n",
            "|          Books|        484.19|\n",
            "|           Toys|        458.45|\n",
            "+---------------+--------------+\n",
            "\n"
          ]
        }
      ]
    },
    {
      "cell_type": "markdown",
      "source": [
        "Group by City and show total sales."
      ],
      "metadata": {
        "id": "tQh1jo7YJfpD"
      }
    },
    {
      "cell_type": "code",
      "source": [
        "sales_df.groupBy(\"City\") \\\n",
        "    .agg(round(sum(\"FinalAmount\"), 2) \\\n",
        "    .alias(\"Total Sales\")) \\\n",
        "    .show()"
      ],
      "metadata": {
        "colab": {
          "base_uri": "https://localhost:8080/"
        },
        "id": "vjAc0VgkJg4Z",
        "outputId": "b1eb5ed2-3b56-4887-b0d2-1555b113ca89"
      },
      "execution_count": 163,
      "outputs": [
        {
          "output_type": "stream",
          "name": "stdout",
          "text": [
            "+----------------+-----------+\n",
            "|            City|Total Sales|\n",
            "+----------------+-----------+\n",
            "|     Ramseymouth|     738.23|\n",
            "|East Edwardshire|      230.1|\n",
            "|      Thomasberg|     644.36|\n",
            "|     Laurenville|     321.94|\n",
            "| South Colinstad|     629.02|\n",
            "|    Lake Douglas|     780.07|\n",
            "|   Williamsmouth|       9.81|\n",
            "|      Gordonport|     381.09|\n",
            "|  West Dawnmouth|       10.5|\n",
            "|        Seanbury|     627.08|\n",
            "|     Sheilaville|     961.43|\n",
            "|       Mollybury|     222.02|\n",
            "|       Lisaville|      43.41|\n",
            "| Lake Jerrymouth|     395.93|\n",
            "|       Perezfort|     734.04|\n",
            "|Port Nicoleshire|     111.04|\n",
            "|  South Samantha|      169.8|\n",
            "|     Port Willie|     780.25|\n",
            "|     Waltersfort|     386.97|\n",
            "|       Youngbury|     268.52|\n",
            "+----------------+-----------+\n",
            "only showing top 20 rows\n",
            "\n"
          ]
        }
      ]
    },
    {
      "cell_type": "markdown",
      "source": [
        "## 5. Null Handling & Update"
      ],
      "metadata": {
        "id": "d0piaY_BKf8Z"
      }
    },
    {
      "cell_type": "markdown",
      "source": [
        "  Intentionally inject nulls in City column and handle them using fillna(), dropn()."
      ],
      "metadata": {
        "id": "Y_jCGrllKhF5"
      }
    },
    {
      "cell_type": "code",
      "source": [
        "# Filling Nulls in Column City\n",
        "sales_df = sales_df.withColumn(\n",
        "    \"City\",\n",
        "    when(rand() < 0.2, None).otherwise(sales_df.City)\n",
        ")\n",
        "sales_df.show()\n",
        "\n",
        "# Handling null with 'unknown'\n",
        "sales_df = sales_df.fillna({\"City\": \"Unknown\"})\n",
        "sales_df.show()\n",
        "\n",
        "# Again injecting Null values\n",
        "sales_df = sales_df.withColumn(\n",
        "    \"City\",\n",
        "    when(rand() < 0.2, None).otherwise(sales_df.City)\n",
        ")\n",
        "sales_df.show()\n",
        "\n",
        "# Droping City names that contain null\n",
        "sales_df = sales_df.dropna(subset=[\"City\"])\n",
        "sales_df.show()"
      ],
      "metadata": {
        "colab": {
          "base_uri": "https://localhost:8080/"
        },
        "id": "NAIRBwNmKlNj",
        "outputId": "936afadd-f8b7-4bbd-d962-ef44e862e5f0"
      },
      "execution_count": 164,
      "outputs": [
        {
          "output_type": "stream",
          "name": "stdout",
          "text": [
            "+-------+------------------+---------------+-----------+----------+---------------+--------+-----------------+-----------+-----------+\n",
            "|OrderID|      CustomerName|ProductCategory|OrderAmount| OrderDate| DeliveryStatus|Discount|             City|PaymentMode|FinalAmount|\n",
            "+-------+------------------+---------------+-----------+----------+---------------+--------+-----------------+-----------+-----------+\n",
            "|   2824|     Donald Walker|          Books|     783.04|2024-12-26|       Returned|    0.15|     Lake Joyside|Credit Card|     665.58|\n",
            "|   7912|      Brandon Hall|      Groceries|      905.0|2024-09-12|Order Cancelled|    0.03|    New Jamesside|     Wallet|     877.85|\n",
            "|   4611|      Donald Booth|        Fashion|     657.96|2025-01-12|       Returned|    0.01|     Lake Roberto|     Wallet|     651.38|\n",
            "|   3547|    Phillip Garcia|        Fashion|     606.89|2024-03-24|       Returned|    0.15| West Melanieview|     Wallet|     515.86|\n",
            "|   8527|      Valerie Gray|           Toys|      77.87|2024-08-04|      Delivered|    0.17|        Mariastad|       Cash|      64.63|\n",
            "|   4150|       Amber Perez|          Books|     352.37|2024-01-13|Order Cancelled|    0.24|  Port Jesseville|       Cash|      267.8|\n",
            "|   5554|        Roy Martin|           Toys|     148.33|2024-03-04|Order Cancelled|    0.27|             NULL|       Cash|     108.28|\n",
            "|   2169|    Carolyn Daniel|    Electronics|      14.09|2023-10-07|      Delivered|    0.25|         Grayside|Credit Card|      10.57|\n",
            "|   6313|       Patty Perez|      Groceries|      79.83|2023-06-27|Order Cancelled|    0.12|             NULL|Credit Card|      70.25|\n",
            "|   6155|Jonathan Wilkerson|        Fashion|     882.68|2024-10-14|Order Cancelled|    0.27|             NULL|       Cash|     644.36|\n",
            "|   9830|       Kevin Hurst|          Books|     870.55|2024-04-08|      Delivered|    0.22|      Jeffreyberg|     Wallet|     679.03|\n",
            "|   9085| Anthony Rodriguez|      Groceries|     921.73|2024-10-02|Order Cancelled|    0.03|        Port Erin|        UPI|     894.08|\n",
            "|   2040|     Kyle Mcdonald|           Toys|     327.52|2023-12-15|       Returned|    0.06|Lake Jenniferside|     Wallet|     307.87|\n",
            "|   6573|    Jeffrey Chavez|          Books|     676.02|2024-12-14|Order Cancelled|    0.19|             NULL|     Wallet|     547.58|\n",
            "|   2743|  Elizabeth Fowler|    Electronics|      47.06|2024-09-18|      Delivered|    0.13|             NULL|       Cash|      40.94|\n",
            "|   9837|     Tammy Sellers|          Books|      46.15|2024-09-10|Order Cancelled|    0.05|       Tracyville|        UPI|      43.84|\n",
            "|   6038|     David Bradley|        Fashion|     348.51|2023-08-03|       Returned|    0.23|    Lake Toddland|        UPI|     268.35|\n",
            "|   3060|       John Pierce|           Toys|     362.09|2023-12-25|       Returned|    0.03|       Brandtside|       Cash|     351.23|\n",
            "|   4295|   Jennifer Powers|    Electronics|     684.26|2024-03-19|Order Cancelled|    0.21|             NULL|        UPI|     540.57|\n",
            "|   5061|    George Chapman|    Electronics|     251.89|2023-11-28|        Pending|    0.27|       North Chad|       Cash|     183.88|\n",
            "+-------+------------------+---------------+-----------+----------+---------------+--------+-----------------+-----------+-----------+\n",
            "only showing top 20 rows\n",
            "\n",
            "+-------+------------------+---------------+-----------+----------+---------------+--------+-----------------+-----------+-----------+\n",
            "|OrderID|      CustomerName|ProductCategory|OrderAmount| OrderDate| DeliveryStatus|Discount|             City|PaymentMode|FinalAmount|\n",
            "+-------+------------------+---------------+-----------+----------+---------------+--------+-----------------+-----------+-----------+\n",
            "|   2824|     Donald Walker|          Books|     783.04|2024-12-26|       Returned|    0.15|     Lake Joyside|Credit Card|     665.58|\n",
            "|   7912|      Brandon Hall|      Groceries|      905.0|2024-09-12|Order Cancelled|    0.03|    New Jamesside|     Wallet|     877.85|\n",
            "|   4611|      Donald Booth|        Fashion|     657.96|2025-01-12|       Returned|    0.01|     Lake Roberto|     Wallet|     651.38|\n",
            "|   3547|    Phillip Garcia|        Fashion|     606.89|2024-03-24|       Returned|    0.15| West Melanieview|     Wallet|     515.86|\n",
            "|   8527|      Valerie Gray|           Toys|      77.87|2024-08-04|      Delivered|    0.17|        Mariastad|       Cash|      64.63|\n",
            "|   4150|       Amber Perez|          Books|     352.37|2024-01-13|Order Cancelled|    0.24|  Port Jesseville|       Cash|      267.8|\n",
            "|   5554|        Roy Martin|           Toys|     148.33|2024-03-04|Order Cancelled|    0.27|          Unknown|       Cash|     108.28|\n",
            "|   2169|    Carolyn Daniel|    Electronics|      14.09|2023-10-07|      Delivered|    0.25|         Grayside|Credit Card|      10.57|\n",
            "|   6313|       Patty Perez|      Groceries|      79.83|2023-06-27|Order Cancelled|    0.12|          Unknown|Credit Card|      70.25|\n",
            "|   6155|Jonathan Wilkerson|        Fashion|     882.68|2024-10-14|Order Cancelled|    0.27|          Unknown|       Cash|     644.36|\n",
            "|   9830|       Kevin Hurst|          Books|     870.55|2024-04-08|      Delivered|    0.22|      Jeffreyberg|     Wallet|     679.03|\n",
            "|   9085| Anthony Rodriguez|      Groceries|     921.73|2024-10-02|Order Cancelled|    0.03|        Port Erin|        UPI|     894.08|\n",
            "|   2040|     Kyle Mcdonald|           Toys|     327.52|2023-12-15|       Returned|    0.06|Lake Jenniferside|     Wallet|     307.87|\n",
            "|   6573|    Jeffrey Chavez|          Books|     676.02|2024-12-14|Order Cancelled|    0.19|          Unknown|     Wallet|     547.58|\n",
            "|   2743|  Elizabeth Fowler|    Electronics|      47.06|2024-09-18|      Delivered|    0.13|          Unknown|       Cash|      40.94|\n",
            "|   9837|     Tammy Sellers|          Books|      46.15|2024-09-10|Order Cancelled|    0.05|       Tracyville|        UPI|      43.84|\n",
            "|   6038|     David Bradley|        Fashion|     348.51|2023-08-03|       Returned|    0.23|    Lake Toddland|        UPI|     268.35|\n",
            "|   3060|       John Pierce|           Toys|     362.09|2023-12-25|       Returned|    0.03|       Brandtside|       Cash|     351.23|\n",
            "|   4295|   Jennifer Powers|    Electronics|     684.26|2024-03-19|Order Cancelled|    0.21|          Unknown|        UPI|     540.57|\n",
            "|   5061|    George Chapman|    Electronics|     251.89|2023-11-28|        Pending|    0.27|       North Chad|       Cash|     183.88|\n",
            "+-------+------------------+---------------+-----------+----------+---------------+--------+-----------------+-----------+-----------+\n",
            "only showing top 20 rows\n",
            "\n",
            "+-------+------------------+---------------+-----------+----------+---------------+--------+-----------------+-----------+-----------+\n",
            "|OrderID|      CustomerName|ProductCategory|OrderAmount| OrderDate| DeliveryStatus|Discount|             City|PaymentMode|FinalAmount|\n",
            "+-------+------------------+---------------+-----------+----------+---------------+--------+-----------------+-----------+-----------+\n",
            "|   2824|     Donald Walker|          Books|     783.04|2024-12-26|       Returned|    0.15|     Lake Joyside|Credit Card|     665.58|\n",
            "|   7912|      Brandon Hall|      Groceries|      905.0|2024-09-12|Order Cancelled|    0.03|    New Jamesside|     Wallet|     877.85|\n",
            "|   4611|      Donald Booth|        Fashion|     657.96|2025-01-12|       Returned|    0.01|     Lake Roberto|     Wallet|     651.38|\n",
            "|   3547|    Phillip Garcia|        Fashion|     606.89|2024-03-24|       Returned|    0.15| West Melanieview|     Wallet|     515.86|\n",
            "|   8527|      Valerie Gray|           Toys|      77.87|2024-08-04|      Delivered|    0.17|        Mariastad|       Cash|      64.63|\n",
            "|   4150|       Amber Perez|          Books|     352.37|2024-01-13|Order Cancelled|    0.24|  Port Jesseville|       Cash|      267.8|\n",
            "|   5554|        Roy Martin|           Toys|     148.33|2024-03-04|Order Cancelled|    0.27|          Unknown|       Cash|     108.28|\n",
            "|   2169|    Carolyn Daniel|    Electronics|      14.09|2023-10-07|      Delivered|    0.25|         Grayside|Credit Card|      10.57|\n",
            "|   6313|       Patty Perez|      Groceries|      79.83|2023-06-27|Order Cancelled|    0.12|          Unknown|Credit Card|      70.25|\n",
            "|   6155|Jonathan Wilkerson|        Fashion|     882.68|2024-10-14|Order Cancelled|    0.27|          Unknown|       Cash|     644.36|\n",
            "|   9830|       Kevin Hurst|          Books|     870.55|2024-04-08|      Delivered|    0.22|      Jeffreyberg|     Wallet|     679.03|\n",
            "|   9085| Anthony Rodriguez|      Groceries|     921.73|2024-10-02|Order Cancelled|    0.03|             NULL|        UPI|     894.08|\n",
            "|   2040|     Kyle Mcdonald|           Toys|     327.52|2023-12-15|       Returned|    0.06|Lake Jenniferside|     Wallet|     307.87|\n",
            "|   6573|    Jeffrey Chavez|          Books|     676.02|2024-12-14|Order Cancelled|    0.19|          Unknown|     Wallet|     547.58|\n",
            "|   2743|  Elizabeth Fowler|    Electronics|      47.06|2024-09-18|      Delivered|    0.13|          Unknown|       Cash|      40.94|\n",
            "|   9837|     Tammy Sellers|          Books|      46.15|2024-09-10|Order Cancelled|    0.05|             NULL|        UPI|      43.84|\n",
            "|   6038|     David Bradley|        Fashion|     348.51|2023-08-03|       Returned|    0.23|    Lake Toddland|        UPI|     268.35|\n",
            "|   3060|       John Pierce|           Toys|     362.09|2023-12-25|       Returned|    0.03|       Brandtside|       Cash|     351.23|\n",
            "|   4295|   Jennifer Powers|    Electronics|     684.26|2024-03-19|Order Cancelled|    0.21|             NULL|        UPI|     540.57|\n",
            "|   5061|    George Chapman|    Electronics|     251.89|2023-11-28|        Pending|    0.27|       North Chad|       Cash|     183.88|\n",
            "+-------+------------------+---------------+-----------+----------+---------------+--------+-----------------+-----------+-----------+\n",
            "only showing top 20 rows\n",
            "\n",
            "+-------+------------------+---------------+-----------+----------+---------------+--------+-----------------+-----------+-----------+\n",
            "|OrderID|      CustomerName|ProductCategory|OrderAmount| OrderDate| DeliveryStatus|Discount|             City|PaymentMode|FinalAmount|\n",
            "+-------+------------------+---------------+-----------+----------+---------------+--------+-----------------+-----------+-----------+\n",
            "|   2824|     Donald Walker|          Books|     783.04|2024-12-26|       Returned|    0.15|     Lake Joyside|Credit Card|     665.58|\n",
            "|   7912|      Brandon Hall|      Groceries|      905.0|2024-09-12|Order Cancelled|    0.03|    New Jamesside|     Wallet|     877.85|\n",
            "|   4611|      Donald Booth|        Fashion|     657.96|2025-01-12|       Returned|    0.01|     Lake Roberto|     Wallet|     651.38|\n",
            "|   3547|    Phillip Garcia|        Fashion|     606.89|2024-03-24|       Returned|    0.15| West Melanieview|     Wallet|     515.86|\n",
            "|   8527|      Valerie Gray|           Toys|      77.87|2024-08-04|      Delivered|    0.17|        Mariastad|       Cash|      64.63|\n",
            "|   4150|       Amber Perez|          Books|     352.37|2024-01-13|Order Cancelled|    0.24|  Port Jesseville|       Cash|      267.8|\n",
            "|   5554|        Roy Martin|           Toys|     148.33|2024-03-04|Order Cancelled|    0.27|          Unknown|       Cash|     108.28|\n",
            "|   2169|    Carolyn Daniel|    Electronics|      14.09|2023-10-07|      Delivered|    0.25|         Grayside|Credit Card|      10.57|\n",
            "|   6313|       Patty Perez|      Groceries|      79.83|2023-06-27|Order Cancelled|    0.12|          Unknown|Credit Card|      70.25|\n",
            "|   6155|Jonathan Wilkerson|        Fashion|     882.68|2024-10-14|Order Cancelled|    0.27|          Unknown|       Cash|     644.36|\n",
            "|   9830|       Kevin Hurst|          Books|     870.55|2024-04-08|      Delivered|    0.22|      Jeffreyberg|     Wallet|     679.03|\n",
            "|   2040|     Kyle Mcdonald|           Toys|     327.52|2023-12-15|       Returned|    0.06|Lake Jenniferside|     Wallet|     307.87|\n",
            "|   6573|    Jeffrey Chavez|          Books|     676.02|2024-12-14|Order Cancelled|    0.19|          Unknown|     Wallet|     547.58|\n",
            "|   2743|  Elizabeth Fowler|    Electronics|      47.06|2024-09-18|      Delivered|    0.13|          Unknown|       Cash|      40.94|\n",
            "|   6038|     David Bradley|        Fashion|     348.51|2023-08-03|       Returned|    0.23|    Lake Toddland|        UPI|     268.35|\n",
            "|   3060|       John Pierce|           Toys|     362.09|2023-12-25|       Returned|    0.03|       Brandtside|       Cash|     351.23|\n",
            "|   5061|    George Chapman|    Electronics|     251.89|2023-11-28|        Pending|    0.27|       North Chad|       Cash|     183.88|\n",
            "|   1964|      Taylor Heath|           Toys|      578.5|2023-07-28|Order Cancelled|    0.01|   West Elizabeth|       Cash|     572.72|\n",
            "|   9834|    Timothy Duncan|    Electronics|     944.55|2024-06-04|Order Cancelled|    0.07|      Port Thomas|     Wallet|     878.43|\n",
            "|   2612|  Nicholas Mcbride|        Fashion|     219.05|2023-08-26|      Delivered|    0.27|       East James|        UPI|     159.91|\n",
            "+-------+------------------+---------------+-----------+----------+---------------+--------+-----------------+-----------+-----------+\n",
            "only showing top 20 rows\n",
            "\n"
          ]
        }
      ]
    },
    {
      "cell_type": "markdown",
      "source": [
        "Use .when().otherwise() in PySpark to tag high-value customers (Amount >\n",
        " 800)."
      ],
      "metadata": {
        "id": "7W2LULntM-_D"
      }
    },
    {
      "cell_type": "code",
      "source": [
        "sales_df = sales_df.withColumn(\"CustomerType\",\n",
        "                                when(col(\"FinalAmount\") > 800, \"High Value\")\n",
        "                                .otherwise(\"Regular\")\n",
        "                              )\n",
        "sales_df.select(\"CustomerName\", \"CustomerType\").show()"
      ],
      "metadata": {
        "colab": {
          "base_uri": "https://localhost:8080/"
        },
        "id": "RlDpD-GqNA7d",
        "outputId": "00af9d5d-2834-454a-9d42-c00c950bd152"
      },
      "execution_count": 165,
      "outputs": [
        {
          "output_type": "stream",
          "name": "stdout",
          "text": [
            "+------------------+------------+\n",
            "|      CustomerName|CustomerType|\n",
            "+------------------+------------+\n",
            "|     Donald Walker|     Regular|\n",
            "|      Brandon Hall|  High Value|\n",
            "|      Donald Booth|     Regular|\n",
            "|    Phillip Garcia|     Regular|\n",
            "|      Valerie Gray|     Regular|\n",
            "|       Amber Perez|     Regular|\n",
            "|        Roy Martin|     Regular|\n",
            "|    Carolyn Daniel|     Regular|\n",
            "|       Patty Perez|     Regular|\n",
            "|Jonathan Wilkerson|     Regular|\n",
            "|       Kevin Hurst|     Regular|\n",
            "|     Kyle Mcdonald|     Regular|\n",
            "|    Jeffrey Chavez|     Regular|\n",
            "|  Elizabeth Fowler|     Regular|\n",
            "|     David Bradley|     Regular|\n",
            "|       John Pierce|     Regular|\n",
            "|    George Chapman|     Regular|\n",
            "|      Taylor Heath|     Regular|\n",
            "|    Timothy Duncan|  High Value|\n",
            "|  Nicholas Mcbride|     Regular|\n",
            "+------------------+------------+\n",
            "only showing top 20 rows\n",
            "\n"
          ]
        }
      ]
    },
    {
      "cell_type": "markdown",
      "source": [
        "## 6. Date & Time Functions"
      ],
      "metadata": {
        "id": "v7sBKOC5Nocj"
      }
    },
    {
      "cell_type": "markdown",
      "source": [
        "Extract year and month from OrderDate"
      ],
      "metadata": {
        "id": "yQzObfNuNqmi"
      }
    },
    {
      "cell_type": "code",
      "source": [
        "sales_df = sales_df.withColumn(\"OrderMonth\", month(sales_df.OrderDate)) \\\n",
        "                   .withColumn(\"OrderYear\", year(sales_df.OrderDate))\n",
        "\n",
        "sales_df.select(\"OrderID\", \"OrderDate\", \"OrderMonth\", \"OrderYear\", \"DeliveryStatus\").show()"
      ],
      "metadata": {
        "colab": {
          "base_uri": "https://localhost:8080/"
        },
        "id": "5l75epW9NtJN",
        "outputId": "312d510a-e60e-4105-ed2e-c454a7eef017"
      },
      "execution_count": 166,
      "outputs": [
        {
          "output_type": "stream",
          "name": "stdout",
          "text": [
            "+-------+----------+----------+---------+---------------+\n",
            "|OrderID| OrderDate|OrderMonth|OrderYear| DeliveryStatus|\n",
            "+-------+----------+----------+---------+---------------+\n",
            "|   2824|2024-12-26|        12|     2024|       Returned|\n",
            "|   7912|2024-09-12|         9|     2024|Order Cancelled|\n",
            "|   4611|2025-01-12|         1|     2025|       Returned|\n",
            "|   3547|2024-03-24|         3|     2024|       Returned|\n",
            "|   8527|2024-08-04|         8|     2024|      Delivered|\n",
            "|   4150|2024-01-13|         1|     2024|Order Cancelled|\n",
            "|   5554|2024-03-04|         3|     2024|Order Cancelled|\n",
            "|   2169|2023-10-07|        10|     2023|      Delivered|\n",
            "|   6313|2023-06-27|         6|     2023|Order Cancelled|\n",
            "|   6155|2024-10-14|        10|     2024|Order Cancelled|\n",
            "|   9830|2024-04-08|         4|     2024|      Delivered|\n",
            "|   2040|2023-12-15|        12|     2023|       Returned|\n",
            "|   6573|2024-12-14|        12|     2024|Order Cancelled|\n",
            "|   2743|2024-09-18|         9|     2024|      Delivered|\n",
            "|   6038|2023-08-03|         8|     2023|       Returned|\n",
            "|   3060|2023-12-25|        12|     2023|       Returned|\n",
            "|   5061|2023-11-28|        11|     2023|        Pending|\n",
            "|   1964|2023-07-28|         7|     2023|Order Cancelled|\n",
            "|   9834|2024-06-04|         6|     2024|Order Cancelled|\n",
            "|   2612|2023-08-26|         8|     2023|      Delivered|\n",
            "+-------+----------+----------+---------+---------------+\n",
            "only showing top 20 rows\n",
            "\n"
          ]
        }
      ]
    },
    {
      "cell_type": "markdown",
      "source": [
        "Calculate customer loyalty in years = today - CustomerSince."
      ],
      "metadata": {
        "id": "yz6vCiiOOqBZ"
      }
    },
    {
      "cell_type": "code",
      "source": [
        "\n",
        "\n",
        "customer_since_df = sales_df.groupBy(\"CustomerName\").agg(min(\"OrderDate\").alias(\"CustomerSince\"))\n",
        "\n",
        "sales_df = sales_df.join(customer_since_df, on=\"CustomerName\", how=\"left\")\n",
        "\n",
        "sales_df = sales_df.withColumn(\n",
        "    \"CustomerLoyaltyYears\",\n",
        "    (datediff(current_date(), col(\"CustomerSince\")) / 365).cast(\"int\")\n",
        ")\n",
        "\n",
        "sales_df.select(\"CustomerName\", \"CustomerSince\", \"CustomerLoyaltyYears\").show()\n"
      ],
      "metadata": {
        "colab": {
          "base_uri": "https://localhost:8080/"
        },
        "id": "bqgo559tOqqo",
        "outputId": "d5e63bec-e287-4b32-8e8a-3354be00f74b"
      },
      "execution_count": 167,
      "outputs": [
        {
          "output_type": "stream",
          "name": "stdout",
          "text": [
            "+------------------+-------------+--------------------+\n",
            "|      CustomerName|CustomerSince|CustomerLoyaltyYears|\n",
            "+------------------+-------------+--------------------+\n",
            "|     Donald Walker|   2024-12-26|                   0|\n",
            "|      Brandon Hall|   2024-09-12|                   0|\n",
            "|      Donald Booth|   2025-01-12|                   0|\n",
            "|    Phillip Garcia|   2024-03-24|                   1|\n",
            "|      Valerie Gray|   2024-08-04|                   0|\n",
            "|       Amber Perez|   2024-01-13|                   1|\n",
            "|        Roy Martin|   2024-03-04|                   1|\n",
            "|    Carolyn Daniel|   2023-10-07|                   1|\n",
            "|       Patty Perez|   2023-06-27|                   1|\n",
            "|Jonathan Wilkerson|   2024-10-14|                   0|\n",
            "|       Kevin Hurst|   2024-04-08|                   1|\n",
            "|     Kyle Mcdonald|   2023-12-15|                   1|\n",
            "|    Jeffrey Chavez|   2024-12-14|                   0|\n",
            "|  Elizabeth Fowler|   2024-09-18|                   0|\n",
            "|     David Bradley|   2023-08-03|                   1|\n",
            "|       John Pierce|   2023-12-25|                   1|\n",
            "|    George Chapman|   2023-11-28|                   1|\n",
            "|      Taylor Heath|   2023-07-28|                   1|\n",
            "|    Timothy Duncan|   2024-06-04|                   0|\n",
            "|  Nicholas Mcbride|   2023-08-26|                   1|\n",
            "+------------------+-------------+--------------------+\n",
            "only showing top 20 rows\n",
            "\n"
          ]
        }
      ]
    },
    {
      "cell_type": "markdown",
      "source": [
        " ## 7. Joins and Unions"
      ],
      "metadata": {
        "id": "EWM8P27zRWZy"
      }
    },
    {
      "cell_type": "markdown",
      "source": [
        "Create a second DataFrame with city-wise region mapping."
      ],
      "metadata": {
        "id": "33KuULMIRZNe"
      }
    },
    {
      "cell_type": "code",
      "source": [
        "region_data = [\n",
        "    (\"Lake Joyside\", \"East\"),\n",
        "    (\"New Jamesside\", \"West\"),\n",
        "    (\"Lake Roberto\", \"Central\")\n",
        "]\n",
        "region_df = spark.createDataFrame(region_data, [\"City\", \"Region\"])\n",
        "region_df.show()"
      ],
      "metadata": {
        "colab": {
          "base_uri": "https://localhost:8080/"
        },
        "id": "7FZlQ18ORYzn",
        "outputId": "1a50ebca-9198-4c74-e493-8e9b904c9e59"
      },
      "execution_count": 168,
      "outputs": [
        {
          "output_type": "stream",
          "name": "stdout",
          "text": [
            "+-------------+-------+\n",
            "|         City| Region|\n",
            "+-------------+-------+\n",
            "| Lake Joyside|   East|\n",
            "|New Jamesside|   West|\n",
            "| Lake Roberto|Central|\n",
            "+-------------+-------+\n",
            "\n"
          ]
        }
      ]
    },
    {
      "cell_type": "markdown",
      "source": [
        "Perform inner and left joins with the main dataset."
      ],
      "metadata": {
        "id": "053HQJxNUXAc"
      }
    },
    {
      "cell_type": "code",
      "source": [
        "sales_df = sales_df.join(region_df, on=\"City\", how=\"left\")\n",
        "sales_df.select(\"CustomerName\", \"City\", \"Region\").show()"
      ],
      "metadata": {
        "colab": {
          "base_uri": "https://localhost:8080/"
        },
        "id": "FlDgVzBzUaQ7",
        "outputId": "aada42e3-0b83-41bc-8951-673b4d8dd170"
      },
      "execution_count": 169,
      "outputs": [
        {
          "output_type": "stream",
          "name": "stdout",
          "text": [
            "+------------------+-----------------+-------+\n",
            "|      CustomerName|             City| Region|\n",
            "+------------------+-----------------+-------+\n",
            "|  Nicholas Mcbride|       East James|   NULL|\n",
            "|       Amber Perez|  Port Jesseville|   NULL|\n",
            "|    George Chapman|       North Chad|   NULL|\n",
            "|     David Bradley|    Lake Toddland|   NULL|\n",
            "|     Donald Walker|     Lake Joyside|   East|\n",
            "|       John Pierce|       Brandtside|   NULL|\n",
            "|      Taylor Heath|   West Elizabeth|   NULL|\n",
            "|     Kyle Mcdonald|Lake Jenniferside|   NULL|\n",
            "|        Roy Martin|          Unknown|   NULL|\n",
            "|       Patty Perez|          Unknown|   NULL|\n",
            "|Jonathan Wilkerson|          Unknown|   NULL|\n",
            "|    Jeffrey Chavez|          Unknown|   NULL|\n",
            "|  Elizabeth Fowler|          Unknown|   NULL|\n",
            "|    Timothy Duncan|      Port Thomas|   NULL|\n",
            "|      Donald Booth|     Lake Roberto|Central|\n",
            "|     Donald Wright|South Lindseyside|   NULL|\n",
            "|       Kevin Hurst|      Jeffreyberg|   NULL|\n",
            "|    Phillip Garcia| West Melanieview|   NULL|\n",
            "|      Brandon Hall|    New Jamesside|   West|\n",
            "|    Carolyn Daniel|         Grayside|   NULL|\n",
            "+------------------+-----------------+-------+\n",
            "only showing top 20 rows\n",
            "\n"
          ]
        }
      ]
    },
    {
      "cell_type": "markdown",
      "source": [
        "Union two datasets: e.g., orders from 2023 and 2024."
      ],
      "metadata": {
        "id": "6I5818PQUfzn"
      }
    },
    {
      "cell_type": "code",
      "source": [
        "orders_2023 = [\n",
        "    (\"O001\", \"Alice\", \"2023-05-01\", 250.0),\n",
        "    (\"O002\", \"Bob\", \"2023-06-15\", 300.0)\n",
        "]\n",
        "orders_df_2023 = spark.createDataFrame(orders_2023, [\"OrderID\", \"CustomerName\", \"OrderDate\", \"Amount\"])\n",
        "\n",
        "orders_2024 = [\n",
        "    (\"O101\", \"Charlie\", \"2024-03-20\", 150.0),\n",
        "    (\"O102\", \"Diana\", \"2024-04-10\", 500.0)\n",
        "]\n",
        "orders_df_2024 = spark.createDataFrame(orders_2024, [\"OrderID\", \"CustomerName\", \"OrderDate\", \"Amount\"])\n",
        "\n",
        "\n",
        "combined_orders_df = orders_df_2023.union(orders_df_2024)\n",
        "\n",
        "\n",
        "combined_orders_df.show()\n"
      ],
      "metadata": {
        "colab": {
          "base_uri": "https://localhost:8080/"
        },
        "id": "dvjivN-hUhJk",
        "outputId": "ad82a70d-00d9-4aaa-e112-752594cf2e2e"
      },
      "execution_count": 170,
      "outputs": [
        {
          "output_type": "stream",
          "name": "stdout",
          "text": [
            "+-------+------------+----------+------+\n",
            "|OrderID|CustomerName| OrderDate|Amount|\n",
            "+-------+------------+----------+------+\n",
            "|   O001|       Alice|2023-05-01| 250.0|\n",
            "|   O002|         Bob|2023-06-15| 300.0|\n",
            "|   O101|     Charlie|2024-03-20| 150.0|\n",
            "|   O102|       Diana|2024-04-10| 500.0|\n",
            "+-------+------------+----------+------+\n",
            "\n"
          ]
        }
      ]
    },
    {
      "cell_type": "markdown",
      "source": [
        "## 8. Complex JSON Simulation (Advanced)"
      ],
      "metadata": {
        "id": "s0M-AWZ3U6ul"
      }
    },
    {
      "cell_type": "markdown",
      "source": [
        "Convert each order to a JSON string and load it back into a DataFrame."
      ],
      "metadata": {
        "id": "VgV1i9kiU83I"
      }
    },
    {
      "cell_type": "code",
      "source": [
        "from pyspark.sql.types import StructType, StructField, StringType, DoubleType\n",
        "\n",
        "# Use the Spark DataFrame, not the list\n",
        "json_rdd = orders_df_2023.toJSON()\n",
        "\n",
        "# Define schema for the JSON data\n",
        "schema = StructType([\n",
        "    StructField(\"OrderID\", StringType(), True),\n",
        "    StructField(\"CustomerName\", StringType(), True),\n",
        "    StructField(\"OrderDate\", StringType(), True),\n",
        "    StructField(\"Amount\", DoubleType(), True)\n",
        "])\n",
        "\n",
        "# Loading data back to DataFrame\n",
        "df_from_json = spark.read.schema(schema).json(json_rdd)\n",
        "\n",
        "df_from_json.show()\n"
      ],
      "metadata": {
        "colab": {
          "base_uri": "https://localhost:8080/"
        },
        "id": "q9fxcqjIVAod",
        "outputId": "fead5b82-1149-4a3c-dc00-27721c51f925"
      },
      "execution_count": 171,
      "outputs": [
        {
          "output_type": "stream",
          "name": "stdout",
          "text": [
            "+-------+------------+----------+------+\n",
            "|OrderID|CustomerName| OrderDate|Amount|\n",
            "+-------+------------+----------+------+\n",
            "|   O001|       Alice|2023-05-01| 250.0|\n",
            "|   O002|         Bob|2023-06-15| 300.0|\n",
            "+-------+------------+----------+------+\n",
            "\n"
          ]
        }
      ]
    },
    {
      "cell_type": "markdown",
      "source": [
        "Access nested fields using explode() and get_json_object().\n",
        "\n"
      ],
      "metadata": {
        "id": "wvdVnR6NWAqw"
      }
    },
    {
      "cell_type": "code",
      "source": [
        "\n",
        "\n",
        "data = [\n",
        "    ('{\"OrderID\":\"O001\",\"CustomerName\":\"Alice\",\"Amount\":250.0}',),\n",
        "    ('{\"OrderID\":\"O002\",\"CustomerName\":\"Bob\",\"Amount\":300.0}',)\n",
        "]\n",
        "json_df = spark.createDataFrame(data, [\"order_json\"])\n",
        "\n",
        "json_df.select(\n",
        "    get_json_object(\"order_json\", \"$.CustomerName\").alias(\"Customer Name\"),\n",
        "    get_json_object(\"order_json\", \"$.Amount\").alias(\"Amount\")\n",
        ").show()"
      ],
      "metadata": {
        "colab": {
          "base_uri": "https://localhost:8080/"
        },
        "id": "rfl4xTlqWBdF",
        "outputId": "e671d50b-a130-4514-d4ad-d4a5f0241ee0"
      },
      "execution_count": 172,
      "outputs": [
        {
          "output_type": "stream",
          "name": "stdout",
          "text": [
            "+-------------+------+\n",
            "|Customer Name|Amount|\n",
            "+-------------+------+\n",
            "|        Alice| 250.0|\n",
            "|          Bob| 300.0|\n",
            "+-------------+------+\n",
            "\n"
          ]
        }
      ]
    },
    {
      "cell_type": "markdown",
      "source": [
        " ## 9. Applying Functions"
      ],
      "metadata": {
        "id": "6kttmbu8YoNh"
      }
    },
    {
      "cell_type": "markdown",
      "source": [
        "Create a function to tag orders: “Big”, “Medium”, “Small” based on Amount. (UDF Version)\n",
        "\n"
      ],
      "metadata": {
        "id": "mTIiqz2mYqx2"
      }
    },
    {
      "cell_type": "code",
      "source": [
        "def categorize_amount(amount):\n",
        "    if amount > 600:\n",
        "        return \"Big\"\n",
        "    elif amount > 200:\n",
        "        return \"Medium\"\n",
        "    else:\n",
        "        return \"Small\"\n",
        "\n",
        "# Registering in PySpark UDF\n",
        "categorize_amount_udf = udf(categorize_amount, StringType())\n",
        "\n",
        "# Applying UDF\n",
        "tagged_sales_df = sales_df.withColumn(\"AmountCategory\", categorize_amount_udf(col(\"FinalAmount\")))\n",
        "\n",
        "tagged_sales_df.select(\"OrderID\", \"FinalAmount\", \"AmountCategory\").show(truncate=False)\n"
      ],
      "metadata": {
        "colab": {
          "base_uri": "https://localhost:8080/"
        },
        "id": "4NxIdEMsYqbL",
        "outputId": "b0707e0e-bc1e-47ea-acf2-9d070c34dead"
      },
      "execution_count": 174,
      "outputs": [
        {
          "output_type": "stream",
          "name": "stdout",
          "text": [
            "+-------+-----------+--------------+\n",
            "|OrderID|FinalAmount|AmountCategory|\n",
            "+-------+-----------+--------------+\n",
            "|2612   |159.91     |Small         |\n",
            "|4150   |267.8      |Medium        |\n",
            "|5061   |183.88     |Small         |\n",
            "|6038   |268.35     |Medium        |\n",
            "|2824   |665.58     |Big           |\n",
            "|3060   |351.23     |Medium        |\n",
            "|1964   |572.72     |Medium        |\n",
            "|2040   |307.87     |Medium        |\n",
            "|5554   |108.28     |Small         |\n",
            "|6313   |70.25      |Small         |\n",
            "|6155   |644.36     |Big           |\n",
            "|6573   |547.58     |Medium        |\n",
            "|2743   |40.94      |Small         |\n",
            "|9834   |878.43     |Big           |\n",
            "|4611   |651.38     |Big           |\n",
            "|3296   |434.99     |Medium        |\n",
            "|9830   |679.03     |Big           |\n",
            "|3547   |515.86     |Medium        |\n",
            "|7912   |877.85     |Big           |\n",
            "|2169   |10.57      |Small         |\n",
            "+-------+-----------+--------------+\n",
            "only showing top 20 rows\n",
            "\n"
          ]
        }
      ]
    },
    {
      "cell_type": "markdown",
      "source": [
        "Create a function to tag orders: “Big”, “Medium”, “Small” based on Amount. (.apply() Version)"
      ],
      "metadata": {
        "id": "4Z-NdpvcZ90v"
      }
    },
    {
      "cell_type": "code",
      "source": [
        "def categorize_amount_pandas(amount):\n",
        "    if amount > 600:\n",
        "        return \"Big\"\n",
        "    elif amount > 200:\n",
        "        return \"Medium\"\n",
        "    else:\n",
        "        return \"Small\"\n",
        "\n",
        "\n",
        "sales_pd_df = sales_df.toPandas()\n",
        "sales_pd_df['AmountCategory'] = sales_pd_df['FinalAmount'].apply(categorize_amount_pandas)\n",
        "\n",
        "print(sales_pd_df[['OrderID', 'FinalAmount', 'AmountCategory']])\n"
      ],
      "metadata": {
        "colab": {
          "base_uri": "https://localhost:8080/"
        },
        "id": "W7kB_-v4Z9hW",
        "outputId": "3a143fe8-7bff-42a1-d6ba-b8a612a8a919"
      },
      "execution_count": 175,
      "outputs": [
        {
          "output_type": "stream",
          "name": "stdout",
          "text": [
            "     OrderID  FinalAmount AmountCategory\n",
            "0       8827       230.10         Medium\n",
            "1       1046       321.94         Medium\n",
            "2       5076       381.09         Medium\n",
            "3       9095        10.50          Small\n",
            "4       8935       222.02         Medium\n",
            "..       ...          ...            ...\n",
            "404     8700       411.72         Medium\n",
            "405     3317       370.16         Medium\n",
            "406     2341       114.99          Small\n",
            "407     8155       244.57         Medium\n",
            "408     6302       536.65         Medium\n",
            "\n",
            "[409 rows x 3 columns]\n"
          ]
        }
      ]
    }
  ]
}