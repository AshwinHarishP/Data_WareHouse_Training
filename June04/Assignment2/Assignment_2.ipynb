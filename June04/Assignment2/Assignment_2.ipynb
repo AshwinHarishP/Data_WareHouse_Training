{
  "nbformat": 4,
  "nbformat_minor": 0,
  "metadata": {
    "colab": {
      "provenance": []
    },
    "kernelspec": {
      "name": "python3",
      "display_name": "Python 3"
    },
    "language_info": {
      "name": "python"
    }
  },
  "cells": [
    {
      "cell_type": "markdown",
      "source": [
        "#Data Preparation"
      ],
      "metadata": {
        "id": "Xy-fKEDRHWz-"
      }
    },
    {
      "cell_type": "markdown",
      "source": [
        "Import Statements"
      ],
      "metadata": {
        "id": "WLGoxUtcHp8S"
      }
    },
    {
      "cell_type": "code",
      "source": [
        "from pyspark.sql import SparkSession\n",
        "from pyspark.sql.functions import col, lower, year, when, udf, concat_ws, lit, regexp_replace, to_date, datediff, current_date\n",
        "from pyspark.sql.types import StringType\n"
      ],
      "metadata": {
        "id": "T9wb2Nw7HrkS"
      },
      "execution_count": 101,
      "outputs": []
    },
    {
      "cell_type": "markdown",
      "source": [
        "Creating Session"
      ],
      "metadata": {
        "id": "A-wfQQGvHtFT"
      }
    },
    {
      "cell_type": "code",
      "source": [
        "spark = SparkSession.builder.appName(\"PracticeProject\").enableHiveSupport().getOrCreate()"
      ],
      "metadata": {
        "id": "jR1rl6zlHuaR"
      },
      "execution_count": 2,
      "outputs": []
    },
    {
      "cell_type": "markdown",
      "source": [
        "Sample Customer and Orders Data"
      ],
      "metadata": {
        "id": "F00ZID7NHymK"
      }
    },
    {
      "cell_type": "code",
      "execution_count": 3,
      "metadata": {
        "id": "3TZGJuZpHSqi"
      },
      "outputs": [],
      "source": [
        "customers_data = [\n",
        "(101, 'Ali', 'ali@gmail.com', 'Mumbai', '2022-05-10'),\n",
        "(102, 'Neha', 'neha@yahoo.com', 'Delhi', '2023-01-15'),\n",
        "(103, 'Ravi', 'ravi@hotmail.com', 'Bangalore', '2021-11-01'),\n",
        "(104, 'Sneha', 'sneha@outlook.com', 'Hyderabad', '2020-07-22'),\n",
        "(105, 'Amit', 'amit@gmail.com', 'Chennai', '2023-03-10'),\n",
        "]\n",
        "orders_data = [\n",
        "(1, 101, 'Laptop', 'Electronics', 2, 50000.0, '2024-01-10'),\n",
        "(2, 101, 'Mouse', 'Electronics', 1, 1200.0, '2024-01-15'),\n",
        "(3, 102, 'Tablet', 'Electronics', 1, 20000.0, '2024-02-01'),\n",
        "(4, 103, 'Bookshelf', 'Furniture', 1, 3500.0, '2024-02-10'),\n",
        "(5, 104, 'Mixer', 'Appliances', 1, 5000.0, '2024-02-15'),\n",
        "(6, 105, 'Notebook', 'Stationery', 5, 500.0, '2024-03-01'),\n",
        "(7, 102, 'Phone', 'Electronics', 1, 30000.0, '2024-03-02'),\n",
        "]\n"
      ]
    },
    {
      "cell_type": "markdown",
      "source": [
        "Creatin DataFrame"
      ],
      "metadata": {
        "id": "mynhplI4H1x4"
      }
    },
    {
      "cell_type": "code",
      "source": [
        "spark.sql(\"CREATE DATABASE IF NOT EXISTS sales\")\n",
        "spark.sql(\"USE sales\")\n",
        "customers_df = spark.createDataFrame(customers_data, [\"CustomerID\", \"Name\", \"Email\", \"City\", \"SignupDate\"])\n",
        "orders_df = spark.createDataFrame(orders_data, [\"OrderID\", \"CustomerID\", \"Product\", \"Category\", \"Quantity\", \"Price\", \"OrderDate\"])\n",
        "customers_df.write.mode(\"overwrite\").saveAsTable(\"sales.customers\")\n",
        "orders_df.write.mode(\"overwrite\").saveAsTable(\"sales.orders\")"
      ],
      "metadata": {
        "id": "lhHlF4T2H3Vz"
      },
      "execution_count": 38,
      "outputs": []
    },
    {
      "cell_type": "markdown",
      "source": [
        "#SECTION A: PySpark DataFrame Tasks"
      ],
      "metadata": {
        "id": "bLg4vezeIHaz"
      }
    },
    {
      "cell_type": "markdown",
      "source": [
        "1. Add a column TotalAmount = Price * Quantity to the orders_df\n"
      ],
      "metadata": {
        "id": "oynZOM6DINQ0"
      }
    },
    {
      "cell_type": "code",
      "source": [
        "orders_df = orders_df.withColumn(\"TotalAmount\", orders_df.Price * orders_df.Quantity)\n",
        "orders_df.show()"
      ],
      "metadata": {
        "colab": {
          "base_uri": "https://localhost:8080/"
        },
        "id": "YTINqQhnIYI2",
        "outputId": "80bb9a45-9fb1-462b-8343-ea19f6129c80"
      },
      "execution_count": 45,
      "outputs": [
        {
          "output_type": "stream",
          "name": "stdout",
          "text": [
            "+-------+----------+---------+-----------+--------+-------+----------+-----------+\n",
            "|OrderID|CustomerID|  Product|   Category|Quantity|  Price| OrderDate|TotalAmount|\n",
            "+-------+----------+---------+-----------+--------+-------+----------+-----------+\n",
            "|      1|       101|   Laptop|Electronics|       2|50000.0|2024-01-10|   100000.0|\n",
            "|      2|       101|    Mouse|Electronics|       1| 1200.0|2024-01-15|     1200.0|\n",
            "|      3|       102|   Tablet|Electronics|       1|20000.0|2024-02-01|    20000.0|\n",
            "|      4|       103|Bookshelf|  Furniture|       1| 3500.0|2024-02-10|     3500.0|\n",
            "|      5|       104|    Mixer| Appliances|       1| 5000.0|2024-02-15|     5000.0|\n",
            "|      6|       105| Notebook| Stationery|       5|  500.0|2024-03-01|     2500.0|\n",
            "|      7|       102|    Phone|Electronics|       1|30000.0|2024-03-02|    30000.0|\n",
            "+-------+----------+---------+-----------+--------+-------+----------+-----------+\n",
            "\n"
          ]
        }
      ]
    },
    {
      "cell_type": "markdown",
      "source": [
        "2. Filter all orders with TotalAmount > 10000 ."
      ],
      "metadata": {
        "id": "MMnYGit-JV-K"
      }
    },
    {
      "cell_type": "code",
      "source": [
        "orders_df.filter(orders_df.TotalAmount > 10000).show()"
      ],
      "metadata": {
        "colab": {
          "base_uri": "https://localhost:8080/"
        },
        "id": "XQfpm3aUJYRu",
        "outputId": "f4c68cf3-bd8d-40b9-ace0-c624444acc2e"
      },
      "execution_count": 46,
      "outputs": [
        {
          "output_type": "stream",
          "name": "stdout",
          "text": [
            "+-------+----------+-------+-----------+--------+-------+----------+-----------+\n",
            "|OrderID|CustomerID|Product|   Category|Quantity|  Price| OrderDate|TotalAmount|\n",
            "+-------+----------+-------+-----------+--------+-------+----------+-----------+\n",
            "|      1|       101| Laptop|Electronics|       2|50000.0|2024-01-10|   100000.0|\n",
            "|      3|       102| Tablet|Electronics|       1|20000.0|2024-02-01|    20000.0|\n",
            "|      7|       102|  Phone|Electronics|       1|30000.0|2024-03-02|    30000.0|\n",
            "+-------+----------+-------+-----------+--------+-------+----------+-----------+\n",
            "\n"
          ]
        }
      ]
    },
    {
      "cell_type": "markdown",
      "source": [
        "3. Standardize the City field in customers_df (e.g: lowercase)"
      ],
      "metadata": {
        "id": "JlMZF1UMJtFK"
      }
    },
    {
      "cell_type": "code",
      "source": [
        "customer_df = customers_df.withColumn(\"City\", lower(\"City\"))\n",
        "customer_df.show()"
      ],
      "metadata": {
        "colab": {
          "base_uri": "https://localhost:8080/"
        },
        "id": "WFwtG2p3Jvn9",
        "outputId": "0656c678-95d3-487d-bad3-7f132b3f0d6b"
      },
      "execution_count": 47,
      "outputs": [
        {
          "output_type": "stream",
          "name": "stdout",
          "text": [
            "+----------+-----+-----------------+---------+----------+\n",
            "|CustomerID| Name|            Email|     City|SignupDate|\n",
            "+----------+-----+-----------------+---------+----------+\n",
            "|       101|  Ali|    ali@gmail.com|   mumbai|2022-05-10|\n",
            "|       102| Neha|   neha@yahoo.com|    delhi|2023-01-15|\n",
            "|       103| Ravi| ravi@hotmail.com|bangalore|2021-11-01|\n",
            "|       104|Sneha|sneha@outlook.com|hyderabad|2020-07-22|\n",
            "|       105| Amit|   amit@gmail.com|  chennai|2023-03-10|\n",
            "+----------+-----+-----------------+---------+----------+\n",
            "\n"
          ]
        }
      ]
    },
    {
      "cell_type": "markdown",
      "source": [
        "4.  Extract year from OrderDate and add a new column OrderYear ."
      ],
      "metadata": {
        "id": "E2xdmBEDK3JV"
      }
    },
    {
      "cell_type": "code",
      "source": [
        "orders_df = orders_df.withColumn(\"OrderYear\", year(\"OrderDate\"))\n",
        "orders_df.show()"
      ],
      "metadata": {
        "colab": {
          "base_uri": "https://localhost:8080/"
        },
        "id": "gxe7eq4BLAaT",
        "outputId": "f191b0e2-fd3a-4b6c-a3ea-10f92ddcc678"
      },
      "execution_count": 48,
      "outputs": [
        {
          "output_type": "stream",
          "name": "stdout",
          "text": [
            "+-------+----------+---------+-----------+--------+-------+----------+-----------+---------+\n",
            "|OrderID|CustomerID|  Product|   Category|Quantity|  Price| OrderDate|TotalAmount|OrderYear|\n",
            "+-------+----------+---------+-----------+--------+-------+----------+-----------+---------+\n",
            "|      1|       101|   Laptop|Electronics|       2|50000.0|2024-01-10|   100000.0|     2024|\n",
            "|      2|       101|    Mouse|Electronics|       1| 1200.0|2024-01-15|     1200.0|     2024|\n",
            "|      3|       102|   Tablet|Electronics|       1|20000.0|2024-02-01|    20000.0|     2024|\n",
            "|      4|       103|Bookshelf|  Furniture|       1| 3500.0|2024-02-10|     3500.0|     2024|\n",
            "|      5|       104|    Mixer| Appliances|       1| 5000.0|2024-02-15|     5000.0|     2024|\n",
            "|      6|       105| Notebook| Stationery|       5|  500.0|2024-03-01|     2500.0|     2024|\n",
            "|      7|       102|    Phone|Electronics|       1|30000.0|2024-03-02|    30000.0|     2024|\n",
            "+-------+----------+---------+-----------+--------+-------+----------+-----------+---------+\n",
            "\n"
          ]
        }
      ]
    },
    {
      "cell_type": "markdown",
      "source": [
        " 5. Fill null values in any column of your choice with defaults."
      ],
      "metadata": {
        "id": "pybUfQZ_L4-_"
      }
    },
    {
      "cell_type": "code",
      "source": [
        "customer_df = customer_df.fillna({\"City\": \"Unknown\"})\n",
        "customer_df.show()"
      ],
      "metadata": {
        "colab": {
          "base_uri": "https://localhost:8080/"
        },
        "id": "FtJBSAlML8je",
        "outputId": "70cacda1-173b-40ff-fe6a-4a0cc29753e4"
      },
      "execution_count": 49,
      "outputs": [
        {
          "output_type": "stream",
          "name": "stdout",
          "text": [
            "+----------+-----+-----------------+---------+----------+\n",
            "|CustomerID| Name|            Email|     City|SignupDate|\n",
            "+----------+-----+-----------------+---------+----------+\n",
            "|       101|  Ali|    ali@gmail.com|   mumbai|2022-05-10|\n",
            "|       102| Neha|   neha@yahoo.com|    delhi|2023-01-15|\n",
            "|       103| Ravi| ravi@hotmail.com|bangalore|2021-11-01|\n",
            "|       104|Sneha|sneha@outlook.com|hyderabad|2020-07-22|\n",
            "|       105| Amit|   amit@gmail.com|  chennai|2023-03-10|\n",
            "+----------+-----+-----------------+---------+----------+\n",
            "\n"
          ]
        }
      ]
    },
    {
      "cell_type": "markdown",
      "source": [
        "6. Use when/otherwise to categorize orders: \\\n",
        " <5000 : \"Low\" \\\n",
        " 5000-20000 : \"Medium\" \\\n",
        " 20000: \"High\""
      ],
      "metadata": {
        "id": "R0nboSnmMTRi"
      }
    },
    {
      "cell_type": "code",
      "source": [
        "orders_df = orders_df.withColumn(\"OrderCategory\",\n",
        "                                 when(col(\"TotalAmount\") < 5000, \"Low\")\n",
        "                                 .when((col(\"TotalAmount\") >= 5000) & (col(\"TotalAmount\") <= 20000), \"Medium\")\n",
        "                                 .otherwise(\"High\")\n",
        "                                 )\n",
        "orders_df.show()"
      ],
      "metadata": {
        "colab": {
          "base_uri": "https://localhost:8080/"
        },
        "id": "UjDucVCfMtz1",
        "outputId": "ba59465d-6940-4df3-bb61-3448c2675d74"
      },
      "execution_count": 59,
      "outputs": [
        {
          "output_type": "stream",
          "name": "stdout",
          "text": [
            "+-------+----------+---------+-----------+--------+-------+----------+-----------+---------+-------------+\n",
            "|OrderID|CustomerID|  Product|   Category|Quantity|  Price| OrderDate|TotalAmount|OrderYear|OrderCategory|\n",
            "+-------+----------+---------+-----------+--------+-------+----------+-----------+---------+-------------+\n",
            "|      1|       101|   Laptop|Electronics|       2|50000.0|2024-01-10|   100000.0|     2024|         High|\n",
            "|      2|       101|    Mouse|Electronics|       1| 1200.0|2024-01-15|     1200.0|     2024|          Low|\n",
            "|      3|       102|   Tablet|Electronics|       1|20000.0|2024-02-01|    20000.0|     2024|       Medium|\n",
            "|      4|       103|Bookshelf|  Furniture|       1| 3500.0|2024-02-10|     3500.0|     2024|          Low|\n",
            "|      5|       104|    Mixer| Appliances|       1| 5000.0|2024-02-15|     5000.0|     2024|       Medium|\n",
            "|      6|       105| Notebook| Stationery|       5|  500.0|2024-03-01|     2500.0|     2024|          Low|\n",
            "|      7|       102|    Phone|Electronics|       1|30000.0|2024-03-02|    30000.0|     2024|         High|\n",
            "+-------+----------+---------+-----------+--------+-------+----------+-----------+---------+-------------+\n",
            "\n"
          ]
        }
      ]
    },
    {
      "cell_type": "markdown",
      "source": [
        "# SECTION B: Spark SQL Tasks"
      ],
      "metadata": {
        "id": "-ZCJVnsdOSzJ"
      }
    },
    {
      "cell_type": "markdown",
      "source": [
        " 7. Run a SQL query to list all orders made by “Ali”."
      ],
      "metadata": {
        "id": "m_yHUXqhOT0K"
      }
    },
    {
      "cell_type": "code",
      "source": [
        "spark.sql(\"\"\"\n",
        "          SELECT *\n",
        "          FROM orders\n",
        "          WHERE CustomerID IN (\n",
        "              SELECT CustomerID\n",
        "              FROM customers\n",
        "              WHERE Name = 'Ali'\n",
        "    )\n",
        "\"\"\").show()"
      ],
      "metadata": {
        "colab": {
          "base_uri": "https://localhost:8080/"
        },
        "id": "0_zTKHovM3iw",
        "outputId": "5ed8980a-e6e2-42db-a39c-61b0cef15898"
      },
      "execution_count": 63,
      "outputs": [
        {
          "output_type": "stream",
          "name": "stdout",
          "text": [
            "+-------+----------+-------+-----------+--------+-------+----------+\n",
            "|OrderID|CustomerID|Product|   Category|Quantity|  Price| OrderDate|\n",
            "+-------+----------+-------+-----------+--------+-------+----------+\n",
            "|      1|       101| Laptop|Electronics|       2|50000.0|2024-01-10|\n",
            "|      2|       101|  Mouse|Electronics|       1| 1200.0|2024-01-15|\n",
            "+-------+----------+-------+-----------+--------+-------+----------+\n",
            "\n"
          ]
        }
      ]
    },
    {
      "cell_type": "markdown",
      "source": [
        " 8. Get total spending by each customer using SQL"
      ],
      "metadata": {
        "id": "LaekEn3xPaV6"
      }
    },
    {
      "cell_type": "code",
      "source": [
        "spark.sql(\"\"\"\n",
        "          SELECT\n",
        "            c.Name,\n",
        "            SUM(o.Price * o.Quantity) AS TotalAmountSpend\n",
        "          FROM customers c\n",
        "          JOIN orders o\n",
        "          ON c.CustomerID = o.CustomerID\n",
        "          GROUP BY c.Name, c.CustomerID\n",
        "          ORDER BY TotalAmountSpend DESC\n",
        "\"\"\").show()\n"
      ],
      "metadata": {
        "colab": {
          "base_uri": "https://localhost:8080/"
        },
        "id": "L6aYtOHfPa2q",
        "outputId": "eaaf81e8-497c-4730-a48e-d5883d4ea7a6"
      },
      "execution_count": 65,
      "outputs": [
        {
          "output_type": "stream",
          "name": "stdout",
          "text": [
            "+-----+----------------+\n",
            "| Name|TotalAmountSpend|\n",
            "+-----+----------------+\n",
            "|  Ali|        101200.0|\n",
            "| Neha|         50000.0|\n",
            "|Sneha|          5000.0|\n",
            "| Ravi|          3500.0|\n",
            "| Amit|          2500.0|\n",
            "+-----+----------------+\n",
            "\n"
          ]
        }
      ]
    },
    {
      "cell_type": "markdown",
      "source": [
        " 9. Find out which category made the highest total revenue."
      ],
      "metadata": {
        "id": "xZnFjcu7RWwy"
      }
    },
    {
      "cell_type": "code",
      "source": [
        "spark.sql(\"\"\"\n",
        "          SELECT\n",
        "            Category,\n",
        "            SUM(Price * Quantity) AS TotalRevenue,\n",
        "            RANK() OVER (ORDER BY SUM(Price * Quantity) DESC) AS RevenueRank\n",
        "          FROM orders\n",
        "          GROUP BY Category\n",
        "\"\"\").show()"
      ],
      "metadata": {
        "colab": {
          "base_uri": "https://localhost:8080/"
        },
        "id": "u6FJKUXWRYjt",
        "outputId": "41a88426-8f51-4088-f12f-2f52df37e7ed"
      },
      "execution_count": 73,
      "outputs": [
        {
          "output_type": "stream",
          "name": "stdout",
          "text": [
            "+-----------+------------+-----------+\n",
            "|   Category|TotalRevenue|RevenueRank|\n",
            "+-----------+------------+-----------+\n",
            "|Electronics|    151200.0|          1|\n",
            "| Appliances|      5000.0|          2|\n",
            "|  Furniture|      3500.0|          3|\n",
            "| Stationery|      2500.0|          4|\n",
            "+-----------+------------+-----------+\n",
            "\n"
          ]
        }
      ]
    },
    {
      "cell_type": "markdown",
      "source": [
        "10. Create a view customer_orders showing CustomerName, Product, TotalAmount ."
      ],
      "metadata": {
        "id": "mfK86zOaTQl_"
      }
    },
    {
      "cell_type": "code",
      "source": [
        "spark.sql(\"\"\"\n",
        "          CREATE OR REPLACE VIEW customer_orders AS\n",
        "          SELECT\n",
        "            c.Name AS CustomerName,\n",
        "            o.Product,\n",
        "            SUM(o.Price * o.Quantity) OVER(PARTITION BY c.CustomerID) AS TotalAmount\n",
        "          FROM customers c\n",
        "          JOIN orders o\n",
        "          ON c.CustomerID = o.CustomerID\n",
        "\n",
        "\"\"\")\n",
        "\n",
        "spark.sql(\"SELECT * FROM customer_orders\").show()\n"
      ],
      "metadata": {
        "colab": {
          "base_uri": "https://localhost:8080/"
        },
        "id": "4GaLDQ57TTRh",
        "outputId": "47e80f3c-951b-4545-bb79-eaddcc5e01ea"
      },
      "execution_count": 78,
      "outputs": [
        {
          "output_type": "stream",
          "name": "stdout",
          "text": [
            "+------------+---------+-----------+\n",
            "|CustomerName|  Product|TotalAmount|\n",
            "+------------+---------+-----------+\n",
            "|         Ali|   Laptop|   101200.0|\n",
            "|         Ali|    Mouse|   101200.0|\n",
            "|        Neha|   Tablet|    50000.0|\n",
            "|        Neha|    Phone|    50000.0|\n",
            "|        Ravi|Bookshelf|     3500.0|\n",
            "|       Sneha|    Mixer|     5000.0|\n",
            "|        Amit| Notebook|     2500.0|\n",
            "+------------+---------+-----------+\n",
            "\n"
          ]
        }
      ]
    },
    {
      "cell_type": "markdown",
      "source": [
        "11. Query the view for products ordered after Feb 2024.\n",
        "\n"
      ],
      "metadata": {
        "id": "NriS0aP7UgAQ"
      }
    },
    {
      "cell_type": "code",
      "source": [
        "spark.sql(\"\"\"\n",
        "    SELECT\n",
        "      co.CustomerName,\n",
        "      co.Product,\n",
        "      co.TotalAmount,\n",
        "      o.OrderDate\n",
        "    FROM customer_orders co\n",
        "    JOIN customers c ON co.CustomerName = c.Name\n",
        "    JOIN orders o ON o.Product = co.Product AND o.CustomerID = c.CustomerID\n",
        "    WHERE o.OrderDate > '2024-02-29'\n",
        "\"\"\").show()\n"
      ],
      "metadata": {
        "colab": {
          "base_uri": "https://localhost:8080/"
        },
        "id": "mVg9YqkKUhj1",
        "outputId": "37f6f23d-b7e3-4b60-ec83-33da2a884c04"
      },
      "execution_count": 88,
      "outputs": [
        {
          "output_type": "stream",
          "name": "stdout",
          "text": [
            "+------------+--------+-----------+----------+\n",
            "|CustomerName| Product|TotalAmount| OrderDate|\n",
            "+------------+--------+-----------+----------+\n",
            "|        Neha|   Phone|    50000.0|2024-03-02|\n",
            "|        Amit|Notebook|     2500.0|2024-03-01|\n",
            "+------------+--------+-----------+----------+\n",
            "\n"
          ]
        }
      ]
    },
    {
      "cell_type": "markdown",
      "source": [
        "#SECTION C: Advanced Practice"
      ],
      "metadata": {
        "id": "oo5AImTMXDvX"
      }
    },
    {
      "cell_type": "markdown",
      "source": [
        "12. Create a Global Temp View from\n",
        "customers_df , then \\\n",
        "query it using:\n",
        " SELECT * FROM \\\n",
        " global_temp.customers WHERE City = 'Mumbai'"
      ],
      "metadata": {
        "id": "hU8AVRtHXH5i"
      }
    },
    {
      "cell_type": "code",
      "source": [
        "customers_df.createOrReplaceGlobalTempView(\"customers\")\n",
        "spark.sql(\"\"\"\n",
        "    SELECT *\n",
        "    FROM global_temp.customers\n",
        "    WHERE City = 'Mumbai'\n",
        "\"\"\").show()"
      ],
      "metadata": {
        "colab": {
          "base_uri": "https://localhost:8080/"
        },
        "id": "4zSLNrWEXPDk",
        "outputId": "510d5e3c-ccbe-4d36-8b53-20b3ed876fc5"
      },
      "execution_count": 89,
      "outputs": [
        {
          "output_type": "stream",
          "name": "stdout",
          "text": [
            "+----------+----+-------------+------+----------+\n",
            "|CustomerID|Name|        Email|  City|SignupDate|\n",
            "+----------+----+-------------+------+----------+\n",
            "|       101| Ali|ali@gmail.com|Mumbai|2022-05-10|\n",
            "+----------+----+-------------+------+----------+\n",
            "\n"
          ]
        }
      ]
    },
    {
      "cell_type": "markdown",
      "source": [
        "13 Save the transformed\n",
        "orders_df (with TotalAmount) to a Parquet file."
      ],
      "metadata": {
        "id": "Pqck-dwIX1W4"
      }
    },
    {
      "cell_type": "code",
      "source": [
        "orders_df.write.mode(\"overwrite\").parquet(\"/path/to/save/orders_parquet\")"
      ],
      "metadata": {
        "id": "mfRhUK44X3Nl"
      },
      "execution_count": 90,
      "outputs": []
    },
    {
      "cell_type": "markdown",
      "source": [
        "14. Read back the Parquet file and count how many orders are in it."
      ],
      "metadata": {
        "id": "7IK8Sy5TYO9O"
      }
    },
    {
      "cell_type": "code",
      "source": [
        "orders_parquet_df = spark.read.parquet(\"/path/to/save/orders_parquet\")\n",
        "\n",
        "order_count = orders_parquet_df.count()\n",
        "\n",
        "print(f\"Total number of orders: {order_count}\")"
      ],
      "metadata": {
        "colab": {
          "base_uri": "https://localhost:8080/"
        },
        "id": "dbDJ9zgeYQGk",
        "outputId": "edaf456d-e8c3-4235-bf88-a66a117fec4b"
      },
      "execution_count": 91,
      "outputs": [
        {
          "output_type": "stream",
          "name": "stdout",
          "text": [
            "Total number of orders: 7\n"
          ]
        }
      ]
    },
    {
      "cell_type": "markdown",
      "source": [
        "#SECTION D: UDF + Built-in Function Tasks"
      ],
      "metadata": {
        "id": "6fPG9E5yYtMs"
      }
    },
    {
      "cell_type": "markdown",
      "source": [
        "15. Write a UDF that masks emails like: \\\n",
        "ali@gmail.com → a***@gmail.com ."
      ],
      "metadata": {
        "id": "YC8AfemFZKgZ"
      }
    },
    {
      "cell_type": "code",
      "source": [
        "def email_mask(email):\n",
        "    if email and \"@\" in email:\n",
        "        name, domain = email.split(\"@\")\n",
        "        if len(name) > 1:\n",
        "            return name[0] + \"***@\" + domain\n",
        "    return email\n",
        "\n",
        "email_mask_udf = udf(email_mask, StringType())\n",
        "\n",
        "df = customers_df.withColumn(\"masked_email\", email_mask_udf(\"Email\"))\n",
        "df.select(\"Email\", \"masked_email\").show(truncate=False)"
      ],
      "metadata": {
        "colab": {
          "base_uri": "https://localhost:8080/"
        },
        "id": "_CuTVSC6ZNyn",
        "outputId": "32266e98-7def-4d15-c4bd-d139cc410c36"
      },
      "execution_count": 94,
      "outputs": [
        {
          "output_type": "stream",
          "name": "stdout",
          "text": [
            "+-----------------+----------------+\n",
            "|Email            |masked_email    |\n",
            "+-----------------+----------------+\n",
            "|ali@gmail.com    |a***@gmail.com  |\n",
            "|neha@yahoo.com   |n***@yahoo.com  |\n",
            "|ravi@hotmail.com |r***@hotmail.com|\n",
            "|sneha@outlook.com|s***@outlook.com|\n",
            "|amit@gmail.com   |a***@gmail.com  |\n",
            "+-----------------+----------------+\n",
            "\n"
          ]
        }
      ]
    },
    {
      "cell_type": "markdown",
      "source": [
        "16. Use concat_ws() to create a full label like:\n",
        "'Ali from Mumbai"
      ],
      "metadata": {
        "id": "gfePUhBJaJMN"
      }
    },
    {
      "cell_type": "code",
      "source": [
        "df = customers_df.withColumn(\"full_label\", concat_ws(\" \", \"Name\", lit(\"from\"), \"City\"))\n",
        "df.select(\"Name\", \"City\", \"full_label\").show()"
      ],
      "metadata": {
        "colab": {
          "base_uri": "https://localhost:8080/"
        },
        "id": "cAVfAazfaK-N",
        "outputId": "c230d4e3-21ff-4113-98ae-e27024a90354"
      },
      "execution_count": 99,
      "outputs": [
        {
          "output_type": "stream",
          "name": "stdout",
          "text": [
            "+-----+---------+--------------------+\n",
            "| Name|     City|          full_label|\n",
            "+-----+---------+--------------------+\n",
            "|  Ali|   Mumbai|     Ali from Mumbai|\n",
            "| Neha|    Delhi|     Neha from Delhi|\n",
            "| Ravi|Bangalore| Ravi from Bangalore|\n",
            "|Sneha|Hyderabad|Sneha from Hyderabad|\n",
            "| Amit|  Chennai|   Amit from Chennai|\n",
            "+-----+---------+--------------------+\n",
            "\n"
          ]
        }
      ]
    },
    {
      "cell_type": "markdown",
      "source": [
        "17. Use regexp_replace() to remove special characters from product names."
      ],
      "metadata": {
        "id": "iuYnMw1caads"
      }
    },
    {
      "cell_type": "code",
      "source": [
        "orders_clean_df = orders_df.withColumn(\n",
        "    \"CleanProduct\",\n",
        "    regexp_replace(\"Product\", r\"[^a-zA-Z0-9\\s]\", \"\")\n",
        ")\n",
        "\n",
        "orders_clean_df.select(\"Product\", \"CleanProduct\").show()"
      ],
      "metadata": {
        "colab": {
          "base_uri": "https://localhost:8080/"
        },
        "id": "LGkfozz1ab_5",
        "outputId": "cc2abef7-6012-49cf-f6db-ee9fd0e834c4"
      },
      "execution_count": 98,
      "outputs": [
        {
          "output_type": "stream",
          "name": "stdout",
          "text": [
            "+---------+------------+\n",
            "|  Product|CleanProduct|\n",
            "+---------+------------+\n",
            "|   Laptop|      Laptop|\n",
            "|    Mouse|       Mouse|\n",
            "|   Tablet|      Tablet|\n",
            "|Bookshelf|   Bookshelf|\n",
            "|    Mixer|       Mixer|\n",
            "| Notebook|    Notebook|\n",
            "|    Phone|       Phone|\n",
            "+---------+------------+\n",
            "\n"
          ]
        }
      ]
    },
    {
      "cell_type": "markdown",
      "source": [
        "18. Use to_date() and datediff() \\\n",
        "to calculate customer age in days (fromSignupDate to today)."
      ],
      "metadata": {
        "id": "THdgoaNcat85"
      }
    },
    {
      "cell_type": "code",
      "source": [
        "customers_age_df = customers_df.withColumn(\n",
        "    \"SignupDate\", to_date(\"SignupDate\", \"yyyy-MM-dd\")).withColumn(\n",
        "    \"AgeInDays\", datediff(current_date(), \"SignupDate\")\n",
        ")\n",
        "\n",
        "customers_age_df.select(\"Name\", \"SignupDate\", \"AgeInDays\").show()"
      ],
      "metadata": {
        "colab": {
          "base_uri": "https://localhost:8080/"
        },
        "id": "JpSpUWwba0EC",
        "outputId": "0e3a2e36-ba60-48ed-e3e6-ab15085e4176"
      },
      "execution_count": 102,
      "outputs": [
        {
          "output_type": "stream",
          "name": "stdout",
          "text": [
            "+-----+----------+---------+\n",
            "| Name|SignupDate|AgeInDays|\n",
            "+-----+----------+---------+\n",
            "|  Ali|2022-05-10|     1121|\n",
            "| Neha|2023-01-15|      871|\n",
            "| Ravi|2021-11-01|     1311|\n",
            "|Sneha|2020-07-22|     1778|\n",
            "| Amit|2023-03-10|      817|\n",
            "+-----+----------+---------+\n",
            "\n"
          ]
        }
      ]
    }
  ]
}