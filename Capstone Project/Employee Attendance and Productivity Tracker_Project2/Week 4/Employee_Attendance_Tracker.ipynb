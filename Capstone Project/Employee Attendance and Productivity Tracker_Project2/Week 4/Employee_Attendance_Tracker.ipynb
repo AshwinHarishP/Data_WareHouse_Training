{
 "cells": [
  {
   "cell_type": "markdown",
   "metadata": {
    "application/vnd.databricks.v1+cell": {
     "cellMetadata": {},
     "inputWidgets": {},
     "nuid": "231d5c8e-65dd-432b-89ad-e4a7508eba32",
     "showTitle": false,
     "tableResultSettingsMap": {},
     "title": ""
    }
   },
   "source": [
    "Creating Session"
   ]
  },
  {
   "cell_type": "code",
   "execution_count": 0,
   "metadata": {
    "application/vnd.databricks.v1+cell": {
     "cellMetadata": {},
     "inputWidgets": {},
     "nuid": "a417bf43-54cd-4fdb-82c0-f2bbbbffadd3",
     "showTitle": false,
     "tableResultSettingsMap": {},
     "title": ""
    }
   },
   "outputs": [],
   "source": [
    "from pyspark.sql import SparkSession\n",
    "spark = SparkSession.builder \\\n",
    "                    .appName(\"Employee Attendance Tracker\") \\\n",
    "                    .getOrCreate() \n",
    "spark"
   ]
  },
  {
   "cell_type": "markdown",
   "metadata": {
    "application/vnd.databricks.v1+cell": {
     "cellMetadata": {},
     "inputWidgets": {},
     "nuid": "0f840f73-aa60-485b-8dd6-abfe4f7c7861",
     "showTitle": false,
     "tableResultSettingsMap": {},
     "title": ""
    }
   },
   "source": [
    "Loading data"
   ]
  },
  {
   "cell_type": "code",
   "execution_count": 0,
   "metadata": {
    "application/vnd.databricks.v1+cell": {
     "cellMetadata": {
      "byteLimit": 2048000,
      "rowLimit": 10000
     },
     "inputWidgets": {},
     "nuid": "748f0d3d-45b2-4da8-a2e0-e39782174f52",
     "showTitle": false,
     "tableResultSettingsMap": {},
     "title": ""
    }
   },
   "outputs": [],
   "source": [
    "employee_df = spark.read.format(\"csv\") \\\n",
    "                          .option(\"header\", \"true\") \\\n",
    "                          .option(\"inferSchema\", \"true\") \\\n",
    "                          .load(\"/Volumes/workspace/default/employee_attendance/employees.csv\")\n",
    "\n",
    "attendance_df = spark.read.format(\"csv\") \\\n",
    "                          .option(\"header\", \"true\") \\\n",
    "                          .option(\"inferSchema\", \"true\") \\\n",
    "                          .load(\"/Volumes/workspace/default/employee_attendance/attendance.csv\")\n",
    "\n",
    "tasks_df = spark.read.format(\"csv\") \\\n",
    "                     .option(\"header\", \"true\") \\\n",
    "                     .option(\"inferSchema\", \"true\") \\\n",
    "                     .load(\"/Volumes/workspace/default/employee_attendance/tasks.csv\")"
   ]
  },
  {
   "cell_type": "markdown",
   "metadata": {
    "application/vnd.databricks.v1+cell": {
     "cellMetadata": {},
     "inputWidgets": {},
     "nuid": "d8af8d81-1143-4d63-b7cc-525a24a74805",
     "showTitle": false,
     "tableResultSettingsMap": {},
     "title": ""
    }
   },
   "source": [
    "Displaying sample data"
   ]
  },
  {
   "cell_type": "code",
   "execution_count": 0,
   "metadata": {
    "application/vnd.databricks.v1+cell": {
     "cellMetadata": {
      "byteLimit": 2048000,
      "rowLimit": 10000
     },
     "inputWidgets": {},
     "nuid": "36fd34ce-0178-4ce0-8adc-3cbe2ea637b7",
     "showTitle": false,
     "tableResultSettingsMap": {},
     "title": ""
    }
   },
   "outputs": [
    {
     "output_type": "stream",
     "name": "stdout",
     "output_type": "stream",
     "text": [
      "\n Employee Record\n+-----------+-------------+----------+\n|employee_id|employee_name|department|\n+-----------+-------------+----------+\n|          1|       Ashwin|        IT|\n|          2|      Aravind|        HR|\n|          3|     Akhilesh|   Finance|\n|          4|         Neha|        IT|\n|          5|        Rahul|        HR|\n+-----------+-------------+----------+\nonly showing top 5 rows\n\n Attendance Record\n+-----------+-------------------+-------------------+\n|employee_id|           clock_in|          clock_out|\n+-----------+-------------------+-------------------+\n|          1|2025-06-01 09:00:00|2025-06-01 17:00:00|\n|          2|2025-06-01 09:15:00|2025-06-01 17:15:00|\n|          3|2025-06-01 08:45:00|2025-06-01 16:45:00|\n|          4|2025-06-01 09:00:00|2025-06-01 17:00:00|\n|          5|2025-06-01 09:05:00|2025-06-01 17:05:00|\n+-----------+-------------------+-------------------+\nonly showing top 5 rows\n\n Tasks Record\n+-----------+--------------------+----------+\n|employee_id|    task_description| task_date|\n+-----------+--------------------+----------+\n|          1|Prepare project r...|2025-06-01|\n|          2|  Conduct interviews|2025-06-01|\n|          3|Review financial ...|2025-06-01|\n|          4|   Develop feature X|2025-06-01|\n|          5|Organize team mee...|2025-06-01|\n+-----------+--------------------+----------+\nonly showing top 5 rows\n"
     ]
    }
   ],
   "source": [
    "print(\"\\n Employee Record\")\n",
    "employee_df.show(5)\n",
    "\n",
    "print(\"\\n Attendance Record\")\n",
    "attendance_df.show(5)\n",
    "\n",
    "print(\"\\n Tasks Record\")\n",
    "tasks_df.show(5)\n"
   ]
  },
  {
   "cell_type": "markdown",
   "metadata": {
    "application/vnd.databricks.v1+cell": {
     "cellMetadata": {},
     "inputWidgets": {},
     "nuid": "e224251b-379f-4ccd-8d91-6aefe8c22f9b",
     "showTitle": false,
     "tableResultSettingsMap": {},
     "title": ""
    }
   },
   "source": [
    "Adding working hours column"
   ]
  },
  {
   "cell_type": "code",
   "execution_count": 0,
   "metadata": {
    "application/vnd.databricks.v1+cell": {
     "cellMetadata": {
      "byteLimit": 2048000,
      "rowLimit": 10000
     },
     "inputWidgets": {},
     "nuid": "06093296-7142-4ab2-9093-b85426799c56",
     "showTitle": false,
     "tableResultSettingsMap": {},
     "title": ""
    }
   },
   "outputs": [
    {
     "output_type": "stream",
     "name": "stdout",
     "output_type": "stream",
     "text": [
      "+-----------+----------+\n|employee_id|work_hours|\n+-----------+----------+\n|          1|       8.0|\n|          2|       8.0|\n|          3|       8.0|\n|          4|       8.0|\n|          5|       8.0|\n|          6|       8.0|\n|          7|       8.0|\n|          8|       8.0|\n|          9|       8.0|\n|         10|       8.0|\n|         11|       8.0|\n|         12|       8.0|\n|         13|       8.0|\n|         14|       8.0|\n|         15|       8.0|\n|         16|       8.0|\n|         17|       8.0|\n|         18|       8.0|\n|         19|       8.0|\n|         20|       8.0|\n+-----------+----------+\n\n"
     ]
    }
   ],
   "source": [
    "from pyspark.sql.functions import unix_timestamp, round\n",
    "\n",
    "attendance_df = attendance_df.withColumn(\"work_hours\", \n",
    "                                            round((unix_timestamp(\"clock_out\") - unix_timestamp(\"clock_in\")) / 3600, 2)\n",
    "                                        )\n",
    "attendance_df.select(\n",
    "                        \"employee_id\",\n",
    "                        \"work_hours\"\n",
    "                    ).show()\n",
    "\n",
    "\n"
   ]
  },
  {
   "cell_type": "markdown",
   "metadata": {
    "application/vnd.databricks.v1+cell": {
     "cellMetadata": {},
     "inputWidgets": {},
     "nuid": "3ab06cc4-197e-4fd3-84ea-40f55f87d9b1",
     "showTitle": false,
     "tableResultSettingsMap": {},
     "title": ""
    }
   },
   "source": [
    "Joining employee and task"
   ]
  },
  {
   "cell_type": "code",
   "execution_count": 0,
   "metadata": {
    "application/vnd.databricks.v1+cell": {
     "cellMetadata": {
      "byteLimit": 2048000,
      "rowLimit": 10000
     },
     "inputWidgets": {},
     "nuid": "cf9394bf-e02f-4ceb-b416-48579728e33e",
     "showTitle": false,
     "tableResultSettingsMap": {},
     "title": ""
    }
   },
   "outputs": [
    {
     "output_type": "stream",
     "name": "stdout",
     "output_type": "stream",
     "text": [
      "+-----------+-------------+----------+--------------------+----------+\n|employee_id|employee_name|department|    task_description| task_date|\n+-----------+-------------+----------+--------------------+----------+\n|          1|       Ashwin|        IT|Prepare project r...|2025-06-01|\n|          2|      Aravind|        HR|  Conduct interviews|2025-06-01|\n|          3|     Akhilesh|   Finance|Review financial ...|2025-06-01|\n|          4|         Neha|        IT|   Develop feature X|2025-06-01|\n|          5|        Rahul|        HR|Organize team mee...|2025-06-01|\n|          6|        Pooja|   Finance|Update documentation|2025-06-01|\n|          7|       Suresh|        IT|Fix bugs in module Y|2025-06-01|\n|          8|        Anita|        HR|Plan training ses...|2025-06-01|\n|          9|       Vikram|   Finance|      Audit accounts|2025-06-01|\n|         10|        Rohit|        IT|  Deploy new release|2025-06-01|\n|         11|        Sneha|        HR|Coordinate client...|2025-06-01|\n|         12|        Karan|   Finance|   Design UI mockups|2025-06-01|\n|         13|        Deepa|        IT|    Prepare invoices|2025-06-01|\n|         14|       Ramesh|        HR|Conduct performan...|2025-06-01|\n|         15|        Priya|   Finance|          Update CRM|2025-06-01|\n|         16|        Manoj|        IT|  Research new tools|2025-06-01|\n|         17|       Kavita|        HR|  Organize workshops|2025-06-01|\n|         18|         Ajay|   Finance|       Test software|2025-06-01|\n|         19|       Sunita|        IT|Prepare presentat...|2025-06-01|\n|         20|        Vikas|        HR|Maintain server u...|2025-06-01|\n+-----------+-------------+----------+--------------------+----------+\n\n"
     ]
    }
   ],
   "source": [
    "emp_task_df = tasks_df.join(employee_df, on=\"employee_id\", how=\"inner\") \\\n",
    "                      .select(\n",
    "                                \"employee_id\",\n",
    "                                \"employee_name\",\n",
    "                                \"department\",\n",
    "                                \"task_description\",\n",
    "                                \"task_date\",\n",
    "                             )\n",
    "emp_task_df.show()"
   ]
  },
  {
   "cell_type": "markdown",
   "metadata": {
    "application/vnd.databricks.v1+cell": {
     "cellMetadata": {},
     "inputWidgets": {},
     "nuid": "b45272b7-2188-4dc2-b97d-4d1ee17e3f72",
     "showTitle": false,
     "tableResultSettingsMap": {},
     "title": ""
    }
   },
   "source": [
    "Joining employee and attendance"
   ]
  },
  {
   "cell_type": "code",
   "execution_count": 0,
   "metadata": {
    "application/vnd.databricks.v1+cell": {
     "cellMetadata": {
      "byteLimit": 2048000,
      "rowLimit": 10000
     },
     "inputWidgets": {},
     "nuid": "30d6a8cd-bcd4-48b3-a779-18b0d86a35f1",
     "showTitle": false,
     "tableResultSettingsMap": {},
     "title": ""
    }
   },
   "outputs": [
    {
     "output_type": "stream",
     "name": "stdout",
     "output_type": "stream",
     "text": [
      "+-----------+-------------+----------+-------------------+-------------------+----------+\n|employee_id|employee_name|department|           clock_in|          clock_out|work_hours|\n+-----------+-------------+----------+-------------------+-------------------+----------+\n|          1|       Ashwin|        IT|2025-06-01 09:00:00|2025-06-01 17:00:00|       8.0|\n|          2|      Aravind|        HR|2025-06-01 09:15:00|2025-06-01 17:15:00|       8.0|\n|          3|     Akhilesh|   Finance|2025-06-01 08:45:00|2025-06-01 16:45:00|       8.0|\n|          4|         Neha|        IT|2025-06-01 09:00:00|2025-06-01 17:00:00|       8.0|\n|          5|        Rahul|        HR|2025-06-01 09:05:00|2025-06-01 17:05:00|       8.0|\n|          6|        Pooja|   Finance|2025-06-01 09:10:00|2025-06-01 17:10:00|       8.0|\n|          7|       Suresh|        IT|2025-06-01 09:00:00|2025-06-01 17:00:00|       8.0|\n|          8|        Anita|        HR|2025-06-01 09:20:00|2025-06-01 17:20:00|       8.0|\n|          9|       Vikram|   Finance|2025-06-01 08:55:00|2025-06-01 16:55:00|       8.0|\n|         10|        Rohit|        IT|2025-06-01 09:05:00|2025-06-01 17:05:00|       8.0|\n|         11|        Sneha|        HR|2025-06-01 09:00:00|2025-06-01 17:00:00|       8.0|\n|         12|        Karan|   Finance|2025-06-01 09:10:00|2025-06-01 17:10:00|       8.0|\n|         13|        Deepa|        IT|2025-06-01 08:50:00|2025-06-01 16:50:00|       8.0|\n|         14|       Ramesh|        HR|2025-06-01 09:00:00|2025-06-01 17:00:00|       8.0|\n|         15|        Priya|   Finance|2025-06-01 09:15:00|2025-06-01 17:15:00|       8.0|\n|         16|        Manoj|        IT|2025-06-01 09:00:00|2025-06-01 17:00:00|       8.0|\n|         17|       Kavita|        HR|2025-06-01 09:05:00|2025-06-01 17:05:00|       8.0|\n|         18|         Ajay|   Finance|2025-06-01 08:55:00|2025-06-01 16:55:00|       8.0|\n|         19|       Sunita|        IT|2025-06-01 09:00:00|2025-06-01 17:00:00|       8.0|\n|         20|        Vikas|        HR|2025-06-01 09:10:00|2025-06-01 17:10:00|       8.0|\n+-----------+-------------+----------+-------------------+-------------------+----------+\n\n"
     ]
    }
   ],
   "source": [
    "emp_attendance_df = attendance_df.join(employee_df, on=\"employee_id\", how=\"inner\") \\\n",
    "                                 .select(\n",
    "                                            \"employee_id\",\n",
    "                                            \"employee_name\",\n",
    "                                            \"department\",\n",
    "                                            \"clock_in\",\n",
    "                                            \"clock_out\",\n",
    "                                            \"work_hours\"\n",
    "                                        )\n",
    "emp_attendance_df.show()"
   ]
  },
  {
   "cell_type": "markdown",
   "metadata": {
    "application/vnd.databricks.v1+cell": {
     "cellMetadata": {},
     "inputWidgets": {},
     "nuid": "87f0f821-c54f-4966-aaa3-3ee0497747e3",
     "showTitle": false,
     "tableResultSettingsMap": {},
     "title": ""
    }
   },
   "source": [
    "#### Creating department-level metrics by total work hours and number of tasks"
   ]
  },
  {
   "cell_type": "markdown",
   "metadata": {
    "application/vnd.databricks.v1+cell": {
     "cellMetadata": {},
     "inputWidgets": {},
     "nuid": "b9c21924-fb03-46d5-a6bf-11c3ef171511",
     "showTitle": false,
     "tableResultSettingsMap": {},
     "title": ""
    }
   },
   "source": [
    "Total work hours per department"
   ]
  },
  {
   "cell_type": "code",
   "execution_count": 0,
   "metadata": {
    "application/vnd.databricks.v1+cell": {
     "cellMetadata": {
      "byteLimit": 2048000,
      "rowLimit": 10000
     },
     "inputWidgets": {},
     "nuid": "1a33eb7d-a206-496d-a130-09abb449ba14",
     "showTitle": false,
     "tableResultSettingsMap": {},
     "title": ""
    }
   },
   "outputs": [
    {
     "output_type": "stream",
     "name": "stdout",
     "output_type": "stream",
     "text": [
      "+----------+----------------+--------------+\n|department|attendance_count|avg_work_hours|\n+----------+----------------+--------------+\n|        HR|               7|           8.0|\n|        IT|               7|           8.0|\n|   Finance|               6|           8.0|\n+----------+----------------+--------------+\n\n"
     ]
    }
   ],
   "source": [
    "from pyspark.sql.functions import count, avg\n",
    "attendance_metrice = emp_attendance_df.groupBy(\"department\") \\\n",
    "                                      .agg(count(\"employee_id\").alias(\"attendance_count\"),\n",
    "                                           round(avg(\"work_hours\"), 2).alias(\"avg_work_hours\"))\n",
    "                                      \n",
    "attendance_metrice.show()"
   ]
  },
  {
   "cell_type": "markdown",
   "metadata": {
    "application/vnd.databricks.v1+cell": {
     "cellMetadata": {},
     "inputWidgets": {},
     "nuid": "1b86e1cc-ba91-4f3f-a999-ae9bd6ef13e6",
     "showTitle": false,
     "tableResultSettingsMap": {},
     "title": ""
    }
   },
   "source": [
    "Total tasks per department"
   ]
  },
  {
   "cell_type": "code",
   "execution_count": 0,
   "metadata": {
    "application/vnd.databricks.v1+cell": {
     "cellMetadata": {
      "byteLimit": 2048000,
      "rowLimit": 10000
     },
     "inputWidgets": {},
     "nuid": "24a6cdb2-6e2e-4496-be1c-9a629f42935f",
     "showTitle": false,
     "tableResultSettingsMap": {},
     "title": ""
    }
   },
   "outputs": [
    {
     "output_type": "stream",
     "name": "stdout",
     "output_type": "stream",
     "text": [
      "+----------+-----------+\n|department|total_tasks|\n+----------+-----------+\n|        HR|          7|\n|        IT|          7|\n|   Finance|          6|\n+----------+-----------+\n\n"
     ]
    }
   ],
   "source": [
    "task_metrice = emp_task_df.groupBy(\"department\") \\\n",
    "                          .agg(count(\"task_description\").alias(\"total_tasks\"))\n",
    "task_metrice.show()"
   ]
  },
  {
   "cell_type": "markdown",
   "metadata": {
    "application/vnd.databricks.v1+cell": {
     "cellMetadata": {},
     "inputWidgets": {},
     "nuid": "f6b8f1f4-a400-47e7-8de9-4830b197818a",
     "showTitle": false,
     "tableResultSettingsMap": {},
     "title": ""
    }
   },
   "source": [
    "Joining two metrices"
   ]
  },
  {
   "cell_type": "code",
   "execution_count": 0,
   "metadata": {
    "application/vnd.databricks.v1+cell": {
     "cellMetadata": {
      "byteLimit": 2048000,
      "rowLimit": 10000
     },
     "inputWidgets": {},
     "nuid": "2f97a583-19a4-4f00-9ae6-4e4cd61695de",
     "showTitle": false,
     "tableResultSettingsMap": {},
     "title": ""
    }
   },
   "outputs": [
    {
     "output_type": "stream",
     "name": "stdout",
     "output_type": "stream",
     "text": [
      "+----------+----------------+--------------+-----------+\n|department|attendance_count|avg_work_hours|total_tasks|\n+----------+----------------+--------------+-----------+\n|        HR|               7|           8.0|          7|\n|        IT|               7|           8.0|          7|\n|   Finance|               6|           8.0|          6|\n+----------+----------------+--------------+-----------+\n\n"
     ]
    }
   ],
   "source": [
    "dept_metrics_df = attendance_metrice.join(task_metrice, on=\"department\", how=\"outer\")\n",
    "dept_metrics_df.show()"
   ]
  },
  {
   "cell_type": "markdown",
   "metadata": {
    "application/vnd.databricks.v1+cell": {
     "cellMetadata": {},
     "inputWidgets": {},
     "nuid": "7fac6bcd-13b4-4dc2-b35e-00573b14f950",
     "showTitle": false,
     "tableResultSettingsMap": {},
     "title": ""
    }
   },
   "source": [
    "#### Saving Files"
   ]
  },
  {
   "cell_type": "markdown",
   "metadata": {
    "application/vnd.databricks.v1+cell": {
     "cellMetadata": {},
     "inputWidgets": {},
     "nuid": "5ee0fc06-a833-4742-9f32-adf1afde2e0e",
     "showTitle": false,
     "tableResultSettingsMap": {},
     "title": ""
    }
   },
   "source": [
    "saving in delta format"
   ]
  },
  {
   "cell_type": "code",
   "execution_count": 0,
   "metadata": {
    "application/vnd.databricks.v1+cell": {
     "cellMetadata": {
      "byteLimit": 2048000,
      "rowLimit": 10000
     },
     "inputWidgets": {},
     "nuid": "7d50d33e-6ad1-4d3d-bcf2-dfa72c714fb3",
     "showTitle": false,
     "tableResultSettingsMap": {},
     "title": ""
    }
   },
   "outputs": [],
   "source": [
    "dept_metrics_df.write.format(\"delta\") \\\n",
    "                     .mode(\"overwrite\") \\\n",
    "                     .save(\"/Volumes/workspace/default/employee_attendance/employees_delta\")"
   ]
  },
  {
   "cell_type": "markdown",
   "metadata": {
    "application/vnd.databricks.v1+cell": {
     "cellMetadata": {},
     "inputWidgets": {},
     "nuid": "f5b06e2e-3bcc-4cf2-b1e8-d9b8204b1bf3",
     "showTitle": false,
     "tableResultSettingsMap": {},
     "title": ""
    }
   },
   "source": [
    "saving in csv format"
   ]
  },
  {
   "cell_type": "code",
   "execution_count": 0,
   "metadata": {
    "application/vnd.databricks.v1+cell": {
     "cellMetadata": {
      "byteLimit": 2048000,
      "rowLimit": 10000
     },
     "inputWidgets": {},
     "nuid": "c8a8a867-cc12-4ba6-996f-91b2d0dd7bf5",
     "showTitle": false,
     "tableResultSettingsMap": {},
     "title": ""
    }
   },
   "outputs": [],
   "source": [
    "dept_metrics_df.write.format(\"csv\") \\\n",
    "                     .mode(\"overwrite\") \\\n",
    "                     .save(\"/Volumes/workspace/default/employee_attendance/employees_csv.csv\")"
   ]
  },
  {
   "cell_type": "code",
   "execution_count": 0,
   "metadata": {
    "application/vnd.databricks.v1+cell": {
     "cellMetadata": {
      "byteLimit": 2048000,
      "rowLimit": 10000
     },
     "inputWidgets": {},
     "nuid": "5b94fc7f-6554-418a-a6de-28a4da8bbad9",
     "showTitle": false,
     "tableResultSettingsMap": {},
     "title": ""
    }
   },
   "outputs": [
    {
     "output_type": "display_data",
     "data": {
      "text/html": [
       "<style scoped>\n",
       "  .table-result-container {\n",
       "    max-height: 300px;\n",
       "    overflow: auto;\n",
       "  }\n",
       "  table, th, td {\n",
       "    border: 1px solid black;\n",
       "    border-collapse: collapse;\n",
       "  }\n",
       "  th, td {\n",
       "    padding: 5px;\n",
       "  }\n",
       "  th {\n",
       "    text-align: left;\n",
       "  }\n",
       "</style><div class='table-result-container'><table class='table-result'><thead style='background-color: white'><tr><th>path</th><th>name</th><th>size</th><th>modificationTime</th></tr></thead><tbody><tr><td>dbfs:/Volumes/workspace/default/employee_attendance/attendance.csv</td><td>attendance.csv</td><td>903</td><td>1749796787000</td></tr><tr><td>dbfs:/Volumes/workspace/default/employee_attendance/employees.csv</td><td>employees.csv</td><td>328</td><td>1749796787000</td></tr><tr><td>dbfs:/Volumes/workspace/default/employee_attendance/employees_csv.csv/</td><td>employees_csv.csv/</td><td>0</td><td>1749798200520</td></tr><tr><td>dbfs:/Volumes/workspace/default/employee_attendance/employees_delta.csv/</td><td>employees_delta.csv/</td><td>0</td><td>1749798200520</td></tr><tr><td>dbfs:/Volumes/workspace/default/employee_attendance/tasks.csv</td><td>tasks.csv</td><td>732</td><td>1749796787000</td></tr></tbody></table></div>"
      ]
     },
     "metadata": {
      "application/vnd.databricks.v1+output": {
       "addedWidgets": {},
       "aggData": [],
       "aggError": "",
       "aggOverflow": false,
       "aggSchema": [],
       "aggSeriesLimitReached": false,
       "aggType": "",
       "arguments": {},
       "columnCustomDisplayInfos": {},
       "data": [
        [
         "dbfs:/Volumes/workspace/default/employee_attendance/attendance.csv",
         "attendance.csv",
         903,
         1749796787000
        ],
        [
         "dbfs:/Volumes/workspace/default/employee_attendance/employees.csv",
         "employees.csv",
         328,
         1749796787000
        ],
        [
         "dbfs:/Volumes/workspace/default/employee_attendance/employees_csv.csv/",
         "employees_csv.csv/",
         0,
         1749798200520
        ],
        [
         "dbfs:/Volumes/workspace/default/employee_attendance/employees_delta.csv/",
         "employees_delta.csv/",
         0,
         1749798200520
        ],
        [
         "dbfs:/Volumes/workspace/default/employee_attendance/tasks.csv",
         "tasks.csv",
         732,
         1749796787000
        ]
       ],
       "datasetInfos": [],
       "dbfsResultPath": null,
       "isJsonSchema": true,
       "metadata": {},
       "overflow": false,
       "plotOptions": {
        "customPlotOptions": {},
        "displayType": "table",
        "pivotAggregation": null,
        "pivotColumns": null,
        "xColumns": null,
        "yColumns": null
       },
       "removedWidgets": [],
       "schema": [
        {
         "metadata": "{}",
         "name": "path",
         "type": "\"string\""
        },
        {
         "metadata": "{}",
         "name": "name",
         "type": "\"string\""
        },
        {
         "metadata": "{}",
         "name": "size",
         "type": "\"long\""
        },
        {
         "metadata": "{}",
         "name": "modificationTime",
         "type": "\"long\""
        }
       ],
       "type": "table"
      }
     },
     "output_type": "display_data"
    }
   ],
   "source": [
    "display(dbutils.fs.ls(\"/Volumes/workspace/default/employee_attendance/\"))"
   ]
  }
 ],
 "metadata": {
  "application/vnd.databricks.v1+notebook": {
   "computePreferences": null,
   "dashboards": [],
   "environmentMetadata": {
    "base_environment": "",
    "environment_version": "2"
   },
   "inputWidgetPreferences": null,
   "language": "python",
   "notebookMetadata": {
    "pythonIndentUnit": 4
   },
   "notebookName": "Employee_Attendance_Tracker (2)",
   "widgets": {}
  },
  "language_info": {
   "name": "python"
  }
 },
 "nbformat": 4,
 "nbformat_minor": 0
}