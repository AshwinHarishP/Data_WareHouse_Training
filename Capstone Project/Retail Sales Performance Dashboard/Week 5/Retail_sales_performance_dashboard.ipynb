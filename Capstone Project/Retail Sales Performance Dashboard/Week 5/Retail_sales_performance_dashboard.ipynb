{
 "cells": [
  {
   "cell_type": "markdown",
   "metadata": {
    "application/vnd.databricks.v1+cell": {
     "cellMetadata": {
      "byteLimit": 2048000,
      "rowLimit": 10000
     },
     "inputWidgets": {},
     "nuid": "4d1cff9f-f5a8-43a2-bf97-7d66b91522ff",
     "showTitle": false,
     "tableResultSettingsMap": {},
     "title": ""
    }
   },
   "source": [
    "Creating spark session"
   ]
  },
  {
   "cell_type": "code",
   "execution_count": 0,
   "metadata": {
    "application/vnd.databricks.v1+cell": {
     "cellMetadata": {
      "byteLimit": 2048000,
      "rowLimit": 10000
     },
     "inputWidgets": {},
     "nuid": "637b6828-81a4-464c-9f45-93d2375f9788",
     "showTitle": false,
     "tableResultSettingsMap": {},
     "title": ""
    }
   },
   "outputs": [
    {
     "output_type": "execute_result",
     "data": {
      "text/plain": [
       "<pyspark.sql.connect.session.SparkSession at 0x7fae7f9fcb10>"
      ]
     },
     "execution_count": 18,
     "metadata": {},
     "output_type": "execute_result"
    }
   ],
   "source": [
    "from pyspark.sql import SparkSession\n",
    "spark = SparkSession.builder \\\n",
    "                    .appName(\"Retail Sales Performance Dashboard\") \\\n",
    "                    .getOrCreate() \n",
    "spark"
   ]
  },
  {
   "cell_type": "markdown",
   "metadata": {
    "application/vnd.databricks.v1+cell": {
     "cellMetadata": {
      "byteLimit": 2048000,
      "rowLimit": 10000
     },
     "inputWidgets": {},
     "nuid": "8ed474c0-311b-46ae-a606-a8ed7911694a",
     "showTitle": false,
     "tableResultSettingsMap": {},
     "title": ""
    }
   },
   "source": [
    "Loading csv files"
   ]
  },
  {
   "cell_type": "code",
   "execution_count": 0,
   "metadata": {
    "application/vnd.databricks.v1+cell": {
     "cellMetadata": {
      "byteLimit": 2048000,
      "rowLimit": 10000
     },
     "inputWidgets": {},
     "nuid": "64904d43-bce2-4d31-bd57-ef65e16117b7",
     "showTitle": false,
     "tableResultSettingsMap": {},
     "title": ""
    }
   },
   "outputs": [],
   "source": [
    "employee_df = spark.read.format(\"csv\").option(\"header\", \"true\") \\\n",
    "                                      .option(\"inferSchema\", \"true\") \\\n",
    "                                      .load(\"/Volumes/workspace/default/retail_sales_performance_dashboard/employees.csv\")\n",
    "\n",
    "product_df = spark.read.format(\"csv\").option(\"header\", \"true\") \\\n",
    "                                     .option(\"inferSchema\", \"true\") \\\n",
    "                                     .load(\"/Volumes/workspace/default/retail_sales_performance_dashboard/products.csv\")\n",
    "\n",
    "store_df = spark.read.format(\"csv\").option(\"header\", \"true\") \\\n",
    "                                   .option(\"inferSchema\", \"true\") \\\n",
    "                                   .load(\"/Volumes/workspace/default/retail_sales_performance_dashboard/stores.csv\")\n",
    "                                   \n",
    "sales_df = spark.read.format(\"csv\").option(\"header\", \"true\") \\\n",
    "                                   .option(\"inferSchema\", \"true\") \\\n",
    "                                   .load(\"/Volumes/workspace/default/retail_sales_performance_dashboard/sales.csv\")\n"
   ]
  },
  {
   "cell_type": "markdown",
   "metadata": {
    "application/vnd.databricks.v1+cell": {
     "cellMetadata": {
      "byteLimit": 2048000,
      "rowLimit": 10000
     },
     "inputWidgets": {},
     "nuid": "10c28201-0e37-400c-9bd2-1fcd65b74247",
     "showTitle": false,
     "tableResultSettingsMap": {},
     "title": ""
    }
   },
   "source": [
    "Displaying Schema"
   ]
  },
  {
   "cell_type": "code",
   "execution_count": 0,
   "metadata": {
    "application/vnd.databricks.v1+cell": {
     "cellMetadata": {
      "byteLimit": 2048000,
      "rowLimit": 10000
     },
     "inputWidgets": {},
     "nuid": "a9722199-be16-4911-8038-06c9700959be",
     "showTitle": false,
     "tableResultSettingsMap": {},
     "title": ""
    }
   },
   "outputs": [
    {
     "output_type": "stream",
     "name": "stdout",
     "output_type": "stream",
     "text": [
      "Schema for employee_df\nroot\n |-- employee_id: integer (nullable = true)\n |-- employee_name: string (nullable = true)\n |-- store_id: integer (nullable = true)\n\n\n Schema for product_df\nroot\n |-- product_id: integer (nullable = true)\n |-- product_name: string (nullable = true)\n |-- price: double (nullable = true)\n\n\n Schema for sales_df:\nroot\n |-- sale_id: integer (nullable = true)\n |-- product_id: integer (nullable = true)\n |-- store_id: integer (nullable = true)\n |-- employee_id: integer (nullable = true)\n |-- quantity: integer (nullable = true)\n |-- sale_date: date (nullable = true)\n\n\n Schema for store_df\nroot\n |-- store_id: integer (nullable = true)\n |-- store_name: string (nullable = true)\n |-- region: string (nullable = true)\n\n"
     ]
    }
   ],
   "source": [
    "print(\"Schema for employee_df\")\n",
    "employee_df.printSchema()\n",
    "\n",
    "print(\"\\n Schema for product_df\")\n",
    "product_df.printSchema()\n",
    "\n",
    "print(\"\\n Schema for sales_df:\")\n",
    "sales_df.printSchema()\n",
    "\n",
    "print(\"\\n Schema for store_df\")\n",
    "store_df.printSchema()"
   ]
  },
  {
   "cell_type": "markdown",
   "metadata": {
    "application/vnd.databricks.v1+cell": {
     "cellMetadata": {
      "byteLimit": 2048000,
      "rowLimit": 10000
     },
     "inputWidgets": {},
     "nuid": "e79dce96-7ce6-4508-b6ae-16bf00640c5a",
     "showTitle": false,
     "tableResultSettingsMap": {},
     "title": ""
    }
   },
   "source": [
    "#### Joining Data"
   ]
  },
  {
   "cell_type": "markdown",
   "metadata": {
    "application/vnd.databricks.v1+cell": {
     "cellMetadata": {
      "byteLimit": 2048000,
      "rowLimit": 10000
     },
     "inputWidgets": {},
     "nuid": "38d5c6e6-002a-4e47-98fd-63ca10173bbf",
     "showTitle": false,
     "tableResultSettingsMap": {},
     "title": ""
    }
   },
   "source": [
    "Joining sales and products"
   ]
  },
  {
   "cell_type": "code",
   "execution_count": 0,
   "metadata": {
    "application/vnd.databricks.v1+cell": {
     "cellMetadata": {
      "byteLimit": 2048000,
      "rowLimit": 10000
     },
     "inputWidgets": {},
     "nuid": "471916e0-1d73-416d-aec7-8c6d35670dda",
     "showTitle": false,
     "tableResultSettingsMap": {},
     "title": ""
    }
   },
   "outputs": [
    {
     "output_type": "stream",
     "name": "stdout",
     "output_type": "stream",
     "text": [
      "+-------+----------+--------+-----------+--------+----------+\n|sale_id|product_id|store_id|employee_id|quantity| sale_date|\n+-------+----------+--------+-----------+--------+----------+\n|      1|         1|       1|          1|       2|2025-06-01|\n|      2|         2|       2|          2|       5|2025-06-01|\n|      3|         3|       3|          3|       1|2025-06-02|\n|      4|         4|       4|          4|       4|2025-06-02|\n|      5|         5|       5|          5|       3|2025-06-03|\n|      6|         6|       6|          6|       6|2025-06-03|\n|      7|         7|       7|          7|       1|2025-06-04|\n|      8|         8|       8|          8|       2|2025-06-04|\n|      9|         9|       9|          9|       2|2025-06-05|\n|     10|        10|      10|         10|       3|2025-06-05|\n|     11|        11|      11|         11|       1|2025-06-06|\n|     12|        12|      12|         12|       4|2025-06-06|\n|     13|        13|      13|         13|       2|2025-06-07|\n|     14|        14|      14|         14|       2|2025-06-07|\n|     15|        15|      15|         15|       5|2025-06-08|\n|     16|        16|      16|         16|       1|2025-06-08|\n|     17|        17|      17|         17|       2|2025-06-09|\n|     18|        18|      18|         18|       3|2025-06-09|\n|     19|        19|      19|         19|       4|2025-06-10|\n|     20|        20|      20|         20|       1|2025-06-10|\n+-------+----------+--------+-----------+--------+----------+\n\n"
     ]
    }
   ],
   "source": [
    "sales_product_df = sales_df.join(product_df, sales_df.product_id == product_df.product_id, \"inner\")\n",
    "sales_df.show()"
   ]
  },
  {
   "cell_type": "code",
   "execution_count": 0,
   "metadata": {
    "application/vnd.databricks.v1+cell": {
     "cellMetadata": {
      "byteLimit": 2048000,
      "rowLimit": 10000
     },
     "inputWidgets": {},
     "nuid": "e5738382-28a4-4c1a-95ac-4499ac9eb0a2",
     "showTitle": false,
     "tableResultSettingsMap": {},
     "title": ""
    }
   },
   "outputs": [
    {
     "output_type": "stream",
     "name": "stdout",
     "output_type": "stream",
     "text": [
      "root\n |-- sale_id: integer (nullable = true)\n |-- product_id: integer (nullable = true)\n |-- store_id: integer (nullable = true)\n |-- employee_id: integer (nullable = true)\n |-- quantity: integer (nullable = true)\n |-- sale_date: date (nullable = true)\n |-- product_id: integer (nullable = true)\n |-- product_name: string (nullable = true)\n |-- price: double (nullable = true)\n\n"
     ]
    }
   ],
   "source": [
    "sales_product_df.printSchema()"
   ]
  },
  {
   "cell_type": "code",
   "execution_count": 0,
   "metadata": {
    "application/vnd.databricks.v1+cell": {
     "cellMetadata": {
      "byteLimit": 2048000,
      "rowLimit": 10000
     },
     "inputWidgets": {},
     "nuid": "ff0ca214-bd1f-47e0-9f42-d4473a61a56e",
     "showTitle": false,
     "tableResultSettingsMap": {},
     "title": ""
    }
   },
   "outputs": [
    {
     "output_type": "stream",
     "name": "stdout",
     "output_type": "stream",
     "text": [
      "root\n |-- employee_id: integer (nullable = true)\n |-- employee_name: string (nullable = true)\n |-- store_id: integer (nullable = true)\n\n"
     ]
    }
   ],
   "source": [
    "employee_df.printSchema()"
   ]
  },
  {
   "cell_type": "markdown",
   "metadata": {
    "application/vnd.databricks.v1+cell": {
     "cellMetadata": {
      "byteLimit": 2048000,
      "rowLimit": 10000
     },
     "inputWidgets": {},
     "nuid": "d9c71676-8194-40f0-a5b5-a16530b9f42f",
     "showTitle": false,
     "tableResultSettingsMap": {},
     "title": ""
    }
   },
   "source": [
    "Joining employee and sales_product_df"
   ]
  },
  {
   "cell_type": "code",
   "execution_count": 0,
   "metadata": {
    "application/vnd.databricks.v1+cell": {
     "cellMetadata": {
      "byteLimit": 2048000,
      "rowLimit": 10000
     },
     "inputWidgets": {},
     "nuid": "902f6f08-0dfe-4615-9c40-3f767c941090",
     "showTitle": false,
     "tableResultSettingsMap": {},
     "title": ""
    }
   },
   "outputs": [
    {
     "output_type": "stream",
     "name": "stdout",
     "output_type": "stream",
     "text": [
      "+-----------+-------------+--------+---------------+-----+--------+-------+----------+\n|employee_id|employee_name|store_id|   product_name|price|quantity|sale_id| sale_date|\n+-----------+-------------+--------+---------------+-----+--------+-------+----------+\n|          1|        Alice|       1|         Laptop|750.0|       2|      1|2025-06-01|\n|          2|          Bob|       2|          Phone|400.0|       5|      2|2025-06-01|\n|          3|      Charlie|       3|         Tablet|300.0|       1|      3|2025-06-02|\n|          4|        David|       4|        Monitor|200.0|       4|      4|2025-06-02|\n|          5|          Eva|       5|       Keyboard| 50.0|       3|      5|2025-06-03|\n|          6|        Frank|       6|          Mouse| 30.0|       6|      6|2025-06-03|\n|          7|        Grace|       7|        Printer|120.0|       1|      7|2025-06-04|\n|          8|       Hannah|       8|        Scanner|150.0|       2|      8|2025-06-04|\n|          9|          Ian|       9|     Headphones| 80.0|       2|      9|2025-06-05|\n|         10|         Jack|      10|         Webcam| 90.0|       3|     10|2025-06-05|\n|         11|        Karen|      11|     Smartwatch|250.0|       1|     11|2025-06-06|\n|         12|          Leo|      12|         Router| 70.0|       4|     12|2025-06-06|\n|         13|         Mona|      13|        SSD 1TB|150.0|       2|     13|2025-06-07|\n|         14|         Nate|      14|        HDD 2TB|100.0|       2|     14|2025-06-07|\n|         15|       Olivia|      15|  Graphics Card|300.0|       5|     15|2025-06-08|\n|         16|         Paul|      16|       RAM 16GB| 90.0|       1|     16|2025-06-08|\n|         17|       Quincy|      17|     Power Bank| 40.0|       2|     17|2025-06-09|\n|         18|       Rachel|      18|     VR Headset|500.0|       3|     18|2025-06-09|\n|         19|          Sam|      19|Game Controller| 60.0|       4|     19|2025-06-10|\n|         20|         Tina|      20|     Microphone|110.0|       1|     20|2025-06-10|\n+-----------+-------------+--------+---------------+-----+--------+-------+----------+\n\n"
     ]
    }
   ],
   "source": [
    "sales_employee_df = employee_df.join(sales_product_df, on=employee_df.employee_id == sales_product_df.employee_id, how=\"inner\") \\\n",
    "                               .select(\n",
    "                                          employee_df.employee_id,\n",
    "                                          employee_df.employee_name,\n",
    "                                          employee_df.store_id,\n",
    "                                          sales_product_df.product_name,\n",
    "                                          sales_product_df.price,\n",
    "                                          sales_product_df.quantity,\n",
    "                                          sales_product_df.sale_id,\n",
    "                                          sales_product_df.sale_date\n",
    "                                       )\n",
    "sales_employee_df.show()                               "
   ]
  },
  {
   "cell_type": "markdown",
   "metadata": {
    "application/vnd.databricks.v1+cell": {
     "cellMetadata": {
      "byteLimit": 2048000,
      "rowLimit": 10000
     },
     "inputWidgets": {},
     "nuid": "7537fc28-3dbf-4fbd-b666-59add8c05724",
     "showTitle": false,
     "tableResultSettingsMap": {},
     "title": ""
    }
   },
   "source": [
    "Joining sales_employee_df and products"
   ]
  },
  {
   "cell_type": "code",
   "execution_count": 0,
   "metadata": {
    "application/vnd.databricks.v1+cell": {
     "cellMetadata": {
      "byteLimit": 2048000,
      "rowLimit": 10000
     },
     "inputWidgets": {},
     "nuid": "20453c57-c013-4f71-918a-a36487b6d3cf",
     "showTitle": false,
     "tableResultSettingsMap": {},
     "title": ""
    }
   },
   "outputs": [
    {
     "output_type": "stream",
     "name": "stdout",
     "output_type": "stream",
     "text": [
      "root\n |-- product_id: integer (nullable = true)\n |-- product_name: string (nullable = true)\n |-- price: double (nullable = true)\n\n"
     ]
    }
   ],
   "source": [
    "product_df.printSchema()"
   ]
  },
  {
   "cell_type": "code",
   "execution_count": 0,
   "metadata": {
    "application/vnd.databricks.v1+cell": {
     "cellMetadata": {
      "byteLimit": 2048000,
      "rowLimit": 10000
     },
     "inputWidgets": {},
     "nuid": "314f8091-be70-4086-9c83-f47c340e296b",
     "showTitle": false,
     "tableResultSettingsMap": {},
     "title": ""
    }
   },
   "outputs": [
    {
     "output_type": "stream",
     "name": "stdout",
     "output_type": "stream",
     "text": [
      "root\n |-- employee_id: integer (nullable = true)\n |-- employee_name: string (nullable = true)\n |-- store_id: integer (nullable = true)\n |-- product_name: string (nullable = true)\n |-- price: double (nullable = true)\n |-- quantity: integer (nullable = true)\n |-- sale_id: integer (nullable = true)\n |-- sale_date: date (nullable = true)\n\n"
     ]
    }
   ],
   "source": [
    "sales_employee_df.printSchema()"
   ]
  },
  {
   "cell_type": "code",
   "execution_count": 0,
   "metadata": {
    "application/vnd.databricks.v1+cell": {
     "cellMetadata": {
      "byteLimit": 2048000,
      "rowLimit": 10000
     },
     "inputWidgets": {},
     "nuid": "14379019-1153-4171-b3a1-f7cb3c1316ce",
     "showTitle": false,
     "tableResultSettingsMap": {},
     "title": ""
    }
   },
   "outputs": [
    {
     "output_type": "stream",
     "name": "stdout",
     "output_type": "stream",
     "text": [
      "+-----------+-------------+--------+----------+------------+-----+--------+-------+----------+\n|employee_id|employee_name|store_id|product_id|product_name|price|quantity|sale_id| sale_date|\n+-----------+-------------+--------+----------+------------+-----+--------+-------+----------+\n|          1|        Alice|       1|         1|      Laptop|750.0|       2|      1|2025-06-01|\n|          2|          Bob|       2|         2|       Phone|400.0|       5|      2|2025-06-01|\n|          3|      Charlie|       3|         3|      Tablet|300.0|       1|      3|2025-06-02|\n|          4|        David|       4|         4|     Monitor|200.0|       4|      4|2025-06-02|\n|          5|          Eva|       5|         5|    Keyboard| 50.0|       3|      5|2025-06-03|\n+-----------+-------------+--------+----------+------------+-----+--------+-------+----------+\nonly showing top 5 rows\n"
     ]
    }
   ],
   "source": [
    "full_df = sales_employee_df.join(product_df, on=sales_employee_df.product_name == product_df.product_name, how=\"inner\") \\\n",
    "                           .select(\n",
    "                                    sales_employee_df.employee_id,\n",
    "                                    sales_employee_df.employee_name,\n",
    "                                    sales_employee_df.store_id,\n",
    "                                    product_df.product_id,\n",
    "                                    sales_employee_df.product_name,\n",
    "                                    sales_employee_df.price,\n",
    "                                    sales_employee_df.quantity,\n",
    "                                    sales_employee_df.sale_id,\n",
    "                                    sales_employee_df.sale_date\n",
    "                                  )\n",
    "full_df.show(5)"
   ]
  },
  {
   "cell_type": "markdown",
   "metadata": {
    "application/vnd.databricks.v1+cell": {
     "cellMetadata": {
      "byteLimit": 2048000,
      "rowLimit": 10000
     },
     "inputWidgets": {},
     "nuid": "f162f6df-89c8-4f07-a70d-54f6d67f2cd1",
     "showTitle": false,
     "tableResultSettingsMap": {},
     "title": ""
    }
   },
   "source": [
    "Calculating Profit margin"
   ]
  },
  {
   "cell_type": "code",
   "execution_count": 0,
   "metadata": {
    "application/vnd.databricks.v1+cell": {
     "cellMetadata": {
      "byteLimit": 2048000,
      "rowLimit": 10000
     },
     "inputWidgets": {},
     "nuid": "25a30e67-2ad2-4dbd-a1ce-177787cf18a0",
     "showTitle": false,
     "tableResultSettingsMap": {},
     "title": ""
    }
   },
   "outputs": [
    {
     "output_type": "stream",
     "name": "stdout",
     "output_type": "stream",
     "text": [
      "+----------+---------------+-------------+----------+----------------+------+------------------------+\n|product_id|   product_name|total_revenue|total_cost|total_units_sold|profit|profit_margin_percentage|\n+----------+---------------+-------------+----------+----------------+------+------------------------+\n|         2|          Phone|       2000.0|    1600.0|               5| 400.0|                    20.0|\n|        11|     Smartwatch|        250.0|     200.0|               1|  50.0|                    20.0|\n|        19|Game Controller|        240.0|     192.0|               4|  48.0|                    20.0|\n|         9|     Headphones|        160.0|     128.0|               2|  32.0|                    20.0|\n|        20|     Microphone|        110.0|      88.0|               1|  22.0|                    20.0|\n|         4|        Monitor|        800.0|     640.0|               4| 160.0|                    20.0|\n|        15|  Graphics Card|       1500.0|    1200.0|               5| 300.0|                    20.0|\n|         1|         Laptop|       1500.0|    1200.0|               2| 300.0|                    20.0|\n|         7|        Printer|        120.0|      96.0|               1|  24.0|                    20.0|\n|        18|     VR Headset|       1500.0|    1200.0|               3| 300.0|                    20.0|\n|         5|       Keyboard|        150.0|     120.0|               3|  30.0|                    20.0|\n|        13|        SSD 1TB|        300.0|     240.0|               2|  60.0|                    20.0|\n|         8|        Scanner|        300.0|     240.0|               2|  60.0|                    20.0|\n|        10|         Webcam|        270.0|     216.0|               3|  54.0|                    20.0|\n|        14|        HDD 2TB|        200.0|     160.0|               2|  40.0|                    20.0|\n|        17|     Power Bank|         80.0|      64.0|               2|  16.0|                    20.0|\n|         3|         Tablet|        300.0|     240.0|               1|  60.0|                    20.0|\n|         6|          Mouse|        180.0|     144.0|               6|  36.0|                    20.0|\n|        12|         Router|        280.0|     224.0|               4|  56.0|                    20.0|\n|        16|       RAM 16GB|         90.0|      72.0|               1|  18.0|                    20.0|\n+----------+---------------+-------------+----------+----------------+------+------------------------+\n\n"
     ]
    }
   ],
   "source": [
    "from pyspark.sql.functions import col, sum, round\n",
    "# Adding selling price column\n",
    "full_df = full_df.withColumn(\"cost_price\", round(col(\"price\") * 0.8, 2))\n",
    "\n",
    "# Calculating total sales and total cost\n",
    "full_df = full_df.withColumn(\"total_sale\", round(col(\"quantity\") * col(\"price\"), 2)) \\\n",
    "                 .withColumn(\"total_cost\", round(col(\"quantity\") * col(\"cost_price\"), 2))\n",
    "\n",
    "# Findfing profit margin\n",
    "profit_margin = full_df.groupBy(\"product_id\", \"product_name\") \\\n",
    "                        .agg(sum(\"total_sale\").alias(\"total_revenue\"),\n",
    "                             sum(\"total_cost\").alias(\"total_cost\"),\n",
    "                             sum(\"quantity\").alias(\"total_units_sold\"))\\\n",
    "                        .withColumn(\"profit\", col(\"total_revenue\") - col(\"total_cost\")) \\\n",
    "                        .withColumn(\"profit_margin_percentage\", round((col(\"profit\") / col(\"total_revenue\")) * 100, 2))\n",
    "profit_margin.show()\n"
   ]
  },
  {
   "cell_type": "markdown",
   "metadata": {
    "application/vnd.databricks.v1+cell": {
     "cellMetadata": {
      "byteLimit": 2048000,
      "rowLimit": 10000
     },
     "inputWidgets": {},
     "nuid": "64b3c410-ec71-4931-b0df-57ccdc8ac807",
     "showTitle": false,
     "tableResultSettingsMap": {},
     "title": ""
    }
   },
   "source": [
    "Saving File"
   ]
  },
  {
   "cell_type": "markdown",
   "metadata": {
    "application/vnd.databricks.v1+cell": {
     "cellMetadata": {
      "byteLimit": 2048000,
      "rowLimit": 10000
     },
     "inputWidgets": {},
     "nuid": "f3338f15-97cc-4f47-b64d-15eb8847892c",
     "showTitle": false,
     "tableResultSettingsMap": {},
     "title": ""
    }
   },
   "source": [
    "Saving to csv file"
   ]
  },
  {
   "cell_type": "code",
   "execution_count": 0,
   "metadata": {
    "application/vnd.databricks.v1+cell": {
     "cellMetadata": {
      "byteLimit": 2048000,
      "rowLimit": 10000
     },
     "inputWidgets": {},
     "nuid": "99861d25-fce7-4669-ab87-154be901e5f7",
     "showTitle": false,
     "tableResultSettingsMap": {},
     "title": ""
    }
   },
   "outputs": [],
   "source": [
    "profit_margin.write.option(\"header\", True).mode(\"overwrite\").csv(\"/Volumes/workspace/default/retail_sales_performance_dashboard/profit_margin_csv\")"
   ]
  },
  {
   "cell_type": "markdown",
   "metadata": {
    "application/vnd.databricks.v1+cell": {
     "cellMetadata": {
      "byteLimit": 2048000,
      "rowLimit": 10000
     },
     "inputWidgets": {},
     "nuid": "54820f56-ddb7-40ed-bb40-c065418b4edf",
     "showTitle": false,
     "tableResultSettingsMap": {},
     "title": ""
    }
   },
   "source": [
    "Saving to delta file"
   ]
  },
  {
   "cell_type": "code",
   "execution_count": 0,
   "metadata": {
    "application/vnd.databricks.v1+cell": {
     "cellMetadata": {
      "byteLimit": 2048000,
      "rowLimit": 10000
     },
     "inputWidgets": {},
     "nuid": "5febaacb-ff27-41d0-84ec-656990429a12",
     "showTitle": false,
     "tableResultSettingsMap": {},
     "title": ""
    }
   },
   "outputs": [],
   "source": [
    "profit_margin.write.format(\"delta\").mode(\"overwrite\").save(\"/Volumes/workspace/default/retail_sales_performance_dashboard/profit_margin_delta\")"
   ]
  },
  {
   "cell_type": "markdown",
   "metadata": {
    "application/vnd.databricks.v1+cell": {
     "cellMetadata": {
      "byteLimit": 2048000,
      "rowLimit": 10000
     },
     "inputWidgets": {},
     "nuid": "bc4bf005-0df0-4f1e-ada4-8384ae002ca2",
     "showTitle": false,
     "tableResultSettingsMap": {},
     "title": ""
    }
   },
   "source": [
    "Find top 3 best-selling products"
   ]
  },
  {
   "cell_type": "code",
   "execution_count": 0,
   "metadata": {
    "application/vnd.databricks.v1+cell": {
     "cellMetadata": {
      "byteLimit": 2048000,
      "rowLimit": 10000
     },
     "inputWidgets": {},
     "nuid": "35dbe250-03d6-4d9d-9295-2165b2a80af5",
     "showTitle": false,
     "tableResultSettingsMap": {},
     "title": ""
    }
   },
   "outputs": [],
   "source": [
    "profit_margin.createOrReplaceTempView(\"profit_margin_view\")"
   ]
  },
  {
   "cell_type": "code",
   "execution_count": 0,
   "metadata": {
    "application/vnd.databricks.v1+cell": {
     "cellMetadata": {
      "byteLimit": 2048000,
      "rowLimit": 10000
     },
     "inputWidgets": {},
     "nuid": "4cadcc99-36bc-44fe-ab10-87d90bcc282e",
     "showTitle": false,
     "tableResultSettingsMap": {},
     "title": ""
    }
   },
   "outputs": [
    {
     "output_type": "stream",
     "name": "stdout",
     "output_type": "stream",
     "text": [
      "+----------+-------------+----------------+-------------+------------------------+\n|product_id| product_name|total_units_sold|total_revenue|profit_margin_percentage|\n+----------+-------------+----------------+-------------+------------------------+\n|         6|        Mouse|               6|        180.0|                    20.0|\n|         2|        Phone|               5|       2000.0|                    20.0|\n|        15|Graphics Card|               5|       1500.0|                    20.0|\n+----------+-------------+----------------+-------------+------------------------+\n\n"
     ]
    }
   ],
   "source": [
    "spark.sql(\"\"\"\n",
    "            SELECT \n",
    "                product_id, \n",
    "                product_name, \n",
    "                total_units_sold, \n",
    "                total_revenue,\n",
    "                profit_margin_percentage\n",
    "            FROM profit_margin_view\n",
    "            ORDER BY total_units_sold DESC\n",
    "            LIMIT 3\n",
    "\"\"\").show()"
   ]
  },
  {
   "cell_type": "markdown",
   "metadata": {
    "application/vnd.databricks.v1+cell": {
     "cellMetadata": {
      "byteLimit": 2048000,
      "rowLimit": 10000
     },
     "inputWidgets": {},
     "nuid": "7bb074b4-b17b-498b-bee1-9aa34d165d86",
     "showTitle": false,
     "tableResultSettingsMap": {},
     "title": ""
    }
   },
   "source": [
    "Extracting top 5 lowest performing stores and storing in CSV file"
   ]
  },
  {
   "cell_type": "code",
   "execution_count": 0,
   "metadata": {
    "application/vnd.databricks.v1+cell": {
     "cellMetadata": {
      "byteLimit": 2048000,
      "rowLimit": 10000
     },
     "inputWidgets": {},
     "nuid": "bdef6fca-be19-4ff7-be83-a02b9f7cdb4c",
     "showTitle": false,
     "tableResultSettingsMap": {},
     "title": ""
    }
   },
   "outputs": [
    {
     "output_type": "stream",
     "name": "stdout",
     "output_type": "stream",
     "text": [
      "\nTop 5 Lowest Performing Stores\n+--------+-----------+\n|store_id|total_sales|\n+--------+-----------+\n|      17|       80.0|\n|      16|       90.0|\n|      20|      110.0|\n|       7|      120.0|\n|       5|      150.0|\n+--------+-----------+\n\n"
     ]
    }
   ],
   "source": [
    "from pyspark.sql.functions import sum, round, col, asc\n",
    "\n",
    "store_sales_df = full_df.groupBy(\"store_id\") \\\n",
    "                        .agg(sum(\"total_sale\").alias(\"total_sales\")) \\\n",
    "                        .orderBy(asc(\"total_sales\"))\n",
    "\n",
    "\n",
    "print(\"\\nTop 5 Lowest Performing Stores\")\n",
    "store_sales_df.limit(5).show()\n",
    "\n"
   ]
  },
  {
   "cell_type": "code",
   "execution_count": 0,
   "metadata": {
    "application/vnd.databricks.v1+cell": {
     "cellMetadata": {
      "byteLimit": 2048000,
      "rowLimit": 10000
     },
     "inputWidgets": {},
     "nuid": "0f11d61f-5a1f-481f-98f4-546fe8e9b309",
     "showTitle": false,
     "tableResultSettingsMap": {},
     "title": ""
    }
   },
   "outputs": [],
   "source": [
    "store_sales_df.write.option(\"header\", True) \\\n",
    "                    .mode(\"overwrite\") \\\n",
    "                    .csv(\"/Volumes/workspace/default/retail_sales_performance_dashboard/lowest_performing_stores.csv\")\n"
   ]
  },
  {
   "cell_type": "markdown",
   "metadata": {
    "application/vnd.databricks.v1+cell": {
     "cellMetadata": {},
     "inputWidgets": {},
     "nuid": "7aec5c7c-976f-4348-9829-8670ae8e43c6",
     "showTitle": false,
     "tableResultSettingsMap": {},
     "title": ""
    }
   },
   "source": [
    "Displaying all the files"
   ]
  },
  {
   "cell_type": "code",
   "execution_count": 0,
   "metadata": {
    "application/vnd.databricks.v1+cell": {
     "cellMetadata": {
      "byteLimit": 2048000,
      "rowLimit": 10000
     },
     "inputWidgets": {},
     "nuid": "a8a5bfee-9ea0-44ed-b59f-c1c107fca90b",
     "showTitle": false,
     "tableResultSettingsMap": {},
     "title": ""
    }
   },
   "outputs": [
    {
     "output_type": "display_data",
     "data": {
      "text/html": [
       "<style scoped>\n",
       "  .table-result-container {\n",
       "    max-height: 300px;\n",
       "    overflow: auto;\n",
       "  }\n",
       "  table, th, td {\n",
       "    border: 1px solid black;\n",
       "    border-collapse: collapse;\n",
       "  }\n",
       "  th, td {\n",
       "    padding: 5px;\n",
       "  }\n",
       "  th {\n",
       "    text-align: left;\n",
       "  }\n",
       "</style><div class='table-result-container'><table class='table-result'><thead style='background-color: white'><tr><th>path</th><th>name</th><th>size</th><th>modificationTime</th></tr></thead><tbody><tr><td>dbfs:/Volumes/workspace/default/retail_sales_performance_dashboard/employees.csv</td><td>employees.csv</td><td>248</td><td>1751346525000</td></tr><tr><td>dbfs:/Volumes/workspace/default/retail_sales_performance_dashboard/lowest_performing_stores.csv/</td><td>lowest_performing_stores.csv/</td><td>0</td><td>1751346978054</td></tr><tr><td>dbfs:/Volumes/workspace/default/retail_sales_performance_dashboard/products.csv</td><td>products.csv</td><td>376</td><td>1751346525000</td></tr><tr><td>dbfs:/Volumes/workspace/default/retail_sales_performance_dashboard/profit_margin_csv/</td><td>profit_margin_csv/</td><td>0</td><td>1751346978054</td></tr><tr><td>dbfs:/Volumes/workspace/default/retail_sales_performance_dashboard/profit_margin_delta/</td><td>profit_margin_delta/</td><td>0</td><td>1751346978054</td></tr><tr><td>dbfs:/Volumes/workspace/default/retail_sales_performance_dashboard/sales.csv</td><td>sales.csv</td><td>523</td><td>1751346525000</td></tr><tr><td>dbfs:/Volumes/workspace/default/retail_sales_performance_dashboard/stores.csv</td><td>stores.csv</td><td>424</td><td>1751346525000</td></tr></tbody></table></div>"
      ]
     },
     "metadata": {
      "application/vnd.databricks.v1+output": {
       "addedWidgets": {},
       "aggData": [],
       "aggError": "",
       "aggOverflow": false,
       "aggSchema": [],
       "aggSeriesLimitReached": false,
       "aggType": "",
       "arguments": {},
       "columnCustomDisplayInfos": {},
       "data": [
        [
         "dbfs:/Volumes/workspace/default/retail_sales_performance_dashboard/employees.csv",
         "employees.csv",
         248,
         1751346525000
        ],
        [
         "dbfs:/Volumes/workspace/default/retail_sales_performance_dashboard/lowest_performing_stores.csv/",
         "lowest_performing_stores.csv/",
         0,
         1751346978054
        ],
        [
         "dbfs:/Volumes/workspace/default/retail_sales_performance_dashboard/products.csv",
         "products.csv",
         376,
         1751346525000
        ],
        [
         "dbfs:/Volumes/workspace/default/retail_sales_performance_dashboard/profit_margin_csv/",
         "profit_margin_csv/",
         0,
         1751346978054
        ],
        [
         "dbfs:/Volumes/workspace/default/retail_sales_performance_dashboard/profit_margin_delta/",
         "profit_margin_delta/",
         0,
         1751346978054
        ],
        [
         "dbfs:/Volumes/workspace/default/retail_sales_performance_dashboard/sales.csv",
         "sales.csv",
         523,
         1751346525000
        ],
        [
         "dbfs:/Volumes/workspace/default/retail_sales_performance_dashboard/stores.csv",
         "stores.csv",
         424,
         1751346525000
        ]
       ],
       "datasetInfos": [],
       "dbfsResultPath": null,
       "isJsonSchema": true,
       "metadata": {},
       "overflow": false,
       "plotOptions": {
        "customPlotOptions": {},
        "displayType": "table",
        "pivotAggregation": null,
        "pivotColumns": null,
        "xColumns": null,
        "yColumns": null
       },
       "removedWidgets": [],
       "schema": [
        {
         "metadata": "{}",
         "name": "path",
         "type": "\"string\""
        },
        {
         "metadata": "{}",
         "name": "name",
         "type": "\"string\""
        },
        {
         "metadata": "{}",
         "name": "size",
         "type": "\"long\""
        },
        {
         "metadata": "{}",
         "name": "modificationTime",
         "type": "\"long\""
        }
       ],
       "type": "table"
      }
     },
     "output_type": "display_data"
    }
   ],
   "source": [
    "display(dbutils.fs.ls(\"/Volumes/workspace/default/retail_sales_performance_dashboard/\"))"
   ]
  }
 ],
 "metadata": {
  "application/vnd.databricks.v1+notebook": {
   "computePreferences": null,
   "dashboards": [],
   "environmentMetadata": {
    "base_environment": "",
    "environment_version": "2"
   },
   "inputWidgetPreferences": null,
   "language": "python",
   "notebookMetadata": {
    "pythonIndentUnit": 4
   },
   "notebookName": "Retail Sales Performance Dashboard",
   "widgets": {}
  },
  "language_info": {
   "name": "python"
  }
 },
 "nbformat": 4,
 "nbformat_minor": 0
}