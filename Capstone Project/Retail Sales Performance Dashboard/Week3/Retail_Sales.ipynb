{
  "nbformat": 4,
  "nbformat_minor": 0,
  "metadata": {
    "colab": {
      "provenance": []
    },
    "kernelspec": {
      "name": "python3",
      "display_name": "Python 3"
    },
    "language_info": {
      "name": "python"
    }
  },
  "cells": [
    {
      "cell_type": "markdown",
      "source": [
        "Import Statments"
      ],
      "metadata": {
        "id": "cH2ifUltkLAb"
      }
    },
    {
      "cell_type": "code",
      "execution_count": 39,
      "metadata": {
        "id": "Xl9zUDGukFsJ"
      },
      "outputs": [],
      "source": [
        "from pyspark.sql import SparkSession\n",
        "from google.colab import drive\n",
        "from pyspark.sql.functions import sum, count, col, month, year, avg, round"
      ]
    },
    {
      "cell_type": "markdown",
      "source": [
        "Creating Session"
      ],
      "metadata": {
        "id": "7DTKKqxpkKSb"
      }
    },
    {
      "cell_type": "code",
      "source": [
        "spark = SparkSession.builder \\\n",
        "                    .appName(\"Reatail Sales Performance Dashboard\") \\\n",
        "                    .getOrCreate()\n",
        "spark"
      ],
      "metadata": {
        "colab": {
          "base_uri": "https://localhost:8080/",
          "height": 219
        },
        "id": "gmKhA9pGkR-k",
        "outputId": "8725235e-0ace-4457-8a1d-39edf02b02d4"
      },
      "execution_count": 40,
      "outputs": [
        {
          "output_type": "execute_result",
          "data": {
            "text/plain": [
              "<pyspark.sql.session.SparkSession at 0x7e15d409df10>"
            ],
            "text/html": [
              "\n",
              "            <div>\n",
              "                <p><b>SparkSession - in-memory</b></p>\n",
              "                \n",
              "        <div>\n",
              "            <p><b>SparkContext</b></p>\n",
              "\n",
              "            <p><a href=\"http://ac40b578a9d4:4040\">Spark UI</a></p>\n",
              "\n",
              "            <dl>\n",
              "              <dt>Version</dt>\n",
              "                <dd><code>v3.5.1</code></dd>\n",
              "              <dt>Master</dt>\n",
              "                <dd><code>local[*]</code></dd>\n",
              "              <dt>AppName</dt>\n",
              "                <dd><code>Reatail Sales Performance Dashboard</code></dd>\n",
              "            </dl>\n",
              "        </div>\n",
              "        \n",
              "            </div>\n",
              "        "
            ]
          },
          "metadata": {},
          "execution_count": 40
        }
      ]
    },
    {
      "cell_type": "markdown",
      "source": [
        "Reading CSV file From Google Drive"
      ],
      "metadata": {
        "id": "Po8v5f51kX5U"
      }
    },
    {
      "cell_type": "code",
      "source": [
        "drive.mount('/content/drive')\n",
        "sales_df = spark.read.csv('/content/drive/MyDrive/CapstoneProjectData/RetailSales/sales.csv', header=True, inferSchema=True)\n",
        "employees_df = spark.read.csv('/content/drive/MyDrive/CapstoneProjectData/RetailSales/employees.csv', header=True, inferSchema=True)\n",
        "stores_df = spark.read.csv('/content/drive/MyDrive/CapstoneProjectData/RetailSales/stores.csv', header=True, inferSchema=True)\n",
        "products_df = spark.read.csv('/content/drive/MyDrive/CapstoneProjectData/RetailSales/products.csv', header=True, inferSchema=True)"
      ],
      "metadata": {
        "colab": {
          "base_uri": "https://localhost:8080/"
        },
        "id": "GXLKTgFJkdIv",
        "outputId": "707292af-e3d9-4937-df22-089e88125445"
      },
      "execution_count": 41,
      "outputs": [
        {
          "output_type": "stream",
          "name": "stdout",
          "text": [
            "Drive already mounted at /content/drive; to attempt to forcibly remount, call drive.mount(\"/content/drive\", force_remount=True).\n"
          ]
        }
      ]
    },
    {
      "cell_type": "markdown",
      "source": [
        "Reading all the data's"
      ],
      "metadata": {
        "id": "S43SzoXjlPeW"
      }
    },
    {
      "cell_type": "code",
      "source": [
        "print(\"\\n Sales Data\")\n",
        "sales_df.show()\n",
        "\n",
        "print(\"\\n Employees Data\")\n",
        "employees_df.show()\n",
        "\n",
        "print(\"\\n Stores Data\")\n",
        "stores_df.show()\n",
        "\n",
        "print(\"\\n Products Data\")\n",
        "products_df.show()"
      ],
      "metadata": {
        "colab": {
          "base_uri": "https://localhost:8080/"
        },
        "id": "JruVkH2JlRiP",
        "outputId": "7c199cb0-2bc4-4a0e-ba10-7502e396c058"
      },
      "execution_count": 42,
      "outputs": [
        {
          "output_type": "stream",
          "name": "stdout",
          "text": [
            "\n",
            " Sales Data\n",
            "+-------+----------+--------+-----------+--------+----------+\n",
            "|sale_id|product_id|store_id|employee_id|quantity| sale_date|\n",
            "+-------+----------+--------+-----------+--------+----------+\n",
            "|      1|         1|       1|          1|       2|2025-06-01|\n",
            "|      2|         2|       2|          2|       5|2025-06-01|\n",
            "|      3|         3|       3|          3|       1|2025-06-02|\n",
            "|      4|         4|       4|          4|       4|2025-06-02|\n",
            "|      5|         5|       5|          5|       3|2025-06-03|\n",
            "|      6|         6|       6|          6|       6|2025-06-03|\n",
            "|      7|         7|       7|          7|       1|2025-06-04|\n",
            "|      8|         8|       8|          8|       2|2025-06-04|\n",
            "|      9|         9|       9|          9|       2|2025-06-05|\n",
            "|     10|        10|      10|         10|       3|2025-06-05|\n",
            "|     11|        11|      11|         11|       1|2025-06-06|\n",
            "|     12|        12|      12|         12|       4|2025-06-06|\n",
            "|     13|        13|      13|         13|       2|2025-06-07|\n",
            "|     14|        14|      14|         14|       2|2025-06-07|\n",
            "|     15|        15|      15|         15|       5|2025-06-08|\n",
            "|     16|        16|      16|         16|       1|2025-06-08|\n",
            "|     17|        17|      17|         17|       2|2025-06-09|\n",
            "|     18|        18|      18|         18|       3|2025-06-09|\n",
            "|     19|        19|      19|         19|       4|2025-06-10|\n",
            "|     20|        20|      20|         20|       1|2025-06-10|\n",
            "+-------+----------+--------+-----------+--------+----------+\n",
            "\n",
            "\n",
            " Employees Data\n",
            "+-----------+-------------+--------+\n",
            "|employee_id|employee_name|store_id|\n",
            "+-----------+-------------+--------+\n",
            "|          1|        Alice|       1|\n",
            "|          2|          Bob|       2|\n",
            "|          3|      Charlie|       3|\n",
            "|          4|        David|       4|\n",
            "|          5|          Eva|       5|\n",
            "|          6|        Frank|       6|\n",
            "|          7|        Grace|       7|\n",
            "|          8|       Hannah|       8|\n",
            "|          9|          Ian|       9|\n",
            "|         10|         Jack|      10|\n",
            "|         11|        Karen|      11|\n",
            "|         12|          Leo|      12|\n",
            "|         13|         Mona|      13|\n",
            "|         14|         Nate|      14|\n",
            "|         15|       Olivia|      15|\n",
            "|         16|         Paul|      16|\n",
            "|         17|       Quincy|      17|\n",
            "|         18|       Rachel|      18|\n",
            "|         19|          Sam|      19|\n",
            "|         20|         Tina|      20|\n",
            "+-----------+-------------+--------+\n",
            "\n",
            "\n",
            " Stores Data\n",
            "+--------+---------------+------+\n",
            "|store_id|     store_name|region|\n",
            "+--------+---------------+------+\n",
            "|       1| Downtown Store| North|\n",
            "|       2|    Mall Outlet| South|\n",
            "|       3|     Tech Plaza|  East|\n",
            "|       4|     Gadget Hub|  West|\n",
            "|       5|  Central Store| North|\n",
            "|       6|  Market Street| South|\n",
            "|       7|      City Mall|  East|\n",
            "|       8|  Digital World|  West|\n",
            "|       9|      ShopSmart| North|\n",
            "|      10|        FastBuy| South|\n",
            "|      11|    ElectroCity|  East|\n",
            "|      12|     GadgetLand|  West|\n",
            "|      13|     Urban Tech| North|\n",
            "|      14|        BuyZone| South|\n",
            "|      15|    Techie Town|  East|\n",
            "|      16|       ByteMart|  West|\n",
            "|      17|Circuit Central| North|\n",
            "|      18|   Gizmo Garage| South|\n",
            "|      19|   Device Depot|  East|\n",
            "|      20|    Plug & Play|  West|\n",
            "+--------+---------------+------+\n",
            "\n",
            "\n",
            " Products Data\n",
            "+----------+---------------+-----+\n",
            "|product_id|   product_name|price|\n",
            "+----------+---------------+-----+\n",
            "|         1|         Laptop|750.0|\n",
            "|         2|          Phone|400.0|\n",
            "|         3|         Tablet|300.0|\n",
            "|         4|        Monitor|200.0|\n",
            "|         5|       Keyboard| 50.0|\n",
            "|         6|          Mouse| 30.0|\n",
            "|         7|        Printer|120.0|\n",
            "|         8|        Scanner|150.0|\n",
            "|         9|     Headphones| 80.0|\n",
            "|        10|         Webcam| 90.0|\n",
            "|        11|     Smartwatch|250.0|\n",
            "|        12|         Router| 70.0|\n",
            "|        13|        SSD 1TB|150.0|\n",
            "|        14|        HDD 2TB|100.0|\n",
            "|        15|  Graphics Card|300.0|\n",
            "|        16|       RAM 16GB| 90.0|\n",
            "|        17|     Power Bank| 40.0|\n",
            "|        18|     VR Headset|500.0|\n",
            "|        19|Game Controller| 60.0|\n",
            "|        20|     Microphone|110.0|\n",
            "+----------+---------------+-----+\n",
            "\n"
          ]
        }
      ]
    },
    {
      "cell_type": "markdown",
      "source": [
        "#### Filter data for underperforming products (e.g., low sales, high returns):"
      ],
      "metadata": {
        "id": "L17eU18RlnLQ"
      }
    },
    {
      "cell_type": "markdown",
      "source": [
        "Joining Sales dataframe and product data frame and adding total sales column"
      ],
      "metadata": {
        "id": "H6CCOvB4oFpw"
      }
    },
    {
      "cell_type": "code",
      "source": [
        "sales_products_df =  sales_df.join(products_df, \"product_id\")\n",
        "\n",
        "sales_products_df = sales_products_df.withColumn(\"TotalSales\", col(\"price\") * col(\"quantity\"))\n",
        "\n",
        "sales_products_df.show()"
      ],
      "metadata": {
        "colab": {
          "base_uri": "https://localhost:8080/"
        },
        "id": "-nSgoQumloC7",
        "outputId": "b26ba037-3b52-4068-c12e-6b71cad1933f"
      },
      "execution_count": 49,
      "outputs": [
        {
          "output_type": "stream",
          "name": "stdout",
          "text": [
            "+----------+-------+--------+-----------+--------+----------+---------------+-----+----------+\n",
            "|product_id|sale_id|store_id|employee_id|quantity| sale_date|   product_name|price|TotalSales|\n",
            "+----------+-------+--------+-----------+--------+----------+---------------+-----+----------+\n",
            "|         1|      1|       1|          1|       2|2025-06-01|         Laptop|750.0|    1500.0|\n",
            "|         2|      2|       2|          2|       5|2025-06-01|          Phone|400.0|    2000.0|\n",
            "|         3|      3|       3|          3|       1|2025-06-02|         Tablet|300.0|     300.0|\n",
            "|         4|      4|       4|          4|       4|2025-06-02|        Monitor|200.0|     800.0|\n",
            "|         5|      5|       5|          5|       3|2025-06-03|       Keyboard| 50.0|     150.0|\n",
            "|         6|      6|       6|          6|       6|2025-06-03|          Mouse| 30.0|     180.0|\n",
            "|         7|      7|       7|          7|       1|2025-06-04|        Printer|120.0|     120.0|\n",
            "|         8|      8|       8|          8|       2|2025-06-04|        Scanner|150.0|     300.0|\n",
            "|         9|      9|       9|          9|       2|2025-06-05|     Headphones| 80.0|     160.0|\n",
            "|        10|     10|      10|         10|       3|2025-06-05|         Webcam| 90.0|     270.0|\n",
            "|        11|     11|      11|         11|       1|2025-06-06|     Smartwatch|250.0|     250.0|\n",
            "|        12|     12|      12|         12|       4|2025-06-06|         Router| 70.0|     280.0|\n",
            "|        13|     13|      13|         13|       2|2025-06-07|        SSD 1TB|150.0|     300.0|\n",
            "|        14|     14|      14|         14|       2|2025-06-07|        HDD 2TB|100.0|     200.0|\n",
            "|        15|     15|      15|         15|       5|2025-06-08|  Graphics Card|300.0|    1500.0|\n",
            "|        16|     16|      16|         16|       1|2025-06-08|       RAM 16GB| 90.0|      90.0|\n",
            "|        17|     17|      17|         17|       2|2025-06-09|     Power Bank| 40.0|      80.0|\n",
            "|        18|     18|      18|         18|       3|2025-06-09|     VR Headset|500.0|    1500.0|\n",
            "|        19|     19|      19|         19|       4|2025-06-10|Game Controller| 60.0|     240.0|\n",
            "|        20|     20|      20|         20|       1|2025-06-10|     Microphone|110.0|     110.0|\n",
            "+----------+-------+--------+-----------+--------+----------+---------------+-----+----------+\n",
            "\n"
          ]
        }
      ]
    },
    {
      "cell_type": "markdown",
      "source": [
        "Calculting under performing products"
      ],
      "metadata": {
        "id": "iQwmjU70oV_a"
      }
    },
    {
      "cell_type": "code",
      "source": [
        "underperforming_products_df = sales_df.groupBy(\"product_id\") \\\n",
        "        .agg(sum(\"quantity\").alias(\"total_quantity_sold\")) \\\n",
        "        .filter(col(\"total_quantity_sold\") < 3) \\\n",
        "        .join(products_df, \"product_id\") \\\n",
        "        .select(\"product_id\", \"product_name\", \"total_quantity_sold\")\n",
        "\n",
        "underperforming_products_df.show()"
      ],
      "metadata": {
        "colab": {
          "base_uri": "https://localhost:8080/"
        },
        "id": "Tg_ESCDYmmlx",
        "outputId": "0a627daf-9823-4710-b01f-9be8b1c8dfad"
      },
      "execution_count": 60,
      "outputs": [
        {
          "output_type": "stream",
          "name": "stdout",
          "text": [
            "+----------+------------+-------------------+\n",
            "|product_id|product_name|total_quantity_sold|\n",
            "+----------+------------+-------------------+\n",
            "|         1|      Laptop|                  2|\n",
            "|        13|     SSD 1TB|                  2|\n",
            "|        16|    RAM 16GB|                  1|\n",
            "|         3|      Tablet|                  1|\n",
            "|        20|  Microphone|                  1|\n",
            "|         9|  Headphones|                  2|\n",
            "|        17|  Power Bank|                  2|\n",
            "|         8|     Scanner|                  2|\n",
            "|         7|     Printer|                  1|\n",
            "|        11|  Smartwatch|                  1|\n",
            "|        14|     HDD 2TB|                  2|\n",
            "+----------+------------+-------------------+\n",
            "\n"
          ]
        }
      ]
    },
    {
      "cell_type": "markdown",
      "source": [
        "####Group by store and calculate average monthly revenue"
      ],
      "metadata": {
        "id": "qXiNOCffoY8q"
      }
    },
    {
      "cell_type": "markdown",
      "source": [
        "Adding month and year column in sales_products_df"
      ],
      "metadata": {
        "id": "pRmM-A8ts3rb"
      }
    },
    {
      "cell_type": "code",
      "source": [
        "sales_products_df = sales_products_df.withColumn(\"sale_month\", month(\"sale_date\")) \\\n",
        "                                     .withColumn(\"sale_year\", year(\"sale_date\"))"
      ],
      "metadata": {
        "id": "MWCZxfn9s668"
      },
      "execution_count": 51,
      "outputs": []
    },
    {
      "cell_type": "markdown",
      "source": [
        "Calculating monthly revenue on each store"
      ],
      "metadata": {
        "id": "UYxhdaRxs79R"
      }
    },
    {
      "cell_type": "code",
      "source": [
        "monthly_revenue_df = sales_products_df.groupBy(\"store_id\", \"sale_year\", \"sale_month\") \\\n",
        "                                      .agg(sum(\"TotalSales\") \\\n",
        "                                      .alias(\"monthly_revenue\"))\n",
        "\n",
        "avg_monthly_revenue_df = monthly_revenue_df.groupBy(\"store_id\") \\\n",
        "    .agg(avg(\"monthly_revenue\").alias(\"avg_monthly_revenue\"))\n"
      ],
      "metadata": {
        "id": "jm488Z3ctfJE"
      },
      "execution_count": 53,
      "outputs": []
    },
    {
      "cell_type": "markdown",
      "source": [
        "Joining avg_monthly_revenue_df with store_df"
      ],
      "metadata": {
        "id": "wGGp2LFoufs-"
      }
    },
    {
      "cell_type": "code",
      "source": [
        "stores_df = stores_df.withColumnRenamed(\"store_name\", \"StoreName\")\n",
        "\n",
        "avg_monthly_revenue_df = avg_monthly_revenue_df.join(stores_df, \"store_id\") \\\n",
        "                                               .select(\"store_id\", col(\"StoreName\").alias(\"store_name\"), \"avg_monthly_revenue\")\n",
        "\n",
        "\n",
        "avg_monthly_revenue_df.show()"
      ],
      "metadata": {
        "colab": {
          "base_uri": "https://localhost:8080/"
        },
        "id": "0dTGYA29ocL2",
        "outputId": "86b8739d-be75-4678-b969-6ade64865c48"
      },
      "execution_count": 59,
      "outputs": [
        {
          "output_type": "stream",
          "name": "stdout",
          "text": [
            "+--------+---------------+-------------------+\n",
            "|store_id|     store_name|avg_monthly_revenue|\n",
            "+--------+---------------+-------------------+\n",
            "|      12|     GadgetLand|              280.0|\n",
            "|       1| Downtown Store|             1500.0|\n",
            "|      13|     Urban Tech|              300.0|\n",
            "|      16|       ByteMart|               90.0|\n",
            "|       6|  Market Street|              180.0|\n",
            "|       3|     Tech Plaza|              300.0|\n",
            "|      20|    Plug & Play|              110.0|\n",
            "|       5|  Central Store|              150.0|\n",
            "|      19|   Device Depot|              240.0|\n",
            "|      15|    Techie Town|             1500.0|\n",
            "|      17|Circuit Central|               80.0|\n",
            "|       9|      ShopSmart|              160.0|\n",
            "|       4|     Gadget Hub|              800.0|\n",
            "|       8|  Digital World|              300.0|\n",
            "|       7|      City Mall|              120.0|\n",
            "|      10|        FastBuy|              270.0|\n",
            "|      11|    ElectroCity|              250.0|\n",
            "|      14|        BuyZone|              200.0|\n",
            "|       2|    Mall Outlet|             2000.0|\n",
            "|      18|   Gizmo Garage|             1500.0|\n",
            "+--------+---------------+-------------------+\n",
            "\n"
          ]
        }
      ]
    },
    {
      "cell_type": "markdown",
      "source": [
        "#### Summary"
      ],
      "metadata": {
        "id": "GXpO1jPfxiZp"
      }
    },
    {
      "cell_type": "markdown",
      "source": [
        "Under Performing Products\n"
      ],
      "metadata": {
        "id": "SyLeEuMFxkLL"
      }
    },
    {
      "cell_type": "code",
      "source": [
        "underperforming_products_df.show()"
      ],
      "metadata": {
        "colab": {
          "base_uri": "https://localhost:8080/"
        },
        "id": "Tt3rfSR_xpfR",
        "outputId": "5e907fc9-3b10-4132-9c2e-809c5127b606"
      },
      "execution_count": 62,
      "outputs": [
        {
          "output_type": "stream",
          "name": "stdout",
          "text": [
            "+----------+------------+-------------------+\n",
            "|product_id|product_name|total_quantity_sold|\n",
            "+----------+------------+-------------------+\n",
            "|         1|      Laptop|                  2|\n",
            "|        13|     SSD 1TB|                  2|\n",
            "|        16|    RAM 16GB|                  1|\n",
            "|         3|      Tablet|                  1|\n",
            "|        20|  Microphone|                  1|\n",
            "|         9|  Headphones|                  2|\n",
            "|        17|  Power Bank|                  2|\n",
            "|         8|     Scanner|                  2|\n",
            "|         7|     Printer|                  1|\n",
            "|        11|  Smartwatch|                  1|\n",
            "|        14|     HDD 2TB|                  2|\n",
            "+----------+------------+-------------------+\n",
            "\n"
          ]
        }
      ]
    },
    {
      "cell_type": "markdown",
      "source": [
        "average monthly revenue on each store"
      ],
      "metadata": {
        "id": "N8VLg1rhxqtp"
      }
    },
    {
      "cell_type": "code",
      "source": [
        "avg_monthly_revenue_df.show()"
      ],
      "metadata": {
        "colab": {
          "base_uri": "https://localhost:8080/"
        },
        "id": "v7Kq8aOExxEq",
        "outputId": "90f3a721-7388-46d2-bf7e-6a34b4da567e"
      },
      "execution_count": 61,
      "outputs": [
        {
          "output_type": "stream",
          "name": "stdout",
          "text": [
            "+--------+---------------+-------------------+\n",
            "|store_id|     store_name|avg_monthly_revenue|\n",
            "+--------+---------------+-------------------+\n",
            "|      12|     GadgetLand|              280.0|\n",
            "|       1| Downtown Store|             1500.0|\n",
            "|      13|     Urban Tech|              300.0|\n",
            "|      16|       ByteMart|               90.0|\n",
            "|       6|  Market Street|              180.0|\n",
            "|       3|     Tech Plaza|              300.0|\n",
            "|      20|    Plug & Play|              110.0|\n",
            "|       5|  Central Store|              150.0|\n",
            "|      19|   Device Depot|              240.0|\n",
            "|      15|    Techie Town|             1500.0|\n",
            "|      17|Circuit Central|               80.0|\n",
            "|       9|      ShopSmart|              160.0|\n",
            "|       4|     Gadget Hub|              800.0|\n",
            "|       8|  Digital World|              300.0|\n",
            "|       7|      City Mall|              120.0|\n",
            "|      10|        FastBuy|              270.0|\n",
            "|      11|    ElectroCity|              250.0|\n",
            "|      14|        BuyZone|              200.0|\n",
            "|       2|    Mall Outlet|             2000.0|\n",
            "|      18|   Gizmo Garage|             1500.0|\n",
            "+--------+---------------+-------------------+\n",
            "\n"
          ]
        }
      ]
    }
  ]
}