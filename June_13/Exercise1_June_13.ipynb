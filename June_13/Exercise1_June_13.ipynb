{
 "cells": [
  {
   "cell_type": "markdown",
   "metadata": {
    "application/vnd.databricks.v1+cell": {
     "cellMetadata": {},
     "inputWidgets": {},
     "nuid": "b083f56b-6c40-4793-a8e3-859db396eba2",
     "showTitle": false,
     "tableResultSettingsMap": {},
     "title": ""
    }
   },
   "source": [
    "Creating spark session"
   ]
  },
  {
   "cell_type": "code",
   "execution_count": 0,
   "metadata": {
    "application/vnd.databricks.v1+cell": {
     "cellMetadata": {
      "byteLimit": 2048000,
      "rowLimit": 10000
     },
     "inputWidgets": {},
     "nuid": "1866acb7-4904-4636-a6a5-3a9328ef2cb6",
     "showTitle": false,
     "tableResultSettingsMap": {},
     "title": ""
    }
   },
   "outputs": [
    {
     "output_type": "execute_result",
     "data": {
      "text/plain": [
       "<pyspark.sql.connect.session.SparkSession at 0x7f1968498c10>"
      ]
     },
     "execution_count": 3,
     "metadata": {},
     "output_type": "execute_result"
    }
   ],
   "source": [
    "from pyspark.sql import SparkSession\n",
    "spark = SparkSession.builder \\\n",
    "                    .appName(\"Exercise_1\") \\\n",
    "                    .getOrCreate() \n",
    "spark"
   ]
  },
  {
   "cell_type": "markdown",
   "metadata": {
    "application/vnd.databricks.v1+cell": {
     "cellMetadata": {},
     "inputWidgets": {},
     "nuid": "1720886c-1b52-4f06-8ca1-63e3c87447cf",
     "showTitle": false,
     "tableResultSettingsMap": {},
     "title": ""
    }
   },
   "source": [
    "##  Part 2: Spark Tasks"
   ]
  },
  {
   "cell_type": "markdown",
   "metadata": {
    "application/vnd.databricks.v1+cell": {
     "cellMetadata": {},
     "inputWidgets": {},
     "nuid": "4c6384ec-4ab4-488e-b769-c2082c0ba346",
     "showTitle": false,
     "tableResultSettingsMap": {},
     "title": ""
    }
   },
   "source": [
    "1. Ingest the CSV files into two PySpark DataFrames"
   ]
  },
  {
   "cell_type": "code",
   "execution_count": 0,
   "metadata": {
    "application/vnd.databricks.v1+cell": {
     "cellMetadata": {
      "byteLimit": 2048000,
      "rowLimit": 10000
     },
     "inputWidgets": {},
     "nuid": "68aa2b4a-62c8-424d-8eb9-415e762b8909",
     "showTitle": false,
     "tableResultSettingsMap": {},
     "title": ""
    }
   },
   "outputs": [],
   "source": [
    "customer_df = spark.read.format(\"csv\").option(\"inferSchema\", \"true\") \\\n",
    "                                      .option(\"header\", \"true\") \\\n",
    "                                      .load('/Volumes/ashwin_harish/default/exercises/customers.csv')\n",
    "\n",
    "order_df = spark.read.format(\"csv\").option(\"inferSchema\", \"true\") \\\n",
    "                                   .option(\"header\", \"true\") \\\n",
    "                                   .load('/Volumes/ashwin_harish/default/exercises/orders.csv')\n",
    "                                "
   ]
  },
  {
   "cell_type": "markdown",
   "metadata": {
    "application/vnd.databricks.v1+cell": {
     "cellMetadata": {},
     "inputWidgets": {},
     "nuid": "5106d7c1-da78-4abc-9360-9b4c992dcc5f",
     "showTitle": false,
     "tableResultSettingsMap": {},
     "title": ""
    }
   },
   "source": [
    "2. Infer schema and print the schema for both\n"
   ]
  },
  {
   "cell_type": "code",
   "execution_count": 0,
   "metadata": {
    "application/vnd.databricks.v1+cell": {
     "cellMetadata": {
      "byteLimit": 2048000,
      "rowLimit": 10000
     },
     "inputWidgets": {},
     "nuid": "76986a0f-03fb-4689-8bd5-a4b98b6fcc2d",
     "showTitle": false,
     "tableResultSettingsMap": {},
     "title": ""
    }
   },
   "outputs": [
    {
     "output_type": "stream",
     "name": "stdout",
     "output_type": "stream",
     "text": [
      "\n Customer Dataframe Schema\nroot\n |-- customerID: integer (nullable = true)\n |-- Name: string (nullable = true)\n |-- City: string (nullable = true)\n |-- Age: integer (nullable = true)\n\n\n Order dataframe Schema\nroot\n |-- orderID: integer (nullable = true)\n |-- customerID: integer (nullable = true)\n |-- product: string (nullable = true)\n |-- Quantity: integer (nullable = true)\n |-- price: integer (nullable = true)\n |-- orderDate: date (nullable = true)\n\n"
     ]
    }
   ],
   "source": [
    "print(\"\\n Customer Dataframe Schema\")\n",
    "customer_df.printSchema()\n",
    "\n",
    "print(\"\\n Order dataframe Schema\")\n",
    "order_df.printSchema()"
   ]
  },
  {
   "cell_type": "markdown",
   "metadata": {
    "application/vnd.databricks.v1+cell": {
     "cellMetadata": {},
     "inputWidgets": {},
     "nuid": "3496ea6e-043f-42ae-9eb0-f01b01dc27d6",
     "showTitle": false,
     "tableResultSettingsMap": {},
     "title": ""
    }
   },
   "source": [
    "3. Add a column TotalAmount = Quantity\n",
    "price to orders"
   ]
  },
  {
   "cell_type": "code",
   "execution_count": 0,
   "metadata": {
    "application/vnd.databricks.v1+cell": {
     "cellMetadata": {
      "byteLimit": 2048000,
      "rowLimit": 10000
     },
     "inputWidgets": {},
     "nuid": "1eb53193-5a61-4398-9d69-a2f05cb69794",
     "showTitle": false,
     "tableResultSettingsMap": {},
     "title": ""
    }
   },
   "outputs": [
    {
     "output_type": "stream",
     "name": "stdout",
     "output_type": "stream",
     "text": [
      "+-------+-------+--------+-----+-----------+\n|OrderID|Product|Quantity|price|TotalAmount|\n+-------+-------+--------+-----+-----------+\n|   1001| Laptop|       1|70000|      70000|\n|   1002| Mobile|       2|25000|      50000|\n|   1003|   Desk|       1|10000|      10000|\n|   1004|  Mouse|       3| 1000|       3000|\n|   1005|Monitor|       1|12000|      12000|\n+-------+-------+--------+-----+-----------+\n\n"
     ]
    }
   ],
   "source": [
    "from pyspark.sql.functions import col\n",
    "order_df = order_df.withColumn(\"TotalAmount\", col(\"Quantity\") * col(\"price\"))\n",
    "order_df.select(\n",
    "                \"OrderID\",\n",
    "                \"Product\",\n",
    "                \"Quantity\",\n",
    "                \"price\",\n",
    "                \"TotalAmount\"\n",
    "               ).show()"
   ]
  },
  {
   "cell_type": "markdown",
   "metadata": {
    "application/vnd.databricks.v1+cell": {
     "cellMetadata": {},
     "inputWidgets": {},
     "nuid": "368e7554-7be2-447a-9a35-76e83d0b5638",
     "showTitle": false,
     "tableResultSettingsMap": {},
     "title": ""
    }
   },
   "source": [
    "4. Join both DataFrames on Customer ID"
   ]
  },
  {
   "cell_type": "code",
   "execution_count": 0,
   "metadata": {
    "application/vnd.databricks.v1+cell": {
     "cellMetadata": {
      "byteLimit": 2048000,
      "rowLimit": 10000
     },
     "inputWidgets": {},
     "nuid": "2e7693e7-b269-45c4-94e0-6c93ae07496e",
     "showTitle": false,
     "tableResultSettingsMap": {},
     "title": ""
    }
   },
   "outputs": [
    {
     "output_type": "stream",
     "name": "stdout",
     "output_type": "stream",
     "text": [
      "+-----+---------+---+-------+----------+-------+--------+-----+----------+-----------+\n| Name|     City|Age|orderID|customerID|product|Quantity|price| orderDate|TotalAmount|\n+-----+---------+---+-------+----------+-------+--------+-----+----------+-----------+\n|Aditi|   Mumbai| 28|   1001|       101| Laptop|       1|70000|2024-01-05|      70000|\n|Rohan|    Delhi| 35|   1002|       102| Mobile|       2|25000|2024-02-10|      50000|\n|Meena|Bangalore| 41|   1003|       103|   Desk|       1|10000|2024-03-15|      10000|\n|Aditi|   Mumbai| 28|   1004|       101|  Mouse|       3| 1000|2024-04-01|       3000|\n|Kabir|Hyderabad| 30|   1005|       104|Monitor|       1|12000|2024-04-25|      12000|\n+-----+---------+---+-------+----------+-------+--------+-----+----------+-----------+\n\n"
     ]
    }
   ],
   "source": [
    "joined_df = customer_df.join(order_df, customer_df.customerID == order_df.customerID, \"inner\") \\\n",
    "                       .drop(customer_df.customerID)\n",
    "                       \n",
    "joined_df.show()"
   ]
  },
  {
   "cell_type": "markdown",
   "metadata": {
    "application/vnd.databricks.v1+cell": {
     "cellMetadata": {},
     "inputWidgets": {},
     "nuid": "654aecbd-9495-460f-8d47-e639518801de",
     "showTitle": false,
     "tableResultSettingsMap": {},
     "title": ""
    }
   },
   "source": [
    "5. Filter orders where \n",
    "TotalAmount > 20000"
   ]
  },
  {
   "cell_type": "code",
   "execution_count": 0,
   "metadata": {
    "application/vnd.databricks.v1+cell": {
     "cellMetadata": {
      "byteLimit": 2048000,
      "rowLimit": 10000
     },
     "inputWidgets": {},
     "nuid": "016b8953-262f-4469-933e-80ad47e14419",
     "showTitle": false,
     "tableResultSettingsMap": {},
     "title": ""
    }
   },
   "outputs": [
    {
     "output_type": "stream",
     "name": "stdout",
     "output_type": "stream",
     "text": [
      "+----------+-------+--------+-----+-----------+\n|customerID|product|Quantity|price|TotalAmount|\n+----------+-------+--------+-----+-----------+\n|       101| Laptop|       1|70000|      70000|\n|       102| Mobile|       2|25000|      50000|\n+----------+-------+--------+-----+-----------+\n\n"
     ]
    }
   ],
   "source": [
    "order_df.filter(col(\"TotalAmount\") > 20000) \\\n",
    "         .select(\n",
    "                  \"customerID\",\n",
    "                  \"product\",\n",
    "                  \"Quantity\",\n",
    "                  \"price\",\n",
    "                  \"TotalAmount\"\n",
    "                ).show()"
   ]
  },
  {
   "cell_type": "markdown",
   "metadata": {
    "application/vnd.databricks.v1+cell": {
     "cellMetadata": {},
     "inputWidgets": {},
     "nuid": "c56efe00-b7fc-4f94-9c47-6c12cc36632d",
     "showTitle": false,
     "tableResultSettingsMap": {},
     "title": ""
    }
   },
   "source": [
    "6. Show customers who placed more than 1 order"
   ]
  },
  {
   "cell_type": "code",
   "execution_count": 0,
   "metadata": {
    "application/vnd.databricks.v1+cell": {
     "cellMetadata": {
      "byteLimit": 2048000,
      "rowLimit": 10000
     },
     "inputWidgets": {},
     "nuid": "bb0440d5-2695-444c-9a54-7716e351ac3e",
     "showTitle": false,
     "tableResultSettingsMap": {},
     "title": ""
    }
   },
   "outputs": [
    {
     "output_type": "stream",
     "name": "stdout",
     "output_type": "stream",
     "text": [
      "+----------+-----------+\n|customerID|TotalOrders|\n+----------+-----------+\n|       101|          2|\n+----------+-----------+\n\n"
     ]
    }
   ],
   "source": [
    "joined_df.groupBy(col(\"customerID\")) \\\n",
    "         .count() \\\n",
    "         .filter(col(\"count\") > 1) \\\n",
    "         .withColumnRenamed(\"count\", \"TotalOrders\") \\\n",
    "         .show()"
   ]
  },
  {
   "cell_type": "markdown",
   "metadata": {
    "application/vnd.databricks.v1+cell": {
     "cellMetadata": {},
     "inputWidgets": {},
     "nuid": "cffc998c-6fbf-40f1-99cf-33622415bc6b",
     "showTitle": false,
     "tableResultSettingsMap": {},
     "title": ""
    }
   },
   "source": [
    "7. Group orders by City and get average order value"
   ]
  },
  {
   "cell_type": "code",
   "execution_count": 0,
   "metadata": {
    "application/vnd.databricks.v1+cell": {
     "cellMetadata": {
      "byteLimit": 2048000,
      "rowLimit": 10000
     },
     "inputWidgets": {},
     "nuid": "c3efb574-4436-4680-9378-fa46c801c968",
     "showTitle": false,
     "tableResultSettingsMap": {},
     "title": ""
    }
   },
   "outputs": [
    {
     "output_type": "stream",
     "name": "stdout",
     "output_type": "stream",
     "text": [
      "+---------+----------+\n|     City|orderValue|\n+---------+----------+\n|Bangalore|   10000.0|\n|    Delhi|   50000.0|\n|   Mumbai|   36500.0|\n|Hyderabad|   12000.0|\n+---------+----------+\n\n"
     ]
    }
   ],
   "source": [
    "from pyspark.sql.functions import avg\n",
    "joined_df.groupBy(col(\"City\")) \\\n",
    "         .agg(avg(col(\"TotalAmount\")).alias(\"orderValue\")) \\\n",
    "         .show()"
   ]
  },
  {
   "cell_type": "markdown",
   "metadata": {
    "application/vnd.databricks.v1+cell": {
     "cellMetadata": {},
     "inputWidgets": {},
     "nuid": "5f3d5eb8-6950-4d2e-bf88-2187fea304fe",
     "showTitle": false,
     "tableResultSettingsMap": {},
     "title": ""
    }
   },
   "source": [
    "8. Sort orders by OrderDate in descending order"
   ]
  },
  {
   "cell_type": "code",
   "execution_count": 0,
   "metadata": {
    "application/vnd.databricks.v1+cell": {
     "cellMetadata": {
      "byteLimit": 2048000,
      "rowLimit": 10000
     },
     "inputWidgets": {},
     "nuid": "9c9cea7b-06aa-45b9-a909-ef24630ebb9f",
     "showTitle": false,
     "tableResultSettingsMap": {},
     "title": ""
    },
    "jupyter": {
     "outputs_hidden": true
    }
   },
   "outputs": [
    {
     "output_type": "stream",
     "name": "stdout",
     "output_type": "stream",
     "text": [
      "+-------+----------+-------+--------+-----+----------+-----------+\n|orderID|customerID|product|Quantity|price| orderDate|TotalAmount|\n+-------+----------+-------+--------+-----+----------+-----------+\n|   1005|       104|Monitor|       1|12000|2024-04-25|      12000|\n|   1004|       101|  Mouse|       3| 1000|2024-04-01|       3000|\n|   1003|       103|   Desk|       1|10000|2024-03-15|      10000|\n|   1002|       102| Mobile|       2|25000|2024-02-10|      50000|\n|   1001|       101| Laptop|       1|70000|2024-01-05|      70000|\n+-------+----------+-------+--------+-----+----------+-----------+\n\n"
     ]
    }
   ],
   "source": [
    "order_df = order_df.sort(col(\"OrderDate\").desc())\n",
    "order_df.show()"
   ]
  },
  {
   "cell_type": "markdown",
   "metadata": {
    "application/vnd.databricks.v1+cell": {
     "cellMetadata": {},
     "inputWidgets": {},
     "nuid": "4aa83d29-6304-40c7-91b8-9212739b1105",
     "showTitle": false,
     "tableResultSettingsMap": {},
     "title": ""
    }
   },
   "source": [
    "9. write the final result as a parquet file partitioned by City"
   ]
  },
  {
   "cell_type": "code",
   "execution_count": 0,
   "metadata": {
    "application/vnd.databricks.v1+cell": {
     "cellMetadata": {
      "byteLimit": 2048000,
      "rowLimit": 10000
     },
     "inputWidgets": {},
     "nuid": "02af4831-5544-4185-b31a-5cc713736328",
     "showTitle": false,
     "tableResultSettingsMap": {},
     "title": ""
    }
   },
   "outputs": [],
   "source": [
    "joined_df.write.mode(\"overwrite\") \\\n",
    "               .partitionBy(\"city\") \\\n",
    "               .parquet(\"dbfs:/FileStore/joined_df_customer_order\")"
   ]
  },
  {
   "cell_type": "markdown",
   "metadata": {
    "application/vnd.databricks.v1+cell": {
     "cellMetadata": {},
     "inputWidgets": {},
     "nuid": "7d2e24f5-63a2-4cb7-bf4c-f70623f5aa68",
     "showTitle": false,
     "tableResultSettingsMap": {},
     "title": ""
    }
   },
   "source": [
    "Create a temporary view and run Spark SQL: \\\n",
    " Total sales by customer \\\n",
    " Count of products per city \\\n",
    " Top 2 cities by revenu "
   ]
  },
  {
   "cell_type": "code",
   "execution_count": 0,
   "metadata": {
    "application/vnd.databricks.v1+cell": {
     "cellMetadata": {
      "byteLimit": 2048000,
      "rowLimit": 10000
     },
     "inputWidgets": {},
     "nuid": "7a6c5434-63b7-48c3-837b-a0a08ab34af0",
     "showTitle": false,
     "tableResultSettingsMap": {},
     "title": ""
    }
   },
   "outputs": [
    {
     "output_type": "stream",
     "name": "stdout",
     "output_type": "stream",
     "text": [
      "+-----+---------+---+-------+----------+-------+--------+-----+----------+-----------+\n| Name|     City|Age|orderID|customerID|product|Quantity|price| orderDate|TotalAmount|\n+-----+---------+---+-------+----------+-------+--------+-----+----------+-----------+\n|Aditi|   Mumbai| 28|   1001|       101| Laptop|       1|70000|2024-01-05|      70000|\n|Rohan|    Delhi| 35|   1002|       102| Mobile|       2|25000|2024-02-10|      50000|\n|Meena|Bangalore| 41|   1003|       103|   Desk|       1|10000|2024-03-15|      10000|\n|Aditi|   Mumbai| 28|   1004|       101|  Mouse|       3| 1000|2024-04-01|       3000|\n|Kabir|Hyderabad| 30|   1005|       104|Monitor|       1|12000|2024-04-25|      12000|\n+-----+---------+---+-------+----------+-------+--------+-----+----------+-----------+\n\n"
     ]
    }
   ],
   "source": [
    "joined_df.createOrReplaceTempView(\"joined\")\n",
    "joined_df.show()"
   ]
  },
  {
   "cell_type": "markdown",
   "metadata": {
    "application/vnd.databricks.v1+cell": {
     "cellMetadata": {},
     "inputWidgets": {},
     "nuid": "38a55146-345f-4781-a964-d7c0210e5461",
     "showTitle": false,
     "tableResultSettingsMap": {},
     "title": ""
    }
   },
   "source": [
    "Total Sales by customer"
   ]
  },
  {
   "cell_type": "code",
   "execution_count": 0,
   "metadata": {
    "application/vnd.databricks.v1+cell": {
     "cellMetadata": {
      "byteLimit": 2048000,
      "rowLimit": 10000
     },
     "inputWidgets": {},
     "nuid": "b014d871-d205-43c7-a724-ee08c8dce415",
     "showTitle": false,
     "tableResultSettingsMap": {},
     "title": ""
    }
   },
   "outputs": [
    {
     "output_type": "stream",
     "name": "stdout",
     "output_type": "stream",
     "text": [
      "+----------+-----+----------+\n|customerID| Name|TotalSales|\n+----------+-----+----------+\n|       104|Kabir|     12000|\n|       102|Rohan|     50000|\n|       103|Meena|     10000|\n|       101|Aditi|     73000|\n+----------+-----+----------+\n\n"
     ]
    }
   ],
   "source": [
    "spark.sql(\"\"\"\n",
    "          SELECT \n",
    "              customerID, \n",
    "              Name, \n",
    "              SUM(TotalAmount) AS TotalSales\n",
    "          FROM joined\n",
    "          GROUP BY customerID, Name\n",
    "          \"\"\"\n",
    ").show()\n"
   ]
  },
  {
   "cell_type": "markdown",
   "metadata": {
    "application/vnd.databricks.v1+cell": {
     "cellMetadata": {},
     "inputWidgets": {},
     "nuid": "e94c65e2-b347-4df8-b632-02676d2aa07b",
     "showTitle": false,
     "tableResultSettingsMap": {},
     "title": ""
    }
   },
   "source": [
    "Count of orders per city"
   ]
  },
  {
   "cell_type": "code",
   "execution_count": 0,
   "metadata": {
    "application/vnd.databricks.v1+cell": {
     "cellMetadata": {
      "byteLimit": 2048000,
      "rowLimit": 10000
     },
     "inputWidgets": {},
     "nuid": "40cbef7a-712f-403b-8c82-dd0cc9d83878",
     "showTitle": false,
     "tableResultSettingsMap": {},
     "title": ""
    }
   },
   "outputs": [
    {
     "output_type": "stream",
     "name": "stdout",
     "output_type": "stream",
     "text": [
      "+---------+----------+\n|     City|OrderCount|\n+---------+----------+\n|Bangalore|         1|\n|    Delhi|         1|\n|   Mumbai|         2|\n|Hyderabad|         1|\n+---------+----------+\n\n"
     ]
    }
   ],
   "source": [
    "spark.sql(\"\"\"\n",
    "          SELECT \n",
    "            City, \n",
    "            COUNT(*) AS OrderCount\n",
    "          FROM joined\n",
    "          GROUP BY City\n",
    "\"\"\").show()"
   ]
  },
  {
   "cell_type": "markdown",
   "metadata": {
    "application/vnd.databricks.v1+cell": {
     "cellMetadata": {},
     "inputWidgets": {},
     "nuid": "f1c67060-d55c-4f87-bfad-f7ba05f73b37",
     "showTitle": false,
     "tableResultSettingsMap": {},
     "title": ""
    }
   },
   "source": [
    "Top 2 cities by revenue"
   ]
  },
  {
   "cell_type": "code",
   "execution_count": 0,
   "metadata": {
    "application/vnd.databricks.v1+cell": {
     "cellMetadata": {
      "byteLimit": 2048000,
      "rowLimit": 10000
     },
     "inputWidgets": {},
     "nuid": "3f1cc80b-e75b-4e90-86fa-cbbe05b301cb",
     "showTitle": false,
     "tableResultSettingsMap": {},
     "title": ""
    }
   },
   "outputs": [
    {
     "output_type": "stream",
     "name": "stdout",
     "output_type": "stream",
     "text": [
      "+------+------------+\n|  city|TotalRevenue|\n+------+------------+\n|Mumbai|       73000|\n| Delhi|       50000|\n+------+------------+\n\n"
     ]
    }
   ],
   "source": [
    "spark.sql(\"\"\"\n",
    "            SELECT \n",
    "                city, \n",
    "                SUM(TotalAmount) AS TotalRevenue\n",
    "            FROM joined\n",
    "            GROUP BY City\n",
    "            ORDER BY TotalRevenue DESC\n",
    "            LIMIT 2\n",
    "\"\"\").show()"
   ]
  }
 ],
 "metadata": {
  "application/vnd.databricks.v1+notebook": {
   "computePreferences": null,
   "dashboards": [],
   "environmentMetadata": {
    "base_environment": "",
    "environment_version": "2"
   },
   "inputWidgetPreferences": null,
   "language": "python",
   "notebookMetadata": {
    "pythonIndentUnit": 4
   },
   "notebookName": "Exercise1_June_13",
   "widgets": {}
  },
  "language_info": {
   "name": "python"
  }
 },
 "nbformat": 4,
 "nbformat_minor": 0
}