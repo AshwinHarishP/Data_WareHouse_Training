{
  "nbformat": 4,
  "nbformat_minor": 0,
  "metadata": {
    "colab": {
      "provenance": []
    },
    "kernelspec": {
      "name": "python3",
      "display_name": "Python 3"
    },
    "language_info": {
      "name": "python"
    }
  },
  "cells": [
    {
      "cell_type": "code",
      "execution_count": 1,
      "metadata": {
        "id": "juXkzBara0js"
      },
      "outputs": [],
      "source": [
        "from pyspark.sql import SparkSession"
      ]
    },
    {
      "cell_type": "code",
      "source": [
        "spark = SparkSession.builder.getOrCreate()"
      ],
      "metadata": {
        "id": "xRLbOlOxbBx5"
      },
      "execution_count": 2,
      "outputs": []
    },
    {
      "cell_type": "markdown",
      "source": [
        "#Database & Table Tasks"
      ],
      "metadata": {
        "id": "Njngyv4LbE0W"
      }
    },
    {
      "cell_type": "markdown",
      "source": [
        "1. Create a new database named sales_db."
      ],
      "metadata": {
        "id": "MJUDBvTQbBgh"
      }
    },
    {
      "cell_type": "code",
      "source": [
        "spark.sql(\"CREATE DATABASE IF NOT EXISTS sales_db\")"
      ],
      "metadata": {
        "colab": {
          "base_uri": "https://localhost:8080/"
        },
        "id": "2AE9U0-TbLqF",
        "outputId": "c3db5364-c8f6-4108-8119-631d29574ea2"
      },
      "execution_count": 3,
      "outputs": [
        {
          "output_type": "execute_result",
          "data": {
            "text/plain": [
              "DataFrame[]"
            ]
          },
          "metadata": {},
          "execution_count": 3
        }
      ]
    },
    {
      "cell_type": "markdown",
      "source": [
        "2. Set the current database to sales_db"
      ],
      "metadata": {
        "id": "CSBzSWi1bYq_"
      }
    },
    {
      "cell_type": "code",
      "source": [
        "spark.sql(\"USE sales_db\")"
      ],
      "metadata": {
        "colab": {
          "base_uri": "https://localhost:8080/"
        },
        "id": "nbCCoboybcnp",
        "outputId": "061961f0-8454-4b90-e966-0b200500b55c"
      },
      "execution_count": 6,
      "outputs": [
        {
          "output_type": "execute_result",
          "data": {
            "text/plain": [
              "DataFrame[]"
            ]
          },
          "metadata": {},
          "execution_count": 6
        }
      ]
    },
    {
      "cell_type": "markdown",
      "source": [
        "3.  Create a table product_sales with columns: \\\n",
        " ProductID (INT) \\\n",
        " ProductName (STRING) \\\n",
        " Category (STRING) \\\n",
        " Price (DOUBLE) \\\n",
        " Quantity (INT) \\\n",
        " SaleDate (DATE) \\"
      ],
      "metadata": {
        "id": "N9QIavWubnXx"
      }
    },
    {
      "cell_type": "code",
      "source": [
        "spark.sql(\"\"\"\n",
        "          CREATE TABLE IF NOT EXISTS product_sales(\n",
        "          ProductID INT,\n",
        "          ProductName VARCHAR(30),\n",
        "          Category VARCHAR(30),\n",
        "          Price DOUBLE,\n",
        "          Quantity INT,\n",
        "          SaleDate DATE\n",
        "          ) USING PARQUET\n",
        "\"\"\")"
      ],
      "metadata": {
        "colab": {
          "base_uri": "https://localhost:8080/"
        },
        "id": "ptKgGfmybm6V",
        "outputId": "f4a5e582-5ef4-43e3-97d5-71a50ecb5b52"
      },
      "execution_count": 7,
      "outputs": [
        {
          "output_type": "execute_result",
          "data": {
            "text/plain": [
              "DataFrame[]"
            ]
          },
          "metadata": {},
          "execution_count": 7
        }
      ]
    },
    {
      "cell_type": "markdown",
      "source": [
        "4. Insert at least 5 rows into product_sales."
      ],
      "metadata": {
        "id": "fIwtVTtWcVpb"
      }
    },
    {
      "cell_type": "code",
      "source": [
        "spark.sql(\"\"\"\n",
        "          INSERT INTO product_sales VALUES\n",
        "          (101, \"Asus Rog\", \"Laptop\", 120000, 1, CAST('2021-09-21' AS DATE)),\n",
        "          (102, \"Logitech mouse\", \"Mouse\", 600, 3, CAST('2022-11-10' AS DATE)),\n",
        "          (103, \"Samsung 15 inch\", \"TV\", 100000, 5, CAST('2025-03-20' AS DATE)),\n",
        "          (104, \"I Phone\", \"Mobile\", 80000, 10, CAST('2024-08-20' AS DATE)),\n",
        "          (105, \"RealMe True wireless\", \"TWS\", 1600, 4, CAST('2023-10-18' AS DATE))\n",
        "\"\"\")\n"
      ],
      "metadata": {
        "colab": {
          "base_uri": "https://localhost:8080/"
        },
        "id": "JZeJqlKVcWc2",
        "outputId": "8e27d18f-cffa-4622-a128-1dec9392f6a7"
      },
      "execution_count": 14,
      "outputs": [
        {
          "output_type": "execute_result",
          "data": {
            "text/plain": [
              "DataFrame[]"
            ]
          },
          "metadata": {},
          "execution_count": 14
        }
      ]
    },
    {
      "cell_type": "markdown",
      "source": [
        "## Query Tasks"
      ],
      "metadata": {
        "id": "n3Qv5NTceZeV"
      }
    },
    {
      "cell_type": "markdown",
      "source": [
        "5. Select all records from product_sales."
      ],
      "metadata": {
        "id": "VsmkW0B7ee2m"
      }
    },
    {
      "cell_type": "code",
      "source": [
        "spark.sql(\"SELECT * FROM product_sales\").show()"
      ],
      "metadata": {
        "colab": {
          "base_uri": "https://localhost:8080/"
        },
        "id": "BM_zwXA5cpb7",
        "outputId": "0caf6983-fd11-4a79-ef47-ce86cdfcfa50"
      },
      "execution_count": 15,
      "outputs": [
        {
          "output_type": "stream",
          "name": "stdout",
          "text": [
            "+---------+--------------------+--------+--------+--------+----------+\n",
            "|ProductID|         ProductName|Category|   Price|Quantity|  SaleDate|\n",
            "+---------+--------------------+--------+--------+--------+----------+\n",
            "|      103|     Samsung 15 inch|      TV|100000.0|       5|2025-03-20|\n",
            "|      104|             I Phone|  Mobile| 80000.0|      10|2024-08-20|\n",
            "|      105|RealMe True wireless|     TWS|  1600.0|       4|2023-10-18|\n",
            "|      101|            Asus Rog|  Laptop|120000.0|       1|2021-09-21|\n",
            "|      102|      Logitech mouse|   Mouse|   600.0|       3|2022-11-10|\n",
            "+---------+--------------------+--------+--------+--------+----------+\n",
            "\n"
          ]
        }
      ]
    },
    {
      "cell_type": "markdown",
      "source": [
        "6. Retrieve products where price is above 500."
      ],
      "metadata": {
        "id": "8j_qjbHjeZFT"
      }
    },
    {
      "cell_type": "code",
      "source": [
        "spark.sql(\"\"\"\n",
        "          SELECT\n",
        "          ProductID,\n",
        "          ProductName,\n",
        "          Price\n",
        "          FROM product_sales\n",
        "          WHERE Price > 500\n",
        "\"\"\").show()"
      ],
      "metadata": {
        "colab": {
          "base_uri": "https://localhost:8080/"
        },
        "id": "tKWb-d_meq2B",
        "outputId": "7ed6f1eb-3e10-4d51-fa2e-29dbb37edb14"
      },
      "execution_count": 16,
      "outputs": [
        {
          "output_type": "stream",
          "name": "stdout",
          "text": [
            "+---------+--------------------+--------+\n",
            "|ProductID|         ProductName|   Price|\n",
            "+---------+--------------------+--------+\n",
            "|      103|     Samsung 15 inch|100000.0|\n",
            "|      104|             I Phone| 80000.0|\n",
            "|      105|RealMe True wireless|  1600.0|\n",
            "|      101|            Asus Rog|120000.0|\n",
            "|      102|      Logitech mouse|   600.0|\n",
            "+---------+--------------------+--------+\n",
            "\n"
          ]
        }
      ]
    },
    {
      "cell_type": "markdown",
      "source": [
        "7. Calculate total sale amount (Price * Quantity) for each product."
      ],
      "metadata": {
        "id": "9pcUJqsdfE0j"
      }
    },
    {
      "cell_type": "code",
      "source": [
        "spark.sql(\"\"\"\n",
        "          SELECT\n",
        "          ProductID,\n",
        "          ProductName,\n",
        "          Price,\n",
        "          Quantity,\n",
        "          Price * Quantity AS TotalSaleAmount\n",
        "          FROM product_sales\n",
        "\"\"\").show()"
      ],
      "metadata": {
        "colab": {
          "base_uri": "https://localhost:8080/"
        },
        "id": "roubRVKJfGUJ",
        "outputId": "375222b6-29f8-4392-8052-1e424278af89"
      },
      "execution_count": 19,
      "outputs": [
        {
          "output_type": "stream",
          "name": "stdout",
          "text": [
            "+---------+--------------------+--------+--------+---------------+\n",
            "|ProductID|         ProductName|   Price|Quantity|TotalSaleAmount|\n",
            "+---------+--------------------+--------+--------+---------------+\n",
            "|      103|     Samsung 15 inch|100000.0|       5|       500000.0|\n",
            "|      104|             I Phone| 80000.0|      10|       800000.0|\n",
            "|      105|RealMe True wireless|  1600.0|       4|         6400.0|\n",
            "|      101|            Asus Rog|120000.0|       1|       120000.0|\n",
            "|      102|      Logitech mouse|   600.0|       3|         1800.0|\n",
            "+---------+--------------------+--------+--------+---------------+\n",
            "\n"
          ]
        }
      ]
    },
    {
      "cell_type": "markdown",
      "source": [
        "8. Find the number of products sold in each Category."
      ],
      "metadata": {
        "id": "Q09n8N47fs-j"
      }
    },
    {
      "cell_type": "code",
      "source": [
        "spark.sql(\"\"\"\n",
        "          SELECT\n",
        "          Category,\n",
        "          COUNT(ProductID) AS NumberOfProductsSold\n",
        "          FROM product_sales\n",
        "          GROUP BY Category\n",
        "          ORDER BY NumberOfProductsSold\n",
        "\"\"\").show()"
      ],
      "metadata": {
        "colab": {
          "base_uri": "https://localhost:8080/"
        },
        "id": "PNyFaV2Qfx84",
        "outputId": "9d805d07-4bf4-41e3-b40b-163b229abb75"
      },
      "execution_count": 22,
      "outputs": [
        {
          "output_type": "stream",
          "name": "stdout",
          "text": [
            "+--------+--------------------+\n",
            "|Category|NumberOfProductsSold|\n",
            "+--------+--------------------+\n",
            "|      TV|                   1|\n",
            "|     TWS|                   1|\n",
            "|  Mobile|                   1|\n",
            "|  Laptop|                   1|\n",
            "|   Mouse|                   1|\n",
            "+--------+--------------------+\n",
            "\n"
          ]
        }
      ]
    },
    {
      "cell_type": "markdown",
      "source": [
        "9. Sort products by total sales in descending order.\n",
        "\n",
        "\n"
      ],
      "metadata": {
        "id": "2q0lvQHagShm"
      }
    },
    {
      "cell_type": "code",
      "source": [
        "spark.sql(\"\"\"\n",
        "          SELECT\n",
        "          ProductID,\n",
        "          ProductName,\n",
        "          Price,\n",
        "          Quantity,\n",
        "          Price * Quantity AS TotalSaleAmount,\n",
        "          RANK() OVER(ORDER BY Price * Quantity DESC) AS SaleRank\n",
        "          FROM product_sales\n",
        "\"\"\").show()"
      ],
      "metadata": {
        "colab": {
          "base_uri": "https://localhost:8080/"
        },
        "id": "9zVg5LolgT-Y",
        "outputId": "d7ee0106-a4d2-44b2-ccd2-0d6213e39593"
      },
      "execution_count": 29,
      "outputs": [
        {
          "output_type": "stream",
          "name": "stdout",
          "text": [
            "+---------+--------------------+--------+--------+---------------+--------+\n",
            "|ProductID|         ProductName|   Price|Quantity|TotalSaleAmount|SaleRank|\n",
            "+---------+--------------------+--------+--------+---------------+--------+\n",
            "|      104|             I Phone| 80000.0|      10|       800000.0|       1|\n",
            "|      103|     Samsung 15 inch|100000.0|       5|       500000.0|       2|\n",
            "|      101|            Asus Rog|120000.0|       1|       120000.0|       3|\n",
            "|      105|RealMe True wireless|  1600.0|       4|         6400.0|       4|\n",
            "|      102|      Logitech mouse|   600.0|       3|         1800.0|       5|\n",
            "+---------+--------------------+--------+--------+---------------+--------+\n",
            "\n"
          ]
        }
      ]
    },
    {
      "cell_type": "markdown",
      "source": [
        "##Temporary View Tasks"
      ],
      "metadata": {
        "id": "xjco8WzMhV3-"
      }
    },
    {
      "cell_type": "markdown",
      "source": [
        " 10. Create a PySpark DataFrame with dummy product data."
      ],
      "metadata": {
        "id": "HgERbOMBhbHK"
      }
    },
    {
      "cell_type": "code",
      "source": [
        "# Sample data\n",
        "data = [\n",
        "    (201, \"Dell Inspiron\", \"Laptop\", 90000, 2, \"2023-01-15\"),\n",
        "    (202, \"HP Wireless Keyboard\", \"Keyboard\", 1500, 5, \"2023-04-22\"),\n",
        "    (203, \"Sony Bravia 55 inch\", \"TV\", 150000, 3, \"2024-12-05\"),\n",
        "    (204, \"OnePlus Nord\", \"Mobile\", 35000, 7, \"2023-09-30\"),\n",
        "    (205, \"JBL Bluetooth Speaker\", \"Speaker\", 4000, 6, \"2022-07-19\")\n",
        "]\n",
        "\n",
        "# Schema Defenition\n",
        "columns = [\"ProductID\", \"ProductName\", \"Category\", \"Price\", \"Quantity\", \"SaleDate\"]\n",
        "\n",
        "# Creating dataframe\n",
        "df = spark.createDataFrame(data, schema=columns)\n",
        "\n",
        "df.show()"
      ],
      "metadata": {
        "colab": {
          "base_uri": "https://localhost:8080/"
        },
        "id": "CeVOrSyQhcuD",
        "outputId": "1ea58be7-f014-41f9-c8d3-f33b24568ab9"
      },
      "execution_count": 30,
      "outputs": [
        {
          "output_type": "stream",
          "name": "stdout",
          "text": [
            "+---------+--------------------+--------+------+--------+----------+\n",
            "|ProductID|         ProductName|Category| Price|Quantity|  SaleDate|\n",
            "+---------+--------------------+--------+------+--------+----------+\n",
            "|      201|       Dell Inspiron|  Laptop| 90000|       2|2023-01-15|\n",
            "|      202|HP Wireless Keyboard|Keyboard|  1500|       5|2023-04-22|\n",
            "|      203| Sony Bravia 55 inch|      TV|150000|       3|2024-12-05|\n",
            "|      204|        OnePlus Nord|  Mobile| 35000|       7|2023-09-30|\n",
            "|      205|JBL Bluetooth Spe...| Speaker|  4000|       6|2022-07-19|\n",
            "+---------+--------------------+--------+------+--------+----------+\n",
            "\n"
          ]
        }
      ]
    },
    {
      "cell_type": "markdown",
      "source": [
        " 11. Register it as a temporary view called temp_orders.\n",
        "\n",
        "---\n",
        "\n"
      ],
      "metadata": {
        "id": "aaGpe8pXiIYJ"
      }
    },
    {
      "cell_type": "code",
      "source": [
        "df.createOrReplaceTempView(\"temp_orders\")\n",
        "spark.sql(\"SELECT * FROM temp_orders\").show()"
      ],
      "metadata": {
        "colab": {
          "base_uri": "https://localhost:8080/"
        },
        "id": "vOFLXqwliKKu",
        "outputId": "daff0030-ec5a-45a0-963f-4d8ddfbcbbe6"
      },
      "execution_count": 31,
      "outputs": [
        {
          "output_type": "stream",
          "name": "stdout",
          "text": [
            "+---------+--------------------+--------+------+--------+----------+\n",
            "|ProductID|         ProductName|Category| Price|Quantity|  SaleDate|\n",
            "+---------+--------------------+--------+------+--------+----------+\n",
            "|      201|       Dell Inspiron|  Laptop| 90000|       2|2023-01-15|\n",
            "|      202|HP Wireless Keyboard|Keyboard|  1500|       5|2023-04-22|\n",
            "|      203| Sony Bravia 55 inch|      TV|150000|       3|2024-12-05|\n",
            "|      204|        OnePlus Nord|  Mobile| 35000|       7|2023-09-30|\n",
            "|      205|JBL Bluetooth Spe...| Speaker|  4000|       6|2022-07-19|\n",
            "+---------+--------------------+--------+------+--------+----------+\n",
            "\n"
          ]
        }
      ]
    },
    {
      "cell_type": "markdown",
      "source": [
        "12. Run a SQL query to filter temp_orders where quantity > 1"
      ],
      "metadata": {
        "id": "yOu2kxUujDBe"
      }
    },
    {
      "cell_type": "code",
      "source": [
        "spark.sql(\"\"\"\n",
        "          SELECT\n",
        "          ProductID,\n",
        "          ProductName,\n",
        "          Category,\n",
        "          Price,\n",
        "          Quantity\n",
        "          FROM temp_orders\n",
        "          WHERE Quantity > 1\n",
        "\"\"\").show()"
      ],
      "metadata": {
        "colab": {
          "base_uri": "https://localhost:8080/"
        },
        "id": "4Nj_sMYPjEdZ",
        "outputId": "50148c4b-dbd3-41cb-fbef-8deb296289a2"
      },
      "execution_count": 32,
      "outputs": [
        {
          "output_type": "stream",
          "name": "stdout",
          "text": [
            "+---------+--------------------+--------+------+--------+\n",
            "|ProductID|         ProductName|Category| Price|Quantity|\n",
            "+---------+--------------------+--------+------+--------+\n",
            "|      201|       Dell Inspiron|  Laptop| 90000|       2|\n",
            "|      202|HP Wireless Keyboard|Keyboard|  1500|       5|\n",
            "|      203| Sony Bravia 55 inch|      TV|150000|       3|\n",
            "|      204|        OnePlus Nord|  Mobile| 35000|       7|\n",
            "|      205|JBL Bluetooth Spe...| Speaker|  4000|       6|\n",
            "+---------+--------------------+--------+------+--------+\n",
            "\n"
          ]
        }
      ]
    },
    {
      "cell_type": "markdown",
      "source": [
        "## Global View Tasks"
      ],
      "metadata": {
        "id": "H04VNCEijSCk"
      }
    },
    {
      "cell_type": "markdown",
      "source": [
        "13.  Create a global temp view from a PySpark DataFrame named global_orders."
      ],
      "metadata": {
        "id": "ADorzvaXjTJ0"
      }
    },
    {
      "cell_type": "code",
      "source": [
        "df.createOrReplaceGlobalTempView(\"global_orders\")"
      ],
      "metadata": {
        "colab": {
          "base_uri": "https://localhost:8080/"
        },
        "id": "PfLT_kQ6jVQJ",
        "outputId": "a6918a23-e8fb-4023-9db7-906ddf0a82bb"
      },
      "execution_count": 33,
      "outputs": [
        {
          "output_type": "stream",
          "name": "stdout",
          "text": [
            "+---------+--------------------+--------+------+--------+----------+\n",
            "|ProductID|         ProductName|Category| Price|Quantity|  SaleDate|\n",
            "+---------+--------------------+--------+------+--------+----------+\n",
            "|      201|       Dell Inspiron|  Laptop| 90000|       2|2023-01-15|\n",
            "|      202|HP Wireless Keyboard|Keyboard|  1500|       5|2023-04-22|\n",
            "|      203| Sony Bravia 55 inch|      TV|150000|       3|2024-12-05|\n",
            "|      204|        OnePlus Nord|  Mobile| 35000|       7|2023-09-30|\n",
            "|      205|JBL Bluetooth Spe...| Speaker|  4000|       6|2022-07-19|\n",
            "+---------+--------------------+--------+------+--------+----------+\n",
            "\n"
          ]
        }
      ]
    },
    {
      "cell_type": "markdown",
      "source": [
        "14. Run a SQL query on the global view from another notebook cell/session."
      ],
      "metadata": {
        "id": "lRoob0CEkISh"
      }
    },
    {
      "cell_type": "code",
      "source": [
        "result_df = spark.sql(\"\"\"\n",
        "                      SELECT *\n",
        "                      FROM global_temp.global_orders\n",
        "                      WHERE Price > 1000;\n",
        "\"\"\")\n",
        "result_df.show()"
      ],
      "metadata": {
        "colab": {
          "base_uri": "https://localhost:8080/"
        },
        "id": "S8WYf21TkJP1",
        "outputId": "62f8f1c1-7593-4132-a8b7-d253c7e9f6f8"
      },
      "execution_count": 35,
      "outputs": [
        {
          "output_type": "stream",
          "name": "stdout",
          "text": [
            "+---------+--------------------+--------+------+--------+----------+\n",
            "|ProductID|         ProductName|Category| Price|Quantity|  SaleDate|\n",
            "+---------+--------------------+--------+------+--------+----------+\n",
            "|      201|       Dell Inspiron|  Laptop| 90000|       2|2023-01-15|\n",
            "|      202|HP Wireless Keyboard|Keyboard|  1500|       5|2023-04-22|\n",
            "|      203| Sony Bravia 55 inch|      TV|150000|       3|2024-12-05|\n",
            "|      204|        OnePlus Nord|  Mobile| 35000|       7|2023-09-30|\n",
            "|      205|JBL Bluetooth Spe...| Speaker|  4000|       6|2022-07-19|\n",
            "+---------+--------------------+--------+------+--------+----------+\n",
            "\n"
          ]
        }
      ]
    },
    {
      "cell_type": "markdown",
      "source": [
        "##  Join Tasks"
      ],
      "metadata": {
        "id": "yrTD981Ykozw"
      }
    },
    {
      "cell_type": "markdown",
      "source": [
        "15. Create a second table customer_details with: \\\n",
        " CustomerID, \\\n",
        " Name,\n",
        " Gender, \\\n",
        " City, \\\n",
        " SignupDate"
      ],
      "metadata": {
        "id": "Y7k4hLYSkpzZ"
      }
    },
    {
      "cell_type": "code",
      "source": [
        "spark.sql(\"\"\"\n",
        "          CREATE TABLE IF NOT EXISTS customer_details (\n",
        "          CustomerID INT,\n",
        "          Name VARCHAR(30),\n",
        "          Gender VARCHAR(6),\n",
        "          City VARCHAR(30),\n",
        "          SignupDate DATE) USING PARQUET\n",
        "\"\"\")"
      ],
      "metadata": {
        "colab": {
          "base_uri": "https://localhost:8080/"
        },
        "id": "y83daw1Akz0P",
        "outputId": "55360385-2502-4c17-ddad-fbe4f1954089"
      },
      "execution_count": 49,
      "outputs": [
        {
          "output_type": "execute_result",
          "data": {
            "text/plain": [
              "DataFrame[]"
            ]
          },
          "metadata": {},
          "execution_count": 49
        }
      ]
    },
    {
      "cell_type": "markdown",
      "source": [
        "16. Insert at least 3 records into customer_details."
      ],
      "metadata": {
        "id": "dPNaWVilluXI"
      }
    },
    {
      "cell_type": "code",
      "source": [
        "spark.sql(\"\"\"\n",
        "          INSERT INTO customer_details VALUES\n",
        "          (101, 'Ashwin', 'Male', 'Coimbatore', CAST('2022-05-14' AS DATE)),\n",
        "          (102, 'Ram', 'Male', 'Hyderabad', CAST('2023-01-23' AS DATE)),\n",
        "          (103, 'Catherine Lee', 'Female', 'Chicago', CAST('2021-11-30' AS DATE)),\n",
        "          (104, 'David Brown', 'Male', 'Houston', CAST('2022-09-10' AS DATE)),\n",
        "          (105, 'Eva Green', 'Female', 'San Francisco', CAST('2023-03-15' AS DATE))\n",
        "\"\"\")"
      ],
      "metadata": {
        "colab": {
          "base_uri": "https://localhost:8080/"
        },
        "id": "nSHJyUJElvjc",
        "outputId": "af8a99ad-ed8b-42a5-f72a-20e29e94cba8"
      },
      "execution_count": 50,
      "outputs": [
        {
          "output_type": "execute_result",
          "data": {
            "text/plain": [
              "DataFrame[]"
            ]
          },
          "metadata": {},
          "execution_count": 50
        }
      ]
    },
    {
      "cell_type": "markdown",
      "source": [
        "17.  Write a SQL join between product_sales and customer_details based on\n",
        " ProductID = CustomerID (simulate a match)."
      ],
      "metadata": {
        "id": "FQ0ojagrl_mw"
      }
    },
    {
      "cell_type": "code",
      "source": [
        "spark.sql(\"\"\"\n",
        "          SELECT\n",
        "          p.ProductName,\n",
        "          p.Price,\n",
        "          p.Quantity,\n",
        "          c.SignupDate,\n",
        "          p.SaleDate,\n",
        "          c.Name\n",
        "          FROM product_sales p\n",
        "          LEFT JOIN customer_details c\n",
        "          ON p.ProductID = c.CustomerID\n",
        "\"\"\").show()"
      ],
      "metadata": {
        "colab": {
          "base_uri": "https://localhost:8080/"
        },
        "id": "uhZJ3oTsmAZF",
        "outputId": "9f64cebb-5dd9-4d28-8f01-12eac71d4caf"
      },
      "execution_count": 53,
      "outputs": [
        {
          "output_type": "stream",
          "name": "stdout",
          "text": [
            "+--------------------+--------+--------+----------+----------+-------------+\n",
            "|         ProductName|   Price|Quantity|SignupDate|  SaleDate|         Name|\n",
            "+--------------------+--------+--------+----------+----------+-------------+\n",
            "|     Samsung 15 inch|100000.0|       5|2021-11-30|2025-03-20|Catherine Lee|\n",
            "|             I Phone| 80000.0|      10|2022-09-10|2024-08-20|  David Brown|\n",
            "|RealMe True wireless|  1600.0|       4|2023-03-15|2023-10-18|    Eva Green|\n",
            "|            Asus Rog|120000.0|       1|2022-05-14|2021-09-21|       Ashwin|\n",
            "|      Logitech mouse|   600.0|       3|2023-01-23|2022-11-10|          Ram|\n",
            "+--------------------+--------+--------+----------+----------+-------------+\n",
            "\n"
          ]
        }
      ]
    },
    {
      "cell_type": "markdown",
      "source": [
        " 18. List customers who bought more than 2 products"
      ],
      "metadata": {
        "id": "Xnb5i2N2ncU_"
      }
    },
    {
      "cell_type": "code",
      "source": [
        "spark.sql(\"\"\"\n",
        "          SELECT\n",
        "          c.CustomerID,\n",
        "          c.Name,\n",
        "          p.ProductName,\n",
        "          p.Quantity\n",
        "          FROM customer_details c\n",
        "          LEFT JOIN product_sales p\n",
        "          ON c.CustomerID = p.ProductID\n",
        "          WHERE p.Quantity > 2\n",
        "\"\"\").show()"
      ],
      "metadata": {
        "colab": {
          "base_uri": "https://localhost:8080/"
        },
        "id": "mregXfYKnd4x",
        "outputId": "6d9ed5a3-3b00-4a2d-d643-40e7a40d5c44"
      },
      "execution_count": 55,
      "outputs": [
        {
          "output_type": "stream",
          "name": "stdout",
          "text": [
            "+----------+-------------+--------------------+--------+\n",
            "|CustomerID|         Name|         ProductName|Quantity|\n",
            "+----------+-------------+--------------------+--------+\n",
            "|       103|Catherine Lee|     Samsung 15 inch|       5|\n",
            "|       104|  David Brown|             I Phone|      10|\n",
            "|       105|    Eva Green|RealMe True wireless|       4|\n",
            "|       102|          Ram|      Logitech mouse|       3|\n",
            "+----------+-------------+--------------------+--------+\n",
            "\n"
          ]
        }
      ]
    },
    {
      "cell_type": "markdown",
      "source": [
        " ## View & Summary Tasks"
      ],
      "metadata": {
        "id": "GuIphvLPnrIr"
      }
    },
    {
      "cell_type": "markdown",
      "source": [
        "Create a SQL view sales_summary that includes:\\\n",
        " ProductName, \\\n",
        " Price, \\\n",
        " Quantity, \\\n",
        " Total = Price * Quantity"
      ],
      "metadata": {
        "id": "YRDCzRTynuYM"
      }
    },
    {
      "cell_type": "code",
      "source": [
        "spark.sql(\"\"\"\n",
        "        CREATE OR REPLACE VIEW sales_summary AS\n",
        "        SELECT\n",
        "        ProductName,\n",
        "        Price,\n",
        "        Quantity,\n",
        "        Price * Quantity AS Total\n",
        "        FROM product_sales\n",
        "\"\"\")\n",
        "\n",
        "spark.sql(\"SELECT * FROM sales_summary\").show()"
      ],
      "metadata": {
        "colab": {
          "base_uri": "https://localhost:8080/"
        },
        "id": "8M6SYOwrnsfB",
        "outputId": "b82d9117-98c8-4043-89a0-267db6c5226d"
      },
      "execution_count": 58,
      "outputs": [
        {
          "output_type": "stream",
          "name": "stdout",
          "text": [
            "+--------------------+--------+--------+--------+\n",
            "|         ProductName|   Price|Quantity|   Total|\n",
            "+--------------------+--------+--------+--------+\n",
            "|     Samsung 15 inch|100000.0|       5|500000.0|\n",
            "|             I Phone| 80000.0|      10|800000.0|\n",
            "|RealMe True wireless|  1600.0|       4|  6400.0|\n",
            "|            Asus Rog|120000.0|       1|120000.0|\n",
            "|      Logitech mouse|   600.0|       3|  1800.0|\n",
            "+--------------------+--------+--------+--------+\n",
            "\n"
          ]
        }
      ]
    },
    {
      "cell_type": "markdown",
      "source": [
        "20. Query the view for records with\n",
        "Total > 1000"
      ],
      "metadata": {
        "id": "PBafBEWwoE1n"
      }
    },
    {
      "cell_type": "code",
      "source": [
        "spark.sql(\"\"\"\n",
        "          SELECT *\n",
        "          FROM sales_summary\n",
        "          WHERE Total > 1000\n",
        "\"\"\").show()"
      ],
      "metadata": {
        "colab": {
          "base_uri": "https://localhost:8080/"
        },
        "id": "ffWrc0ZXoI8S",
        "outputId": "fdd5483c-e8c9-4829-eea0-4f22c86ae4ca"
      },
      "execution_count": 59,
      "outputs": [
        {
          "output_type": "stream",
          "name": "stdout",
          "text": [
            "+--------------------+--------+--------+--------+\n",
            "|         ProductName|   Price|Quantity|   Total|\n",
            "+--------------------+--------+--------+--------+\n",
            "|     Samsung 15 inch|100000.0|       5|500000.0|\n",
            "|             I Phone| 80000.0|      10|800000.0|\n",
            "|RealMe True wireless|  1600.0|       4|  6400.0|\n",
            "|            Asus Rog|120000.0|       1|120000.0|\n",
            "|      Logitech mouse|   600.0|       3|  1800.0|\n",
            "+--------------------+--------+--------+--------+\n",
            "\n"
          ]
        }
      ]
    },
    {
      "cell_type": "markdown",
      "source": [
        "## Cleanup Tasks"
      ],
      "metadata": {
        "id": "DMKG2FC0oPg3"
      }
    },
    {
      "cell_type": "markdown",
      "source": [
        "21. Drop the view sales_summary."
      ],
      "metadata": {
        "id": "Ph7LM8mjoRd3"
      }
    },
    {
      "cell_type": "code",
      "source": [
        "spark.sql(\"DROP VIEW IF EXISTS sales_summary\")"
      ],
      "metadata": {
        "colab": {
          "base_uri": "https://localhost:8080/"
        },
        "id": "Lfj-PRuSoVIx",
        "outputId": "7de78e2b-be4b-480a-e73f-183adc15bf7e"
      },
      "execution_count": 60,
      "outputs": [
        {
          "output_type": "execute_result",
          "data": {
            "text/plain": [
              "DataFrame[]"
            ]
          },
          "metadata": {},
          "execution_count": 60
        }
      ]
    },
    {
      "cell_type": "markdown",
      "source": [
        "22. Drop the tables product_sales and customer_details"
      ],
      "metadata": {
        "id": "LLq5U0EWoeD7"
      }
    },
    {
      "cell_type": "code",
      "source": [
        "spark.sql(\"DROP TABLE IF EXISTS product_sales\")\n",
        "spark.sql(\"DROP TABLE IF EXISTS customer_details\")"
      ],
      "metadata": {
        "colab": {
          "base_uri": "https://localhost:8080/"
        },
        "id": "HEofO0-gohDt",
        "outputId": "314fd522-5a13-480d-e540-8244a5a96cd2"
      },
      "execution_count": 61,
      "outputs": [
        {
          "output_type": "execute_result",
          "data": {
            "text/plain": [
              "DataFrame[]"
            ]
          },
          "metadata": {},
          "execution_count": 61
        }
      ]
    },
    {
      "cell_type": "markdown",
      "source": [
        "23. Drop the database sales_db"
      ],
      "metadata": {
        "id": "DOkZzARMonBo"
      }
    },
    {
      "cell_type": "code",
      "source": [
        "spark.sql(\"DROP DATABASE IF EXISTS sales_db\")"
      ],
      "metadata": {
        "colab": {
          "base_uri": "https://localhost:8080/"
        },
        "id": "M1xI4zxLoph8",
        "outputId": "e8cffaaf-9384-4aca-e708-7b743eeda4ee"
      },
      "execution_count": 62,
      "outputs": [
        {
          "output_type": "execute_result",
          "data": {
            "text/plain": [
              "DataFrame[]"
            ]
          },
          "metadata": {},
          "execution_count": 62
        }
      ]
    }
  ]
}