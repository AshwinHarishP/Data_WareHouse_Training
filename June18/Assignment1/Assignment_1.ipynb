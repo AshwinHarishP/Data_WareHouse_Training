{
  "cells": [
    {
      "cell_type": "markdown",
      "metadata": {
        "application/vnd.databricks.v1+cell": {
          "cellMetadata": {
            "byteLimit": 2048000,
            "rowLimit": 10000
          },
          "inputWidgets": {},
          "nuid": "daea2350-ccb0-4501-826d-202b5926499b",
          "showTitle": false,
          "tableResultSettingsMap": {},
          "title": ""
        },
        "id": "umqFZjS5oFTh"
      },
      "source": [
        "E-Commerce Transactions + Returns + Inventory"
      ]
    },
    {
      "cell_type": "code",
      "source": [
        "from pyspark.sql import SparkSession\n",
        "spark = SparkSession.builder \\\n",
        "                    .appName(\"E_Commerce_Transactions\") \\\n",
        "                    .getOrCreate()\n",
        "spark"
      ],
      "metadata": {
        "colab": {
          "base_uri": "https://localhost:8080/",
          "height": 219
        },
        "id": "0S4coxSVoL3d",
        "outputId": "01125c47-4b63-450f-bfc1-3fdab2a66131"
      },
      "execution_count": 2,
      "outputs": [
        {
          "output_type": "execute_result",
          "data": {
            "text/plain": [
              "<pyspark.sql.session.SparkSession at 0x7de35e31c790>"
            ],
            "text/html": [
              "\n",
              "            <div>\n",
              "                <p><b>SparkSession - in-memory</b></p>\n",
              "                \n",
              "        <div>\n",
              "            <p><b>SparkContext</b></p>\n",
              "\n",
              "            <p><a href=\"http://40e5aa728482:4040\">Spark UI</a></p>\n",
              "\n",
              "            <dl>\n",
              "              <dt>Version</dt>\n",
              "                <dd><code>v3.5.1</code></dd>\n",
              "              <dt>Master</dt>\n",
              "                <dd><code>local[*]</code></dd>\n",
              "              <dt>AppName</dt>\n",
              "                <dd><code>E_Commerce_Transactions</code></dd>\n",
              "            </dl>\n",
              "        </div>\n",
              "        \n",
              "            </div>\n",
              "        "
            ]
          },
          "metadata": {},
          "execution_count": 2
        }
      ]
    },
    {
      "cell_type": "markdown",
      "metadata": {
        "application/vnd.databricks.v1+cell": {
          "cellMetadata": {
            "byteLimit": 2048000,
            "rowLimit": 10000
          },
          "inputWidgets": {},
          "nuid": "a1d391a0-b6a4-4345-b5ff-bb16b695901a",
          "showTitle": false,
          "tableResultSettingsMap": {},
          "title": ""
        },
        "id": "Kv2tBEDjoFTj"
      },
      "source": [
        "#### PySpark + Delta"
      ]
    },
    {
      "cell_type": "markdown",
      "metadata": {
        "application/vnd.databricks.v1+cell": {
          "cellMetadata": {
            "byteLimit": 2048000,
            "rowLimit": 10000
          },
          "inputWidgets": {},
          "nuid": "87295a69-756c-40b8-9aa2-db3424ca7cfa",
          "showTitle": false,
          "tableResultSettingsMap": {},
          "title": ""
        },
        "id": "gRdczVe2oFTk"
      },
      "source": [
        "Loading Data"
      ]
    },
    {
      "cell_type": "code",
      "execution_count": 3,
      "metadata": {
        "application/vnd.databricks.v1+cell": {
          "cellMetadata": {
            "byteLimit": 2048000,
            "rowLimit": 10000
          },
          "inputWidgets": {},
          "nuid": "33833e01-c69a-4a23-a0d9-fc23727a279d",
          "showTitle": false,
          "tableResultSettingsMap": {},
          "title": ""
        },
        "id": "ZjU8yQrvoFTk"
      },
      "outputs": [],
      "source": [
        "order_df = spark.read.format(\"csv\") \\\n",
        "                     .option(\"inferschema\", \"true\") \\\n",
        "                     .option(\"header\", \"true\") \\\n",
        "                     .load(\"/content/orders.csv\")\n",
        "\n",
        "customer_df = spark.read.format(\"csv\") \\\n",
        "                     .option(\"inferschema\", \"true\") \\\n",
        "                     .option(\"header\", \"true\") \\\n",
        "                     .load(\"/content/customers.csv\")\n",
        "\n",
        "product_df = spark.read.format(\"csv\") \\\n",
        "                     .option(\"inferschema\", \"true\") \\\n",
        "                     .option(\"header\", \"true\") \\\n",
        "                     .load(\"/content/products.csv\")\n"
      ]
    },
    {
      "cell_type": "markdown",
      "metadata": {
        "application/vnd.databricks.v1+cell": {
          "cellMetadata": {
            "byteLimit": 2048000,
            "rowLimit": 10000
          },
          "inputWidgets": {},
          "nuid": "d25b789d-f76c-4582-ae17-f292414f866e",
          "showTitle": false,
          "tableResultSettingsMap": {},
          "title": ""
        },
        "id": "IeJT3bHIoFTl"
      },
      "source": [
        "Removing tailing space"
      ]
    },
    {
      "cell_type": "code",
      "execution_count": 4,
      "metadata": {
        "application/vnd.databricks.v1+cell": {
          "cellMetadata": {
            "byteLimit": 2048000,
            "rowLimit": 10000
          },
          "inputWidgets": {},
          "nuid": "5c3a0524-75cd-4884-83eb-3c71fed4c253",
          "showTitle": false,
          "tableResultSettingsMap": {},
          "title": ""
        },
        "id": "p91CE-LOoFTm"
      },
      "outputs": [],
      "source": [
        "def strip_column_names(df):\n",
        "    cleaned_columns = []\n",
        "    for col_name in df.columns:\n",
        "        cleaned_columns.append(col_name.strip())\n",
        "    return df.toDF(*cleaned_columns)\n",
        "\n",
        "order_df = strip_column_names(order_df)\n",
        "customer_df = strip_column_names(customer_df)\n",
        "product_df = strip_column_names(product_df)"
      ]
    },
    {
      "cell_type": "markdown",
      "metadata": {
        "application/vnd.databricks.v1+cell": {
          "cellMetadata": {
            "byteLimit": 2048000,
            "rowLimit": 10000
          },
          "inputWidgets": {},
          "nuid": "ecbe71a1-20c7-452f-9abe-dca8afe3ea48",
          "showTitle": false,
          "tableResultSettingsMap": {},
          "title": ""
        },
        "id": "VQAFsN0ZoFTm"
      },
      "source": [
        "1. Ingest all 3 CSVs as Delta Tables"
      ]
    },
    {
      "cell_type": "code",
      "source": [
        "spark.sql(\"CREATE DATABASE IF NOT EXISTS ECommerce\")\n",
        "spark.sql(\"USE ECommerce\")"
      ],
      "metadata": {
        "colab": {
          "base_uri": "https://localhost:8080/"
        },
        "id": "lQzaLJwhomsP",
        "outputId": "f1888e5d-8b8d-43f0-c605-e77fba49afba"
      },
      "execution_count": 5,
      "outputs": [
        {
          "output_type": "execute_result",
          "data": {
            "text/plain": [
              "DataFrame[]"
            ]
          },
          "metadata": {},
          "execution_count": 5
        }
      ]
    },
    {
      "cell_type": "code",
      "source": [
        "order_df.write.format(\"delta\") \\\n",
        "              .mode(\"overwrite\") \\\n",
        "              .saveAsTable(\"ECommerce.orders\")\n",
        "\n",
        "customer_df.write.format(\"delta\") \\\n",
        "              .mode(\"overwrite\") \\\n",
        "              .saveAsTable(\"ECommerce.customers\")\n",
        "\n",
        "product_df.write.format(\"delta\") \\\n",
        "              .mode(\"overwrite\") \\\n",
        "              .saveAsTable(\"ECommerce.products\")"
      ],
      "metadata": {
        "id": "5Uvs-xo0qCRy"
      },
      "execution_count": null,
      "outputs": []
    },
    {
      "cell_type": "markdown",
      "metadata": {
        "application/vnd.databricks.v1+cell": {
          "cellMetadata": {
            "byteLimit": 2048000,
            "rowLimit": 10000
          },
          "inputWidgets": {},
          "nuid": "8a8dec06-d2e8-4ca8-8553-864dd95836f7",
          "showTitle": false,
          "tableResultSettingsMap": {},
          "title": ""
        },
        "id": "S_KYfCiLoFTm"
      },
      "source": [
        "2.  Write SQL to get the total revenue per Product."
      ]
    },
    {
      "cell_type": "code",
      "execution_count": 7,
      "metadata": {
        "application/vnd.databricks.v1+cell": {
          "cellMetadata": {
            "byteLimit": 2048000,
            "rowLimit": 10000
          },
          "inputWidgets": {},
          "nuid": "7445c0bd-1e96-407d-b97a-4b1ce028a30e",
          "showTitle": false,
          "tableResultSettingsMap": {},
          "title": ""
        },
        "id": "qAH7fKuqoFTm"
      },
      "outputs": [],
      "source": [
        "order_df.createOrReplaceTempView(\"orders\")\n",
        "customer_df.createOrReplaceTempView(\"customers\")\n",
        "product_df.createOrReplaceTempView(\"products\")"
      ]
    },
    {
      "cell_type": "code",
      "execution_count": 8,
      "metadata": {
        "application/vnd.databricks.v1+cell": {
          "cellMetadata": {
            "byteLimit": 2048000,
            "rowLimit": 10000
          },
          "inputWidgets": {},
          "nuid": "6f12668d-5cd6-44e6-aa8d-5b68db5922a1",
          "showTitle": false,
          "tableResultSettingsMap": {},
          "title": ""
        },
        "colab": {
          "base_uri": "https://localhost:8080/"
        },
        "id": "z-zBbxguoFTm",
        "outputId": "2b3d2461-23c3-4192-9f00-6789b960a78b"
      },
      "outputs": [
        {
          "output_type": "stream",
          "name": "stdout",
          "text": [
            "+---------+------------+\n",
            "|ProductID|TotalRevenue|\n",
            "+---------+------------+\n",
            "|    P1001|       75000|\n",
            "|    P1002|      150000|\n",
            "|    P1004|       30000|\n",
            "|    P1003|       30000|\n",
            "+---------+------------+\n",
            "\n"
          ]
        }
      ],
      "source": [
        "spark.sql(\"\"\"\n",
        "            SELECT\n",
        "                ProductID,\n",
        "                SUM(Quantity * Price) AS TotalRevenue\n",
        "            FROM orders\n",
        "            GROUP BY ProductID\n",
        "          \"\"\").show()"
      ]
    },
    {
      "cell_type": "markdown",
      "metadata": {
        "application/vnd.databricks.v1+cell": {
          "cellMetadata": {
            "byteLimit": 2048000,
            "rowLimit": 10000
          },
          "inputWidgets": {},
          "nuid": "a5c9c12d-fdef-448b-886c-6f13e6894f4a",
          "showTitle": false,
          "tableResultSettingsMap": {},
          "title": ""
        },
        "id": "wgJ10cffoFTn"
      },
      "source": [
        "3. Join Orders + Customers to find revenue by Region."
      ]
    },
    {
      "cell_type": "code",
      "execution_count": 9,
      "metadata": {
        "application/vnd.databricks.v1+cell": {
          "cellMetadata": {
            "byteLimit": 2048000,
            "rowLimit": 10000
          },
          "inputWidgets": {},
          "nuid": "bcb3d5a6-50f2-4746-b2e6-5b981ee92c24",
          "showTitle": false,
          "tableResultSettingsMap": {},
          "title": ""
        },
        "colab": {
          "base_uri": "https://localhost:8080/"
        },
        "id": "wE9rQzYroFTn",
        "outputId": "37009c26-fa7e-4d82-d13a-7c53ef79c13d"
      },
      "outputs": [
        {
          "output_type": "stream",
          "name": "stdout",
          "text": [
            "+-------+----------+---------+--------+-----+----------+----------+------------+------+-------------------+\n",
            "|OrderID|CustomerID|ProductID|Quantity|Price| OrderDate|    Status|CustomerName|Region|         SignupDate|\n",
            "+-------+----------+---------+--------+-----+----------+----------+------------+------+-------------------+\n",
            "|   3001|      C001|    P1001|       1|75000|2024-05-01|Delivered |        Amit| North|2023-11-12 00:00:00|\n",
            "|   3002|      C002|    P1002|       2|50000|2024-05-02| Returned |        Sara| South|2024-01-08 00:00:00|\n",
            "|   3003|      C003|    P1003|       1|30000|2024-05-03|Delivered |        John|  West|2023-06-20 00:00:00|\n",
            "|   3004|      C001|    P1002|       1|50000|2024-05-04|Delivered |        Amit| North|2023-11-12 00:00:00|\n",
            "|   3005|      C004|    P1004|       3|10000|2024-05-05|   Pending|       Priya|  East|2024-03-15 00:00:00|\n",
            "+-------+----------+---------+--------+-----+----------+----------+------------+------+-------------------+\n",
            "\n"
          ]
        }
      ],
      "source": [
        "from pyspark.sql.functions import col, sum\n",
        "order_df = order_df.join(customer_df, on=customer_df.CustomerID == order_df.CustomerID, how=\"inner\") \\\n",
        "                   .drop(customer_df.CustomerID)\n",
        "\n",
        "order_df.show()"
      ]
    },
    {
      "cell_type": "code",
      "execution_count": 10,
      "metadata": {
        "application/vnd.databricks.v1+cell": {
          "cellMetadata": {
            "byteLimit": 2048000,
            "rowLimit": 10000
          },
          "inputWidgets": {},
          "nuid": "db1caeb5-3624-47c8-a517-0b537efc724e",
          "showTitle": false,
          "tableResultSettingsMap": {},
          "title": ""
        },
        "colab": {
          "base_uri": "https://localhost:8080/"
        },
        "id": "kpMRoIWNoFTo",
        "outputId": "8bbde3bc-58da-4544-de5a-a32f5f13cd3e"
      },
      "outputs": [
        {
          "output_type": "stream",
          "name": "stdout",
          "text": [
            "+------+------------+\n",
            "|Region|TotalRevenue|\n",
            "+------+------------+\n",
            "| South|      100000|\n",
            "|  East|       30000|\n",
            "|  West|       30000|\n",
            "| North|      125000|\n",
            "+------+------------+\n",
            "\n"
          ]
        }
      ],
      "source": [
        "order_df.groupBy('Region') \\\n",
        "         .agg(sum(col('Price') * col('Quantity')).alias('TotalRevenue')) \\\n",
        "         .show()"
      ]
    },
    {
      "cell_type": "markdown",
      "metadata": {
        "application/vnd.databricks.v1+cell": {
          "cellMetadata": {
            "byteLimit": 2048000,
            "rowLimit": 10000
          },
          "inputWidgets": {},
          "nuid": "80107a45-f59e-44e2-95b1-673504dc8e87",
          "showTitle": false,
          "tableResultSettingsMap": {},
          "title": ""
        },
        "id": "IqW2W8FeoFTo"
      },
      "source": [
        "4. Update the Status of Pending orders to 'Cancelled'."
      ]
    },
    {
      "cell_type": "code",
      "execution_count": 11,
      "metadata": {
        "application/vnd.databricks.v1+cell": {
          "cellMetadata": {
            "byteLimit": 2048000,
            "rowLimit": 10000
          },
          "inputWidgets": {},
          "nuid": "7ec93ff8-ff7d-4640-882c-3b21504e9e4b",
          "showTitle": false,
          "tableResultSettingsMap": {},
          "title": ""
        },
        "colab": {
          "base_uri": "https://localhost:8080/"
        },
        "id": "mjRDH32aoFTo",
        "outputId": "0cdca879-fcd5-48d3-ef36-5ae0b3102fe6"
      },
      "outputs": [
        {
          "output_type": "stream",
          "name": "stdout",
          "text": [
            "+----------+-------+---------+----------+----------+\n",
            "|CustomerID|OrderID|ProductID| OrderDate|    Status|\n",
            "+----------+-------+---------+----------+----------+\n",
            "|      C001|   3001|    P1001|2024-05-01|Delivered |\n",
            "|      C002|   3002|    P1002|2024-05-02| Returned |\n",
            "|      C003|   3003|    P1003|2024-05-03|Delivered |\n",
            "|      C001|   3004|    P1002|2024-05-04|Delivered |\n",
            "|      C004|   3005|    P1004|2024-05-05| Cancelled|\n",
            "+----------+-------+---------+----------+----------+\n",
            "\n"
          ]
        }
      ],
      "source": [
        "from pyspark.sql.functions import when\n",
        "order_df = order_df.withColumn('Status',\n",
        "                               when(col('Status') == 'Pending', 'Cancelled')\n",
        "                               .otherwise(col('Status')))\n",
        "\n",
        "order_df.select(\n",
        "                    'CustomerID',\n",
        "                    'OrderID',\n",
        "                    'ProductID',\n",
        "                    'OrderDate',\n",
        "                    'Status'\n",
        ").show()"
      ]
    },
    {
      "cell_type": "markdown",
      "metadata": {
        "application/vnd.databricks.v1+cell": {
          "cellMetadata": {},
          "inputWidgets": {},
          "nuid": "e25fe18c-0dfd-4e8d-ab0b-3d1586018e18",
          "showTitle": false,
          "tableResultSettingsMap": {},
          "title": ""
        },
        "id": "eP6WLb4AoFTo"
      },
      "source": [
        "#### DLT Pipeline"
      ]
    },
    {
      "cell_type": "markdown",
      "metadata": {
        "application/vnd.databricks.v1+cell": {
          "cellMetadata": {},
          "inputWidgets": {},
          "nuid": "f8499c8a-ac17-4c32-80b2-38c201b8d73d",
          "showTitle": false,
          "tableResultSettingsMap": {},
          "title": ""
        },
        "id": "q2Cs87NHoFTo"
      },
      "source": [
        "6. Create raw → cleaned → aggregated tables: \\\n",
        " Clean: Remove rows with NULLs \\\n",
        " Aggregated: Total revenue per Category"
      ]
    },
    {
      "cell_type": "code",
      "source": [
        "import dlt\n",
        "from pyspark.sql.functions import col, sum as _sum\n",
        "\n",
        "# loading raw data\n",
        "@dlt.table(\n",
        "  comment=\"Raw orders\"\n",
        ")\n",
        "\n",
        "def raw_orders():\n",
        "    return spark.read.format(\"delta\").load(\"shared.default.orders\")\n",
        "\n",
        "# cleaning the data\n",
        "@dlt.table(\n",
        "  comment=\"Cleaned orders with no NULLs\"\n",
        ")\n",
        "def cleaned_orders():\n",
        "    return dlt.read(\"raw_orders\").na.drop()\n",
        "\n",
        "#total revenue per category\n",
        "@dlt.table(\n",
        "  comment=\"Total revenue per product category\"\n",
        ")\n",
        "def revenue_per_category():\n",
        "    orders = dlt.read(\"cleaned_orders\")\n",
        "\n",
        "    return orders.groupBy(\"Category\") \\\n",
        "                 .agg(_sum(col(\"Quantity\") * col(\"Price\")).alias(\"TotalRevenue\"))\n"
      ],
      "metadata": {
        "id": "VqeBYrdVpEYu"
      },
      "execution_count": null,
      "outputs": []
    },
    {
      "cell_type": "markdown",
      "metadata": {
        "application/vnd.databricks.v1+cell": {
          "cellMetadata": {},
          "inputWidgets": {},
          "nuid": "94ef1cfe-ee62-43f5-a076-0495c7914041",
          "showTitle": false,
          "tableResultSettingsMap": {},
          "title": ""
        },
        "id": "0DFUB-aOoFTo"
      },
      "source": [
        "#### Time Travel"
      ]
    },
    {
      "cell_type": "markdown",
      "metadata": {
        "application/vnd.databricks.v1+cell": {
          "cellMetadata": {},
          "inputWidgets": {},
          "nuid": "8f08bfd9-1804-4cfb-8994-adbc6f6804d1",
          "showTitle": false,
          "tableResultSettingsMap": {},
          "title": ""
        },
        "id": "ne2C_mgRoFTp"
      },
      "source": [
        "7. View data before the Status update.\n"
      ]
    },
    {
      "cell_type": "code",
      "execution_count": null,
      "metadata": {
        "application/vnd.databricks.v1+cell": {
          "cellMetadata": {
            "byteLimit": 2048000,
            "rowLimit": 10000
          },
          "inputWidgets": {},
          "nuid": "d0ee3984-6545-405a-8b29-e81fdd75ba37",
          "showTitle": false,
          "tableResultSettingsMap": {},
          "title": ""
        },
        "id": "YI4Q0AoDoFTp",
        "outputId": "b33a38e9-6708-4f9d-e6e6-710a0ec89997"
      },
      "outputs": [
        {
          "output_type": "stream",
          "name": "stdout",
          "text": [
            "+-------+----------+---------+--------+-----+----------+----------+\n|OrderID|CustomerID|ProductID|Quantity|Price| OrderDate|    Status|\n+-------+----------+---------+--------+-----+----------+----------+\n|   3001|      C001|    P1001|       1|75000|2024-05-01|Delivered |\n|   3002|      C002|    P1002|       2|50000|2024-05-02| Returned |\n|   3003|      C003|    P1003|       1|30000|2024-05-03|Delivered |\n|   3004|      C001|    P1002|       1|50000|2024-05-04|Delivered |\n|   3005|      C004|    P1004|       3|10000|2024-05-05|   Pending|\n+-------+----------+---------+--------+-----+----------+----------+\n\n"
          ]
        }
      ],
      "source": [
        "previous_version_df = spark.read.format(\"delta\") \\\n",
        "    .option(\"versionAsOf\", 0) \\\n",
        "    .table(\"shared.default.orders\")\n",
        "\n",
        "previous_version_df.show()"
      ]
    },
    {
      "cell_type": "code",
      "source": [
        "from delta.tables import DeltaTable\n",
        "\n",
        "delta_table_path = \"/mnt/delta/shared/default/orders\"\n",
        "\n",
        "delta_table = DeltaTable.forPath(spark, delta_table_path)\n",
        "\n",
        "delta_table.restoreToVersion(0)"
      ],
      "metadata": {
        "id": "qGsjOupGpQIr"
      },
      "execution_count": null,
      "outputs": []
    },
    {
      "cell_type": "markdown",
      "metadata": {
        "application/vnd.databricks.v1+cell": {
          "cellMetadata": {},
          "inputWidgets": {},
          "nuid": "5ab76445-cc8d-4e55-bee5-c33d3a1ca76f",
          "showTitle": false,
          "tableResultSettingsMap": {},
          "title": ""
        },
        "id": "5u7SjPfuoFTp"
      },
      "source": [
        "#### Vacuum + Retention\n"
      ]
    },
    {
      "cell_type": "markdown",
      "metadata": {
        "application/vnd.databricks.v1+cell": {
          "cellMetadata": {},
          "inputWidgets": {},
          "nuid": "63156498-0225-4a5d-b8bf-cc2798dacf9f",
          "showTitle": false,
          "tableResultSettingsMap": {},
          "title": ""
        },
        "id": "XrK26K4loFTp"
      },
      "source": [
        "9. Run VACUUM after changing default retention."
      ]
    },
    {
      "cell_type": "code",
      "source": [
        "# Disable retention check\n",
        "spark.sql(\"SET spark.databricks.delta.retentionDurationCheck.enabled = false\")\n",
        "\n",
        "# Run VACUUM with 1 hour retention (or any value you want)\n",
        "spark.sql(\"VACUUM shared.default.orders RETAIN 1 HOURS\")\n",
        "\n",
        "# Re-enable retention check\n",
        "spark.sql(\"SET spark.databricks.delta.retentionDurationCheck.enabled = true\")"
      ],
      "metadata": {
        "id": "kedyvzOJpteL"
      },
      "execution_count": null,
      "outputs": []
    },
    {
      "cell_type": "markdown",
      "metadata": {
        "application/vnd.databricks.v1+cell": {
          "cellMetadata": {},
          "inputWidgets": {},
          "nuid": "2b3f472a-814f-45c6-89ca-7272635d15ba",
          "showTitle": false,
          "tableResultSettingsMap": {},
          "title": ""
        },
        "id": "kxJbUmm3oFTq"
      },
      "source": [
        "Expectations"
      ]
    },
    {
      "cell_type": "markdown",
      "metadata": {
        "application/vnd.databricks.v1+cell": {
          "cellMetadata": {},
          "inputWidgets": {},
          "nuid": "79bee33a-8161-4674-a3fd-72b3cf11eea6",
          "showTitle": false,
          "tableResultSettingsMap": {},
          "title": ""
        },
        "id": "WhC6GmskoFTq"
      },
      "source": [
        "10.\n",
        "Quantity > 0 ,\n",
        "price > O\n",
        "orderDate is not null"
      ]
    },
    {
      "cell_type": "code",
      "execution_count": null,
      "metadata": {
        "application/vnd.databricks.v1+cell": {
          "cellMetadata": {
            "byteLimit": 2048000,
            "rowLimit": 10000
          },
          "inputWidgets": {},
          "nuid": "22ea291e-d0de-4074-80a2-e639812aa007",
          "showTitle": false,
          "tableResultSettingsMap": {},
          "title": ""
        },
        "id": "WQDL_AQnoFTq",
        "outputId": "8f52d256-1181-458b-89b6-24ec361a153f"
      },
      "outputs": [
        {
          "output_type": "stream",
          "name": "stdout",
          "text": [
            "+-------+----------+---------+--------+-----+----------+----------+------------+------+-------------------+\n|OrderID|CustomerID|ProductID|Quantity|Price| OrderDate|    Status|CustomerName|Region|         SignupDate|\n+-------+----------+---------+--------+-----+----------+----------+------------+------+-------------------+\n|   3001|      C001|    P1001|       1|75000|2024-05-01|Delivered |        Amit| North|2023-11-12 00:00:00|\n|   3002|      C002|    P1002|       2|50000|2024-05-02| Returned |        Sara| South|2024-01-08 00:00:00|\n|   3003|      C003|    P1003|       1|30000|2024-05-03|Delivered |        John|  West|2023-06-20 00:00:00|\n|   3004|      C001|    P1002|       1|50000|2024-05-04|Delivered |        Amit| North|2023-11-12 00:00:00|\n|   3005|      C004|    P1004|       3|10000|2024-05-05| Cancelled|       Priya|  East|2024-03-15 00:00:00|\n+-------+----------+---------+--------+-----+----------+----------+------------+------+-------------------+\n\n"
          ]
        }
      ],
      "source": [
        "\n",
        "order_df.filter(\n",
        "                (col('Quantity') > 0) &\n",
        "                (col('Price') > 0) &\n",
        "                (col('OrderDate').isNotNull())\n",
        ").show()"
      ]
    },
    {
      "cell_type": "markdown",
      "metadata": {
        "application/vnd.databricks.v1+cell": {
          "cellMetadata": {},
          "inputWidgets": {},
          "nuid": "7e4fb2cb-bec7-44c9-b57d-db22339bf81a",
          "showTitle": false,
          "tableResultSettingsMap": {},
          "title": ""
        },
        "id": "D4_-HUikoFTq"
      },
      "source": [
        "#### Bonus"
      ]
    },
    {
      "cell_type": "markdown",
      "metadata": {
        "application/vnd.databricks.v1+cell": {
          "cellMetadata": {},
          "inputWidgets": {},
          "nuid": "ff71e6ab-aef1-4c76-8073-af7423c69020",
          "showTitle": false,
          "tableResultSettingsMap": {},
          "title": ""
        },
        "id": "6tCi_z_1oFTq"
      },
      "source": [
        "11. Use when-otherwise to create a new column: \\\n",
        "Order Type == 'Return'\n",
        "if Status = 'Returned'"
      ]
    },
    {
      "cell_type": "code",
      "execution_count": null,
      "metadata": {
        "application/vnd.databricks.v1+cell": {
          "cellMetadata": {
            "byteLimit": 2048000,
            "rowLimit": 10000
          },
          "inputWidgets": {},
          "nuid": "1426f83a-197e-4a99-b0ce-fb62480681dd",
          "showTitle": false,
          "tableResultSettingsMap": {},
          "title": ""
        },
        "id": "3QnX7vEDoFTq",
        "outputId": "a1276fc7-936c-4ca7-b012-286b12d95870"
      },
      "outputs": [
        {
          "output_type": "stream",
          "name": "stdout",
          "text": [
            "+-------+----------+---------+--------+-----+----------+----------+----------+\n|OrderID|CustomerID|ProductID|Quantity|Price| OrderDate|    Status| OrderType|\n+-------+----------+---------+--------+-----+----------+----------+----------+\n|   3001|      C001|    P1001|       1|75000|2024-05-01|Delivered |Delivered |\n|   3002|      C002|    P1002|       2|50000|2024-05-02| Returned | Returned |\n|   3003|      C003|    P1003|       1|30000|2024-05-03|Delivered |Delivered |\n|   3004|      C001|    P1002|       1|50000|2024-05-04|Delivered |Delivered |\n|   3005|      C004|    P1004|       3|10000|2024-05-05| Cancelled| Cancelled|\n+-------+----------+---------+--------+-----+----------+----------+----------+\n\n"
          ]
        }
      ],
      "source": [
        "order_df = order_df.withColumn('OrderType',\n",
        "                                when(col('Status') == 'Returned', 'Return')\n",
        "                                .otherwise(col('Status'))\n",
        ")\n",
        "\n",
        "order_df.select(\n",
        "                    'OrderID',\n",
        "                    'CustomerID',\n",
        "                    'ProductID',\n",
        "                    'Quantity',\n",
        "                    'Price',\n",
        "                    'OrderDate',\n",
        "                    'Status',\n",
        "                    'OrderType'\n",
        ").show()"
      ]
    },
    {
      "cell_type": "markdown",
      "metadata": {
        "application/vnd.databricks.v1+cell": {
          "cellMetadata": {
            "byteLimit": 2048000,
            "rowLimit": 10000
          },
          "inputWidgets": {},
          "nuid": "d7a19f58-71da-43b2-a666-14179ce115de",
          "showTitle": false,
          "tableResultSettingsMap": {},
          "title": ""
        },
        "id": "3D-DGpSOoFTq"
      },
      "source": []
    }
  ],
  "metadata": {
    "application/vnd.databricks.v1+notebook": {
      "computePreferences": null,
      "dashboards": [],
      "environmentMetadata": {
        "base_environment": "",
        "environment_version": "2"
      },
      "inputWidgetPreferences": null,
      "language": "python",
      "notebookMetadata": {
        "mostRecentlyExecutedCommandWithImplicitDF": {
          "commandId": 5817872511573100,
          "dataframes": [
            "_sqldf"
          ]
        },
        "pythonIndentUnit": 4
      },
      "notebookName": "Assignment_1",
      "widgets": {}
    },
    "language_info": {
      "name": "python"
    },
    "colab": {
      "provenance": []
    },
    "kernelspec": {
      "name": "python3",
      "display_name": "Python 3"
    }
  },
  "nbformat": 4,
  "nbformat_minor": 0
}