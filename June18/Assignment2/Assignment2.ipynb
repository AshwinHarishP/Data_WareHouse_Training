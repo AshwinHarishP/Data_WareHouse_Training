{
  "nbformat": 4,
  "nbformat_minor": 0,
  "metadata": {
    "colab": {
      "provenance": []
    },
    "kernelspec": {
      "name": "python3",
      "display_name": "Python 3"
    },
    "language_info": {
      "name": "python"
    }
  },
  "cells": [
    {
      "cell_type": "markdown",
      "source": [
        "Creating spark session"
      ],
      "metadata": {
        "id": "AUDHnDs9KBE9"
      }
    },
    {
      "cell_type": "code",
      "execution_count": 100,
      "metadata": {
        "colab": {
          "base_uri": "https://localhost:8080/",
          "height": 219
        },
        "id": "L-xbVembJaop",
        "outputId": "0988cb06-c264-4ec9-8c23-9d8300153abe"
      },
      "outputs": [
        {
          "output_type": "execute_result",
          "data": {
            "text/plain": [
              "<pyspark.sql.session.SparkSession at 0x7e75db3e79d0>"
            ],
            "text/html": [
              "\n",
              "            <div>\n",
              "                <p><b>SparkSession - in-memory</b></p>\n",
              "                \n",
              "        <div>\n",
              "            <p><b>SparkContext</b></p>\n",
              "\n",
              "            <p><a href=\"http://a776dfa16b80:4040\">Spark UI</a></p>\n",
              "\n",
              "            <dl>\n",
              "              <dt>Version</dt>\n",
              "                <dd><code>v3.5.1</code></dd>\n",
              "              <dt>Master</dt>\n",
              "                <dd><code>local[*]</code></dd>\n",
              "              <dt>AppName</dt>\n",
              "                <dd><code>Retail Transactions</code></dd>\n",
              "            </dl>\n",
              "        </div>\n",
              "        \n",
              "            </div>\n",
              "        "
            ]
          },
          "metadata": {},
          "execution_count": 100
        }
      ],
      "source": [
        "from pyspark.sql import SparkSession\n",
        "\n",
        "spark = SparkSession.builder \\\n",
        "                    .appName(\"Retail Transactions\") \\\n",
        "                    .getOrCreate()\n",
        "spark\n"
      ]
    },
    {
      "cell_type": "markdown",
      "source": [
        "#### Basics\n"
      ],
      "metadata": {
        "id": "jEEQ7SwVKFBk"
      }
    },
    {
      "cell_type": "markdown",
      "source": [
        " 1. Load retail_data.csv into a PySpark DataFrame and display schema."
      ],
      "metadata": {
        "id": "NW6VgB51LHRC"
      }
    },
    {
      "cell_type": "code",
      "source": [
        "from google.colab import drive\n",
        "\n",
        "drive.mount('/content/drive')\n",
        "\n",
        "retail_df = spark.read.format('csv') \\\n",
        "                      .option(\"header\", True) \\\n",
        "                      .load('/content/drive/MyDrive/Assignment/Retail_Transactions.csv')\n",
        "\n",
        "retail_df.printSchema()"
      ],
      "metadata": {
        "colab": {
          "base_uri": "https://localhost:8080/"
        },
        "id": "71xnR0WaKEtQ",
        "outputId": "0c0dd8aa-d268-4340-a08e-8b19dbb9bb1d"
      },
      "execution_count": 101,
      "outputs": [
        {
          "output_type": "stream",
          "name": "stdout",
          "text": [
            "Drive already mounted at /content/drive; to attempt to forcibly remount, call drive.mount(\"/content/drive\", force_remount=True).\n",
            "root\n",
            " |-- TransactionID: string (nullable = true)\n",
            " |-- Customer: string (nullable = true)\n",
            " |-- City: string (nullable = true)\n",
            " |-- Product: string (nullable = true)\n",
            " |-- Category: string (nullable = true)\n",
            " |-- Quantity: string (nullable = true)\n",
            " |-- UnitPrice: string (nullable = true)\n",
            " |-- TotalPrice: string (nullable = true)\n",
            " |-- TransactionDa: string (nullable = true)\n",
            " |-- PaymentMode: string (nullable = true)\n",
            "\n"
          ]
        }
      ]
    },
    {
      "cell_type": "markdown",
      "source": [
        " 2. Infer schema as False — then manually cast columns."
      ],
      "metadata": {
        "id": "ksUZKl_2LKXQ"
      }
    },
    {
      "cell_type": "code",
      "source": [
        "from pyspark.sql.types import StringType, IntegerType, FloatType, StructType, StructField, DateType\n",
        "from pyspark.sql.functions import trim, col\n",
        "\n",
        "custom_schema = StructType([\n",
        "    StructField(\"TransactionID\", StringType(), True),\n",
        "    StructField(\"Customer\", StringType(), True),\n",
        "    StructField(\"City\", StringType(), True),\n",
        "    StructField(\"Product\", StringType(), True),\n",
        "    StructField(\"Category\", StringType(), True),\n",
        "    StructField(\"Quantity\", IntegerType(), True),\n",
        "    StructField(\"UnitPrice\", FloatType(), True),\n",
        "    StructField(\"TotalPrice\", FloatType(), True),\n",
        "    StructField(\"TransactionDa\", DateType(), True),\n",
        "    StructField(\"PaymentMode\", StringType(), True)\n",
        "])\n",
        "\n",
        "retail_custom_df = spark.read.format('csv') \\\n",
        "                             .option(\"header\", True) \\\n",
        "                             .schema(custom_schema) \\\n",
        "                             .load('/content/drive/MyDrive/Assignment/Retail_Transactions.csv')\n",
        "\n",
        "retail_custom_df.printSchema()"
      ],
      "metadata": {
        "colab": {
          "base_uri": "https://localhost:8080/"
        },
        "id": "ey8du8pBLMT0",
        "outputId": "58a2f5ea-c894-4bd4-b46d-61126f61b616"
      },
      "execution_count": 102,
      "outputs": [
        {
          "output_type": "stream",
          "name": "stdout",
          "text": [
            "root\n",
            " |-- TransactionID: string (nullable = true)\n",
            " |-- Customer: string (nullable = true)\n",
            " |-- City: string (nullable = true)\n",
            " |-- Product: string (nullable = true)\n",
            " |-- Category: string (nullable = true)\n",
            " |-- Quantity: integer (nullable = true)\n",
            " |-- UnitPrice: float (nullable = true)\n",
            " |-- TotalPrice: float (nullable = true)\n",
            " |-- TransactionDa: date (nullable = true)\n",
            " |-- PaymentMode: string (nullable = true)\n",
            "\n"
          ]
        }
      ]
    },
    {
      "cell_type": "markdown",
      "source": [
        "Trimming extra space in column"
      ],
      "metadata": {
        "id": "c2Iq_khTQlV8"
      }
    },
    {
      "cell_type": "code",
      "source": [
        "for col_name in retail_custom_df.columns:\n",
        "    retail_custom_df = retail_custom_df.withColumnRenamed(col_name, col_name.strip())"
      ],
      "metadata": {
        "id": "1AtQFcRNQp5R"
      },
      "execution_count": 103,
      "outputs": []
    },
    {
      "cell_type": "markdown",
      "source": [
        "####  Data Exploration & Filtering\n"
      ],
      "metadata": {
        "id": "CHN1so1DOFGh"
      }
    },
    {
      "cell_type": "markdown",
      "source": [
        "3. Filter transactions where\n",
        "TotalPrice > 40000 ."
      ],
      "metadata": {
        "id": "rC6D2n5EOHDh"
      }
    },
    {
      "cell_type": "code",
      "source": [
        "retail_custom_df.filter(col('TotalPrice') > 40000) \\\n",
        "                .select(\n",
        "                          'TransactionID',\n",
        "                          'TotalPrice',\n",
        "                          'TransactionDa',\n",
        "                          'PaymentMode'\n",
        "                ).show()"
      ],
      "metadata": {
        "colab": {
          "base_uri": "https://localhost:8080/"
        },
        "id": "PBwwSnpXOIcZ",
        "outputId": "8590c0fd-d9d4-4e99-e24d-0bfc4a6c0df5"
      },
      "execution_count": 104,
      "outputs": [
        {
          "output_type": "stream",
          "name": "stdout",
          "text": [
            "+-------------+----------+-------------+-----------+\n",
            "|TransactionID|TotalPrice|TransactionDa|PaymentMode|\n",
            "+-------------+----------+-------------+-----------+\n",
            "|        T1001|   70000.0|   2024-01-15|      Card |\n",
            "|        T1002|   60000.0|   2024-01-20|       UPI |\n",
            "|        T1005|   50000.0|   2024-02-15|      Card |\n",
            "+-------------+----------+-------------+-----------+\n",
            "\n"
          ]
        }
      ]
    },
    {
      "cell_type": "markdown",
      "source": [
        "4.  Get unique cities from the dataset"
      ],
      "metadata": {
        "id": "thpuS2gRRLzT"
      }
    },
    {
      "cell_type": "code",
      "source": [
        "retail_custom_df.select('City').distinct().show()"
      ],
      "metadata": {
        "colab": {
          "base_uri": "https://localhost:8080/"
        },
        "id": "gLMDqlg2RNvo",
        "outputId": "704669cf-162e-48c6-c849-e612c44d07b7"
      },
      "execution_count": 105,
      "outputs": [
        {
          "output_type": "stream",
          "name": "stdout",
          "text": [
            "+---------+\n",
            "|     City|\n",
            "+---------+\n",
            "|Bangalore|\n",
            "|   Mumbai|\n",
            "|    Delhi|\n",
            "|Hyderabad|\n",
            "+---------+\n",
            "\n"
          ]
        }
      ]
    },
    {
      "cell_type": "markdown",
      "source": [
        "5. Find all transactions from \"Delhi\" using .filter() and .where()"
      ],
      "metadata": {
        "id": "cdTGOImRRWZl"
      }
    },
    {
      "cell_type": "code",
      "source": [
        "retail_custom_df.filter(col(\"City\") == \"Delhi\") \\\n",
        "         .select(\n",
        "                  'TransactionID',\n",
        "                  'Category',\n",
        "                  'Product',\n",
        "                  'Quantity',\n",
        "                  'UnitPrice',\n",
        "                  'TotalPrice',\n",
        "                  'TransactionDa',\n",
        "                  'PaymentMode'\n",
        "         ).show()"
      ],
      "metadata": {
        "colab": {
          "base_uri": "https://localhost:8080/"
        },
        "id": "LKueD06GRY9N",
        "outputId": "8caa7eb8-c39d-4997-a610-5785edfd7dd4"
      },
      "execution_count": 106,
      "outputs": [
        {
          "output_type": "stream",
          "name": "stdout",
          "text": [
            "+-------------+-----------+-------+--------+---------+----------+-------------+-----------+\n",
            "|TransactionID|   Category|Product|Quantity|UnitPrice|TotalPrice|TransactionDa|PaymentMode|\n",
            "+-------------+-----------+-------+--------+---------+----------+-------------+-----------+\n",
            "|        T1004|  Furniture|  Chair|       4|   5000.0|   20000.0|   2024-02-12|      Card |\n",
            "|        T1006|Electronics|  Mouse|       3|   1000.0|    3000.0|   2024-02-18|       Cash|\n",
            "+-------------+-----------+-------+--------+---------+----------+-------------+-----------+\n",
            "\n"
          ]
        }
      ]
    },
    {
      "cell_type": "code",
      "source": [
        "retail_custom_df.where(col(\"City\") == \"Delhi\") \\\n",
        "         .select(\n",
        "                  'TransactionID',\n",
        "                  'Category',\n",
        "                  'Product',\n",
        "                  'Quantity',\n",
        "                  'UnitPrice',\n",
        "                  'TotalPrice',\n",
        "                  'TransactionDa',\n",
        "                  'PaymentMode'\n",
        "         ).show()"
      ],
      "metadata": {
        "colab": {
          "base_uri": "https://localhost:8080/"
        },
        "id": "tyJuNluPReKG",
        "outputId": "a78870f0-8166-4d35-97ad-79d04c115b7d"
      },
      "execution_count": 107,
      "outputs": [
        {
          "output_type": "stream",
          "name": "stdout",
          "text": [
            "+-------------+-----------+-------+--------+---------+----------+-------------+-----------+\n",
            "|TransactionID|   Category|Product|Quantity|UnitPrice|TotalPrice|TransactionDa|PaymentMode|\n",
            "+-------------+-----------+-------+--------+---------+----------+-------------+-----------+\n",
            "|        T1004|  Furniture|  Chair|       4|   5000.0|   20000.0|   2024-02-12|      Card |\n",
            "|        T1006|Electronics|  Mouse|       3|   1000.0|    3000.0|   2024-02-18|       Cash|\n",
            "+-------------+-----------+-------+--------+---------+----------+-------------+-----------+\n",
            "\n"
          ]
        }
      ]
    },
    {
      "cell_type": "markdown",
      "source": [
        "####  Data Manipulation"
      ],
      "metadata": {
        "id": "Rr3Uv0B6R6st"
      }
    },
    {
      "cell_type": "markdown",
      "source": [
        "6.\n",
        "Add a column DiscountedPrice\n",
        "TotalPrice\n",
        "10%."
      ],
      "metadata": {
        "id": "i6XDSE2qR_IL"
      }
    },
    {
      "cell_type": "code",
      "source": [
        "retail_custom_df = retail_custom_df.withColumn('DiscountAmount', col('TotalPrice') * 0.1)\n",
        "\n",
        "retail_custom_df.select(\n",
        "                          'TransactionID',\n",
        "                          'Product',\n",
        "                          'Quantity',\n",
        "                          'UnitPrice',\n",
        "                          'TotalPrice',\n",
        "                          'DiscountAmount',\n",
        "                          'TransactionDa',\n",
        "                          'PaymentMode'\n",
        ").show()"
      ],
      "metadata": {
        "colab": {
          "base_uri": "https://localhost:8080/"
        },
        "id": "DhrincWSR_9w",
        "outputId": "7d2bb7fd-018a-4675-b884-e21d9f034081"
      },
      "execution_count": 108,
      "outputs": [
        {
          "output_type": "stream",
          "name": "stdout",
          "text": [
            "+-------------+-------+--------+---------+----------+--------------+-------------+------------+\n",
            "|TransactionID|Product|Quantity|UnitPrice|TotalPrice|DiscountAmount|TransactionDa| PaymentMode|\n",
            "+-------------+-------+--------+---------+----------+--------------+-------------+------------+\n",
            "|        T1001| Laptop|       1|  70000.0|   70000.0|        7000.0|   2024-01-15|       Card |\n",
            "|        T1002| Tablet|       2|  30000.0|   60000.0|        6000.0|   2024-01-20|        UPI |\n",
            "|        T1003|   Desk|       1|  15000.0|   15000.0|        1500.0|   2024-02-10|Net Banking |\n",
            "|        T1004|  Chair|       4|   5000.0|   20000.0|        2000.0|   2024-02-12|       Card |\n",
            "|        T1005|  Phone|       1|  50000.0|   50000.0|        5000.0|   2024-02-15|       Card |\n",
            "|        T1006|  Mouse|       3|   1000.0|    3000.0|         300.0|   2024-02-18|        Cash|\n",
            "+-------------+-------+--------+---------+----------+--------------+-------------+------------+\n",
            "\n"
          ]
        }
      ]
    },
    {
      "cell_type": "markdown",
      "source": [
        "7.Rename TransactionDate to TxnDate ."
      ],
      "metadata": {
        "id": "p_4hHcqrTrrh"
      }
    },
    {
      "cell_type": "code",
      "source": [
        "retail_custom_df = retail_custom_df.withColumnRenamed(\"TransactionDa\", \"TxnDate\")\n",
        "retail_custom_df.printSchema()"
      ],
      "metadata": {
        "colab": {
          "base_uri": "https://localhost:8080/"
        },
        "id": "_sCgYbpUTssm",
        "outputId": "9d52035c-98af-424d-87c8-cb8fd6a59d39"
      },
      "execution_count": 109,
      "outputs": [
        {
          "output_type": "stream",
          "name": "stdout",
          "text": [
            "root\n",
            " |-- TransactionID: string (nullable = true)\n",
            " |-- Customer: string (nullable = true)\n",
            " |-- City: string (nullable = true)\n",
            " |-- Product: string (nullable = true)\n",
            " |-- Category: string (nullable = true)\n",
            " |-- Quantity: integer (nullable = true)\n",
            " |-- UnitPrice: float (nullable = true)\n",
            " |-- TotalPrice: float (nullable = true)\n",
            " |-- TxnDate: date (nullable = true)\n",
            " |-- PaymentMode: string (nullable = true)\n",
            " |-- DiscountAmount: double (nullable = true)\n",
            "\n"
          ]
        }
      ]
    },
    {
      "cell_type": "markdown",
      "source": [
        "8. Drop the column UnitPrice ."
      ],
      "metadata": {
        "id": "7S3FOW4ET0Aj"
      }
    },
    {
      "cell_type": "code",
      "source": [
        "retail_custom_df.drop('UnitPrice').printSchema()"
      ],
      "metadata": {
        "colab": {
          "base_uri": "https://localhost:8080/"
        },
        "id": "arIpWJiATzKY",
        "outputId": "d5e54698-35f0-4b0d-fb8a-ef7e082cf3e9"
      },
      "execution_count": 110,
      "outputs": [
        {
          "output_type": "stream",
          "name": "stdout",
          "text": [
            "root\n",
            " |-- TransactionID: string (nullable = true)\n",
            " |-- Customer: string (nullable = true)\n",
            " |-- City: string (nullable = true)\n",
            " |-- Product: string (nullable = true)\n",
            " |-- Category: string (nullable = true)\n",
            " |-- Quantity: integer (nullable = true)\n",
            " |-- TotalPrice: float (nullable = true)\n",
            " |-- TxnDate: date (nullable = true)\n",
            " |-- PaymentMode: string (nullable = true)\n",
            " |-- DiscountAmount: double (nullable = true)\n",
            "\n"
          ]
        }
      ]
    },
    {
      "cell_type": "markdown",
      "source": [
        "#### Aggregations"
      ],
      "metadata": {
        "id": "G1UrziazT5Pd"
      }
    },
    {
      "cell_type": "markdown",
      "source": [
        "9. Get total sales by city"
      ],
      "metadata": {
        "id": "7kfgi-7tT6Hs"
      }
    },
    {
      "cell_type": "code",
      "source": [
        "from pyspark.sql.functions import sum\n",
        "retail_custom_df.groupBy('City') \\\n",
        "                .agg(sum('TotalPrice').alias('TotalSales')) \\\n",
        "                .sort('TotalSales', ascending=False) \\\n",
        "                .show()"
      ],
      "metadata": {
        "colab": {
          "base_uri": "https://localhost:8080/"
        },
        "id": "c67Ok67sT0rx",
        "outputId": "510b6911-97b7-42e4-cd7a-16871c4b1224"
      },
      "execution_count": 111,
      "outputs": [
        {
          "output_type": "stream",
          "name": "stdout",
          "text": [
            "+---------+----------+\n",
            "|     City|TotalSales|\n",
            "+---------+----------+\n",
            "|   Mumbai|  120000.0|\n",
            "|Bangalore|   60000.0|\n",
            "|    Delhi|   23000.0|\n",
            "|Hyderabad|   15000.0|\n",
            "+---------+----------+\n",
            "\n"
          ]
        }
      ]
    },
    {
      "cell_type": "markdown",
      "source": [
        "10. Get average unit price by category."
      ],
      "metadata": {
        "id": "NiiZgysWUZEV"
      }
    },
    {
      "cell_type": "code",
      "source": [
        "from pyspark.sql.functions import avg\n",
        "retail_custom_df.groupBy('Category') \\\n",
        "                .agg(avg('UnitPrice')) \\\n",
        "                .show()"
      ],
      "metadata": {
        "colab": {
          "base_uri": "https://localhost:8080/"
        },
        "id": "2BBjf9BSUX4C",
        "outputId": "fb27066c-356c-4fab-9050-8e7e0759eeac"
      },
      "execution_count": 112,
      "outputs": [
        {
          "output_type": "stream",
          "name": "stdout",
          "text": [
            "+-----------+--------------+\n",
            "|   Category|avg(UnitPrice)|\n",
            "+-----------+--------------+\n",
            "|Electronics|       37750.0|\n",
            "|  Furniture|       10000.0|\n",
            "+-----------+--------------+\n",
            "\n"
          ]
        }
      ]
    },
    {
      "cell_type": "markdown",
      "source": [
        "11. Count of transactions grouped by PaymentMode.\n"
      ],
      "metadata": {
        "id": "5MvojitCUvCR"
      }
    },
    {
      "cell_type": "code",
      "source": [
        "from pyspark.sql.functions import count\n",
        "retail_custom_df.groupBy('PaymentMode') \\\n",
        "                .count() \\\n",
        "                .withColumnRenamed('count', 'TransactionCount') \\\n",
        "                .sort('TransactionCount', ascending=False) \\\n",
        "                .show()\n"
      ],
      "metadata": {
        "colab": {
          "base_uri": "https://localhost:8080/"
        },
        "id": "Ph-RtqoFUwMH",
        "outputId": "ff32db79-eaa2-4298-fc0a-0e7c56490836"
      },
      "execution_count": 113,
      "outputs": [
        {
          "output_type": "stream",
          "name": "stdout",
          "text": [
            "+------------+----------------+\n",
            "| PaymentMode|TransactionCount|\n",
            "+------------+----------------+\n",
            "|       Card |               3|\n",
            "|Net Banking |               1|\n",
            "|        Cash|               1|\n",
            "|        UPI |               1|\n",
            "+------------+----------------+\n",
            "\n"
          ]
        }
      ]
    },
    {
      "cell_type": "markdown",
      "source": [
        "####  Window Functions\n"
      ],
      "metadata": {
        "id": "dzaLKgzfWALB"
      }
    },
    {
      "cell_type": "markdown",
      "source": [
        "12. Use a window partitioned by City to rank transactions by\n"
      ],
      "metadata": {
        "id": "8vkqeTieWDeT"
      }
    },
    {
      "cell_type": "code",
      "source": [
        "from pyspark.sql.window import Window\n",
        "from pyspark.sql.functions import row_number\n",
        "\n",
        "window_df = Window.partitionBy('City')\n",
        "\n",
        "retail_custom_df.withColumn('Rank', row_number().over(window_df.orderBy('TxnDate'))) \\\n",
        "                .select(\n",
        "                          'TransactionID',\n",
        "                          'City',\n",
        "                          'Rank',\n",
        "                          'TxnDate'\n",
        "                ).show()"
      ],
      "metadata": {
        "colab": {
          "base_uri": "https://localhost:8080/"
        },
        "id": "_m2RVoTSWBcy",
        "outputId": "09b0c6ea-190f-4fd0-a523-91001d806bae"
      },
      "execution_count": 114,
      "outputs": [
        {
          "output_type": "stream",
          "name": "stdout",
          "text": [
            "+-------------+---------+----+----------+\n",
            "|TransactionID|     City|Rank|   TxnDate|\n",
            "+-------------+---------+----+----------+\n",
            "|        T1002|Bangalore|   1|2024-01-20|\n",
            "|        T1004|    Delhi|   1|2024-02-12|\n",
            "|        T1006|    Delhi|   2|2024-02-18|\n",
            "|        T1003|Hyderabad|   1|2024-02-10|\n",
            "|        T1001|   Mumbai|   1|2024-01-15|\n",
            "|        T1005|   Mumbai|   2|2024-02-15|\n",
            "+-------------+---------+----+----------+\n",
            "\n"
          ]
        }
      ]
    },
    {
      "cell_type": "markdown",
      "source": [
        "13. Use lag function to get previous transaction amount per city"
      ],
      "metadata": {
        "id": "t7FqFkzuXIvX"
      }
    },
    {
      "cell_type": "code",
      "source": [
        "from pyspark.sql.functions import lag\n",
        "\n",
        "window_df = Window.partitionBy('City').orderBy('TxnDate')\n",
        "\n",
        "retail_custom_df.withColumn('PreviousTransaction', lag('TxnDate').over(window_df)) \\\n",
        "                .select(\n",
        "                          'TransactionID',\n",
        "                          'City',\n",
        "                          'TxnDate',\n",
        "                          'PreviousTransaction'\n",
        "                ).show()"
      ],
      "metadata": {
        "colab": {
          "base_uri": "https://localhost:8080/"
        },
        "id": "d1lcglSaXKRj",
        "outputId": "80c1ca11-79e8-4fab-f5d8-4862d5a85c29"
      },
      "execution_count": 115,
      "outputs": [
        {
          "output_type": "stream",
          "name": "stdout",
          "text": [
            "+-------------+---------+----------+-------------------+\n",
            "|TransactionID|     City|   TxnDate|PreviousTransaction|\n",
            "+-------------+---------+----------+-------------------+\n",
            "|        T1002|Bangalore|2024-01-20|               NULL|\n",
            "|        T1004|    Delhi|2024-02-12|               NULL|\n",
            "|        T1006|    Delhi|2024-02-18|         2024-02-12|\n",
            "|        T1003|Hyderabad|2024-02-10|               NULL|\n",
            "|        T1001|   Mumbai|2024-01-15|               NULL|\n",
            "|        T1005|   Mumbai|2024-02-15|         2024-01-15|\n",
            "+-------------+---------+----------+-------------------+\n",
            "\n"
          ]
        }
      ]
    },
    {
      "cell_type": "markdown",
      "source": [
        "#### Joins"
      ],
      "metadata": {
        "id": "_AQxNOcAYE3I"
      }
    },
    {
      "cell_type": "markdown",
      "source": [
        "14. Create a second DataFrame\n",
        "city_region"
      ],
      "metadata": {
        "id": "LrV6kdesYFxu"
      }
    },
    {
      "cell_type": "code",
      "source": [
        "city_region_schema = StructType([\n",
        "    StructField(\"City\", StringType(), True),\n",
        "    StructField(\"Region\", StringType(), True)\n",
        "])\n",
        "\n",
        "data = [\n",
        "    (\"Mumbai\", \"West\"),\n",
        "    (\"Delhi\", \"North\"),\n",
        "    (\"Bangalore\", \"South\"),\n",
        "    (\"Hyderabad\", \"South\")\n",
        "]\n",
        "\n",
        "city_region_df = spark.createDataFrame(data, city_region_schema)\n",
        "\n",
        "city_region_df.printSchema()"
      ],
      "metadata": {
        "colab": {
          "base_uri": "https://localhost:8080/"
        },
        "id": "vsHFWjFQYI4P",
        "outputId": "53c22467-78ce-4edf-c705-dac22577ca31"
      },
      "execution_count": 116,
      "outputs": [
        {
          "output_type": "stream",
          "name": "stdout",
          "text": [
            "root\n",
            " |-- City: string (nullable = true)\n",
            " |-- Region: string (nullable = true)\n",
            "\n"
          ]
        }
      ]
    },
    {
      "cell_type": "markdown",
      "source": [
        "15. Join with main DataFrame and group total sales by Region.\n"
      ],
      "metadata": {
        "id": "Y-Ybr8EBYoDZ"
      }
    },
    {
      "cell_type": "code",
      "source": [
        "# Joining with main dataframe\n",
        "\n",
        "retail_custom_df = retail_custom_df.join(city_region_df, on='City', how='left')\n",
        "retail_custom_df.printSchema()\n",
        "# Group Total Sales by region\n",
        "\n",
        "retail_custom_df.groupBy('Region') \\\n",
        "                .agg(sum('TotalPrice').alias('TotalSales')) \\\n",
        "                .show()\n"
      ],
      "metadata": {
        "colab": {
          "base_uri": "https://localhost:8080/"
        },
        "id": "LGhGqEjlYnZu",
        "outputId": "96ffabf5-93a1-418a-8375-2bc8f9b0a263"
      },
      "execution_count": 117,
      "outputs": [
        {
          "output_type": "stream",
          "name": "stdout",
          "text": [
            "root\n",
            " |-- City: string (nullable = true)\n",
            " |-- TransactionID: string (nullable = true)\n",
            " |-- Customer: string (nullable = true)\n",
            " |-- Product: string (nullable = true)\n",
            " |-- Category: string (nullable = true)\n",
            " |-- Quantity: integer (nullable = true)\n",
            " |-- UnitPrice: float (nullable = true)\n",
            " |-- TotalPrice: float (nullable = true)\n",
            " |-- TxnDate: date (nullable = true)\n",
            " |-- PaymentMode: string (nullable = true)\n",
            " |-- DiscountAmount: double (nullable = true)\n",
            " |-- Region: string (nullable = true)\n",
            "\n",
            "+------+----------+\n",
            "|Region|TotalSales|\n",
            "+------+----------+\n",
            "| South|   75000.0|\n",
            "|  West|  120000.0|\n",
            "| North|   23000.0|\n",
            "+------+----------+\n",
            "\n"
          ]
        }
      ]
    },
    {
      "cell_type": "markdown",
      "source": [
        "#### Nulls and Data Cleaning\n"
      ],
      "metadata": {
        "id": "UtLrJzi9dg-D"
      }
    },
    {
      "cell_type": "markdown",
      "source": [
        "16. Introduce some nulls and replace them with default values.\n"
      ],
      "metadata": {
        "id": "I5s3k7D2djV1"
      }
    },
    {
      "cell_type": "code",
      "source": [
        "from pyspark.sql.functions import when, rand\n",
        "retail_custom_df = retail_custom_df.withColumn(\"Quantity\",\n",
        "                                                when(col('Quantity') < 2, None).otherwise(col('Quantity'))\n",
        "                                              )\n",
        "retail_custom_df.select('TransactionID', 'Quantity').show()\n",
        "retail_custom_df = retail_custom_df.fillna({'Quantity': 1})\n",
        "\n",
        "retail_custom_df.select('TransactionID', 'Quantity').show()"
      ],
      "metadata": {
        "colab": {
          "base_uri": "https://localhost:8080/"
        },
        "id": "GLNP1WyTdtu8",
        "outputId": "606afa87-f31f-461c-8830-bd4a406be59e"
      },
      "execution_count": 121,
      "outputs": [
        {
          "output_type": "stream",
          "name": "stdout",
          "text": [
            "+-------------+--------+\n",
            "|TransactionID|Quantity|\n",
            "+-------------+--------+\n",
            "|        T1002|       2|\n",
            "|        T1001|    NULL|\n",
            "|        T1005|    NULL|\n",
            "|        T1004|       4|\n",
            "|        T1006|       3|\n",
            "|        T1003|    NULL|\n",
            "+-------------+--------+\n",
            "\n",
            "+-------------+--------+\n",
            "|TransactionID|Quantity|\n",
            "+-------------+--------+\n",
            "|        T1002|       2|\n",
            "|        T1001|       1|\n",
            "|        T1005|       1|\n",
            "|        T1004|       4|\n",
            "|        T1006|       3|\n",
            "|        T1003|       1|\n",
            "+-------------+--------+\n",
            "\n"
          ]
        }
      ]
    },
    {
      "cell_type": "markdown",
      "source": [
        " 17. Drop rows where\n",
        "Quantity is null."
      ],
      "metadata": {
        "id": "hIuZHnqnejCN"
      }
    },
    {
      "cell_type": "code",
      "source": [
        "retail_custom_df = retail_custom_df.na.drop(subset=['Quantity'])\n",
        "retail_custom_df.select('TransactionID', 'Quantity').show()"
      ],
      "metadata": {
        "colab": {
          "base_uri": "https://localhost:8080/"
        },
        "id": "059_Gahoej5-",
        "outputId": "bbb07732-9106-4bbd-a372-80128c74fb8f"
      },
      "execution_count": 122,
      "outputs": [
        {
          "output_type": "stream",
          "name": "stdout",
          "text": [
            "+-------------+--------+\n",
            "|TransactionID|Quantity|\n",
            "+-------------+--------+\n",
            "|        T1002|       2|\n",
            "|        T1001|       1|\n",
            "|        T1005|       1|\n",
            "|        T1004|       4|\n",
            "|        T1006|       3|\n",
            "|        T1003|       1|\n",
            "+-------------+--------+\n",
            "\n"
          ]
        }
      ]
    },
    {
      "cell_type": "markdown",
      "source": [
        " 18. Fill null\n",
        "PaymentMode with \"Unknown\"."
      ],
      "metadata": {
        "id": "UVQIYpJBeuuP"
      }
    },
    {
      "cell_type": "code",
      "source": [
        "retail_custom_df = retail_custom_df.fillna({'PaymentMode': 'Unknown'})\n",
        "retail_custom_df.select('TransactionID', 'PaymentMode').show()"
      ],
      "metadata": {
        "colab": {
          "base_uri": "https://localhost:8080/"
        },
        "id": "gkCbXWGaevUx",
        "outputId": "baa1a0fd-d262-4a12-f3f5-d16666121e55"
      },
      "execution_count": 123,
      "outputs": [
        {
          "output_type": "stream",
          "name": "stdout",
          "text": [
            "+-------------+------------+\n",
            "|TransactionID| PaymentMode|\n",
            "+-------------+------------+\n",
            "|        T1002|        UPI |\n",
            "|        T1001|       Card |\n",
            "|        T1005|       Card |\n",
            "|        T1004|       Card |\n",
            "|        T1006|        Cash|\n",
            "|        T1003|Net Banking |\n",
            "+-------------+------------+\n",
            "\n"
          ]
        }
      ]
    },
    {
      "cell_type": "markdown",
      "source": [
        "####  Custom Functions"
      ],
      "metadata": {
        "id": "266s66Vye_4h"
      }
    },
    {
      "cell_type": "markdown",
      "source": [
        "19.  Write a UDF to label orders:"
      ],
      "metadata": {
        "id": "guQhq4oZfBJx"
      }
    },
    {
      "cell_type": "code",
      "source": [
        "from pyspark.sql.functions import udf\n",
        "def label_order(amount):\n",
        "  if amount > 50000: return \"High\"\n",
        "  if amount >= 30000: return \"Medium\"\n",
        "  return \"Low\"\n",
        "\n",
        "label_order_fun = udf(label_order, StringType())\n",
        "retail_custom_df = retail_custom_df.withColumn('OrderLabel', label_order_fun(col('TotalPrice')))\n",
        "retail_custom_df.select(\n",
        "                          'TransactionID',\n",
        "                          'TotalPrice',\n",
        "                          'OrderLabel'\n",
        ").show()\n"
      ],
      "metadata": {
        "colab": {
          "base_uri": "https://localhost:8080/"
        },
        "id": "UEPkCIPhfDcP",
        "outputId": "3af54723-af85-4470-fc2b-e76e9f2e7cf3"
      },
      "execution_count": 125,
      "outputs": [
        {
          "output_type": "stream",
          "name": "stdout",
          "text": [
            "+-------------+----------+----------+\n",
            "|TransactionID|TotalPrice|OrderLabel|\n",
            "+-------------+----------+----------+\n",
            "|        T1002|   60000.0|      High|\n",
            "|        T1001|   70000.0|      High|\n",
            "|        T1005|   50000.0|    Medium|\n",
            "|        T1004|   20000.0|       Low|\n",
            "|        T1006|    3000.0|       Low|\n",
            "|        T1003|   15000.0|       Low|\n",
            "+-------------+----------+----------+\n",
            "\n"
          ]
        }
      ]
    },
    {
      "cell_type": "markdown",
      "source": [
        "####  Date & Time\n"
      ],
      "metadata": {
        "id": "6GzF7GFJgZag"
      }
    },
    {
      "cell_type": "markdown",
      "source": [
        "20. Extract year, month, and day from TxnDate ."
      ],
      "metadata": {
        "id": "UAPOubQ5gaLq"
      }
    },
    {
      "cell_type": "code",
      "source": [
        "from pyspark.sql.functions import year, month, date_format, dayofmonth as day\n",
        "\n",
        "retail_custom_df = retail_custom_df.withColumn('Year', year(col('TxnDate'))) \\\n",
        "                                   .withColumn('Month', month(col('TxnDate'))) \\\n",
        "                                   .withColumn('MonthName', date_format(col('TxnDate'), 'MMMM')) \\\n",
        "                                   .withColumn('Day', day(col('TxnDate')))\n",
        "\n",
        "retail_custom_df.select(\n",
        "                          'TransactionID',\n",
        "                          'TxnDate',\n",
        "                          'Day',\n",
        "                          'Month',\n",
        "                          'MonthName',\n",
        "                          'Year'\n",
        "\n",
        ").show()"
      ],
      "metadata": {
        "colab": {
          "base_uri": "https://localhost:8080/"
        },
        "id": "7crh0x9ggdj2",
        "outputId": "193b90b3-aae5-4c2e-8318-a1704b9a3a73"
      },
      "execution_count": 129,
      "outputs": [
        {
          "output_type": "stream",
          "name": "stdout",
          "text": [
            "+-------------+----------+---+-----+---------+----+\n",
            "|TransactionID|   TxnDate|Day|Month|MonthName|Year|\n",
            "+-------------+----------+---+-----+---------+----+\n",
            "|        T1002|2024-01-20| 20|    1|  January|2024|\n",
            "|        T1001|2024-01-15| 15|    1|  January|2024|\n",
            "|        T1005|2024-02-15| 15|    2| February|2024|\n",
            "|        T1004|2024-02-12| 12|    2| February|2024|\n",
            "|        T1006|2024-02-18| 18|    2| February|2024|\n",
            "|        T1003|2024-02-10| 10|    2| February|2024|\n",
            "+-------------+----------+---+-----+---------+----+\n",
            "\n"
          ]
        }
      ]
    },
    {
      "cell_type": "markdown",
      "source": [
        " 21. Filter transactions that happened in February.\n"
      ],
      "metadata": {
        "id": "z-isUIG4hsd6"
      }
    },
    {
      "cell_type": "code",
      "source": [
        "retail_custom_df.filter(col('Month') == 2) \\\n",
        "                .select(\n",
        "                          'TransactionID',\n",
        "                          'Product',\n",
        "                          'Category',\n",
        "                          'Quantity',\n",
        "                          'UnitPrice',\n",
        "                          'TotalPrice',\n",
        "                          'Day',\n",
        "                          'Month',\n",
        "                          'Year',\n",
        "                          'PaymentMode'\n",
        "                ).show()"
      ],
      "metadata": {
        "colab": {
          "base_uri": "https://localhost:8080/"
        },
        "id": "KmcO3NfrhtKs",
        "outputId": "a7e18d85-c7a8-4004-a561-9ea738bf7fdc"
      },
      "execution_count": 132,
      "outputs": [
        {
          "output_type": "stream",
          "name": "stdout",
          "text": [
            "+-------------+-------+-----------+--------+---------+----------+---+-----+----+------------+\n",
            "|TransactionID|Product|   Category|Quantity|UnitPrice|TotalPrice|Day|Month|Year| PaymentMode|\n",
            "+-------------+-------+-----------+--------+---------+----------+---+-----+----+------------+\n",
            "|        T1005|  Phone|Electronics|       1|  50000.0|   50000.0| 15|    2|2024|       Card |\n",
            "|        T1004|  Chair|  Furniture|       4|   5000.0|   20000.0| 12|    2|2024|       Card |\n",
            "|        T1006|  Mouse|Electronics|       3|   1000.0|    3000.0| 18|    2|2024|        Cash|\n",
            "|        T1003|   Desk|  Furniture|       1|  15000.0|   15000.0| 10|    2|2024|Net Banking |\n",
            "+-------------+-------+-----------+--------+---------+----------+---+-----+----+------------+\n",
            "\n"
          ]
        }
      ]
    },
    {
      "cell_type": "markdown",
      "source": [
        "####  Union & Duplicate Handling"
      ],
      "metadata": {
        "id": "pg5IHCT6iGP1"
      }
    },
    {
      "cell_type": "markdown",
      "source": [
        " 22. Duplicate the DataFrame using union() and remove duplicates."
      ],
      "metadata": {
        "id": "RBLSrIjmiKBb"
      }
    },
    {
      "cell_type": "code",
      "source": [
        "duplicate_df = retail_custom_df.union(retail_custom_df)\n",
        "\n",
        "print(\"Before Removing Duplicates\")\n",
        "duplicate_df.show()\n",
        "\n",
        "duplicate_df = duplicate_df.dropDuplicates()\n",
        "\n",
        "print(\"Before Removing Duplicates\")\n",
        "duplicate_df.show()\n"
      ],
      "metadata": {
        "colab": {
          "base_uri": "https://localhost:8080/"
        },
        "id": "iNCP3JH4iHHH",
        "outputId": "5012c8b3-7f29-4686-bd9c-a6d4add95f8b"
      },
      "execution_count": 134,
      "outputs": [
        {
          "output_type": "stream",
          "name": "stdout",
          "text": [
            "Before Removing Duplicates\n",
            "+---------+-------------+--------+-------+-----------+--------+---------+----------+----------+------------+--------------+------+----------+----+-----+---+---------+\n",
            "|     City|TransactionID|Customer|Product|   Category|Quantity|UnitPrice|TotalPrice|   TxnDate| PaymentMode|DiscountAmount|Region|OrderLabel|Year|Month|Day|MonthName|\n",
            "+---------+-------------+--------+-------+-----------+--------+---------+----------+----------+------------+--------------+------+----------+----+-----+---+---------+\n",
            "|Bangalore|        T1002|    Neha| Tablet|Electronics|       2|  30000.0|   60000.0|2024-01-20|        UPI |        6000.0| South|      High|2024|    1| 20|  January|\n",
            "|   Mumbai|        T1001|     Ali| Laptop|Electronics|       1|  70000.0|   70000.0|2024-01-15|       Card |        7000.0|  West|      High|2024|    1| 15|  January|\n",
            "|   Mumbai|        T1005|   Karan|  Phone|Electronics|       1|  50000.0|   50000.0|2024-02-15|       Card |        5000.0|  West|    Medium|2024|    2| 15| February|\n",
            "|    Delhi|        T1004|    Zoya|  Chair|  Furniture|       4|   5000.0|   20000.0|2024-02-12|       Card |        2000.0| North|       Low|2024|    2| 12| February|\n",
            "|    Delhi|        T1006|   Farah|  Mouse|Electronics|       3|   1000.0|    3000.0|2024-02-18|        Cash|         300.0| North|       Low|2024|    2| 18| February|\n",
            "|Hyderabad|        T1003|    Ravi|   Desk|  Furniture|       1|  15000.0|   15000.0|2024-02-10|Net Banking |        1500.0| South|       Low|2024|    2| 10| February|\n",
            "|Bangalore|        T1002|    Neha| Tablet|Electronics|       2|  30000.0|   60000.0|2024-01-20|        UPI |        6000.0| South|      High|2024|    1| 20|  January|\n",
            "|   Mumbai|        T1001|     Ali| Laptop|Electronics|       1|  70000.0|   70000.0|2024-01-15|       Card |        7000.0|  West|      High|2024|    1| 15|  January|\n",
            "|   Mumbai|        T1005|   Karan|  Phone|Electronics|       1|  50000.0|   50000.0|2024-02-15|       Card |        5000.0|  West|    Medium|2024|    2| 15| February|\n",
            "|    Delhi|        T1004|    Zoya|  Chair|  Furniture|       4|   5000.0|   20000.0|2024-02-12|       Card |        2000.0| North|       Low|2024|    2| 12| February|\n",
            "|    Delhi|        T1006|   Farah|  Mouse|Electronics|       3|   1000.0|    3000.0|2024-02-18|        Cash|         300.0| North|       Low|2024|    2| 18| February|\n",
            "|Hyderabad|        T1003|    Ravi|   Desk|  Furniture|       1|  15000.0|   15000.0|2024-02-10|Net Banking |        1500.0| South|       Low|2024|    2| 10| February|\n",
            "+---------+-------------+--------+-------+-----------+--------+---------+----------+----------+------------+--------------+------+----------+----+-----+---+---------+\n",
            "\n",
            "Before Removing Duplicates\n",
            "+---------+-------------+--------+-------+-----------+--------+---------+----------+----------+------------+--------------+------+----------+----+-----+---+---------+\n",
            "|     City|TransactionID|Customer|Product|   Category|Quantity|UnitPrice|TotalPrice|   TxnDate| PaymentMode|DiscountAmount|Region|OrderLabel|Year|Month|Day|MonthName|\n",
            "+---------+-------------+--------+-------+-----------+--------+---------+----------+----------+------------+--------------+------+----------+----+-----+---+---------+\n",
            "|Bangalore|        T1002|    Neha| Tablet|Electronics|       2|  30000.0|   60000.0|2024-01-20|        UPI |        6000.0| South|      High|2024|    1| 20|  January|\n",
            "|Hyderabad|        T1003|    Ravi|   Desk|  Furniture|       1|  15000.0|   15000.0|2024-02-10|Net Banking |        1500.0| South|       Low|2024|    2| 10| February|\n",
            "|   Mumbai|        T1001|     Ali| Laptop|Electronics|       1|  70000.0|   70000.0|2024-01-15|       Card |        7000.0|  West|      High|2024|    1| 15|  January|\n",
            "|    Delhi|        T1006|   Farah|  Mouse|Electronics|       3|   1000.0|    3000.0|2024-02-18|        Cash|         300.0| North|       Low|2024|    2| 18| February|\n",
            "|    Delhi|        T1004|    Zoya|  Chair|  Furniture|       4|   5000.0|   20000.0|2024-02-12|       Card |        2000.0| North|       Low|2024|    2| 12| February|\n",
            "|   Mumbai|        T1005|   Karan|  Phone|Electronics|       1|  50000.0|   50000.0|2024-02-15|       Card |        5000.0|  West|    Medium|2024|    2| 15| February|\n",
            "+---------+-------------+--------+-------+-----------+--------+---------+----------+----------+------------+--------------+------+----------+----+-----+---+---------+\n",
            "\n"
          ]
        }
      ]
    },
    {
      "cell_type": "markdown",
      "source": [
        "Storing the cleaned data"
      ],
      "metadata": {
        "id": "MFENos-xi3i6"
      }
    },
    {
      "cell_type": "code",
      "source": [
        "retail_custom_df.write.mode('overwrite') \\\n",
        "                      .parquet('/content/drive/MyDrive/Assignment/Cleaned_Retail_Transactions')"
      ],
      "metadata": {
        "id": "QCbzsnIrjQ8Y"
      },
      "execution_count": 135,
      "outputs": []
    }
  ]
}