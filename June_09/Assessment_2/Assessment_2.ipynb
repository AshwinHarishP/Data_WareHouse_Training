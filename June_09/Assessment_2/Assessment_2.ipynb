{
  "nbformat": 4,
  "nbformat_minor": 0,
  "metadata": {
    "colab": {
      "provenance": []
    },
    "kernelspec": {
      "name": "python3",
      "display_name": "Python 3"
    },
    "language_info": {
      "name": "python"
    }
  },
  "cells": [
    {
      "cell_type": "markdown",
      "source": [
        "Import Statements"
      ],
      "metadata": {
        "id": "iegGUxBAP0qW"
      }
    },
    {
      "cell_type": "code",
      "execution_count": 149,
      "metadata": {
        "id": "xaphEZZvPx7q"
      },
      "outputs": [],
      "source": [
        "from pyspark.sql import SparkSession\n",
        "from pyspark.sql.functions import when, col, avg, count, sum, datediff, round, col, coalesce, current_date, trim, lower, year, month, concat, lit, substring, length, lpad, udf\n",
        "from pyspark.sql.types import StringType\n",
        "from google.colab import drive"
      ]
    },
    {
      "cell_type": "markdown",
      "source": [
        "Creating PySpark Session"
      ],
      "metadata": {
        "id": "zKKZFEnpP_Z2"
      }
    },
    {
      "cell_type": "code",
      "source": [
        "spark = SparkSession.builder \\\n",
        "                    .appName(\"Assessment2\") \\\n",
        "                    .getOrCreate()\n",
        "spark"
      ],
      "metadata": {
        "colab": {
          "base_uri": "https://localhost:8080/",
          "height": 219
        },
        "id": "zl77b3w4P9YN",
        "outputId": "04510f1d-a41e-4a2d-c919-d3d4598a6b87"
      },
      "execution_count": 150,
      "outputs": [
        {
          "output_type": "execute_result",
          "data": {
            "text/plain": [
              "<pyspark.sql.session.SparkSession at 0x78d63025a090>"
            ],
            "text/html": [
              "\n",
              "            <div>\n",
              "                <p><b>SparkSession - in-memory</b></p>\n",
              "                \n",
              "        <div>\n",
              "            <p><b>SparkContext</b></p>\n",
              "\n",
              "            <p><a href=\"http://eef5604dafe6:4040\">Spark UI</a></p>\n",
              "\n",
              "            <dl>\n",
              "              <dt>Version</dt>\n",
              "                <dd><code>v3.5.1</code></dd>\n",
              "              <dt>Master</dt>\n",
              "                <dd><code>local[*]</code></dd>\n",
              "              <dt>AppName</dt>\n",
              "                <dd><code>Assessment2</code></dd>\n",
              "            </dl>\n",
              "        </div>\n",
              "        \n",
              "            </div>\n",
              "        "
            ]
          },
          "metadata": {},
          "execution_count": 150
        }
      ]
    },
    {
      "cell_type": "markdown",
      "source": [
        "Mounting Google Drive"
      ],
      "metadata": {
        "id": "iLc95XDVQB2N"
      }
    },
    {
      "cell_type": "code",
      "source": [
        "drive.mount('/content/drive')"
      ],
      "metadata": {
        "colab": {
          "base_uri": "https://localhost:8080/"
        },
        "id": "17WsEIXvQCS2",
        "outputId": "c1b57671-50a6-4af9-ce8a-402359fc9712"
      },
      "execution_count": 151,
      "outputs": [
        {
          "output_type": "stream",
          "name": "stdout",
          "text": [
            "Drive already mounted at /content/drive; to attempt to forcibly remount, call drive.mount(\"/content/drive\", force_remount=True).\n"
          ]
        }
      ]
    },
    {
      "cell_type": "markdown",
      "source": [
        "## Tasks"
      ],
      "metadata": {
        "id": "f0TXumJNQN0l"
      }
    },
    {
      "cell_type": "markdown",
      "source": [
        "### 1. Ingestion & Exploration"
      ],
      "metadata": {
        "id": "ya6CqzF7QTQX"
      }
    },
    {
      "cell_type": "markdown",
      "source": [
        "Read all 3 files (CSV + JSON) using PySpark."
      ],
      "metadata": {
        "id": "2O768ucTQZLh"
      }
    },
    {
      "cell_type": "code",
      "source": [
        "# Reading employee data\n",
        "employee_df = spark.read.csv('/content/drive/MyDrive/PysparkAssessment/Assessment_2/employees.csv', header=True, inferSchema=True)\n",
        "\n",
        "# Reading order data\n",
        "attendance_df =  spark.read.csv('/content/drive/MyDrive/PysparkAssessment/Assessment_2/attendance.csv', header=True, inferSchema=True)\n",
        "\n",
        "# Reading bonus data\n",
        "bonus_df = spark.read.option(\"multiline\", \"true\").json('/content/drive/MyDrive/PysparkAssessment/Assessment_2/bonuses.json')\n"
      ],
      "metadata": {
        "id": "RN9UMvLPQh5W"
      },
      "execution_count": 152,
      "outputs": []
    },
    {
      "cell_type": "markdown",
      "source": [
        "Displaying Schemas"
      ],
      "metadata": {
        "id": "Xysa5bHPQz2K"
      }
    },
    {
      "cell_type": "code",
      "source": [
        "print(\"\\n Employee Data Schema\")\n",
        "employee_df.printSchema()\n",
        "\n",
        "print(\"\\n Attendance Data Schema\")\n",
        "attendance_df.printSchema()\n",
        "\n",
        "print(\"\\n Bonous Data Schema\")\n",
        "bonus_df.printSchema()"
      ],
      "metadata": {
        "colab": {
          "base_uri": "https://localhost:8080/"
        },
        "id": "Ivm2iWZjQ1lV",
        "outputId": "86d3de8b-33b5-40fa-e2a8-dd550fabb3d1"
      },
      "execution_count": 153,
      "outputs": [
        {
          "output_type": "stream",
          "name": "stdout",
          "text": [
            "\n",
            " Employee Data Schema\n",
            "root\n",
            " |-- EmpID: integer (nullable = true)\n",
            " |-- Name: string (nullable = true)\n",
            " |-- Department: string (nullable = true)\n",
            " |-- JoinDate: date (nullable = true)\n",
            " |-- Salary: integer (nullable = true)\n",
            " |-- ManagerID : string (nullable = true)\n",
            "\n",
            "\n",
            " Attendance Data Schema\n",
            "root\n",
            " |--  EmpID: integer (nullable = true)\n",
            " |-- Date: date (nullable = true)\n",
            " |-- Status : string (nullable = true)\n",
            "\n",
            "\n",
            " Bonous Data Schema\n",
            "root\n",
            " |-- Bonus: long (nullable = true)\n",
            " |-- EmpID: long (nullable = true)\n",
            " |-- Year: long (nullable = true)\n",
            "\n"
          ]
        }
      ]
    },
    {
      "cell_type": "markdown",
      "source": [
        "Displaying sample data"
      ],
      "metadata": {
        "id": "JGEOE-zgQ5yS"
      }
    },
    {
      "cell_type": "code",
      "source": [
        "print(\"\\n Employee Sample Data\")\n",
        "employee_df.show(5)\n",
        "\n",
        "print(\"\\n Attendance Sample Data\")\n",
        "attendance_df.show(5)\n",
        "\n",
        "print(\"\\n Bonus Sample Data\")\n",
        "bonus_df.show(5)"
      ],
      "metadata": {
        "colab": {
          "base_uri": "https://localhost:8080/"
        },
        "id": "x4kgoFr7Q7Lh",
        "outputId": "4d500df4-3ce1-42b6-a6ae-a24ad5d74d10"
      },
      "execution_count": 154,
      "outputs": [
        {
          "output_type": "stream",
          "name": "stdout",
          "text": [
            "\n",
            " Employee Sample Data\n",
            "+-----+------+-----------+----------+------+----------+\n",
            "|EmpID|  Name| Department|  JoinDate|Salary|ManagerID |\n",
            "+-----+------+-----------+----------+------+----------+\n",
            "|    1| Anita|         HR|2021-05-01| 55000|          |\n",
            "|    2|   Raj|Engineering|2020-03-15| 80000|        1 |\n",
            "|    3|Simran|Engineering|2022-07-10| 75000|        1 |\n",
            "|    4| Aamir|  Marketing|2019-11-20| 60000|        1 |\n",
            "|    5| Nisha|         HR|2023-01-05| 50000|         1|\n",
            "+-----+------+-----------+----------+------+----------+\n",
            "\n",
            "\n",
            " Attendance Sample Data\n",
            "+------+----------+--------+\n",
            "| EmpID|      Date| Status |\n",
            "+------+----------+--------+\n",
            "|     1|2024-04-01|Present |\n",
            "|     1|2024-04-02|Present |\n",
            "|     2|2024-04-01| Absent |\n",
            "|     2|2024-04-02|Present |\n",
            "|     3|2024-04-01|Present |\n",
            "+------+----------+--------+\n",
            "only showing top 5 rows\n",
            "\n",
            "\n",
            " Bonus Sample Data\n",
            "+-----+-----+----+\n",
            "|Bonus|EmpID|Year|\n",
            "+-----+-----+----+\n",
            "| 5000|    1|2023|\n",
            "| 7000|    2|2023|\n",
            "| 6500|    3|2023|\n",
            "| 6000|    4|2023|\n",
            "| 4000|    5|2023|\n",
            "+-----+-----+----+\n",
            "\n"
          ]
        }
      ]
    },
    {
      "cell_type": "markdown",
      "source": [
        " Count distinct departments."
      ],
      "metadata": {
        "id": "8P79doZ6RKMg"
      }
    },
    {
      "cell_type": "code",
      "source": [
        "employee_df.select(\"department\").distinct().count()"
      ],
      "metadata": {
        "colab": {
          "base_uri": "https://localhost:8080/"
        },
        "id": "Kflb4I6aRKlj",
        "outputId": "92c2e86a-1516-407f-d471-e8c8ab0d7e34"
      },
      "execution_count": 155,
      "outputs": [
        {
          "output_type": "execute_result",
          "data": {
            "text/plain": [
              "3"
            ]
          },
          "metadata": {},
          "execution_count": 155
        }
      ]
    },
    {
      "cell_type": "markdown",
      "source": [
        "### 2.  DataFrame Operations"
      ],
      "metadata": {
        "id": "Su4RJ1wURVXh"
      }
    },
    {
      "cell_type": "markdown",
      "source": [
        "Add a column TenureYears using datediff() and round()."
      ],
      "metadata": {
        "id": "DueAWIZbRX7V"
      }
    },
    {
      "cell_type": "code",
      "source": [
        "employee_df = employee_df.withColumn(\"TenureYears\",\n",
        "                                      round(datediff(current_date(), col(\"JoinDate\")) / 365, 1)\n",
        "                                    )\n",
        "employee_df.select(\"EMPID\", \"Name\", \"Department\", \"JoinDate\", \"TenureYears\").show()"
      ],
      "metadata": {
        "colab": {
          "base_uri": "https://localhost:8080/"
        },
        "id": "wNeHPr-gRXl-",
        "outputId": "1d96ba65-1b53-40fb-ffcc-3a4ee69e3016"
      },
      "execution_count": 156,
      "outputs": [
        {
          "output_type": "stream",
          "name": "stdout",
          "text": [
            "+-----+------+-----------+----------+-----------+\n",
            "|EMPID|  Name| Department|  JoinDate|TenureYears|\n",
            "+-----+------+-----------+----------+-----------+\n",
            "|    1| Anita|         HR|2021-05-01|        4.1|\n",
            "|    2|   Raj|Engineering|2020-03-15|        5.2|\n",
            "|    3|Simran|Engineering|2022-07-10|        2.9|\n",
            "|    4| Aamir|  Marketing|2019-11-20|        5.6|\n",
            "|    5| Nisha|         HR|2023-01-05|        2.4|\n",
            "+-----+------+-----------+----------+-----------+\n",
            "\n"
          ]
        }
      ]
    },
    {
      "cell_type": "markdown",
      "source": [
        " Calculate TotalCompensation = Salary + Bonus."
      ],
      "metadata": {
        "id": "tSKpz_UPSM3e"
      }
    },
    {
      "cell_type": "code",
      "source": [
        "emp_bonus_df = employee_df.join(bonus_df.select(\"EmpID\", \"Bonus\"), on=\"EmpID\", how=\"left\")\n",
        "\n",
        "emp_bonus_df = emp_bonus_df.withColumn(\"TotalCompensation\", emp_bonus_df.Salary + emp_bonus_df.Bonus)\n",
        "\n",
        "emp_bonus_df.select(\"EmpID\", \"Name\", \"Salary\", \"Bonus\", \"TotalCompensation\").show()"
      ],
      "metadata": {
        "colab": {
          "base_uri": "https://localhost:8080/"
        },
        "id": "IdHnnfjQSNQU",
        "outputId": "a91b9f1e-c9bf-45f8-dc34-d9dbfaea8090"
      },
      "execution_count": 157,
      "outputs": [
        {
          "output_type": "stream",
          "name": "stdout",
          "text": [
            "+-----+------+------+-----+-----------------+\n",
            "|EmpID|  Name|Salary|Bonus|TotalCompensation|\n",
            "+-----+------+------+-----+-----------------+\n",
            "|    1| Anita| 55000| 5000|            60000|\n",
            "|    2|   Raj| 80000| 7000|            87000|\n",
            "|    3|Simran| 75000| 6500|            81500|\n",
            "|    4| Aamir| 60000| 6000|            66000|\n",
            "|    5| Nisha| 50000| 4000|            54000|\n",
            "+-----+------+------+-----+-----------------+\n",
            "\n"
          ]
        }
      ]
    },
    {
      "cell_type": "markdown",
      "source": [
        " Filter employees with more than 2 years in the company."
      ],
      "metadata": {
        "id": "xYtDwCkQSsEg"
      }
    },
    {
      "cell_type": "code",
      "source": [
        "employee_df.filter(col(\"TenureYears\") > 2) \\\n",
        "           .select(\"EmpID\", \"Name\", \"Department\", \"JoinDate\", \"TenureYears\") \\\n",
        "           .show()"
      ],
      "metadata": {
        "colab": {
          "base_uri": "https://localhost:8080/"
        },
        "id": "rgc1PoZZSsf0",
        "outputId": "0434e985-8f66-48ab-a61c-7853ff281969"
      },
      "execution_count": 158,
      "outputs": [
        {
          "output_type": "stream",
          "name": "stdout",
          "text": [
            "+-----+------+-----------+----------+-----------+\n",
            "|EmpID|  Name| Department|  JoinDate|TenureYears|\n",
            "+-----+------+-----------+----------+-----------+\n",
            "|    1| Anita|         HR|2021-05-01|        4.1|\n",
            "|    2|   Raj|Engineering|2020-03-15|        5.2|\n",
            "|    3|Simran|Engineering|2022-07-10|        2.9|\n",
            "|    4| Aamir|  Marketing|2019-11-20|        5.6|\n",
            "|    5| Nisha|         HR|2023-01-05|        2.4|\n",
            "+-----+------+-----------+----------+-----------+\n",
            "\n"
          ]
        }
      ]
    },
    {
      "cell_type": "markdown",
      "source": [
        "Show employees who report to a manager (ManagerID is not null)."
      ],
      "metadata": {
        "id": "bTuSvnMyTQr4"
      }
    },
    {
      "cell_type": "code",
      "source": [
        "employee_df.filter((col(\"ManagerID\").isNotNull()) & (col(\"ManagerID\") != \"\")) \\\n",
        "           .select(\"EmpID\", \"Name\", \"ManagerID\") \\\n",
        "           .show()"
      ],
      "metadata": {
        "colab": {
          "base_uri": "https://localhost:8080/"
        },
        "id": "aaeLfV_gTRGg",
        "outputId": "c711a7ae-fc4e-49e2-8fb2-3488f43aaa11"
      },
      "execution_count": 185,
      "outputs": [
        {
          "output_type": "stream",
          "name": "stdout",
          "text": [
            "+-----+------+----------+\n",
            "|EmpID|  Name| ManagerID|\n",
            "+-----+------+----------+\n",
            "|    1| Anita|No Manager|\n",
            "|    2|   Raj|         1|\n",
            "|    3|Simran|         1|\n",
            "|    4| Aamir|         1|\n",
            "|    5| Nisha|         1|\n",
            "+-----+------+----------+\n",
            "\n"
          ]
        }
      ]
    },
    {
      "cell_type": "markdown",
      "source": [
        "### 3. Aggregation"
      ],
      "metadata": {
        "id": "VXxVOHRwU1iG"
      }
    },
    {
      "cell_type": "markdown",
      "source": [
        " Average salary per department"
      ],
      "metadata": {
        "id": "saBVW9g1U6bm"
      }
    },
    {
      "cell_type": "code",
      "source": [
        "employee_df.groupBy(\"Department\") \\\n",
        "           .agg(avg(\"Salary\").alias(\"AverageSalary\")) \\\n",
        "           .orderBy(\"AverageSalary\", ascending = False) \\\n",
        "           .show()"
      ],
      "metadata": {
        "colab": {
          "base_uri": "https://localhost:8080/"
        },
        "id": "GSDNwsZ8U76W",
        "outputId": "fe7d8152-aa16-453f-b584-c4439a59cf00"
      },
      "execution_count": 160,
      "outputs": [
        {
          "output_type": "stream",
          "name": "stdout",
          "text": [
            "+-----------+-------------+\n",
            "| Department|AverageSalary|\n",
            "+-----------+-------------+\n",
            "|Engineering|      77500.0|\n",
            "|  Marketing|      60000.0|\n",
            "|         HR|      52500.0|\n",
            "+-----------+-------------+\n",
            "\n"
          ]
        }
      ]
    },
    {
      "cell_type": "markdown",
      "source": [
        "Number of employees under each manager."
      ],
      "metadata": {
        "id": "xL6_CPZ8VQgy"
      }
    },
    {
      "cell_type": "code",
      "source": [
        "employee_df = employee_df.withColumn(\"ManagerID\", trim(col(\"ManagerID\")))\n",
        "employee_df.groupBy(\"ManagerID\") \\\n",
        "           .agg(count(\"EmpID\").alias(\"Total_employees\")) \\\n",
        "           .filter((col(\"ManagerID\").isNotNull()) & (col(\"ManagerID\") != \"\")) \\\n",
        "           .orderBy(\"Total_employees\", ascending=False) \\\n",
        "           .show()"
      ],
      "metadata": {
        "colab": {
          "base_uri": "https://localhost:8080/"
        },
        "id": "F9LfztjLVQ4I",
        "outputId": "187f32cc-2f99-41ca-b927-9c8d158282fc"
      },
      "execution_count": 187,
      "outputs": [
        {
          "output_type": "stream",
          "name": "stdout",
          "text": [
            "+----------+---------------+\n",
            "| ManagerID|Total_employees|\n",
            "+----------+---------------+\n",
            "|         1|              4|\n",
            "|No Manager|              1|\n",
            "+----------+---------------+\n",
            "\n"
          ]
        }
      ]
    },
    {
      "cell_type": "markdown",
      "source": [
        " Count of absences per employee."
      ],
      "metadata": {
        "id": "YXr6t1KSVirR"
      }
    },
    {
      "cell_type": "code",
      "source": [
        "attendance_df = attendance_df.withColumn(\"Status\", trim(col(\"Status\"))) \\\n",
        "                             .withColumnRenamed(\"Status \", \"Status\") \\\n",
        "                             .withColumnRenamed(\" EmpID\", \"EmpID\")\n",
        "\n",
        "\n",
        "attendance_df.filter(col(\"Status\") == \"Absent\") \\\n",
        "             .groupBy(\"EmpID\") \\\n",
        "             .agg(count(\"*\").alias(\"AbsenceCount\")) \\\n",
        "             .orderBy(\"AbsenceCount\", ascending=False) \\\n",
        "             .show()"
      ],
      "metadata": {
        "colab": {
          "base_uri": "https://localhost:8080/"
        },
        "id": "GhYARTmwVjXm",
        "outputId": "21178abc-6083-46cf-c345-c52f83572827"
      },
      "execution_count": 165,
      "outputs": [
        {
          "output_type": "stream",
          "name": "stdout",
          "text": [
            "+-----+------------+\n",
            "|EmpID|AbsenceCount|\n",
            "+-----+------------+\n",
            "|    4|           2|\n",
            "|    2|           1|\n",
            "+-----+------------+\n",
            "\n"
          ]
        }
      ]
    },
    {
      "cell_type": "markdown",
      "source": [
        "### 4. Joins"
      ],
      "metadata": {
        "id": "cTggyRxYXWOZ"
      }
    },
    {
      "cell_type": "markdown",
      "source": [
        "Join employees and attendance → Get attendance % (Present days / Total days)."
      ],
      "metadata": {
        "id": "mNpgedKNXYhv"
      }
    },
    {
      "cell_type": "code",
      "source": [
        "employee_attendance_df = employee_df.join(attendance_df, on=\"EmpID\", how=\"left\")\n",
        "\n",
        "employee_attendance_df = employee_attendance_df.groupBy(\"EmpID\", \"Name\", \"Department\") \\\n",
        "                                                .agg(\n",
        "                                                    count(\"Status\").alias(\"TotalDays\"),\n",
        "                                                    count(when(col(\"Status\") == \"Present\", True)).alias(\"PresentDays\")\n",
        "                                                ) \\\n",
        "                                                .withColumn(\"AttendancePercentage\", round((col(\"PresentDays\") / col(\"TotalDays\")) * 100, 2))\n",
        "\n",
        "employee_attendance_df.show()"
      ],
      "metadata": {
        "colab": {
          "base_uri": "https://localhost:8080/"
        },
        "id": "UnRULXV7XaxG",
        "outputId": "d105e947-a948-4692-d380-c65b27f12c3d"
      },
      "execution_count": 184,
      "outputs": [
        {
          "output_type": "stream",
          "name": "stdout",
          "text": [
            "+-----+------+-----------+---------+-----------+--------------------+\n",
            "|EmpID|  Name| Department|TotalDays|PresentDays|AttendancePercentage|\n",
            "+-----+------+-----------+---------+-----------+--------------------+\n",
            "|    2|   Raj|Engineering|        2|          1|                50.0|\n",
            "|    5| Nisha|         HR|        2|          2|               100.0|\n",
            "|    1| Anita|         HR|        2|          2|               100.0|\n",
            "|    4| Aamir|  Marketing|        2|          0|                 0.0|\n",
            "|    3|Simran|Engineering|        2|          2|               100.0|\n",
            "+-----+------+-----------+---------+-----------+--------------------+\n",
            "\n"
          ]
        }
      ]
    },
    {
      "cell_type": "markdown",
      "source": [
        "Join employees and bonuses → Show top 3 employees by TotalCompensation."
      ],
      "metadata": {
        "id": "EYZpfzYoZLDE"
      }
    },
    {
      "cell_type": "code",
      "source": [
        "employee_bonus_df = employee_df.join(bonus_df, on=\"EmpID\", how=\"left\")\n",
        "employee_bonus_df = employee_bonus_df.withColumn(\"TotalCompensation\", col(\"Salary\") + col(\"Bonus\"))\n",
        "\n",
        "employee_bonus_df.select(\"EmpID\", \"Name\", \"Department\", \"Salary\", \"Bonus\", \"TotalCompensation\").show()\n"
      ],
      "metadata": {
        "colab": {
          "base_uri": "https://localhost:8080/"
        },
        "id": "fTDZnAwQZLpD",
        "outputId": "372eb61f-42f6-4f97-df5d-87bd0586317e"
      },
      "execution_count": 167,
      "outputs": [
        {
          "output_type": "stream",
          "name": "stdout",
          "text": [
            "+-----+------+-----------+------+-----+-----------------+\n",
            "|EmpID|  Name| Department|Salary|Bonus|TotalCompensation|\n",
            "+-----+------+-----------+------+-----+-----------------+\n",
            "|    1| Anita|         HR| 55000| 5000|            60000|\n",
            "|    2|   Raj|Engineering| 80000| 7000|            87000|\n",
            "|    3|Simran|Engineering| 75000| 6500|            81500|\n",
            "|    4| Aamir|  Marketing| 60000| 6000|            66000|\n",
            "|    5| Nisha|         HR| 50000| 4000|            54000|\n",
            "+-----+------+-----------+------+-----+-----------------+\n",
            "\n"
          ]
        }
      ]
    },
    {
      "cell_type": "markdown",
      "source": [
        " Multi-level join: employees + bonuses + attendance"
      ],
      "metadata": {
        "id": "98w0iPzbZm_b"
      }
    },
    {
      "cell_type": "code",
      "source": [
        "multi_df = emp_bonus_df.join(attendance_df, on=\"EmpID\", how=\"left\")\n",
        "multi_df.show()"
      ],
      "metadata": {
        "colab": {
          "base_uri": "https://localhost:8080/"
        },
        "id": "8TmcDL6pZnpD",
        "outputId": "c0df1f9f-34f5-44d7-bdb1-6e0d41269fb2"
      },
      "execution_count": 168,
      "outputs": [
        {
          "output_type": "stream",
          "name": "stdout",
          "text": [
            "+-----+------+-----------+----------+------+----------+-----------+-----+-----------------+----------+-------+\n",
            "|EmpID|  Name| Department|  JoinDate|Salary|ManagerID |TenureYears|Bonus|TotalCompensation|      Date| Status|\n",
            "+-----+------+-----------+----------+------+----------+-----------+-----+-----------------+----------+-------+\n",
            "|    1| Anita|         HR|2021-05-01| 55000|          |        4.1| 5000|            60000|2024-04-02|Present|\n",
            "|    1| Anita|         HR|2021-05-01| 55000|          |        4.1| 5000|            60000|2024-04-01|Present|\n",
            "|    2|   Raj|Engineering|2020-03-15| 80000|        1 |        5.2| 7000|            87000|2024-04-02|Present|\n",
            "|    2|   Raj|Engineering|2020-03-15| 80000|        1 |        5.2| 7000|            87000|2024-04-01| Absent|\n",
            "|    3|Simran|Engineering|2022-07-10| 75000|        1 |        2.9| 6500|            81500|2024-04-02|Present|\n",
            "|    3|Simran|Engineering|2022-07-10| 75000|        1 |        2.9| 6500|            81500|2024-04-01|Present|\n",
            "|    4| Aamir|  Marketing|2019-11-20| 60000|        1 |        5.6| 6000|            66000|2024-04-02| Absent|\n",
            "|    4| Aamir|  Marketing|2019-11-20| 60000|        1 |        5.6| 6000|            66000|2024-04-01| Absent|\n",
            "|    5| Nisha|         HR|2023-01-05| 50000|         1|        2.4| 4000|            54000|2024-04-02|Present|\n",
            "|    5| Nisha|         HR|2023-01-05| 50000|         1|        2.4| 4000|            54000|2024-04-01|Present|\n",
            "+-----+------+-----------+----------+------+----------+-----------+-----+-----------------+----------+-------+\n",
            "\n"
          ]
        }
      ]
    },
    {
      "cell_type": "markdown",
      "source": [
        "### 5. String & Date Functions"
      ],
      "metadata": {
        "id": "thn6HBaiZ7Nj"
      }
    },
    {
      "cell_type": "markdown",
      "source": [
        " Extract year and month from JoinDate"
      ],
      "metadata": {
        "id": "f3P5ZixfZ8vv"
      }
    },
    {
      "cell_type": "code",
      "source": [
        "employee_df = employee_df.withColumn(\"JoinYear\", year(col(\"JoinDate\"))) \\\n",
        "                         .withColumn(\"JoinMonth\", month(col(\"JoinDate\")))\n",
        "\n",
        "employee_df.select(\"EmpID\", \"Name\", \"Department\",\"JoinDate\", \"JoinYear\", \"JoinMonth\").show()"
      ],
      "metadata": {
        "colab": {
          "base_uri": "https://localhost:8080/"
        },
        "id": "s-VPErPNZ-FD",
        "outputId": "7d0214c2-458b-4587-cc39-7402ed8742fb"
      },
      "execution_count": 169,
      "outputs": [
        {
          "output_type": "stream",
          "name": "stdout",
          "text": [
            "+-----+------+-----------+----------+--------+---------+\n",
            "|EmpID|  Name| Department|  JoinDate|JoinYear|JoinMonth|\n",
            "+-----+------+-----------+----------+--------+---------+\n",
            "|    1| Anita|         HR|2021-05-01|    2021|        5|\n",
            "|    2|   Raj|Engineering|2020-03-15|    2020|        3|\n",
            "|    3|Simran|Engineering|2022-07-10|    2022|        7|\n",
            "|    4| Aamir|  Marketing|2019-11-20|    2019|       11|\n",
            "|    5| Nisha|         HR|2023-01-05|    2023|        1|\n",
            "+-----+------+-----------+----------+--------+---------+\n",
            "\n"
          ]
        }
      ]
    },
    {
      "cell_type": "markdown",
      "source": [
        "Mask employee names using regex."
      ],
      "metadata": {
        "id": "ktFoJICaafaV"
      }
    },
    {
      "cell_type": "code",
      "source": [
        "masked_df = employee_df.withColumn(\"MaskedName\",\n",
        "                                    concat(substring(col(\"Name\"), 1, 3), lit(\"***\"))\n",
        "                                  )\n",
        "\n",
        "masked_df.select(\"Name\", \"MaskedName\").show()"
      ],
      "metadata": {
        "colab": {
          "base_uri": "https://localhost:8080/"
        },
        "id": "fNZAOgCXagz1",
        "outputId": "e0f81964-d832-453d-9382-50d920d71d14"
      },
      "execution_count": 170,
      "outputs": [
        {
          "output_type": "stream",
          "name": "stdout",
          "text": [
            "+------+----------+\n",
            "|  Name|MaskedName|\n",
            "+------+----------+\n",
            "| Anita|    Ani***|\n",
            "|   Raj|    Raj***|\n",
            "|Simran|    Sim***|\n",
            "| Aamir|    Aam***|\n",
            "| Nisha|    Nis***|\n",
            "+------+----------+\n",
            "\n"
          ]
        }
      ]
    },
    {
      "cell_type": "markdown",
      "source": [
        " Use substring() to create EmpCode like \"EMP001\""
      ],
      "metadata": {
        "id": "DXdbbHfWbZV5"
      }
    },
    {
      "cell_type": "code",
      "source": [
        "employee_df = employee_df.withColumn(\"EmpCode\",\n",
        "                                     concat(lit(\"EMP\"),lpad(col(\"EmpID\").cast(\"string\"), 3, \"0\"))\n",
        "                                    )\n",
        "\n",
        "employee_df.select(\"EmpID\", \"EmpCode\", \"Name\", \"Department\").show()\n"
      ],
      "metadata": {
        "colab": {
          "base_uri": "https://localhost:8080/"
        },
        "id": "rxm7XiFLbZ99",
        "outputId": "125d6080-0aac-4b55-9c6a-0c67045d31cb"
      },
      "execution_count": 171,
      "outputs": [
        {
          "output_type": "stream",
          "name": "stdout",
          "text": [
            "+-----+-------+------+-----------+\n",
            "|EmpID|EmpCode|  Name| Department|\n",
            "+-----+-------+------+-----------+\n",
            "|    1| EMP001| Anita|         HR|\n",
            "|    2| EMP002|   Raj|Engineering|\n",
            "|    3| EMP003|Simran|Engineering|\n",
            "|    4| EMP004| Aamir|  Marketing|\n",
            "|    5| EMP005| Nisha|         HR|\n",
            "+-----+-------+------+-----------+\n",
            "\n"
          ]
        }
      ]
    },
    {
      "cell_type": "markdown",
      "source": [
        "### 6. Conditional & Null Handling"
      ],
      "metadata": {
        "id": "-g8j5qXdcLEC"
      }
    },
    {
      "cell_type": "markdown",
      "source": [
        "Use when/otherwise to label performance: \\\n",
        " “High” if Bonus > 6000 \\\n",
        " “Medium” if 4000–6000 \\\n",
        " “Low” otherwise"
      ],
      "metadata": {
        "id": "9mmYOJv3cONX"
      }
    },
    {
      "cell_type": "code",
      "source": [
        "bonus_df = bonus_df.withColumn(\"Performance\",\n",
        "                                 when(col(\"Bonus\") > 6000, \"High\")\n",
        "                                .when((col(\"Bonus\") >= 4000) & (col(\"Bonus\") <= 6000), \"Medium\")\n",
        "                                .otherwise(\"Low\")\n",
        "                              )\n",
        "bonus_df.show()"
      ],
      "metadata": {
        "colab": {
          "base_uri": "https://localhost:8080/"
        },
        "id": "m4ddsY7GcNyr",
        "outputId": "b4357d58-05a9-4775-9784-595c8e0fd987"
      },
      "execution_count": 172,
      "outputs": [
        {
          "output_type": "stream",
          "name": "stdout",
          "text": [
            "+-----+-----+----+-----------+\n",
            "|Bonus|EmpID|Year|Performance|\n",
            "+-----+-----+----+-----------+\n",
            "| 5000|    1|2023|     Medium|\n",
            "| 7000|    2|2023|       High|\n",
            "| 6500|    3|2023|       High|\n",
            "| 6000|    4|2023|     Medium|\n",
            "| 4000|    5|2023|     Medium|\n",
            "+-----+-----+----+-----------+\n",
            "\n"
          ]
        }
      ]
    },
    {
      "cell_type": "markdown",
      "source": [
        "Handle missing ManagerID using fillna(\"No Manager\")"
      ],
      "metadata": {
        "id": "Oe5y2jmAeY25"
      }
    },
    {
      "cell_type": "code",
      "source": [
        "employee_df = employee_df.withColumn(\"ManagerID\",\n",
        "                                      when(col(\"ManagerID\") == \"\", \"No Manager\")\n",
        "                                      .otherwise(col(\"ManagerID\")))\n",
        "\n",
        "employee_df.select(\"EmpID\", \"Name\", \"Department\",\"ManagerID\").show()"
      ],
      "metadata": {
        "colab": {
          "base_uri": "https://localhost:8080/"
        },
        "id": "_AkwdufqeZQm",
        "outputId": "c845608a-f09d-4080-df8e-e8eb8fd15dde"
      },
      "execution_count": 174,
      "outputs": [
        {
          "output_type": "stream",
          "name": "stdout",
          "text": [
            "+-----+------+-----------+----------+\n",
            "|EmpID|  Name| Department| ManagerID|\n",
            "+-----+------+-----------+----------+\n",
            "|    1| Anita|         HR|No Manager|\n",
            "|    2|   Raj|Engineering|         1|\n",
            "|    3|Simran|Engineering|         1|\n",
            "|    4| Aamir|  Marketing|         1|\n",
            "|    5| Nisha|         HR|         1|\n",
            "+-----+------+-----------+----------+\n",
            "\n"
          ]
        }
      ]
    },
    {
      "cell_type": "markdown",
      "source": [
        "### 7. Spark SQL"
      ],
      "metadata": {
        "id": "NVoz5i4bfRTn"
      }
    },
    {
      "cell_type": "markdown",
      "source": [
        "Create and use database hr."
      ],
      "metadata": {
        "id": "ua_Jv0gIfSM3"
      }
    },
    {
      "cell_type": "code",
      "source": [
        "spark.sql(\"\"\"\n",
        "          CREATE DATABASE  IF NOT EXISTS hr\n",
        "\"\"\")\n",
        "\n",
        "spark.sql(\"USE hr\")"
      ],
      "metadata": {
        "colab": {
          "base_uri": "https://localhost:8080/"
        },
        "id": "NUNle2W4fXqh",
        "outputId": "cb33bb09-94b7-43dd-c7bb-513a9a493854"
      },
      "execution_count": 175,
      "outputs": [
        {
          "output_type": "execute_result",
          "data": {
            "text/plain": [
              "DataFrame[]"
            ]
          },
          "metadata": {},
          "execution_count": 175
        }
      ]
    },
    {
      "cell_type": "markdown",
      "source": [
        "Save all DataFrames as tables: employees, attendance, bonuses."
      ],
      "metadata": {
        "id": "nfgbvxegf0zX"
      }
    },
    {
      "cell_type": "code",
      "source": [
        "employee_df.write.mode(\"overwrite\").saveAsTable(\"employees\")\n",
        "attendance_df.write.mode(\"overwrite\").saveAsTable(\"attendance\")\n",
        "bonus_df.write.mode(\"overwrite\").saveAsTable(\"bonuses\")"
      ],
      "metadata": {
        "id": "XHgQPzjzfwBX"
      },
      "execution_count": 176,
      "outputs": []
    },
    {
      "cell_type": "markdown",
      "source": [
        " Top paid employee in each department."
      ],
      "metadata": {
        "id": "hpyEPIFIf4DE"
      }
    },
    {
      "cell_type": "code",
      "source": [
        "spark.sql(\"\"\"\n",
        "          SELECT\n",
        "            EmpID,\n",
        "            Name,\n",
        "            Department,\n",
        "            Salary\n",
        "            FROM (\n",
        "                  SELECT\n",
        "                    EmpID,\n",
        "                    Name,\n",
        "                    Department,\n",
        "                    Salary,\n",
        "                    ROW_NUMBER() OVER (PARTITION BY Department ORDER BY Salary DESC) AS row_number\n",
        "                  FROM employees\n",
        "                ) t\n",
        "            WHERE row_number = 1\n",
        "\"\"\").show()"
      ],
      "metadata": {
        "colab": {
          "base_uri": "https://localhost:8080/"
        },
        "id": "yfxDiAiUf4nZ",
        "outputId": "b0106775-45ee-4920-f06e-cef0d679f95f"
      },
      "execution_count": 177,
      "outputs": [
        {
          "output_type": "stream",
          "name": "stdout",
          "text": [
            "+-----+-----+-----------+------+\n",
            "|EmpID| Name| Department|Salary|\n",
            "+-----+-----+-----------+------+\n",
            "|    2|  Raj|Engineering| 80000|\n",
            "|    1|Anita|         HR| 55000|\n",
            "|    4|Aamir|  Marketing| 60000|\n",
            "+-----+-----+-----------+------+\n",
            "\n"
          ]
        }
      ]
    },
    {
      "cell_type": "markdown",
      "source": [
        "Attendance rate by department."
      ],
      "metadata": {
        "id": "R1IsUnGchrVK"
      }
    },
    {
      "cell_type": "code",
      "source": [
        "spark.sql(\"\"\"\n",
        "            SELECT\n",
        "              e.Department,\n",
        "              ROUND(SUM(CASE WHEN a.Status = 'Present' THEN 1 ELSE 0 END) * 100.0 / COUNT(a.Status), 2) AS Attendance_percentage\n",
        "            FROM employees e\n",
        "            JOIN attendance a ON e.EmpID = a.EmpID\n",
        "            GROUP BY e.Department\n",
        "         \"\"\").show()\n"
      ],
      "metadata": {
        "colab": {
          "base_uri": "https://localhost:8080/"
        },
        "id": "w4ZAZMWZhsAe",
        "outputId": "5e153cb2-0618-43d0-a865-f4534bda7742"
      },
      "execution_count": 178,
      "outputs": [
        {
          "output_type": "stream",
          "name": "stdout",
          "text": [
            "+-----------+---------------------+\n",
            "| Department|Attendance_percentage|\n",
            "+-----------+---------------------+\n",
            "|Engineering|                75.00|\n",
            "|         HR|               100.00|\n",
            "|  Marketing|                 0.00|\n",
            "+-----------+---------------------+\n",
            "\n"
          ]
        }
      ]
    },
    {
      "cell_type": "markdown",
      "source": [
        " Employees joined after 2021 with salary > 70,000."
      ],
      "metadata": {
        "id": "x8biVHN9i-XP"
      }
    },
    {
      "cell_type": "code",
      "source": [
        "spark.sql(\"\"\"\n",
        "          SELECT\n",
        "            EmpID,\n",
        "            Name,\n",
        "            Department,\n",
        "            JoinDate\n",
        "          FROM employees\n",
        "          WHERE JoinDate > '2021-12-31' AND Salary > 70000\n",
        "\"\"\").show()"
      ],
      "metadata": {
        "colab": {
          "base_uri": "https://localhost:8080/"
        },
        "id": "6KXHplFFi_E8",
        "outputId": "a7e1eedb-d11a-4380-bd9a-b783929ac2f2"
      },
      "execution_count": 180,
      "outputs": [
        {
          "output_type": "stream",
          "name": "stdout",
          "text": [
            "+-----+------+-----------+----------+\n",
            "|EmpID|  Name| Department|  JoinDate|\n",
            "+-----+------+-----------+----------+\n",
            "|    3|Simran|Engineering|2022-07-10|\n",
            "+-----+------+-----------+----------+\n",
            "\n"
          ]
        }
      ]
    },
    {
      "cell_type": "markdown",
      "source": [
        "### 8. Advanced"
      ],
      "metadata": {
        "id": "pXqerXMFjPNC"
      }
    },
    {
      "cell_type": "markdown",
      "source": [
        "Use a UDF to classify department as \"Tech\" vs \"Non-Tech\"."
      ],
      "metadata": {
        "id": "lwLfV7DjjR1z"
      }
    },
    {
      "cell_type": "code",
      "source": [
        "def classify_departments(department):\n",
        "    tech_depts = [\"Engineering\", \"IT\", \"Development\", \"Tech Support\"]\n",
        "\n",
        "    if department in tech_depts:\n",
        "        return \"Tech\"\n",
        "    return \"Non-Tech\"\n",
        "\n",
        "\n",
        "classify_department_udf = udf(classify_departments, StringType())\n",
        "\n",
        "employee_df = employee_df.withColumn(\"DeptCategory\", classify_department_udf(employee_df.Department))\n",
        "\n",
        "employee_df.select(\"EmpID\", \"Name\", \"Department\", \"DeptCategory\").show()"
      ],
      "metadata": {
        "colab": {
          "base_uri": "https://localhost:8080/"
        },
        "id": "BTIseEJXjRdU",
        "outputId": "3606862e-65b3-46a3-c107-10fac484c961"
      },
      "execution_count": 132,
      "outputs": [
        {
          "output_type": "stream",
          "name": "stdout",
          "text": [
            "+-----+------+-----------+------------+\n",
            "|EmpID|  Name| Department|DeptCategory|\n",
            "+-----+------+-----------+------------+\n",
            "|    1| Anita|         HR|    Non-Tech|\n",
            "|    2|   Raj|Engineering|        Tech|\n",
            "|    3|Simran|Engineering|        Tech|\n",
            "|    4| Aamir|  Marketing|    Non-Tech|\n",
            "|    5| Nisha|         HR|    Non-Tech|\n",
            "+-----+------+-----------+------------+\n",
            "\n"
          ]
        }
      ]
    },
    {
      "cell_type": "markdown",
      "source": [
        " Create a view emp_attendance_summary."
      ],
      "metadata": {
        "id": "yGIkcsiMj4JV"
      }
    },
    {
      "cell_type": "code",
      "source": [
        "spark.sql(\"\"\"\n",
        "    CREATE OR REPLACE VIEW emp_attendance_summary AS\n",
        "    SELECT\n",
        "\n",
        "      e.EmpID,\n",
        "      e.Name,\n",
        "      e.Department,\n",
        "      COUNT(a.Status) AS Total_days,\n",
        "      SUM(CASE WHEN a.Status = 'Present' THEN 1 ELSE 0 END) AS Present_days,\n",
        "      ROUND(SUM(CASE WHEN a.Status = 'Present' THEN 1 ELSE 0 END) * 100.0 / COUNT(a.Status), 2) AS Attendance_percentage\n",
        "\n",
        "    FROM employees e\n",
        "    LEFT JOIN attendance a ON e.EmpID = a.EmpID\n",
        "    GROUP BY e.EmpID, e.Name, e.Department\n",
        "\"\"\")\n",
        "spark.sql(\"SELECT * FROM emp_attendance_summary\").show()"
      ],
      "metadata": {
        "colab": {
          "base_uri": "https://localhost:8080/"
        },
        "id": "G0gSEh3nj4mY",
        "outputId": "748b4829-1320-4906-fa7f-f9d859bfe899"
      },
      "execution_count": 181,
      "outputs": [
        {
          "output_type": "stream",
          "name": "stdout",
          "text": [
            "+-----+------+-----------+----------+------------+---------------------+\n",
            "|EmpID|  Name| Department|Total_days|Present_days|Attendance_percentage|\n",
            "+-----+------+-----------+----------+------------+---------------------+\n",
            "|    2|   Raj|Engineering|         2|           1|                50.00|\n",
            "|    5| Nisha|         HR|         2|           2|               100.00|\n",
            "|    1| Anita|         HR|         2|           2|               100.00|\n",
            "|    4| Aamir|  Marketing|         2|           0|                 0.00|\n",
            "|    3|Simran|Engineering|         2|           2|               100.00|\n",
            "+-----+------+-----------+----------+------------+---------------------+\n",
            "\n"
          ]
        }
      ]
    },
    {
      "cell_type": "markdown",
      "source": [
        "Save it as Parquet partitioned by Department."
      ],
      "metadata": {
        "id": "87V02hj_liP3"
      }
    },
    {
      "cell_type": "code",
      "source": [
        "attendance_summary_df = spark.table(\"emp_attendance_summary\")\n",
        "attendance_summary_df.write.mode(\"overwrite\").partitionBy(\"Department\").parquet(\"/mnt/data/attendance_summary_parquet\")\n",
        "\n",
        "read_parquet_df = spark.read.parquet(\"/mnt/data/attendance_summary_parquet\")\n",
        "read_parquet_df.show()\n"
      ],
      "metadata": {
        "colab": {
          "base_uri": "https://localhost:8080/"
        },
        "id": "itpZBIdPlhXG",
        "outputId": "853c3e20-b1a6-4074-b76b-626f825b512f"
      },
      "execution_count": 183,
      "outputs": [
        {
          "output_type": "stream",
          "name": "stdout",
          "text": [
            "+-----+------+----------+------------+---------------------+-----------+\n",
            "|EmpID|  Name|Total_days|Present_days|Attendance_percentage| Department|\n",
            "+-----+------+----------+------------+---------------------+-----------+\n",
            "|    5| Nisha|         2|           2|               100.00|         HR|\n",
            "|    1| Anita|         2|           2|               100.00|         HR|\n",
            "|    2|   Raj|         2|           1|                50.00|Engineering|\n",
            "|    3|Simran|         2|           2|               100.00|Engineering|\n",
            "|    4| Aamir|         2|           0|                 0.00|  Marketing|\n",
            "+-----+------+----------+------------+---------------------+-----------+\n",
            "\n"
          ]
        }
      ]
    }
  ]
}