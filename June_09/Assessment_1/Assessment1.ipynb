{
  "nbformat": 4,
  "nbformat_minor": 0,
  "metadata": {
    "colab": {
      "provenance": []
    },
    "kernelspec": {
      "name": "python3",
      "display_name": "Python 3"
    },
    "language_info": {
      "name": "python"
    }
  },
  "cells": [
    {
      "cell_type": "markdown",
      "source": [
        "Import Statements"
      ],
      "metadata": {
        "id": "kfAjoCKlyvXH"
      }
    },
    {
      "cell_type": "code",
      "execution_count": null,
      "metadata": {
        "id": "3-GP5_xGyYZ1"
      },
      "outputs": [],
      "source": [
        "from pyspark.sql import SparkSession\n",
        "from pyspark.sql.functions import year, when, col, count, sum, concat, lit, lower, concat_ws, datediff, current_date, to_date, date_format, udf\n",
        "import time\n",
        "from pyspark.sql.types import StringType\n",
        "from google.colab import drive"
      ]
    },
    {
      "cell_type": "markdown",
      "source": [
        "Creating PySpark Session"
      ],
      "metadata": {
        "id": "m3UsovlRyxXj"
      }
    },
    {
      "cell_type": "code",
      "source": [
        "spark = SparkSession.builder \\\n",
        "                    .appName(\"Assessment1\") \\\n",
        "                    .getOrCreate()\n",
        "spark"
      ],
      "metadata": {
        "colab": {
          "base_uri": "https://localhost:8080/",
          "height": 219
        },
        "id": "gpFAT9Ylye9g",
        "outputId": "2637a938-a15e-400d-f06e-7fbd509ff5da"
      },
      "execution_count": null,
      "outputs": [
        {
          "output_type": "execute_result",
          "data": {
            "text/plain": [
              "<pyspark.sql.session.SparkSession at 0x7d0c2ff22b10>"
            ],
            "text/html": [
              "\n",
              "            <div>\n",
              "                <p><b>SparkSession - in-memory</b></p>\n",
              "                \n",
              "        <div>\n",
              "            <p><b>SparkContext</b></p>\n",
              "\n",
              "            <p><a href=\"http://849a7ce33c26:4040\">Spark UI</a></p>\n",
              "\n",
              "            <dl>\n",
              "              <dt>Version</dt>\n",
              "                <dd><code>v3.5.1</code></dd>\n",
              "              <dt>Master</dt>\n",
              "                <dd><code>local[*]</code></dd>\n",
              "              <dt>AppName</dt>\n",
              "                <dd><code>Assessment</code></dd>\n",
              "            </dl>\n",
              "        </div>\n",
              "        \n",
              "            </div>\n",
              "        "
            ]
          },
          "metadata": {},
          "execution_count": 40
        }
      ]
    },
    {
      "cell_type": "markdown",
      "source": [
        "Mounting Google Drive"
      ],
      "metadata": {
        "id": "aJkPqsH26Orl"
      }
    },
    {
      "cell_type": "code",
      "source": [
        "drive.mount('/content/drive')"
      ],
      "metadata": {
        "colab": {
          "base_uri": "https://localhost:8080/"
        },
        "id": "_L-OCZS96Qo0",
        "outputId": "baedac8f-3339-44cd-bf22-9d68e09db844"
      },
      "execution_count": null,
      "outputs": [
        {
          "output_type": "stream",
          "name": "stdout",
          "text": [
            "Drive already mounted at /content/drive; to attempt to forcibly remount, call drive.mount(\"/content/drive\", force_remount=True).\n"
          ]
        }
      ]
    },
    {
      "cell_type": "markdown",
      "source": [
        "##TASKS"
      ],
      "metadata": {
        "id": "pqTf-Lpw6E8m"
      }
    },
    {
      "cell_type": "markdown",
      "source": [
        "### 1. Data Ingestion & Exploration"
      ],
      "metadata": {
        "id": "I58XLvJI6Gf9"
      }
    },
    {
      "cell_type": "markdown",
      "source": [
        "Load both CSV files with schema inference."
      ],
      "metadata": {
        "id": "bmik74oL6JKR"
      }
    },
    {
      "cell_type": "code",
      "source": [
        "# Reading customer data\n",
        "customer_df = spark.read.csv('/content/drive/MyDrive/PysparkAssessment/customers.csv', header=True, inferSchema=True)\n",
        "\n",
        "# Reading order data\n",
        "order_df =  spark.read.csv('/content/drive/MyDrive/PysparkAssessment/orders.csv', header=True, inferSchema=True)"
      ],
      "metadata": {
        "id": "4WHCQxas6L4a"
      },
      "execution_count": null,
      "outputs": []
    },
    {
      "cell_type": "markdown",
      "source": [
        " List all columns and data types."
      ],
      "metadata": {
        "id": "gTyCGxOy6U1U"
      }
    },
    {
      "cell_type": "code",
      "source": [
        "print(\"\\n Employee Data\")\n",
        "customer_df.printSchema()\n",
        "\n",
        "print(\"\\n Order Data\")\n",
        "order_df.printSchema()"
      ],
      "metadata": {
        "colab": {
          "base_uri": "https://localhost:8080/"
        },
        "id": "SdrQS2z26VsU",
        "outputId": "edda501e-b86d-4f38-bac7-9029cc419f1c"
      },
      "execution_count": null,
      "outputs": [
        {
          "output_type": "stream",
          "name": "stdout",
          "text": [
            "\n",
            " Employee Data\n",
            "root\n",
            " |-- CustomerID: integer (nullable = true)\n",
            " |-- Name: string (nullable = true)\n",
            " |-- Email: string (nullable = true)\n",
            " |-- City: string (nullable = true)\n",
            " |-- SignupDate : timestamp (nullable = true)\n",
            "\n",
            "\n",
            " Order Data\n",
            "root\n",
            " |-- OrderID: integer (nullable = true)\n",
            " |-- CustomerID: integer (nullable = true)\n",
            " |-- Product: string (nullable = true)\n",
            " |-- Category: string (nullable = true)\n",
            " |-- Quantity: integer (nullable = true)\n",
            " |-- Price: double (nullable = true)\n",
            " |-- OrderDate : timestamp (nullable = true)\n",
            "\n"
          ]
        }
      ]
    },
    {
      "cell_type": "markdown",
      "source": [
        "Count the total number of customers and orders."
      ],
      "metadata": {
        "id": "dpwiA8jK6gnV"
      }
    },
    {
      "cell_type": "code",
      "source": [
        "print(f\"Total Number of Customers: {customer_df.count()}\")\n",
        "print(f\"Total Number of Orders: {order_df.count()}\")"
      ],
      "metadata": {
        "colab": {
          "base_uri": "https://localhost:8080/"
        },
        "id": "edK5T_4-6ila",
        "outputId": "29f88673-c68f-4db7-b2c3-7911a6205219"
      },
      "execution_count": null,
      "outputs": [
        {
          "output_type": "stream",
          "name": "stdout",
          "text": [
            "Total Number of Customers: 5\n",
            "Total Number of Orders: 7\n"
          ]
        }
      ]
    },
    {
      "cell_type": "markdown",
      "source": [
        "Show distinct cities."
      ],
      "metadata": {
        "id": "eH7KjwM17Dw_"
      }
    },
    {
      "cell_type": "code",
      "source": [
        "customer_df.select(\"City\") \\\n",
        "           .distinct() \\\n",
        "           .show()"
      ],
      "metadata": {
        "colab": {
          "base_uri": "https://localhost:8080/"
        },
        "id": "ZtGB657d7EIf",
        "outputId": "f2a4a6cc-dca4-41cd-eb98-60d09875cdfd"
      },
      "execution_count": null,
      "outputs": [
        {
          "output_type": "stream",
          "name": "stdout",
          "text": [
            "+---------+\n",
            "|     City|\n",
            "+---------+\n",
            "|Bangalore|\n",
            "|  Chennai|\n",
            "|   Mumbai|\n",
            "|    Delhi|\n",
            "|Hyderabad|\n",
            "+---------+\n",
            "\n"
          ]
        }
      ]
    },
    {
      "cell_type": "markdown",
      "source": [
        "### 2. DataFrame Transformation"
      ],
      "metadata": {
        "id": "ARyT6eDI7Tw0"
      }
    },
    {
      "cell_type": "markdown",
      "source": [
        "Add a column TotalAmount = Price * Quantity"
      ],
      "metadata": {
        "id": "V8qMoaM87ZHO"
      }
    },
    {
      "cell_type": "code",
      "source": [
        "order_df = order_df.withColumn(\"TotalAmount\", order_df.Price * order_df.Quantity)\n",
        "order_df.select(\"OrderID\", \"CustomerID\", \"Product\", \"Quantity\", \"Price\", \"TotalAmount\").show()"
      ],
      "metadata": {
        "colab": {
          "base_uri": "https://localhost:8080/"
        },
        "id": "nFks2POp7Wdv",
        "outputId": "f51f7482-b90e-47fc-df73-a89dc139c3f4"
      },
      "execution_count": null,
      "outputs": [
        {
          "output_type": "stream",
          "name": "stdout",
          "text": [
            "+-------+----------+---------+--------+-------+-----------+\n",
            "|OrderID|CustomerID|  Product|Quantity|  Price|TotalAmount|\n",
            "+-------+----------+---------+--------+-------+-----------+\n",
            "|      1|       101|   Laptop|       2|50000.0|   100000.0|\n",
            "|      2|       101|    Mouse|       1| 1200.0|     1200.0|\n",
            "|      3|       102|   Tablet|       1|20000.0|    20000.0|\n",
            "|      4|       103|Bookshelf|       1| 3500.0|     3500.0|\n",
            "|      5|       104|    Mixer|       1| 5000.0|     5000.0|\n",
            "|      6|       105| Notebook|       5|  500.0|     2500.0|\n",
            "|      7|       102|    Phone|       1|30000.0|    30000.0|\n",
            "+-------+----------+---------+--------+-------+-----------+\n",
            "\n"
          ]
        }
      ]
    },
    {
      "cell_type": "markdown",
      "source": [
        "Create a new column OrderYear from OrderDate"
      ],
      "metadata": {
        "id": "EAxp1IYL7rdt"
      }
    },
    {
      "cell_type": "code",
      "source": [
        "order_df = order_df.withColumn(\"OrderYear\", year(order_df.OrderDate))\n",
        "order_df.select(\"OrderID\", \"CustomerID\", \"Product\", \"Quantity\", \"TotalAmount\", \"OrderDate\", \"OrderYear\").show()"
      ],
      "metadata": {
        "colab": {
          "base_uri": "https://localhost:8080/"
        },
        "id": "v3cXbDkN7tQp",
        "outputId": "440b6aee-fa2f-4a30-e9b0-f7860afbffa7"
      },
      "execution_count": null,
      "outputs": [
        {
          "output_type": "stream",
          "name": "stdout",
          "text": [
            "+-------+----------+---------+--------+-----------+-------------------+---------+\n",
            "|OrderID|CustomerID|  Product|Quantity|TotalAmount|          OrderDate|OrderYear|\n",
            "+-------+----------+---------+--------+-----------+-------------------+---------+\n",
            "|      1|       101|   Laptop|       2|   100000.0|2024-01-10 00:00:00|     2024|\n",
            "|      2|       101|    Mouse|       1|     1200.0|2024-01-15 00:00:00|     2024|\n",
            "|      3|       102|   Tablet|       1|    20000.0|2024-02-01 00:00:00|     2024|\n",
            "|      4|       103|Bookshelf|       1|     3500.0|2024-02-10 00:00:00|     2024|\n",
            "|      5|       104|    Mixer|       1|     5000.0|2024-02-15 00:00:00|     2024|\n",
            "|      6|       105| Notebook|       5|     2500.0|2024-03-01 00:00:00|     2024|\n",
            "|      7|       102|    Phone|       1|    30000.0|2024-03-02 00:00:00|     2024|\n",
            "+-------+----------+---------+--------+-----------+-------------------+---------+\n",
            "\n"
          ]
        }
      ]
    },
    {
      "cell_type": "markdown",
      "source": [
        "Filter orders with TotalAmount > 10,000"
      ],
      "metadata": {
        "id": "sGvn6NW4-q5C"
      }
    },
    {
      "cell_type": "code",
      "source": [
        "order_df.filter(order_df.TotalAmount > 10000) \\\n",
        "        .select(\"OrderID\", \"CustomerID\", \"Product\", \"Quantity\", \"Price\", \"TotalAmount\") \\\n",
        "        .show()"
      ],
      "metadata": {
        "colab": {
          "base_uri": "https://localhost:8080/"
        },
        "id": "AiDrKzTc-sc6",
        "outputId": "74eb0928-fe04-497d-e102-0c15c1e6f037"
      },
      "execution_count": null,
      "outputs": [
        {
          "output_type": "stream",
          "name": "stdout",
          "text": [
            "+-------+----------+-------+--------+-------+-----------+\n",
            "|OrderID|CustomerID|Product|Quantity|  Price|TotalAmount|\n",
            "+-------+----------+-------+--------+-------+-----------+\n",
            "|      1|       101| Laptop|       2|50000.0|   100000.0|\n",
            "|      3|       102| Tablet|       1|20000.0|    20000.0|\n",
            "|      7|       102|  Phone|       1|30000.0|    30000.0|\n",
            "+-------+----------+-------+--------+-------+-----------+\n",
            "\n"
          ]
        }
      ]
    },
    {
      "cell_type": "markdown",
      "source": [
        "Drop the email columns from the customers"
      ],
      "metadata": {
        "id": "UQLCzytl_Qec"
      }
    },
    {
      "cell_type": "code",
      "source": [
        "customer_df = customer_df.drop(\"Email\")\n",
        "customer_df.show()"
      ],
      "metadata": {
        "colab": {
          "base_uri": "https://localhost:8080/"
        },
        "id": "S_xcjj6m_TEW",
        "outputId": "f2f7b3d0-72ef-4802-bbc2-cf1ca8796754"
      },
      "execution_count": null,
      "outputs": [
        {
          "output_type": "stream",
          "name": "stdout",
          "text": [
            "+----------+-----+---------+-------------------+\n",
            "|CustomerID| Name|     City|        SignupDate |\n",
            "+----------+-----+---------+-------------------+\n",
            "|       101|  Ali|   Mumbai|2022-05-10 00:00:00|\n",
            "|       102| Neha|    Delhi|2023-01-15 00:00:00|\n",
            "|       103| Ravi|Bangalore|2021-11-01 00:00:00|\n",
            "|       104|Sneha|Hyderabad|2020-07-22 00:00:00|\n",
            "|       105| Amit|  Chennai|2023-03-10 00:00:00|\n",
            "+----------+-----+---------+-------------------+\n",
            "\n"
          ]
        }
      ]
    },
    {
      "cell_type": "markdown",
      "source": [
        "### 3. Handling Nulls & Conditionals"
      ],
      "metadata": {
        "id": "YLopGb3a_hvm"
      }
    },
    {
      "cell_type": "markdown",
      "source": [
        "Simulate a null in City and fill it with “Unknown”."
      ],
      "metadata": {
        "id": "6ItaJqQ9_nUK"
      }
    },
    {
      "cell_type": "code",
      "source": [
        "customer_df = customer_df.fillna({\"City\": \"Unknown\"})\n",
        "customer_df.show()"
      ],
      "metadata": {
        "colab": {
          "base_uri": "https://localhost:8080/"
        },
        "id": "1U2vQES5_o1W",
        "outputId": "58e792e2-6e67-443c-ddf1-2514bc23fe12"
      },
      "execution_count": null,
      "outputs": [
        {
          "output_type": "stream",
          "name": "stdout",
          "text": [
            "+----------+-----+---------+-------------------+\n",
            "|CustomerID| Name|     City|        SignupDate |\n",
            "+----------+-----+---------+-------------------+\n",
            "|       101|  Ali|   Mumbai|2022-05-10 00:00:00|\n",
            "|       102| Neha|    Delhi|2023-01-15 00:00:00|\n",
            "|       103| Ravi|Bangalore|2021-11-01 00:00:00|\n",
            "|       104|Sneha|Hyderabad|2020-07-22 00:00:00|\n",
            "|       105| Amit|  Chennai|2023-03-10 00:00:00|\n",
            "+----------+-----+---------+-------------------+\n",
            "\n"
          ]
        }
      ]
    },
    {
      "cell_type": "markdown",
      "source": [
        " Label customers as “Loyal” if SignupDate is before 2022, else “New”."
      ],
      "metadata": {
        "id": "IG_kym1r_2qF"
      }
    },
    {
      "cell_type": "code",
      "source": [
        "customer_df = customer_df.withColumn(\n",
        "                                      \"Customer_type\",\n",
        "                                       when(year(col(\"SignupDate\")) < 2022, \"Loyal\")\n",
        "                                      .otherwise(\"New\")\n",
        "                                    )\n",
        "customer_df.select(\"CustomerID\", \"Name\", year(\"SignupDate\").alias(\"Signup_year\"), \"Customer_type\").show()"
      ],
      "metadata": {
        "colab": {
          "base_uri": "https://localhost:8080/"
        },
        "id": "GJBQLsiC_3Ia",
        "outputId": "4026e86d-1057-47d8-c2d1-cda27f293ab4"
      },
      "execution_count": null,
      "outputs": [
        {
          "output_type": "stream",
          "name": "stdout",
          "text": [
            "+----------+-----+-----------+-------------+\n",
            "|CustomerID| Name|Signup_year|Customer_type|\n",
            "+----------+-----+-----------+-------------+\n",
            "|       101|  Ali|       2022|          New|\n",
            "|       102| Neha|       2023|          New|\n",
            "|       103| Ravi|       2021|        Loyal|\n",
            "|       104|Sneha|       2020|        Loyal|\n",
            "|       105| Amit|       2023|          New|\n",
            "+----------+-----+-----------+-------------+\n",
            "\n"
          ]
        }
      ]
    },
    {
      "cell_type": "markdown",
      "source": [
        "Create OrderType column: \"Low\" if < 5,000, \"High\" if ≥ 5,000."
      ],
      "metadata": {
        "id": "RDfgWGpRBpFu"
      }
    },
    {
      "cell_type": "code",
      "source": [
        "order_df = order_df.withColumn(\"OrderType\",\n",
        "                                when(col(\"TotalAmount\") < 5000, \"Low\")\n",
        "                                .otherwise(\"High\")\n",
        "                              )\n",
        "order_df.select(\"OrderID\", \"CustomerID\", \"Product\", \"TotalAmount\", \"OrderType\").show()"
      ],
      "metadata": {
        "colab": {
          "base_uri": "https://localhost:8080/"
        },
        "id": "3t4QYa1eBqDH",
        "outputId": "127f8dd3-1355-4a7f-8776-06deae50dca1"
      },
      "execution_count": null,
      "outputs": [
        {
          "output_type": "stream",
          "name": "stdout",
          "text": [
            "+-------+----------+---------+-----------+---------+\n",
            "|OrderID|CustomerID|  Product|TotalAmount|OrderType|\n",
            "+-------+----------+---------+-----------+---------+\n",
            "|      1|       101|   Laptop|   100000.0|     High|\n",
            "|      2|       101|    Mouse|     1200.0|      Low|\n",
            "|      3|       102|   Tablet|    20000.0|     High|\n",
            "|      4|       103|Bookshelf|     3500.0|      Low|\n",
            "|      5|       104|    Mixer|     5000.0|     High|\n",
            "|      6|       105| Notebook|     2500.0|      Low|\n",
            "|      7|       102|    Phone|    30000.0|     High|\n",
            "+-------+----------+---------+-----------+---------+\n",
            "\n"
          ]
        }
      ]
    },
    {
      "cell_type": "markdown",
      "source": [
        "### 4. Joins & Aggregation"
      ],
      "metadata": {
        "id": "TwBuNQ-ICDFk"
      }
    },
    {
      "cell_type": "markdown",
      "source": [
        "Join customers and orders on CustomerID .\n"
      ],
      "metadata": {
        "id": "jTi1f8mXCFL5"
      }
    },
    {
      "cell_type": "code",
      "source": [
        "customer_order_df = customer_df.join(order_df, on=\"CustomerID\", how=\"inner\")\n",
        "customer_order_df.show()"
      ],
      "metadata": {
        "colab": {
          "base_uri": "https://localhost:8080/"
        },
        "id": "_DnR4PpLBvWY",
        "outputId": "e88bb704-0395-45be-c47e-839128e102d7"
      },
      "execution_count": null,
      "outputs": [
        {
          "output_type": "stream",
          "name": "stdout",
          "text": [
            "+----------+-----+---------+-------------------+-------------+-------+---------+-----------+--------+-------+-------------------+-----------+---------+---------+\n",
            "|CustomerID| Name|     City|         SignupDate|Customer_type|OrderID|  Product|   Category|Quantity|  Price|          OrderDate|TotalAmount|OrderYear|OrderType|\n",
            "+----------+-----+---------+-------------------+-------------+-------+---------+-----------+--------+-------+-------------------+-----------+---------+---------+\n",
            "|       101|  Ali|   Mumbai|2022-05-10 00:00:00|          New|      1|   Laptop|Electronics|       2|50000.0|2024-01-10 00:00:00|   100000.0|     2024|     High|\n",
            "|       101|  Ali|   Mumbai|2022-05-10 00:00:00|          New|      2|    Mouse|Electronics|       1| 1200.0|2024-01-15 00:00:00|     1200.0|     2024|      Low|\n",
            "|       102| Neha|    Delhi|2023-01-15 00:00:00|          New|      3|   Tablet|Electronics|       1|20000.0|2024-02-01 00:00:00|    20000.0|     2024|     High|\n",
            "|       103| Ravi|Bangalore|2021-11-01 00:00:00|        Loyal|      4|Bookshelf|  Furniture|       1| 3500.0|2024-02-10 00:00:00|     3500.0|     2024|      Low|\n",
            "|       104|Sneha|Hyderabad|2020-07-22 00:00:00|        Loyal|      5|    Mixer| Appliances|       1| 5000.0|2024-02-15 00:00:00|     5000.0|     2024|     High|\n",
            "|       105| Amit|  Chennai|2023-03-10 00:00:00|          New|      6| Notebook| Stationery|       5|  500.0|2024-03-01 00:00:00|     2500.0|     2024|      Low|\n",
            "|       102| Neha|    Delhi|2023-01-15 00:00:00|          New|      7|    Phone|Electronics|       1|30000.0|2024-03-02 00:00:00|    30000.0|     2024|     High|\n",
            "+----------+-----+---------+-------------------+-------------+-------+---------+-----------+--------+-------+-------------------+-----------+---------+---------+\n",
            "\n"
          ]
        }
      ]
    },
    {
      "cell_type": "markdown",
      "source": [
        "Get total orders and revenue per city."
      ],
      "metadata": {
        "id": "ZexZ9FLACaun"
      }
    },
    {
      "cell_type": "code",
      "source": [
        "customer_order_df.groupBy(\"City\") \\\n",
        "                 .agg(\n",
        "                      count(\"OrderID\").alias(\"TotalOrders\"),\n",
        "                      sum(\"TotalAmount\").alias(\"TotalRevenue\")) \\\n",
        "                  .orderBy(\"TotalRevenue\", ascending = False) \\\n",
        "                  .show()\n"
      ],
      "metadata": {
        "colab": {
          "base_uri": "https://localhost:8080/"
        },
        "id": "z3DGjRBOCcN9",
        "outputId": "bd6e83f1-8679-43bf-bc77-7fdb31a22d82"
      },
      "execution_count": null,
      "outputs": [
        {
          "output_type": "stream",
          "name": "stdout",
          "text": [
            "+---------+-----------+------------+\n",
            "|     City|TotalOrders|TotalRevenue|\n",
            "+---------+-----------+------------+\n",
            "|   Mumbai|          2|    101200.0|\n",
            "|    Delhi|          2|     50000.0|\n",
            "|Hyderabad|          1|      5000.0|\n",
            "|Bangalore|          1|      3500.0|\n",
            "|  Chennai|          1|      2500.0|\n",
            "+---------+-----------+------------+\n",
            "\n"
          ]
        }
      ]
    },
    {
      "cell_type": "markdown",
      "source": [
        "Show top 3 customers by total spend."
      ],
      "metadata": {
        "id": "rYzk8XZDC11Y"
      }
    },
    {
      "cell_type": "code",
      "source": [
        "customer_order_df.groupBy(\"CustomerID\") \\\n",
        "                 .agg(sum(\"TotalAmount\").alias(\"Total_amount_spend\")) \\\n",
        "                 .orderBy(\"TotalAmountSpend\", ascending = False) \\\n",
        "                 .limit(3) \\\n",
        "                 .show()"
      ],
      "metadata": {
        "colab": {
          "base_uri": "https://localhost:8080/"
        },
        "id": "3JJBvnuPC2O-",
        "outputId": "8521dc86-1f9b-4953-e041-bbfe82a599c6"
      },
      "execution_count": null,
      "outputs": [
        {
          "output_type": "stream",
          "name": "stdout",
          "text": [
            "+----------+----------------+\n",
            "|CustomerID|TotalAmountSpend|\n",
            "+----------+----------------+\n",
            "|       101|        101200.0|\n",
            "|       102|         50000.0|\n",
            "|       104|          5000.0|\n",
            "+----------+----------------+\n",
            "\n"
          ]
        }
      ]
    },
    {
      "cell_type": "markdown",
      "source": [
        "Count how many products each category has sold."
      ],
      "metadata": {
        "id": "RXj93ptbFHLb"
      }
    },
    {
      "cell_type": "code",
      "source": [
        "customer_order_df.groupBy(\"Category\") \\\n",
        "    .agg(sum(\"Quantity\").alias(\"Total_products_sold\")) \\\n",
        "    .orderBy(\"TotalProductsSold\", ascending=False) \\\n",
        "    .show()"
      ],
      "metadata": {
        "colab": {
          "base_uri": "https://localhost:8080/"
        },
        "id": "DPDtNBSOFHlw",
        "outputId": "2d30c995-a2e9-46c8-d03e-0b3da5315100"
      },
      "execution_count": null,
      "outputs": [
        {
          "output_type": "stream",
          "name": "stdout",
          "text": [
            "+-----------+-----------------+\n",
            "|   Category|TotalProductsSold|\n",
            "+-----------+-----------------+\n",
            "| Stationery|                5|\n",
            "|Electronics|                5|\n",
            "|  Furniture|                1|\n",
            "| Appliances|                1|\n",
            "+-----------+-----------------+\n",
            "\n"
          ]
        }
      ]
    },
    {
      "cell_type": "markdown",
      "source": [
        "### 5.  Spark SQL Tasks"
      ],
      "metadata": {
        "id": "WMHnHkO4Fx-h"
      }
    },
    {
      "cell_type": "markdown",
      "source": [
        "Create database sales and switch to it."
      ],
      "metadata": {
        "id": "hqUIpKxfF0RZ"
      }
    },
    {
      "cell_type": "code",
      "source": [
        "spark.sql(\"\"\"\n",
        "          CREATE DATABASE IF NOT EXISTS sales\n",
        "\"\"\")\n",
        "\n",
        "spark.sql(\"USE sales\")"
      ],
      "metadata": {
        "colab": {
          "base_uri": "https://localhost:8080/"
        },
        "id": "OtiZeaPyF2I7",
        "outputId": "926ada8d-88a3-4250-d36a-b06f18ec0593"
      },
      "execution_count": null,
      "outputs": [
        {
          "output_type": "execute_result",
          "data": {
            "text/plain": [
              "DataFrame[]"
            ]
          },
          "metadata": {},
          "execution_count": 98
        }
      ]
    },
    {
      "cell_type": "markdown",
      "source": [
        "save both datasets as tables in the sales database."
      ],
      "metadata": {
        "id": "8v0cXd9jGE3q"
      }
    },
    {
      "cell_type": "code",
      "source": [
        "order_df.write.mode(\"overwrite\") \\\n",
        "              .saveAsTable(\"sales.orders\")\n",
        "\n",
        "customer_df.write.mode(\"overwrite\") \\\n",
        "                .saveAsTable(\"sales.customers\")"
      ],
      "metadata": {
        "id": "OtsXPD60GFSJ"
      },
      "execution_count": null,
      "outputs": []
    },
    {
      "cell_type": "markdown",
      "source": [
        " List all orders by customers from “Delhi”."
      ],
      "metadata": {
        "id": "qY8y14n9Ghuz"
      }
    },
    {
      "cell_type": "code",
      "source": [
        "spark.sql(\"\"\"\n",
        "          SELECT\n",
        "            c.CustomerID,\n",
        "            o.OrderID,\n",
        "            o.Product,\n",
        "            o.Quantity,\n",
        "            o.Price,\n",
        "            o.TotalAmount,\n",
        "            CAST(o.OrderDate AS DATE) AS OrderDate\n",
        "          FROM sales.orders AS o\n",
        "          JOIN sales.customers AS c\n",
        "          ON o.CustomerID = c.CustomerID\n",
        "          WHERE c.City = 'Delhi'\n",
        "\"\"\").show()"
      ],
      "metadata": {
        "colab": {
          "base_uri": "https://localhost:8080/"
        },
        "id": "wdqgZ_xmGiI_",
        "outputId": "8e684053-69d0-4ade-8dde-62b104ff8faa"
      },
      "execution_count": null,
      "outputs": [
        {
          "output_type": "stream",
          "name": "stdout",
          "text": [
            "+----------+-------+-------+--------+-------+-----------+----------+\n",
            "|CustomerID|OrderID|Product|Quantity|  Price|TotalAmount| OrderDate|\n",
            "+----------+-------+-------+--------+-------+-----------+----------+\n",
            "|       102|      3| Tablet|       1|20000.0|    20000.0|2024-02-01|\n",
            "|       102|      7|  Phone|       1|30000.0|    30000.0|2024-03-02|\n",
            "+----------+-------+-------+--------+-------+-----------+----------+\n",
            "\n"
          ]
        }
      ]
    },
    {
      "cell_type": "markdown",
      "source": [
        "Find average order value in each category."
      ],
      "metadata": {
        "id": "61qA2mwlHIm_"
      }
    },
    {
      "cell_type": "code",
      "source": [
        "spark.sql(\"\"\"\n",
        "          SELECT\n",
        "            Category,\n",
        "            AVG(TotalAmount) AS AvgOrderValue\n",
        "          FROM sales.orders\n",
        "          GROUP BY Category\n",
        "          ORDER BY AvgOrderValue DESC\n",
        "\"\"\").show()"
      ],
      "metadata": {
        "colab": {
          "base_uri": "https://localhost:8080/"
        },
        "id": "-28n8NmEHJFM",
        "outputId": "7ed5c4db-f38f-44c9-dc2f-56cd9c2d181b"
      },
      "execution_count": null,
      "outputs": [
        {
          "output_type": "stream",
          "name": "stdout",
          "text": [
            "+-----------+-------------+\n",
            "|   Category|AvgOrderValue|\n",
            "+-----------+-------------+\n",
            "|Electronics|      37800.0|\n",
            "| Appliances|       5000.0|\n",
            "|  Furniture|       3500.0|\n",
            "| Stationery|       2500.0|\n",
            "+-----------+-------------+\n",
            "\n"
          ]
        }
      ]
    },
    {
      "cell_type": "markdown",
      "source": [
        "Create a view monthly_orders with month-wise total amount."
      ],
      "metadata": {
        "id": "9Tq68uEiHVJV"
      }
    },
    {
      "cell_type": "code",
      "source": [
        "spark.sql(\"\"\"\n",
        "          CREATE OR REPLACE VIEW sales.monthly_orders AS\n",
        "          SELECT\n",
        "            MONTH(OrderDate) AS Month,\n",
        "            SUM(TotalAmount) AS TotalAmount\n",
        "          FROM sales.orders\n",
        "          GROUP BY Month\n",
        "          ORDER BY Month\n",
        "\"\"\")\n",
        "\n",
        "spark.sql(\"SELECT * FROM sales.monthly_orders\").show()"
      ],
      "metadata": {
        "colab": {
          "base_uri": "https://localhost:8080/"
        },
        "id": "Y_OZsoVzHWfz",
        "outputId": "3fc915c0-5359-4d21-d2fe-addf53017e70"
      },
      "execution_count": null,
      "outputs": [
        {
          "output_type": "stream",
          "name": "stdout",
          "text": [
            "+-----+-----------+\n",
            "|Month|TotalAmount|\n",
            "+-----+-----------+\n",
            "|    1|   101200.0|\n",
            "|    2|    28500.0|\n",
            "|    3|    32500.0|\n",
            "+-----+-----------+\n",
            "\n"
          ]
        }
      ]
    },
    {
      "cell_type": "markdown",
      "source": [
        "### 6. String & Date Functions"
      ],
      "metadata": {
        "id": "NfnGa3aVH3aM"
      }
    },
    {
      "cell_type": "markdown",
      "source": [
        "Mask emails using regex (e.g: a***@gmail.com )"
      ],
      "metadata": {
        "id": "YJYZZTgpH6T2"
      }
    },
    {
      "cell_type": "code",
      "source": [
        "customer_df = customer_df.withColumn(\n",
        "    \"MaskedEmail\",\n",
        "    concat(lower(customer_df.Name.substr(1, 1)), lit(\"***@gmail.com\"))\n",
        ")\n",
        "\n",
        "customer_df.select(\"CustomerID\", \"Name\", \"MaskedEmail\").show()"
      ],
      "metadata": {
        "colab": {
          "base_uri": "https://localhost:8080/"
        },
        "id": "f57rb0YPIKKe",
        "outputId": "2df59338-13ca-45b2-a34d-1354315f7048"
      },
      "execution_count": null,
      "outputs": [
        {
          "output_type": "stream",
          "name": "stdout",
          "text": [
            "+----------+-----+--------------+\n",
            "|CustomerID| Name|   MaskedEmail|\n",
            "+----------+-----+--------------+\n",
            "|       101|  Ali|a***@gmail.com|\n",
            "|       102| Neha|n***@gmail.com|\n",
            "|       103| Ravi|r***@gmail.com|\n",
            "|       104|Sneha|s***@gmail.com|\n",
            "|       105| Amit|a***@gmail.com|\n",
            "+----------+-----+--------------+\n",
            "\n"
          ]
        }
      ]
    },
    {
      "cell_type": "markdown",
      "source": [
        "Concatenate Name and City as \"Name from City\""
      ],
      "metadata": {
        "id": "ms6UJx_JIaCz"
      }
    },
    {
      "cell_type": "code",
      "source": [
        "customer_df = customer_df.withColumn(\n",
        "    \"CityInfo\",\n",
        "    concat_ws(\" from \", \"Name\", \"City\")\n",
        ")\n",
        "\n",
        "customer_df.select(\"CustomerID\", \"Name\", \"City\", \"CityInfo\").show()"
      ],
      "metadata": {
        "colab": {
          "base_uri": "https://localhost:8080/"
        },
        "id": "0jBE83wyIcRO",
        "outputId": "2002a133-ae6b-4081-e3c3-285a16c5a21b"
      },
      "execution_count": null,
      "outputs": [
        {
          "output_type": "stream",
          "name": "stdout",
          "text": [
            "+----------+-----+---------+--------------------+\n",
            "|CustomerID| Name|     City|            CityInfo|\n",
            "+----------+-----+---------+--------------------+\n",
            "|       101|  Ali|   Mumbai|     Ali from Mumbai|\n",
            "|       102| Neha|    Delhi|     Neha from Delhi|\n",
            "|       103| Ravi|Bangalore| Ravi from Bangalore|\n",
            "|       104|Sneha|Hyderabad|Sneha from Hyderabad|\n",
            "|       105| Amit|  Chennai|   Amit from Chennai|\n",
            "+----------+-----+---------+--------------------+\n",
            "\n"
          ]
        }
      ]
    },
    {
      "cell_type": "markdown",
      "source": [
        "Use datediff() to calculate customer age in days."
      ],
      "metadata": {
        "id": "mXB86ERUIuP7"
      }
    },
    {
      "cell_type": "code",
      "source": [
        "customer_df = customer_df.withColumn(\"CustomerAgeInDays\",\n",
        "                                      datediff(current_date(), to_date(\"SignupDate\"))\n",
        "                                    )\n",
        "\n",
        "customer_df.select(\"CustomerID\", \"Name\", \"SignupDate\", \"CustomerAgeInDays\").show()"
      ],
      "metadata": {
        "colab": {
          "base_uri": "https://localhost:8080/"
        },
        "id": "87OWCVaIIw2N",
        "outputId": "706fa7b8-8d96-4e9e-82f3-87d2c4fd0e6a"
      },
      "execution_count": null,
      "outputs": [
        {
          "output_type": "stream",
          "name": "stdout",
          "text": [
            "+----------+-----+-------------------+-----------------+\n",
            "|CustomerID| Name|         SignupDate|CustomerAgeInDays|\n",
            "+----------+-----+-------------------+-----------------+\n",
            "|       101|  Ali|2022-05-10 00:00:00|             1126|\n",
            "|       102| Neha|2023-01-15 00:00:00|              876|\n",
            "|       103| Ravi|2021-11-01 00:00:00|             1316|\n",
            "|       104|Sneha|2020-07-22 00:00:00|             1783|\n",
            "|       105| Amit|2023-03-10 00:00:00|              822|\n",
            "+----------+-----+-------------------+-----------------+\n",
            "\n"
          ]
        }
      ]
    },
    {
      "cell_type": "markdown",
      "source": [
        "Extract month name from OrderDate ."
      ],
      "metadata": {
        "id": "fziRzi9nJKXG"
      }
    },
    {
      "cell_type": "code",
      "source": [
        "orders_df = order_df.withColumn(\"OrderMonthName\",\n",
        "                                date_format(\"OrderDate\", \"MMMM\")\n",
        "                                )\n",
        "\n",
        "orders_df.select(\"OrderID\", \"OrderDate\", \"OrderMonthName\").show()"
      ],
      "metadata": {
        "colab": {
          "base_uri": "https://localhost:8080/"
        },
        "id": "iOdlUcy0JLh7",
        "outputId": "2cd2072b-63e9-4b01-b860-6f656fbf6445"
      },
      "execution_count": null,
      "outputs": [
        {
          "output_type": "stream",
          "name": "stdout",
          "text": [
            "+-------+-------------------+--------------+\n",
            "|OrderID|          OrderDate|OrderMonthName|\n",
            "+-------+-------------------+--------------+\n",
            "|      1|2024-01-10 00:00:00|       January|\n",
            "|      2|2024-01-15 00:00:00|       January|\n",
            "|      3|2024-02-01 00:00:00|      February|\n",
            "|      4|2024-02-10 00:00:00|      February|\n",
            "|      5|2024-02-15 00:00:00|      February|\n",
            "|      6|2024-03-01 00:00:00|         March|\n",
            "|      7|2024-03-02 00:00:00|         March|\n",
            "+-------+-------------------+--------------+\n",
            "\n"
          ]
        }
      ]
    },
    {
      "cell_type": "markdown",
      "source": [
        "### 7. UDFs and Complex Logic"
      ],
      "metadata": {
        "id": "izkMfY9jJYFy"
      }
    },
    {
      "cell_type": "markdown",
      "source": [
        "Write a UDF to tag customers: \\\n",
        " “Gold” if spend > 50K, “Silver” if 10K–50K, “Bronze” if <10K."
      ],
      "metadata": {
        "id": "VyX6TTB3JaRN"
      }
    },
    {
      "cell_type": "code",
      "source": [
        "def customer_tags(spend):\n",
        "    if spend > 50000:\n",
        "        return \"Gold\"\n",
        "    if spend >= 10000:\n",
        "        return \"Silver\"\n",
        "    return \"Bronze\"\n",
        "\n",
        "tag_udf = udf(customer_tags, StringType())\n",
        "\n",
        "customer_spend_df = orders_df.groupBy(\"CustomerID\") \\\n",
        "                             .agg(sum(\"TotalAmount\") \\\n",
        "                             .alias(\"TotalSpend\"))\n",
        "\n",
        "tagged_customer_df = customer_spend_df.withColumn(\"CustomerTag\", tag_udf(\"TotalSpend\"))\n",
        "tagged_customer_df.show()"
      ],
      "metadata": {
        "colab": {
          "base_uri": "https://localhost:8080/"
        },
        "id": "GOyPSojuJZ6M",
        "outputId": "c0755993-d3c7-406a-fa7b-e06b4f0c0809"
      },
      "execution_count": null,
      "outputs": [
        {
          "output_type": "stream",
          "name": "stdout",
          "text": [
            "+----------+----------+-----------+\n",
            "|CustomerID|TotalSpend|CustomerTag|\n",
            "+----------+----------+-----------+\n",
            "|       101|  101200.0|       Gold|\n",
            "|       103|    3500.0|     Bronze|\n",
            "|       102|   50000.0|     Silver|\n",
            "|       105|    2500.0|     Bronze|\n",
            "|       104|    5000.0|     Bronze|\n",
            "+----------+----------+-----------+\n",
            "\n"
          ]
        }
      ]
    },
    {
      "cell_type": "markdown",
      "source": [
        " Write a UDF to shorten product names (first 3 letters + ...)."
      ],
      "metadata": {
        "id": "pJsO03u-KMuO"
      }
    },
    {
      "cell_type": "code",
      "source": [
        "def shorten_product_names(name):\n",
        "    if name is None:\n",
        "        return None\n",
        "    return name[:3] + \"...\"\n",
        "\n",
        "shorten_udf = udf(shorten_product_names, StringType())\n",
        "\n",
        "order_df = order_df.withColumn(\"Product_name_in_short\", shorten_udf(\"Product\"))\n",
        "order_df.select(\"OrderID\", \"CustomerID\", \"Product\", \"Product_name_in_short\").show()"
      ],
      "metadata": {
        "colab": {
          "base_uri": "https://localhost:8080/"
        },
        "id": "F2i15bDBKNmy",
        "outputId": "352fa7de-8ef1-419b-eb2e-33310e544f90"
      },
      "execution_count": null,
      "outputs": [
        {
          "output_type": "stream",
          "name": "stdout",
          "text": [
            "+-------+----------+---------+---------------------+\n",
            "|OrderID|CustomerID|  Product|Product_name_in_short|\n",
            "+-------+----------+---------+---------------------+\n",
            "|      1|       101|   Laptop|               Lap...|\n",
            "|      2|       101|    Mouse|               Mou...|\n",
            "|      3|       102|   Tablet|               Tab...|\n",
            "|      4|       103|Bookshelf|               Boo...|\n",
            "|      5|       104|    Mixer|               Mix...|\n",
            "|      6|       105| Notebook|               Not...|\n",
            "|      7|       102|    Phone|               Pho...|\n",
            "+-------+----------+---------+---------------------+\n",
            "\n"
          ]
        }
      ]
    },
    {
      "cell_type": "markdown",
      "source": [
        "### 8. Parquet & Views"
      ],
      "metadata": {
        "id": "ncr9C_hOK2sx"
      }
    },
    {
      "cell_type": "markdown",
      "source": [
        "Save the joined result as a Parquet file."
      ],
      "metadata": {
        "id": "ZqkEbv3WK4im"
      }
    },
    {
      "cell_type": "code",
      "source": [
        "customer_order_df.write.mode(\"overwrite\").parquet(\"/mnt/data/customer_orders.parquet\")"
      ],
      "metadata": {
        "id": "jTvEaD8-K9An"
      },
      "execution_count": null,
      "outputs": []
    },
    {
      "cell_type": "markdown",
      "source": [
        "Read it back and verify schema."
      ],
      "metadata": {
        "id": "vjXQRwptLA-J"
      }
    },
    {
      "cell_type": "code",
      "source": [
        "parquet_df = spark.read.parquet(\"/mnt/data/customer_orders.parquet\")\n",
        "parquet_df.printSchema()\n",
        "parquet_df.show()"
      ],
      "metadata": {
        "colab": {
          "base_uri": "https://localhost:8080/"
        },
        "id": "ps2HWJfGLBYR",
        "outputId": "10ebd544-19fc-45c9-dc64-fbf346816c31"
      },
      "execution_count": null,
      "outputs": [
        {
          "output_type": "stream",
          "name": "stdout",
          "text": [
            "root\n",
            " |-- CustomerID: integer (nullable = true)\n",
            " |-- Name: string (nullable = true)\n",
            " |-- City: string (nullable = true)\n",
            " |-- SignupDate: timestamp (nullable = true)\n",
            " |-- Customer_type: string (nullable = true)\n",
            " |-- OrderID: integer (nullable = true)\n",
            " |-- Product: string (nullable = true)\n",
            " |-- Category: string (nullable = true)\n",
            " |-- Quantity: integer (nullable = true)\n",
            " |-- Price: double (nullable = true)\n",
            " |-- OrderDate: timestamp (nullable = true)\n",
            " |-- TotalAmount: double (nullable = true)\n",
            " |-- OrderYear: integer (nullable = true)\n",
            " |-- OrderType: string (nullable = true)\n",
            "\n",
            "+----------+-----+---------+-------------------+-------------+-------+---------+-----------+--------+-------+-------------------+-----------+---------+---------+\n",
            "|CustomerID| Name|     City|         SignupDate|Customer_type|OrderID|  Product|   Category|Quantity|  Price|          OrderDate|TotalAmount|OrderYear|OrderType|\n",
            "+----------+-----+---------+-------------------+-------------+-------+---------+-----------+--------+-------+-------------------+-----------+---------+---------+\n",
            "|       101|  Ali|   Mumbai|2022-05-10 00:00:00|          New|      1|   Laptop|Electronics|       2|50000.0|2024-01-10 00:00:00|   100000.0|     2024|     High|\n",
            "|       101|  Ali|   Mumbai|2022-05-10 00:00:00|          New|      2|    Mouse|Electronics|       1| 1200.0|2024-01-15 00:00:00|     1200.0|     2024|      Low|\n",
            "|       102| Neha|    Delhi|2023-01-15 00:00:00|          New|      3|   Tablet|Electronics|       1|20000.0|2024-02-01 00:00:00|    20000.0|     2024|     High|\n",
            "|       103| Ravi|Bangalore|2021-11-01 00:00:00|        Loyal|      4|Bookshelf|  Furniture|       1| 3500.0|2024-02-10 00:00:00|     3500.0|     2024|      Low|\n",
            "|       104|Sneha|Hyderabad|2020-07-22 00:00:00|        Loyal|      5|    Mixer| Appliances|       1| 5000.0|2024-02-15 00:00:00|     5000.0|     2024|     High|\n",
            "|       105| Amit|  Chennai|2023-03-10 00:00:00|          New|      6| Notebook| Stationery|       5|  500.0|2024-03-01 00:00:00|     2500.0|     2024|      Low|\n",
            "|       102| Neha|    Delhi|2023-01-15 00:00:00|          New|      7|    Phone|Electronics|       1|30000.0|2024-03-02 00:00:00|    30000.0|     2024|     High|\n",
            "+----------+-----+---------+-------------------+-------------+-------+---------+-----------+--------+-------+-------------------+-----------+---------+---------+\n",
            "\n"
          ]
        }
      ]
    },
    {
      "cell_type": "markdown",
      "source": [
        " Create and query a global temp view."
      ],
      "metadata": {
        "id": "gnCn47H5LLYx"
      }
    },
    {
      "cell_type": "code",
      "source": [
        "parquet_df.createGlobalTempView(\"global_customer_orders\")\n",
        "\n",
        "spark.sql(\"SELECT * FROM global_temp.global_customer_orders\").show()"
      ],
      "metadata": {
        "colab": {
          "base_uri": "https://localhost:8080/"
        },
        "id": "mKvsVWbrLMAf",
        "outputId": "677527ae-8bf4-42ae-b9f7-7827b9e327f9"
      },
      "execution_count": null,
      "outputs": [
        {
          "output_type": "stream",
          "name": "stdout",
          "text": [
            "+----------+-----+---------+-------------------+-------------+-------+---------+-----------+--------+-------+-------------------+-----------+---------+---------+\n",
            "|CustomerID| Name|     City|         SignupDate|Customer_type|OrderID|  Product|   Category|Quantity|  Price|          OrderDate|TotalAmount|OrderYear|OrderType|\n",
            "+----------+-----+---------+-------------------+-------------+-------+---------+-----------+--------+-------+-------------------+-----------+---------+---------+\n",
            "|       101|  Ali|   Mumbai|2022-05-10 00:00:00|          New|      1|   Laptop|Electronics|       2|50000.0|2024-01-10 00:00:00|   100000.0|     2024|     High|\n",
            "|       101|  Ali|   Mumbai|2022-05-10 00:00:00|          New|      2|    Mouse|Electronics|       1| 1200.0|2024-01-15 00:00:00|     1200.0|     2024|      Low|\n",
            "|       102| Neha|    Delhi|2023-01-15 00:00:00|          New|      3|   Tablet|Electronics|       1|20000.0|2024-02-01 00:00:00|    20000.0|     2024|     High|\n",
            "|       103| Ravi|Bangalore|2021-11-01 00:00:00|        Loyal|      4|Bookshelf|  Furniture|       1| 3500.0|2024-02-10 00:00:00|     3500.0|     2024|      Low|\n",
            "|       104|Sneha|Hyderabad|2020-07-22 00:00:00|        Loyal|      5|    Mixer| Appliances|       1| 5000.0|2024-02-15 00:00:00|     5000.0|     2024|     High|\n",
            "|       105| Amit|  Chennai|2023-03-10 00:00:00|          New|      6| Notebook| Stationery|       5|  500.0|2024-03-01 00:00:00|     2500.0|     2024|      Low|\n",
            "|       102| Neha|    Delhi|2023-01-15 00:00:00|          New|      7|    Phone|Electronics|       1|30000.0|2024-03-02 00:00:00|    30000.0|     2024|     High|\n",
            "+----------+-----+---------+-------------------+-------------+-------+---------+-----------+--------+-------+-------------------+-----------+---------+---------+\n",
            "\n"
          ]
        }
      ]
    },
    {
      "cell_type": "markdown",
      "source": [
        "Compare performance between CSV read and Parquet read."
      ],
      "metadata": {
        "id": "bgk5zOE3LnsG"
      }
    },
    {
      "cell_type": "code",
      "source": [
        "# Reading CSV File\n",
        "start_csv = time.time()\n",
        "csv_df = spark.read.option(\"header\", \"true\").csv(\"/content/drive/MyDrive/PysparkAssessment/customers.csv\")\n",
        "csv_df.count()\n",
        "\n",
        "# Calculating time for csv\n",
        "end_csv = time.time()\n",
        "\n",
        "# Reading Parquet File\n",
        "start_parquet = time.time()\n",
        "parquet_df = spark.read.parquet(\"/mnt/data/customer_orders.parquet\")\n",
        "parquet_df.count()\n",
        "\n",
        "# Calculating Time for Parquet\n",
        "end_parquet = time.time()\n",
        "\n",
        "# Displaying the result\n",
        "print(f\"CSV read time: {end_csv - start_csv:.2f} seconds\")\n",
        "print(f\"Parquet read time: {end_parquet - start_parquet:.2f} seconds\")"
      ],
      "metadata": {
        "colab": {
          "base_uri": "https://localhost:8080/"
        },
        "id": "ufN77t-RLoNm",
        "outputId": "0d0f3d9b-45b1-4abb-bec3-d85501afb650"
      },
      "execution_count": null,
      "outputs": [
        {
          "output_type": "stream",
          "name": "stdout",
          "text": [
            "CSV read time: 0.80 seconds\n",
            "Parquet read time: 0.61 seconds\n"
          ]
        }
      ]
    }
  ]
}